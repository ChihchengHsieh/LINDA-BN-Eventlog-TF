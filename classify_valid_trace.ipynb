{
 "metadata": {
  "language_info": {
   "codemirror_mode": {
    "name": "ipython",
    "version": 3
   },
   "file_extension": ".py",
   "mimetype": "text/x-python",
   "name": "python",
   "nbconvert_exporter": "python",
   "pygments_lexer": "ipython3",
   "version": "3.8.10"
  },
  "orig_nbformat": 4,
  "kernelspec": {
   "name": "python3",
   "display_name": "Python 3.8.10 64-bit ('tf_mac': conda)"
  },
  "interpreter": {
   "hash": "5c622353f32ef24c8d83e5c3e334107c074e82d7c3e8ca52c56b9fc900ce33e6"
  }
 },
 "nbformat": 4,
 "nbformat_minor": 2,
 "cells": [
  {
   "cell_type": "code",
   "execution_count": 1,
   "metadata": {},
   "outputs": [],
   "source": [
    "from Controller import TraceClassifierController\n",
    "from Utils.SaveUtils import load_parameters\n",
    "from Parameters import TrainingParameters\n",
    "import tensorflow as tf\n",
    "import numpy as np\n",
    "import pandas as pd"
   ]
  },
  {
   "cell_type": "code",
   "execution_count": 13,
   "metadata": {},
   "outputs": [],
   "source": [
    "# %tensorboard --logdir logs/gradient_tape --host localhost --port 8088"
   ]
  },
  {
   "cell_type": "code",
   "execution_count": 15,
   "metadata": {},
   "outputs": [
    {
     "output_type": "stream",
     "name": "stdout",
     "text": [
      "\n",
      "========================================\n",
      "| Running on /job:localhost/replica:0/task:0/device:CPU:0  \n",
      "========================================\n",
      "\n",
      "========================================\n",
      "| Preprocessed data loaded successfully: ./datasets/preprocessed/BPI_Challenge_2012_valid_trace/All \n",
      "========================================\n"
     ]
    }
   ],
   "source": [
    "parameters = TrainingParameters()\n",
    "tf.random.set_seed(parameters.dataset_split_seed)\n",
    "np.random.seed(parameters.dataset_split_seed)\n",
    "controller = TraceClassifierController(parameters = parameters)"
   ]
  },
  {
   "source": [
    "controller.show_model_info()"
   ],
   "cell_type": "code",
   "metadata": {},
   "execution_count": 4,
   "outputs": [
    {
     "output_type": "stream",
     "name": "stdout",
     "text": [
      "Model: \"baseline_lstm_with_resource_valid_trace_cf\"\n_________________________________________________________________\nLayer (type)                 Output Shape              Param #   \n=================================================================\nembedding (Embedding)        multiple                  832       \n_________________________________________________________________\nembedding_1 (Embedding)      multiple                  9216      \n_________________________________________________________________\nlstm (LSTM)                  multiple                  8320      \n_________________________________________________________________\nlstm_1 (LSTM)                multiple                  8320      \n_________________________________________________________________\nlstm_2 (LSTM)                multiple                  20608     \n_________________________________________________________________\nlstm_3 (LSTM)                multiple                  8320      \n_________________________________________________________________\nsequential (Sequential)      (1, 1, 1)                 4805      \n=================================================================\nTotal params: 60,421\nTrainable params: 60,163\nNon-trainable params: 258\n_________________________________________________________________\n"
     ]
    }
   ]
  },
  {
   "cell_type": "code",
   "execution_count": 5,
   "metadata": {
    "tags": []
   },
   "outputs": [
    {
     "output_type": "stream",
     "name": "stdout",
     "text": [
      "\n",
      "========================================\n",
      "| Training records in logs/gradient_tape/20210625-203024 \n",
      "========================================\n",
      "\n",
      "========================================\n",
      "| Total epochs: 10 \n",
      "========================================\n",
      "\n",
      "========================================\n",
      "| Total steps: 2460 \n",
      "========================================\n",
      "\n",
      "========================================\n",
      "| Start epoch 0 \n",
      "========================================\n",
      "\n",
      "========================================\n",
      "| Evaluation result | Loss [0.5519] | Accuracy [0.6500]  \n",
      "========================================\n",
      "\n",
      "========================================\n",
      "| Evaluation result | Loss [0.4837] | Accuracy [0.6546]  \n",
      "========================================\n",
      "\n",
      "========================================\n",
      "| Evaluation result | Loss [0.4290] | Accuracy [0.6645]  \n",
      "========================================\n",
      "\n",
      "========================================\n",
      "| Start epoch 1 \n",
      "========================================\n",
      "\n",
      "========================================\n",
      "| Evaluation result | Loss [0.3399] | Accuracy [0.8093]  \n",
      "========================================\n",
      "\n",
      "========================================\n",
      "| Evaluation result | Loss [0.2024] | Accuracy [0.9338]  \n",
      "========================================\n",
      "\n",
      "========================================\n",
      "| Evaluation result | Loss [0.1385] | Accuracy [0.9432]  \n",
      "========================================\n",
      "\n",
      "========================================\n",
      "| Start epoch 2 \n",
      "========================================\n",
      "\n",
      "========================================\n",
      "| Evaluation result | Loss [0.0853] | Accuracy [0.9714]  \n",
      "========================================\n",
      "\n",
      "========================================\n",
      "| Evaluation result | Loss [0.0520] | Accuracy [0.9738]  \n",
      "========================================\n",
      "\n",
      "========================================\n",
      "| Evaluation result | Loss [0.0435] | Accuracy [0.9740]  \n",
      "========================================\n",
      "\n",
      "========================================\n",
      "| Start epoch 3 \n",
      "========================================\n",
      "\n",
      "========================================\n",
      "| Evaluation result | Loss [0.0396] | Accuracy [0.9738]  \n",
      "========================================\n",
      "\n",
      "========================================\n",
      "| Evaluation result | Loss [0.0373] | Accuracy [0.9798]  \n",
      "========================================\n",
      "\n",
      "========================================\n",
      "| Evaluation result | Loss [0.0367] | Accuracy [0.9791]  \n",
      "========================================\n",
      "\n",
      "========================================\n",
      "| Start epoch 4 \n",
      "========================================\n",
      "\n",
      "========================================\n",
      "| Evaluation result | Loss [0.0366] | Accuracy [0.9748]  \n",
      "========================================\n",
      "\n",
      "========================================\n",
      "| Evaluation result | Loss [0.0351] | Accuracy [0.9842]  \n",
      "========================================\n",
      "\n",
      "========================================\n",
      "| Evaluation result | Loss [0.0350] | Accuracy [0.9823]  \n",
      "========================================\n",
      "\n",
      "========================================\n",
      "| Start epoch 5 \n",
      "========================================\n",
      "\n",
      "========================================\n",
      "| Evaluation result | Loss [0.0347] | Accuracy [0.9840]  \n",
      "========================================\n",
      "\n",
      "========================================\n",
      "| Evaluation result | Loss [0.0343] | Accuracy [0.9844]  \n",
      "========================================\n",
      "\n",
      "========================================\n",
      "| Evaluation result | Loss [0.0337] | Accuracy [0.9842]  \n",
      "========================================\n",
      "\n",
      "========================================\n",
      "| Start epoch 6 \n",
      "========================================\n",
      "\n",
      "========================================\n",
      "| Evaluation result | Loss [0.0336] | Accuracy [0.9847]  \n",
      "========================================\n",
      "\n",
      "========================================\n",
      "| Evaluation result | Loss [0.0337] | Accuracy [0.9844]  \n",
      "========================================\n",
      "\n",
      "========================================\n",
      "| Evaluation result | Loss [0.0330] | Accuracy [0.9844]  \n",
      "========================================\n",
      "\n",
      "========================================\n",
      "| Start epoch 7 \n",
      "========================================\n",
      "\n",
      "========================================\n",
      "| Evaluation result | Loss [0.0329] | Accuracy [0.9852]  \n",
      "========================================\n",
      "\n",
      "========================================\n",
      "| Evaluation result | Loss [0.0328] | Accuracy [0.9852]  \n",
      "========================================\n",
      "\n",
      "========================================\n",
      "| Evaluation result | Loss [0.0327] | Accuracy [0.9854]  \n",
      "========================================\n",
      "\n",
      "========================================\n",
      "| Start epoch 8 \n",
      "========================================\n",
      "\n",
      "========================================\n",
      "| Evaluation result | Loss [0.0327] | Accuracy [0.9848]  \n",
      "========================================\n",
      "\n",
      "========================================\n",
      "| Evaluation result | Loss [0.0324] | Accuracy [0.9846]  \n",
      "========================================\n",
      "\n",
      "========================================\n",
      "| Evaluation result | Loss [0.0324] | Accuracy [0.9848]  \n",
      "========================================\n",
      "\n",
      "========================================\n",
      "| Start epoch 9 \n",
      "========================================\n",
      "\n",
      "========================================\n",
      "| Evaluation result | Loss [0.0326] | Accuracy [0.9840]  \n",
      "========================================\n",
      "\n",
      "========================================\n",
      "| Evaluation result | Loss [0.0321] | Accuracy [0.9839]  \n",
      "========================================\n",
      "\n",
      "========================================\n",
      "| Evaluation result | Loss [0.0322] | Accuracy [0.9846]  \n",
      "========================================\n",
      "\n",
      "========================================\n",
      "| Performing Testing ... \n",
      "========================================\n",
      "\n",
      "========================================\n",
      "| Evaluation result | Loss [0.0313] | Accuracy [0.9860]  \n",
      "========================================\n"
     ]
    }
   ],
   "source": [
    "controller.train()"
   ]
  },
  {
   "cell_type": "code",
   "execution_count": 6,
   "metadata": {},
   "outputs": [],
   "source": [
    "## Accuracy in first round 0.7595908"
   ]
  },
  {
   "cell_type": "code",
   "execution_count": 2,
   "metadata": {},
   "outputs": [
    {
     "output_type": "error",
     "ename": "NameError",
     "evalue": "name 'controller' is not defined",
     "traceback": [
      "\u001b[0;31m---------------------------------------------------------------------------\u001b[0m",
      "\u001b[0;31mNameError\u001b[0m                                 Traceback (most recent call last)",
      "\u001b[0;32m<ipython-input-2-53f40b6da62f>\u001b[0m in \u001b[0;36m<module>\u001b[0;34m\u001b[0m\n\u001b[0;32m----> 1\u001b[0;31m \u001b[0mlen\u001b[0m\u001b[0;34m(\u001b[0m\u001b[0mcontroller\u001b[0m\u001b[0;34m.\u001b[0m\u001b[0mdataset\u001b[0m\u001b[0;34m.\u001b[0m\u001b[0mresource_vocab\u001b[0m\u001b[0;34m.\u001b[0m\u001b[0mvocabs\u001b[0m\u001b[0;34m)\u001b[0m\u001b[0;34m\u001b[0m\u001b[0;34m\u001b[0m\u001b[0m\n\u001b[0m",
      "\u001b[0;31mNameError\u001b[0m: name 'controller' is not defined"
     ]
    }
   ],
   "source": [
    "len(controller.dataset.resource_vocab.vocabs)"
   ]
  },
  {
   "cell_type": "code",
   "execution_count": 8,
   "metadata": {},
   "outputs": [
    {
     "output_type": "stream",
     "name": "stdout",
     "text": [
      "\n========================================\n| Model saved successfully to: ./SavedModels/0.9860_BPI2012WithResource_BaselineLSTMWithResource_2021-06-25 21:03:20.326179  \n========================================\n"
     ]
    }
   ],
   "source": [
    "###### Save modelz\n",
    "controller.save_training_result(\"classify_valid_trace.ipynb\")"
   ]
  },
  {
   "cell_type": "code",
   "execution_count": 1,
   "metadata": {},
   "outputs": [
    {
     "output_type": "error",
     "ename": "NameError",
     "evalue": "name 'controller' is not defined",
     "traceback": [
      "\u001b[0;31m---------------------------------------------------------------------------\u001b[0m",
      "\u001b[0;31mNameError\u001b[0m                                 Traceback (most recent call last)",
      "\u001b[0;32m<ipython-input-1-3141f000fc4d>\u001b[0m in \u001b[0;36m<module>\u001b[0;34m\u001b[0m\n\u001b[0;32m----> 1\u001b[0;31m \u001b[0mcontroller\u001b[0m\u001b[0;34m.\u001b[0m\u001b[0mload_trained_model\u001b[0m\u001b[0;34m(\u001b[0m\u001b[0;34m\"./SavedModels/0.9860_BPI2012WithResource_BaselineLSTMWithResource_2021-06-25 21:03:20.326179\"\u001b[0m\u001b[0;34m)\u001b[0m\u001b[0;34m\u001b[0m\u001b[0;34m\u001b[0m\u001b[0m\n\u001b[0m",
      "\u001b[0;31mNameError\u001b[0m: name 'controller' is not defined"
     ]
    }
   ],
   "source": [
    "controller.load_trained_model(\"./SavedModels/0.9860_BPI2012WithResource_BaselineLSTMWithResource_2021-06-25 21:03:20.326179\")"
   ]
  },
  {
   "cell_type": "code",
   "execution_count": 10,
   "metadata": {},
   "outputs": [
    {
     "output_type": "execute_result",
     "data": {
      "text/plain": [
       "array([ 0,  0,  0,  0,  0,  0,  0,  0,  0,  0,  0,  0,  0,  0,  0,  0,  0,\n",
       "        0,  0,  0,  0,  0,  0,  0,  0,  0,  0,  0,  0,  0,  0,  0,  0,  0,\n",
       "        0,  0,  0, -1, -1, -1, -1, -1, -1, -1, -1, -1, -1, -1, -1, -1, -1,\n",
       "       -1, -1, -1, -1, -1, -1, -1, -1, -1, -1, -1, -1], dtype=int32)"
      ]
     },
     "metadata": {},
     "execution_count": 10
    }
   ],
   "source": [
    "controller.y_true[5]"
   ]
  },
  {
   "cell_type": "code",
   "execution_count": 11,
   "metadata": {},
   "outputs": [
    {
     "output_type": "execute_result",
     "data": {
      "text/plain": [
       "array([[1.0329487e-03],\n",
       "       [3.3094957e-06],\n",
       "       [1.7471873e-06],\n",
       "       [4.7535927e-06],\n",
       "       [6.3979105e-06],\n",
       "       [4.9250912e-06],\n",
       "       [7.6644601e-06],\n",
       "       [3.9030670e-06],\n",
       "       [1.7629036e-06],\n",
       "       [1.1462996e-06],\n",
       "       [9.6272549e-07],\n",
       "       [7.4307314e-07],\n",
       "       [9.9235206e-07],\n",
       "       [1.5535112e-06],\n",
       "       [1.6648454e-06],\n",
       "       [1.5331472e-06],\n",
       "       [1.1454582e-06],\n",
       "       [1.0503660e-06],\n",
       "       [9.8038868e-07],\n",
       "       [8.9157021e-07],\n",
       "       [9.2008753e-07],\n",
       "       [6.8781122e-07],\n",
       "       [6.6698721e-07],\n",
       "       [5.9866466e-07],\n",
       "       [4.9327349e-07],\n",
       "       [4.9085725e-07],\n",
       "       [4.7202306e-07],\n",
       "       [1.6127759e-06],\n",
       "       [1.0688276e-06],\n",
       "       [7.9214004e-07],\n",
       "       [6.0467278e-07],\n",
       "       [5.7110162e-07],\n",
       "       [3.6028246e-07],\n",
       "       [2.5558941e-07],\n",
       "       [2.6100605e-07],\n",
       "       [2.6107600e-07],\n",
       "       [8.7201749e-07],\n",
       "       [8.7201749e-07],\n",
       "       [8.7201749e-07],\n",
       "       [8.7201749e-07],\n",
       "       [8.7201749e-07],\n",
       "       [8.7201749e-07],\n",
       "       [8.7201749e-07],\n",
       "       [8.7201749e-07],\n",
       "       [8.7201749e-07],\n",
       "       [8.7201749e-07],\n",
       "       [8.7201749e-07],\n",
       "       [8.7201749e-07],\n",
       "       [8.7201749e-07],\n",
       "       [8.7201749e-07],\n",
       "       [8.7201749e-07],\n",
       "       [8.7201749e-07],\n",
       "       [8.7201749e-07],\n",
       "       [8.7201749e-07],\n",
       "       [8.7201749e-07],\n",
       "       [8.7201749e-07],\n",
       "       [8.7201749e-07],\n",
       "       [8.7201749e-07],\n",
       "       [8.7201749e-07],\n",
       "       [8.7201749e-07],\n",
       "       [8.7201749e-07],\n",
       "       [8.7201749e-07],\n",
       "       [8.7201749e-07]], dtype=float32)"
      ]
     },
     "metadata": {},
     "execution_count": 11
    }
   ],
   "source": [
    "controller.y_pred[5]"
   ]
  },
  {
   "cell_type": "code",
   "execution_count": null,
   "metadata": {},
   "outputs": [],
   "source": []
  }
 ]
}