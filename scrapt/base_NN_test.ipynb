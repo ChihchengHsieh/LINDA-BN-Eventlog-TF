{
 "metadata": {
  "language_info": {
   "codemirror_mode": {
    "name": "ipython",
    "version": 3
   },
   "file_extension": ".py",
   "mimetype": "text/x-python",
   "name": "python",
   "nbconvert_exporter": "python",
   "pygments_lexer": "ipython3",
   "version": "3.8.10"
  },
  "orig_nbformat": 2,
  "kernelspec": {
   "name": "python3810jvsc74a57bd05c622353f32ef24c8d83e5c3e334107c074e82d7c3e8ca52c56b9fc900ce33e6",
   "display_name": "Python 3.8.10 64-bit ('tf_mac')"
  },
  "metadata": {
   "interpreter": {
    "hash": "5c622353f32ef24c8d83e5c3e334107c074e82d7c3e8ca52c56b9fc900ce33e6"
   }
  }
 },
 "nbformat": 4,
 "nbformat_minor": 2,
 "cells": [
  {
   "cell_type": "code",
   "execution_count": 1,
   "metadata": {},
   "outputs": [],
   "source": [
    "from Models import BaseNN\n",
    "from Data import MedicalDataset\n",
    "from Parameters import EnviromentParameters\n",
    "import pandas as pd\n",
    "import numpy as np"
   ]
  },
  {
   "cell_type": "code",
   "execution_count": 2,
   "metadata": {},
   "outputs": [],
   "source": [
    "d = MedicalDataset(EnviromentParameters.DiabetesDataset.file_path, \n",
    "target_col_name= EnviromentParameters.DiabetesDataset.target_name,\n",
    "feature_names = EnviromentParameters.DiabetesDataset.feature_names\n",
    ")"
   ]
  },
  {
   "cell_type": "code",
   "execution_count": null,
   "metadata": {},
   "outputs": [],
   "source": []
  },
  {
   "cell_type": "code",
   "execution_count": 40,
   "metadata": {},
   "outputs": [],
   "source": []
  },
  {
   "cell_type": "code",
   "execution_count": 3,
   "metadata": {},
   "outputs": [],
   "source": [
    "df = pd.read_csv(EnviromentParameters.DiabetesDataset.file_path)"
   ]
  },
  {
   "cell_type": "code",
   "execution_count": 4,
   "metadata": {},
   "outputs": [],
   "source": [
    "count_dict = dict(df[\"Outcome\"].value_counts())\n",
    "max_count = max(count_dict.values())"
   ]
  },
  {
   "cell_type": "code",
   "execution_count": 13,
   "metadata": {},
   "outputs": [],
   "source": []
  },
  {
   "cell_type": "code",
   "execution_count": 5,
   "metadata": {},
   "outputs": [],
   "source": [
    "need_dict = {}\n",
    "for k in  count_dict.keys():\n",
    "    need_dict[k] = max_count - count_dict[k]"
   ]
  },
  {
   "cell_type": "code",
   "execution_count": 6,
   "metadata": {},
   "outputs": [],
   "source": [
    "for k in need_dict.keys():\n",
    "    if (need_dict[k] > 0):\n",
    "        group_idxs = list(df[df[\"Outcome\"] == k].index)\n",
    "        append_idxs = np.random.choice(group_idxs, size=need_dict[k])\n",
    "        df = df.append(df.iloc[append_idxs], ignore_index=True)"
   ]
  },
  {
   "cell_type": "code",
   "execution_count": 7,
   "metadata": {},
   "outputs": [
    {
     "output_type": "execute_result",
     "data": {
      "text/plain": [
       "     Pregnancies  Glucose  BloodPressure  SkinThickness  Insulin   BMI  \\\n",
       "0              6      148             72             35        0  33.6   \n",
       "1              1       85             66             29        0  26.6   \n",
       "2              8      183             64              0        0  23.3   \n",
       "3              1       89             66             23       94  28.1   \n",
       "4              0      137             40             35      168  43.1   \n",
       "..           ...      ...            ...            ...      ...   ...   \n",
       "995            1      117             88             24      145  34.5   \n",
       "996            0      131             66             40        0  34.3   \n",
       "997            5       85             74             22        0  29.0   \n",
       "998           14      175             62             30        0  33.6   \n",
       "999            9      156             86              0        0  24.8   \n",
       "\n",
       "     DiabetesPedigreeFunction  Age  Outcome  \n",
       "0                       0.627   50        1  \n",
       "1                       0.351   31        0  \n",
       "2                       0.672   32        1  \n",
       "3                       0.167   21        0  \n",
       "4                       2.288   33        1  \n",
       "..                        ...  ...      ...  \n",
       "995                     0.403   40        1  \n",
       "996                     0.196   22        1  \n",
       "997                     1.224   32        1  \n",
       "998                     0.212   38        1  \n",
       "999                     0.230   53        1  \n",
       "\n",
       "[1000 rows x 9 columns]"
      ],
      "text/html": "<div>\n<style scoped>\n    .dataframe tbody tr th:only-of-type {\n        vertical-align: middle;\n    }\n\n    .dataframe tbody tr th {\n        vertical-align: top;\n    }\n\n    .dataframe thead th {\n        text-align: right;\n    }\n</style>\n<table border=\"1\" class=\"dataframe\">\n  <thead>\n    <tr style=\"text-align: right;\">\n      <th></th>\n      <th>Pregnancies</th>\n      <th>Glucose</th>\n      <th>BloodPressure</th>\n      <th>SkinThickness</th>\n      <th>Insulin</th>\n      <th>BMI</th>\n      <th>DiabetesPedigreeFunction</th>\n      <th>Age</th>\n      <th>Outcome</th>\n    </tr>\n  </thead>\n  <tbody>\n    <tr>\n      <th>0</th>\n      <td>6</td>\n      <td>148</td>\n      <td>72</td>\n      <td>35</td>\n      <td>0</td>\n      <td>33.6</td>\n      <td>0.627</td>\n      <td>50</td>\n      <td>1</td>\n    </tr>\n    <tr>\n      <th>1</th>\n      <td>1</td>\n      <td>85</td>\n      <td>66</td>\n      <td>29</td>\n      <td>0</td>\n      <td>26.6</td>\n      <td>0.351</td>\n      <td>31</td>\n      <td>0</td>\n    </tr>\n    <tr>\n      <th>2</th>\n      <td>8</td>\n      <td>183</td>\n      <td>64</td>\n      <td>0</td>\n      <td>0</td>\n      <td>23.3</td>\n      <td>0.672</td>\n      <td>32</td>\n      <td>1</td>\n    </tr>\n    <tr>\n      <th>3</th>\n      <td>1</td>\n      <td>89</td>\n      <td>66</td>\n      <td>23</td>\n      <td>94</td>\n      <td>28.1</td>\n      <td>0.167</td>\n      <td>21</td>\n      <td>0</td>\n    </tr>\n    <tr>\n      <th>4</th>\n      <td>0</td>\n      <td>137</td>\n      <td>40</td>\n      <td>35</td>\n      <td>168</td>\n      <td>43.1</td>\n      <td>2.288</td>\n      <td>33</td>\n      <td>1</td>\n    </tr>\n    <tr>\n      <th>...</th>\n      <td>...</td>\n      <td>...</td>\n      <td>...</td>\n      <td>...</td>\n      <td>...</td>\n      <td>...</td>\n      <td>...</td>\n      <td>...</td>\n      <td>...</td>\n    </tr>\n    <tr>\n      <th>995</th>\n      <td>1</td>\n      <td>117</td>\n      <td>88</td>\n      <td>24</td>\n      <td>145</td>\n      <td>34.5</td>\n      <td>0.403</td>\n      <td>40</td>\n      <td>1</td>\n    </tr>\n    <tr>\n      <th>996</th>\n      <td>0</td>\n      <td>131</td>\n      <td>66</td>\n      <td>40</td>\n      <td>0</td>\n      <td>34.3</td>\n      <td>0.196</td>\n      <td>22</td>\n      <td>1</td>\n    </tr>\n    <tr>\n      <th>997</th>\n      <td>5</td>\n      <td>85</td>\n      <td>74</td>\n      <td>22</td>\n      <td>0</td>\n      <td>29.0</td>\n      <td>1.224</td>\n      <td>32</td>\n      <td>1</td>\n    </tr>\n    <tr>\n      <th>998</th>\n      <td>14</td>\n      <td>175</td>\n      <td>62</td>\n      <td>30</td>\n      <td>0</td>\n      <td>33.6</td>\n      <td>0.212</td>\n      <td>38</td>\n      <td>1</td>\n    </tr>\n    <tr>\n      <th>999</th>\n      <td>9</td>\n      <td>156</td>\n      <td>86</td>\n      <td>0</td>\n      <td>0</td>\n      <td>24.8</td>\n      <td>0.230</td>\n      <td>53</td>\n      <td>1</td>\n    </tr>\n  </tbody>\n</table>\n<p>1000 rows × 9 columns</p>\n</div>"
     },
     "metadata": {},
     "execution_count": 7
    }
   ],
   "source": [
    "df"
   ]
  },
  {
   "cell_type": "code",
   "execution_count": 31,
   "metadata": {},
   "outputs": [],
   "source": []
  },
  {
   "cell_type": "code",
   "execution_count": 33,
   "metadata": {},
   "outputs": [],
   "source": []
  },
  {
   "cell_type": "code",
   "execution_count": 37,
   "metadata": {},
   "outputs": [],
   "source": []
  },
  {
   "cell_type": "code",
   "execution_count": 8,
   "metadata": {},
   "outputs": [
    {
     "output_type": "execute_result",
     "data": {
      "text/plain": [
       "     Pregnancies  Glucose  BloodPressure  SkinThickness  Insulin   BMI  \\\n",
       "0              6      148             72             35        0  33.6   \n",
       "1              1       85             66             29        0  26.6   \n",
       "2              8      183             64              0        0  23.3   \n",
       "3              1       89             66             23       94  28.1   \n",
       "4              0      137             40             35      168  43.1   \n",
       "..           ...      ...            ...            ...      ...   ...   \n",
       "995            1      117             88             24      145  34.5   \n",
       "996            0      131             66             40        0  34.3   \n",
       "997            5       85             74             22        0  29.0   \n",
       "998           14      175             62             30        0  33.6   \n",
       "999            9      156             86              0        0  24.8   \n",
       "\n",
       "     DiabetesPedigreeFunction  Age  Outcome  \n",
       "0                       0.627   50        1  \n",
       "1                       0.351   31        0  \n",
       "2                       0.672   32        1  \n",
       "3                       0.167   21        0  \n",
       "4                       2.288   33        1  \n",
       "..                        ...  ...      ...  \n",
       "995                     0.403   40        1  \n",
       "996                     0.196   22        1  \n",
       "997                     1.224   32        1  \n",
       "998                     0.212   38        1  \n",
       "999                     0.230   53        1  \n",
       "\n",
       "[1000 rows x 9 columns]"
      ],
      "text/html": "<div>\n<style scoped>\n    .dataframe tbody tr th:only-of-type {\n        vertical-align: middle;\n    }\n\n    .dataframe tbody tr th {\n        vertical-align: top;\n    }\n\n    .dataframe thead th {\n        text-align: right;\n    }\n</style>\n<table border=\"1\" class=\"dataframe\">\n  <thead>\n    <tr style=\"text-align: right;\">\n      <th></th>\n      <th>Pregnancies</th>\n      <th>Glucose</th>\n      <th>BloodPressure</th>\n      <th>SkinThickness</th>\n      <th>Insulin</th>\n      <th>BMI</th>\n      <th>DiabetesPedigreeFunction</th>\n      <th>Age</th>\n      <th>Outcome</th>\n    </tr>\n  </thead>\n  <tbody>\n    <tr>\n      <th>0</th>\n      <td>6</td>\n      <td>148</td>\n      <td>72</td>\n      <td>35</td>\n      <td>0</td>\n      <td>33.6</td>\n      <td>0.627</td>\n      <td>50</td>\n      <td>1</td>\n    </tr>\n    <tr>\n      <th>1</th>\n      <td>1</td>\n      <td>85</td>\n      <td>66</td>\n      <td>29</td>\n      <td>0</td>\n      <td>26.6</td>\n      <td>0.351</td>\n      <td>31</td>\n      <td>0</td>\n    </tr>\n    <tr>\n      <th>2</th>\n      <td>8</td>\n      <td>183</td>\n      <td>64</td>\n      <td>0</td>\n      <td>0</td>\n      <td>23.3</td>\n      <td>0.672</td>\n      <td>32</td>\n      <td>1</td>\n    </tr>\n    <tr>\n      <th>3</th>\n      <td>1</td>\n      <td>89</td>\n      <td>66</td>\n      <td>23</td>\n      <td>94</td>\n      <td>28.1</td>\n      <td>0.167</td>\n      <td>21</td>\n      <td>0</td>\n    </tr>\n    <tr>\n      <th>4</th>\n      <td>0</td>\n      <td>137</td>\n      <td>40</td>\n      <td>35</td>\n      <td>168</td>\n      <td>43.1</td>\n      <td>2.288</td>\n      <td>33</td>\n      <td>1</td>\n    </tr>\n    <tr>\n      <th>...</th>\n      <td>...</td>\n      <td>...</td>\n      <td>...</td>\n      <td>...</td>\n      <td>...</td>\n      <td>...</td>\n      <td>...</td>\n      <td>...</td>\n      <td>...</td>\n    </tr>\n    <tr>\n      <th>995</th>\n      <td>1</td>\n      <td>117</td>\n      <td>88</td>\n      <td>24</td>\n      <td>145</td>\n      <td>34.5</td>\n      <td>0.403</td>\n      <td>40</td>\n      <td>1</td>\n    </tr>\n    <tr>\n      <th>996</th>\n      <td>0</td>\n      <td>131</td>\n      <td>66</td>\n      <td>40</td>\n      <td>0</td>\n      <td>34.3</td>\n      <td>0.196</td>\n      <td>22</td>\n      <td>1</td>\n    </tr>\n    <tr>\n      <th>997</th>\n      <td>5</td>\n      <td>85</td>\n      <td>74</td>\n      <td>22</td>\n      <td>0</td>\n      <td>29.0</td>\n      <td>1.224</td>\n      <td>32</td>\n      <td>1</td>\n    </tr>\n    <tr>\n      <th>998</th>\n      <td>14</td>\n      <td>175</td>\n      <td>62</td>\n      <td>30</td>\n      <td>0</td>\n      <td>33.6</td>\n      <td>0.212</td>\n      <td>38</td>\n      <td>1</td>\n    </tr>\n    <tr>\n      <th>999</th>\n      <td>9</td>\n      <td>156</td>\n      <td>86</td>\n      <td>0</td>\n      <td>0</td>\n      <td>24.8</td>\n      <td>0.230</td>\n      <td>53</td>\n      <td>1</td>\n    </tr>\n  </tbody>\n</table>\n<p>1000 rows × 9 columns</p>\n</div>"
     },
     "metadata": {},
     "execution_count": 8
    }
   ],
   "source": [
    "df"
   ]
  },
  {
   "cell_type": "code",
   "execution_count": null,
   "metadata": {},
   "outputs": [],
   "source": []
  },
  {
   "cell_type": "code",
   "execution_count": null,
   "metadata": {},
   "outputs": [],
   "source": []
  },
  {
   "cell_type": "code",
   "execution_count": null,
   "metadata": {},
   "outputs": [],
   "source": []
  }
 ]
}