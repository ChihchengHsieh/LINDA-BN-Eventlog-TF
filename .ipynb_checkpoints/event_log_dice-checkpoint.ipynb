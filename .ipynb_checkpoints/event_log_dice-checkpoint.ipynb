{
 "cells": [
  {
   "cell_type": "code",
   "execution_count": 1,
   "metadata": {},
   "outputs": [],
   "source": [
    "from Controller import TrainingController, ScenarioCfController\n",
    "from Parameters import TrainingParameters\n",
    "from Utils.SaveUtils import load_parameters\n",
    "from Utils.PrintUtils import print_big\n",
    "import tensorflow as tf\n",
    "import json\n",
    "from dice import EventLogDiCE\n",
    "import numpy as np\n",
    "import pandas as pd\n",
    "import time\n",
    "from Models import DiCEBinaryDefferentiable\n",
    "from itertools import chain\n",
    "from IPython.core.display import display, HTML\n",
    "from Utils.DiCEHelpers import generate_fake_df, get_trace_with_id, get_longest_trace_row, remove_trail_steps, print_model_prediction_result, remove_tags_for_seq"
   ]
  },
  {
   "cell_type": "code",
   "execution_count": 2,
   "metadata": {},
   "outputs": [],
   "source": [
    "folder_path = \"./SavedModels/%s\" % (\n",
    "    \"0.8264_BPI2012WithResource_BaselineLSTMWithResource_2021-06-18 06:11:10.009443\" #AOW\n",
    ")"
   ]
  },
  {
   "cell_type": "code",
   "execution_count": 3,
   "metadata": {},
   "outputs": [
    {
     "name": "stdout",
     "output_type": "stream",
     "text": [
      "\n",
      "========================================\n",
      "| Running on /job:localhost/replica:0/task:0/device:CPU:0  \n",
      "========================================\n",
      "\n",
      "========================================\n",
      "| Preprocessed data loaded successfully: ./datasets/preprocessed/BPI_Challenge_2012_with_resource/AOW \n",
      "========================================\n",
      "\n",
      "========================================\n",
      "| Model loaded successfully from: ./SavedModels/0.8264_BPI2012WithResource_BaselineLSTMWithResource_2021-06-18 06:11:10.009443  \n",
      "========================================\n",
      "Model: \"baseline_lstm_with_resource\"\n",
      "_________________________________________________________________\n",
      "Layer (type)                 Output Shape              Param #   \n",
      "=================================================================\n",
      "embedding (Embedding)        multiple                  832       \n",
      "_________________________________________________________________\n",
      "embedding_1 (Embedding)      multiple                  2304      \n",
      "_________________________________________________________________\n",
      "lstm (LSTM)                  multiple                  24832     \n",
      "_________________________________________________________________\n",
      "lstm_1 (LSTM)                multiple                  33024     \n",
      "_________________________________________________________________\n",
      "lstm_2 (LSTM)                multiple                  24832     \n",
      "_________________________________________________________________\n",
      "lstm_3 (LSTM)                multiple                  33024     \n",
      "_________________________________________________________________\n",
      "sequential (Sequential)      (1, 1, 26)                10782     \n",
      "=================================================================\n",
      "Total params: 129,630\n",
      "Trainable params: 129,244\n",
      "Non-trainable params: 386\n",
      "_________________________________________________________________\n",
      "\n",
      "========================================\n",
      "| Loaded model has been trained for [4100] steps, [50] epochs \n",
      "========================================\n"
     ]
    }
   ],
   "source": [
    "### Initialise controllers\n",
    "parameters_json = load_parameters(folder_path=folder_path)\n",
    "parameters = TrainingParameters(**parameters_json)\n",
    "tf.random.set_seed(parameters.dataset_split_seed)\n",
    "np.random.seed(parameters.dataset_split_seed)\n",
    "parameters.load_model_folder_path = folder_path\n",
    "trainer = TrainingController(parameters = parameters)\n",
    "trainer.show_model_info()"
   ]
  },
  {
   "cell_type": "code",
   "execution_count": 4,
   "metadata": {},
   "outputs": [
    {
     "data": {
      "text/plain": [
       "13087"
      ]
     },
     "execution_count": 4,
     "metadata": {},
     "output_type": "execute_result"
    }
   ],
   "source": [
    "len(trainer.dataset.df)"
   ]
  },
  {
   "cell_type": "code",
   "execution_count": 5,
   "metadata": {},
   "outputs": [
    {
     "name": "stdout",
     "output_type": "stream",
     "text": [
      "\n",
      "====================Test set length====================\n",
      "| 1309 \n",
      "=======================================================\n"
     ]
    }
   ],
   "source": [
    "########### Get example data from trainer ###########\n",
    "ordered_test_idx = (list(trainer.test_dataset.unbatch().as_numpy_iterator()))\n",
    "ordered_test_idx.sort()\n",
    "print_big(len(ordered_test_idx), \"Test set length\")"
   ]
  },
  {
   "cell_type": "code",
   "execution_count": 6,
   "metadata": {},
   "outputs": [
    {
     "data": {
      "text/html": [
       "<div>\n",
       "<style scoped>\n",
       "    .dataframe tbody tr th:only-of-type {\n",
       "        vertical-align: middle;\n",
       "    }\n",
       "\n",
       "    .dataframe tbody tr th {\n",
       "        vertical-align: top;\n",
       "    }\n",
       "\n",
       "    .dataframe thead th {\n",
       "        text-align: right;\n",
       "    }\n",
       "</style>\n",
       "<table border=\"1\" class=\"dataframe\">\n",
       "  <thead>\n",
       "    <tr style=\"text-align: right;\">\n",
       "      <th></th>\n",
       "      <th>trace</th>\n",
       "      <th>trace_vocab</th>\n",
       "      <th>caseid</th>\n",
       "      <th>amount</th>\n",
       "      <th>resource</th>\n",
       "      <th>resource_orig</th>\n",
       "    </tr>\n",
       "  </thead>\n",
       "  <tbody>\n",
       "    <tr>\n",
       "      <th>8464</th>\n",
       "      <td>[2, 12, 9, 10, 20, 22, 3, 17, 8, 15, 19, 22, 1...</td>\n",
       "      <td>[&lt;SOS&gt;, A_SUBMITTED_COMPLETE, A_PARTLYSUBMITTE...</td>\n",
       "      <td>200028</td>\n",
       "      <td>5800.0</td>\n",
       "      <td>[70, 53, 53, 15, 15, 48, 37, 37, 37, 37, 37, 3...</td>\n",
       "      <td>[&lt;SOS&gt;, 112, 112, 10863, 10863, 11169, 11003, ...</td>\n",
       "    </tr>\n",
       "  </tbody>\n",
       "</table>\n",
       "</div>"
      ],
      "text/plain": [
       "                                                  trace  \\\n",
       "8464  [2, 12, 9, 10, 20, 22, 3, 17, 8, 15, 19, 22, 1...   \n",
       "\n",
       "                                            trace_vocab  caseid  amount  \\\n",
       "8464  [<SOS>, A_SUBMITTED_COMPLETE, A_PARTLYSUBMITTE...  200028  5800.0   \n",
       "\n",
       "                                               resource  \\\n",
       "8464  [70, 53, 53, 15, 15, 48, 37, 37, 37, 37, 37, 3...   \n",
       "\n",
       "                                          resource_orig  \n",
       "8464  [<SOS>, 112, 112, 10863, 10863, 11169, 11003, ...  "
      ]
     },
     "execution_count": 6,
     "metadata": {},
     "output_type": "execute_result"
    }
   ],
   "source": [
    "########## Get longest delcined trace for testing ##########\n",
    "declined_df = get_trace_with_id(trainer.dataset.df.iloc[ordered_test_idx], trainer.model.vocab.vocab_to_index('A_DECLINED_COMPLETE'))\n",
    "longest_declined_trace_row = get_longest_trace_row(declined_df)\n",
    "longest_declined_trace_row"
   ]
  },
  {
   "cell_type": "code",
   "execution_count": 7,
   "metadata": {},
   "outputs": [
    {
     "name": "stdout",
     "output_type": "stream",
     "text": [
      "========================================Trace========================================\n",
      "[['<SOS>', 'A_SUBMITTED_COMPLETE', 'A_PARTLYSUBMITTED_COMPLETE', 'A_PREACCEPTED_COMPLETE', 'W_Completeren aanvraag_COMPLETE', 'W_Completeren aanvraag_COMPLETE', 'A_ACCEPTED_COMPLETE', 'A_FINALIZED_COMPLETE', 'O_SELECTED_COMPLETE', 'O_CREATED_COMPLETE', 'O_SENT_COMPLETE', 'W_Completeren aanvraag_COMPLETE', 'O_SENT_BACK_COMPLETE', 'W_Nabellen offertes_COMPLETE', 'O_ACCEPTED_COMPLETE', 'A_APPROVED_COMPLETE', 'A_REGISTERED_COMPLETE', 'A_ACTIVATED_COMPLETE', 'W_Valideren aanvraag_COMPLETE']]\n"
     ]
    }
   ],
   "source": [
    "_, example_activities, _, example_resources, example_amount, _ = trainer.dataset.collate_fn([52])\n",
    "print(\"========================================Trace========================================\")\n",
    "print(trainer.model.vocab.list_of_index_to_vocab_2d(example_activities))"
   ]
  },
  {
   "cell_type": "code",
   "execution_count": 8,
   "metadata": {},
   "outputs": [
    {
     "name": "stdout",
     "output_type": "stream",
     "text": [
      "========================================Trace after substraction========================================\n",
      "['<SOS>', 'A_SUBMITTED_COMPLETE', 'A_PARTLYSUBMITTED_COMPLETE', 'A_PREACCEPTED_COMPLETE']\n"
     ]
    }
   ],
   "source": [
    "tail_length_to_remove = 15\n",
    "example_idx_activities, example_idx_resources = remove_trail_steps(example_activities, example_resources, tail_length_to_remove)\n",
    "example_vocab_activities = trainer.model.vocab.list_of_index_to_vocab_2d(example_idx_activities)[0]\n",
    "example_vocab_resources = [trainer.model.resources[i] for i in example_idx_resources[0]]\n",
    "print(\"========================================Trace after substraction========================================\")\n",
    "print(example_vocab_activities)"
   ]
  },
  {
   "cell_type": "code",
   "execution_count": 9,
   "metadata": {},
   "outputs": [
    {
     "name": "stdout",
     "output_type": "stream",
     "text": [
      "\n",
      "========================================Predict result========================================\n",
      "| Predicted activity with highest probability (0.84) is \"<EOS>\" \n",
      "==============================================================================================\n",
      "\n",
      "\n",
      "\n",
      "<PAD>                                      1.505910e-04\n",
      "<EOS>                                      8.435646e-01\n",
      "<SOS>                                      3.429898e-05\n",
      "A_ACCEPTED_COMPLETE                        5.152027e-02\n",
      "A_ACTIVATED_COMPLETE                       1.720437e-04\n",
      "A_APPROVED_COMPLETE                        1.530565e-05\n",
      "A_CANCELLED_COMPLETE                       1.616811e-02\n",
      "A_DECLINED_COMPLETE                        4.583856e-03\n",
      "A_FINALIZED_COMPLETE                       6.135483e-03\n",
      "A_PARTLYSUBMITTED_COMPLETE                 4.327222e-05\n",
      "A_PREACCEPTED_COMPLETE                     5.293845e-04\n",
      "A_REGISTERED_COMPLETE                      3.451939e-05\n",
      "A_SUBMITTED_COMPLETE                       1.233659e-04\n",
      "O_ACCEPTED_COMPLETE                        2.075346e-05\n",
      "O_CANCELLED_COMPLETE                       2.228595e-05\n",
      "O_CREATED_COMPLETE                         1.533512e-04\n",
      "O_DECLINED_COMPLETE                        3.573131e-05\n",
      "O_SELECTED_COMPLETE                        2.353643e-03\n",
      "O_SENT_BACK_COMPLETE                       1.403947e-04\n",
      "O_SENT_COMPLETE                            3.445571e-04\n",
      "W_Afhandelen leads_COMPLETE                5.144636e-07\n",
      "W_Beoordelen fraude_COMPLETE               5.644767e-05\n",
      "W_Completeren aanvraag_COMPLETE            7.308500e-02\n",
      "W_Nabellen incomplete dossiers_COMPLETE    1.775474e-04\n",
      "W_Nabellen offertes_COMPLETE               2.031160e-04\n",
      "W_Valideren aanvraag_COMPLETE              3.315089e-04\n",
      "Name: 0, dtype: float64\n"
     ]
    }
   ],
   "source": [
    "##### Get model output\n",
    "example_activities_input = tf.constant(example_idx_activities)\n",
    "example_resources_input = tf.constant(example_idx_resources)\n",
    "example_amount_input = tf.constant(example_amount)\n",
    "\n",
    "predicted_df = print_model_prediction_result(trainer.model, example_activities_input, example_resources_input, example_amount_input)"
   ]
  },
  {
   "cell_type": "code",
   "execution_count": 10,
   "metadata": {},
   "outputs": [
    {
     "data": {
      "text/html": [
       "<div>\n",
       "<style scoped>\n",
       "    .dataframe tbody tr th:only-of-type {\n",
       "        vertical-align: middle;\n",
       "    }\n",
       "\n",
       "    .dataframe tbody tr th {\n",
       "        vertical-align: top;\n",
       "    }\n",
       "\n",
       "    .dataframe thead th {\n",
       "        text-align: right;\n",
       "    }\n",
       "</style>\n",
       "<table border=\"1\" class=\"dataframe\">\n",
       "  <thead>\n",
       "    <tr style=\"text-align: right;\">\n",
       "      <th></th>\n",
       "      <th>&lt;PAD&gt;</th>\n",
       "      <th>&lt;EOS&gt;</th>\n",
       "      <th>&lt;SOS&gt;</th>\n",
       "      <th>A_ACCEPTED_COMPLETE</th>\n",
       "      <th>A_ACTIVATED_COMPLETE</th>\n",
       "      <th>A_APPROVED_COMPLETE</th>\n",
       "      <th>A_CANCELLED_COMPLETE</th>\n",
       "      <th>A_DECLINED_COMPLETE</th>\n",
       "      <th>A_FINALIZED_COMPLETE</th>\n",
       "      <th>A_PARTLYSUBMITTED_COMPLETE</th>\n",
       "      <th>...</th>\n",
       "      <th>O_DECLINED_COMPLETE</th>\n",
       "      <th>O_SELECTED_COMPLETE</th>\n",
       "      <th>O_SENT_BACK_COMPLETE</th>\n",
       "      <th>O_SENT_COMPLETE</th>\n",
       "      <th>W_Afhandelen leads_COMPLETE</th>\n",
       "      <th>W_Beoordelen fraude_COMPLETE</th>\n",
       "      <th>W_Completeren aanvraag_COMPLETE</th>\n",
       "      <th>W_Nabellen incomplete dossiers_COMPLETE</th>\n",
       "      <th>W_Nabellen offertes_COMPLETE</th>\n",
       "      <th>W_Valideren aanvraag_COMPLETE</th>\n",
       "    </tr>\n",
       "  </thead>\n",
       "  <tbody>\n",
       "    <tr>\n",
       "      <th>0</th>\n",
       "      <td>0.000151</td>\n",
       "      <td>0.843565</td>\n",
       "      <td>0.000034</td>\n",
       "      <td>0.05152</td>\n",
       "      <td>0.000172</td>\n",
       "      <td>0.000015</td>\n",
       "      <td>0.016168</td>\n",
       "      <td>0.004584</td>\n",
       "      <td>0.006135</td>\n",
       "      <td>0.000043</td>\n",
       "      <td>...</td>\n",
       "      <td>0.000036</td>\n",
       "      <td>0.002354</td>\n",
       "      <td>0.00014</td>\n",
       "      <td>0.000345</td>\n",
       "      <td>5.144636e-07</td>\n",
       "      <td>0.000056</td>\n",
       "      <td>0.073085</td>\n",
       "      <td>0.000178</td>\n",
       "      <td>0.000203</td>\n",
       "      <td>0.000332</td>\n",
       "    </tr>\n",
       "  </tbody>\n",
       "</table>\n",
       "<p>1 rows × 26 columns</p>\n",
       "</div>"
      ],
      "text/plain": [
       "      <PAD>     <EOS>     <SOS>  A_ACCEPTED_COMPLETE  A_ACTIVATED_COMPLETE  \\\n",
       "0  0.000151  0.843565  0.000034              0.05152              0.000172   \n",
       "\n",
       "   A_APPROVED_COMPLETE  A_CANCELLED_COMPLETE  A_DECLINED_COMPLETE  \\\n",
       "0             0.000015              0.016168             0.004584   \n",
       "\n",
       "   A_FINALIZED_COMPLETE  A_PARTLYSUBMITTED_COMPLETE  ...  O_DECLINED_COMPLETE  \\\n",
       "0              0.006135                    0.000043  ...             0.000036   \n",
       "\n",
       "   O_SELECTED_COMPLETE  O_SENT_BACK_COMPLETE  O_SENT_COMPLETE  \\\n",
       "0             0.002354               0.00014         0.000345   \n",
       "\n",
       "   W_Afhandelen leads_COMPLETE  W_Beoordelen fraude_COMPLETE  \\\n",
       "0                 5.144636e-07                      0.000056   \n",
       "\n",
       "   W_Completeren aanvraag_COMPLETE  W_Nabellen incomplete dossiers_COMPLETE  \\\n",
       "0                         0.073085                                 0.000178   \n",
       "\n",
       "   W_Nabellen offertes_COMPLETE  W_Valideren aanvraag_COMPLETE  \n",
       "0                      0.000203                       0.000332  \n",
       "\n",
       "[1 rows x 26 columns]"
      ]
     },
     "execution_count": 10,
     "metadata": {},
     "output_type": "execute_result"
    }
   ],
   "source": [
    "predicted_df"
   ]
  },
  {
   "cell_type": "code",
   "execution_count": 11,
   "metadata": {},
   "outputs": [
    {
     "name": "stdout",
     "output_type": "stream",
     "text": [
      "\n",
      "==============================Example activities without tags==============================\n",
      "| ['A_SUBMITTED_COMPLETE', 'A_PARTLYSUBMITTED_COMPLETE', 'A_PREACCEPTED_COMPLETE'] \n",
      "===========================================================================================\n",
      "\n",
      "==============================Example resources without tags==============================\n",
      "| ['112', '112', '112'] \n",
      "==========================================================================================\n",
      "\n",
      "=================================Amount=================================\n",
      "| [15500.0] \n",
      "========================================================================\n"
     ]
    }
   ],
   "source": [
    "no_need_tags = ['<EOS>', '<SOS>', '<PAD>']\n",
    "\n",
    "possible_activities = [ a for a in list(trainer.model.vocab.vocabs) if  not a in no_need_tags]\n",
    "possible_resources =  [ r for r in list(trainer.model.resources) if  not r in no_need_tags]\n",
    "\n",
    "example_vocab_activities_no_tag = remove_tags_for_seq(example_vocab_activities, no_need_tags)\n",
    "\n",
    "example_vocab_resources_no_tag = remove_tags_for_seq(example_vocab_resources, no_need_tags)\n",
    "\n",
    "# transform to possible dim\n",
    "example_idx_activities_no_tag = [ possible_activities.index(v)   for v in example_vocab_activities_no_tag ]\n",
    "\n",
    "example_idx_resources_no_tag = [\n",
    "possible_resources.index(v)   for v in example_vocab_resources_no_tag    \n",
    "]\n",
    "\n",
    "example_trace_len_no_tag = len(example_vocab_activities_no_tag)\n",
    "#### Determine feature names for DiCE ####\n",
    "activity_feature_names = np.array([\"activity_step_%d\" % (i+1) for i in range(example_trace_len_no_tag)])\n",
    "resource_feature_names = np.array([\"resource_step_%d\" % (i+1) for i in range(example_trace_len_no_tag)])\n",
    "possbile_amount = [min(trainer.dataset.df[\"amount\"]), max(trainer.dataset.df[\"amount\"])]\n",
    "\n",
    "print_big(example_vocab_activities_no_tag ,title=\"Example activities without tags\", num_marks = 30)\n",
    "print_big(example_vocab_resources_no_tag ,title=\"Example resources without tags\", num_marks = 30)\n",
    "print_big(example_amount, title=\"=================Amount=================\", num_marks=16)"
   ]
  },
  {
   "cell_type": "code",
   "execution_count": 12,
   "metadata": {},
   "outputs": [],
   "source": [
    "############ Setting up desired activity ############\n",
    "# desired_activity = 'A_DECLINED_COMPLETE' # A_DECLINED_COMPLETE, A_APPROVED_COMPLETE\n",
    "# print_big(desired_activity, \"Desired activity\")\n",
    "\n",
    "dice_binary_model = DiCEBinaryDefferentiable(\n",
    "    model=trainer.model,\n",
    "    vocab=trainer.model.vocab,\n",
    "    resources= trainer.model.resources,\n",
    "#     desired=trainer.model.vocab.vocab_to_index(desired_activity),\n",
    "    trace_length = example_trace_len_no_tag,\n",
    "    sos_idx_activity=trainer.model.vocab.vocab_to_index(\"<SOS>\"),\n",
    "    sos_idx_resource= trainer.model.resources.index('<SOS>'),\n",
    "    amount_min = possbile_amount[0],\n",
    "    amount_max = possbile_amount[1],\n",
    "    possible_resources=possible_resources,\n",
    "    possible_activities=possible_activities \n",
    ")"
   ]
  },
  {
   "cell_type": "code",
   "execution_count": 13,
   "metadata": {},
   "outputs": [],
   "source": [
    "# fake_df = generate_fake_df(5000, activity_feature_names, resource_feature_names, possible_activities, possible_resources, possbile_amount, example_trace_len_no_tag)"
   ]
  },
  {
   "cell_type": "code",
   "execution_count": 14,
   "metadata": {
    "scrolled": false
   },
   "outputs": [
    {
     "name": "stdout",
     "output_type": "stream",
     "text": [
      "\n",
      "========================================\n",
      "| Running on /job:localhost/replica:0/task:0/device:CPU:0  \n",
      "========================================\n",
      "\n",
      "========================================\n",
      "| Preprocessed data loaded successfully: ./datasets/preprocessed/BPI_Challenge_2012_valid_trace/All \n",
      "========================================\n",
      "\n",
      "========================================\n",
      "| Model loaded successfully from: ./SavedModels/BPI2012WithResource_ValidPath_2021-06-27 05:38:17.057241  \n",
      "========================================\n",
      "Model: \"scenario_cf_model\"\n",
      "_________________________________________________________________\n",
      "Layer (type)                 Output Shape              Param #   \n",
      "=================================================================\n",
      "embedding_2 (Embedding)      multiple                  832       \n",
      "_________________________________________________________________\n",
      "embedding_3 (Embedding)      multiple                  9216      \n",
      "_________________________________________________________________\n",
      "lstm_4 (LSTM)                multiple                  8320      \n",
      "_________________________________________________________________\n",
      "lstm_5 (LSTM)                multiple                  8320      \n",
      "_________________________________________________________________\n",
      "lstm_6 (LSTM)                multiple                  20608     \n",
      "_________________________________________________________________\n",
      "lstm_7 (LSTM)                multiple                  8320      \n",
      "_________________________________________________________________\n",
      "sequential_1 (Sequential)    (1, 1, 1)                 4805      \n",
      "=================================================================\n",
      "Total params: 60,421\n",
      "Trainable params: 60,163\n",
      "Non-trainable params: 258\n",
      "_________________________________________________________________\n",
      "\n",
      "========================================\n",
      "| Loaded model has been trained for [6734] steps, [2] epochs \n",
      "========================================\n"
     ]
    }
   ],
   "source": [
    "scenario_folder_path = \"./SavedModels/%s\" % (\n",
    "#     \"0.9860_BPI2012WithResource_BaselineLSTMWithResource_2021-06-25 21:03:20.326179\"\n",
    "    \"BPI2012WithResource_ValidPath_2021-06-27 05:38:17.057241\"\n",
    ")\n",
    "scenario_parameter_json = load_parameters(folder_path=scenario_folder_path)\n",
    "scenario_parameter = TrainingParameters(**scenario_parameter_json)\n",
    "scenario_parameter.load_model_folder_path = scenario_folder_path\n",
    "scenarioController = ScenarioCfController(parameters = scenario_parameter)\n",
    "scenarioController.show_model_info()"
   ]
  },
  {
   "cell_type": "code",
   "execution_count": 15,
   "metadata": {},
   "outputs": [],
   "source": [
    "dice = EventLogDiCE(scenarioController.model.activity_vocab, scenarioController.model.resource_vocab, possbile_amount, possible_activities, possible_resources, dice_binary_model, scenarioController.model)"
   ]
  },
  {
   "cell_type": "code",
   "execution_count": 16,
   "metadata": {},
   "outputs": [],
   "source": [
    "########### Successfully found parameters ###########\n",
    "#   example_amount_input.numpy(),\n",
    "#     example_idx_activities_no_tag,\n",
    "#     example_idx_resources_no_tag,\n",
    "#     desired_vocab = \"A_DECLINED_COMPLETE\",\n",
    "    \n",
    "#     ## Weight\n",
    "#     class_loss_weight = 1,\n",
    "#     scenario_weight=20,\n",
    "#     distance_loss_weight=0,\n",
    "#     cat_loss_weight =1,\n",
    "    \n",
    "#     ## Training parameters\n",
    "#     max_iter=200,\n",
    "#     lr=0.8,\n",
    "    \n",
    "#     ## Options\n",
    "#     use_valid_cf_only=False,\n",
    "#     use_sampling=True,\n",
    "#     class_using_hinge_loss=False,\n",
    "#     scenario_using_hinge_loss=False,\n",
    "#     use_clipping=True, "
   ]
  },
  {
   "cell_type": "code",
   "execution_count": 17,
   "metadata": {
    "scrolled": true,
    "tags": [
     "outputPrepend"
    ]
   },
   "outputs": [
    {
     "name": "stdout",
     "output_type": "stream",
     "text": [
      "\n",
      "====================Model Prediction====================\n",
      "| Prediction: [<EOS>(1)] | Desired: [A_DECLINED_COMPLETE(7)] \n",
      "========================================================\n",
      "\n",
      "====================Counterfactual Process====================\n",
      "| [0] ==========> [1] \n",
      "==============================================================\n",
      "\n",
      "====================!Counterfactual Found in step [19]!====================\n",
      "| Running time: 2.05 \n",
      "===========================================================================\n",
      "\n",
      "====================Input Amount====================\n",
      "| [15500.] \n",
      "====================================================\n",
      "\n",
      "====================Input Activities====================\n",
      "| ['A_SUBMITTED_COMPLETE', 'A_PARTLYSUBMITTED_COMPLETE', 'A_PREACCEPTED_COMPLETE'] \n",
      "========================================================\n",
      "\n",
      "====================Input Resource====================\n",
      "| ['112', '112', '112'] \n",
      "======================================================\n",
      "\n",
      "====================Valid CF Amount====================\n",
      "| 15499.054 \n",
      "=======================================================\n",
      "\n",
      "====================Valid CF Activities====================\n",
      "| ['A_SUBMITTED_COMPLETE', 'A_PARTLYSUBMITTED_COMPLETE', 'A_PREACCEPTED_COMPLETE'] \n",
      "===========================================================\n",
      "\n",
      "====================Valid CF Resource====================\n",
      "| ['112', 'UNKNOWN', '112'] \n",
      "=========================================================\n",
      "\n",
      "====================Valid CF scenario output====================\n",
      "| [0.7 1.  0.9 1. ] \n",
      "================================================================\n"
     ]
    }
   ],
   "source": [
    "cf_out = dice.run_pls(\n",
    "    ## Input\n",
    "    example_amount_input.numpy(),\n",
    "    example_idx_activities_no_tag,\n",
    "    example_idx_resources_no_tag,\n",
    "    desired_vocab = \"A_DECLINED_COMPLETE\",\n",
    "    \n",
    "    ## Weight\n",
    "    class_loss_weight = 1,\n",
    "    scenario_weight = 200,\n",
    "    distance_loss_weight = 1e-8,\n",
    "    cat_loss_weight = 1e-3,\n",
    "    \n",
    "    ## Training parameters\n",
    "    scenario_threshold = 0.5,\n",
    "    max_iter=200,\n",
    "    lr=0.05,\n",
    "    \n",
    "    ## Options\n",
    "    use_valid_cf_only=False,\n",
    "    use_sampling=True,\n",
    "    class_using_hinge_loss=False,\n",
    "    scenario_using_hinge_loss=False,\n",
    "    use_clipping=True, \n",
    ")"
   ]
  },
  {
   "cell_type": "code",
   "execution_count": 18,
   "metadata": {},
   "outputs": [],
   "source": [
    "def get_trace_and_prediction_from_model_input(scenarioController, model_input):\n",
    "    activity, resource, amount = model_input\n",
    "    \n",
    "    if len(activity.shape) == 2:\n",
    "        activity = tf.one_hot(activity, depth= len(scenarioController.model.activity_vocab))\n",
    "        resource = tf.one_hot(resource, depth= len(scenarioController.model.resource_vocab))\n",
    "    \n",
    "    idx_activity = tf.argmax(activity, axis=-1).numpy().tolist()[0]\n",
    "    vocab_activity = scenarioController.model.activity_vocab.list_of_index_to_vocab(idx_activity)\n",
    "    print_big(vocab_activity, \"Activitiy\")\n",
    "    \n",
    "    idx_resource = tf.argmax(resource, axis=-1).numpy().tolist()[0]\n",
    "    vocab_resource = scenarioController.model.resource_vocab.list_of_index_to_vocab(idx_resource)\n",
    "    print_big(vocab_resource, \"Resource\")\n",
    "    \n",
    "    sigmoid_output = tf.nn.sigmoid(scenarioController.model(*model_input, training=False)[0]).numpy()\n",
    "    print_big(np.around(sigmoid_output.flatten(), decimals=3), \"Prediction from scenario\")\n",
    "    \n",
    "## ! The cf_out should be the same as temp_model_input"
   ]
  },
  {
   "cell_type": "code",
   "execution_count": 19,
   "metadata": {
    "scrolled": true
   },
   "outputs": [
    {
     "name": "stdout",
     "output_type": "stream",
     "text": [
      "\n",
      "========================================\n",
      "| Original input \n",
      "========================================\n",
      "\n",
      "====================Activitiy====================\n",
      "| ['<SOS>', 'A_SUBMITTED_COMPLETE', 'A_PARTLYSUBMITTED_COMPLETE', 'A_PREACCEPTED_COMPLETE'] \n",
      "=================================================\n",
      "\n",
      "====================Resource====================\n",
      "| ['<SOS>', '112', '112', '112'] \n",
      "================================================\n",
      "\n",
      "====================Prediction from scenario====================\n",
      "| [0.695 1.    1.    1.   ] \n",
      "================================================================\n",
      "\n",
      "========================================\n",
      "| Input CF \n",
      "========================================\n",
      "\n",
      "====================Activitiy====================\n",
      "| ['<SOS>', 'A_SUBMITTED_COMPLETE', 'A_PARTLYSUBMITTED_COMPLETE', 'A_PREACCEPTED_COMPLETE'] \n",
      "=================================================\n",
      "\n",
      "====================Resource====================\n",
      "| ['<SOS>', '112', '112', '112'] \n",
      "================================================\n",
      "\n",
      "====================Prediction from scenario====================\n",
      "| [0.695 1.    1.    1.   ] \n",
      "================================================================\n",
      "\n",
      "========================================\n",
      "| Updated CF \n",
      "========================================\n",
      "\n",
      "====================Activitiy====================\n",
      "| ['<SOS>', 'A_SUBMITTED_COMPLETE', 'A_PARTLYSUBMITTED_COMPLETE', 'A_PREACCEPTED_COMPLETE'] \n",
      "=================================================\n",
      "\n",
      "====================Resource====================\n",
      "| ['<SOS>', '112', 'UNKNOWN', '112'] \n",
      "================================================\n",
      "\n",
      "====================Prediction from scenario====================\n",
      "| [0.695 1.    0.934 1.   ] \n",
      "================================================================\n"
     ]
    }
   ],
   "source": [
    "print_big(\"Original input\")\n",
    "get_trace_and_prediction_from_model_input(scenarioController, [example_activities_input, example_resources_input, example_amount_input])\n",
    "print_big(\"Input CF\")\n",
    "get_trace_and_prediction_from_model_input(scenarioController, dice.model_input)\n",
    "print_big(\"Updated CF\")\n",
    "get_trace_and_prediction_from_model_input(scenarioController, dice.temp_model_input)"
   ]
  },
  {
   "cell_type": "code",
   "execution_count": 20,
   "metadata": {},
   "outputs": [],
   "source": [
    "def get_scenario_prediction_from_vocabs(scenarioController, cf_out):\n",
    "    cf_amount, cf_activity, cf_resource = cf_out\n",
    "\n",
    "    input_activity = [scenarioController.model.activity_vocab.sos_idx()] + scenarioController.model.activity_vocab.list_of_vocab_to_index(cf_activity)\n",
    "    input_activity = tf.constant([input_activity]) \n",
    "\n",
    "    input_resource = [scenarioController.model.resource_vocab.sos_idx()] + scenarioController.model.resource_vocab.list_of_vocab_to_index(cf_resource)\n",
    "    input_resource = tf.constant([input_resource])\n",
    "\n",
    "    input_amount = tf.constant([cf_amount])\n",
    "    \n",
    "    print_big(scenarioController.model(input_activity, input_resource, input_amount)[0].numpy().flatten().tolist(), \"Scenario CF Output\")"
   ]
  },
  {
   "cell_type": "code",
   "execution_count": 21,
   "metadata": {},
   "outputs": [
    {
     "name": "stdout",
     "output_type": "stream",
     "text": [
      "\n",
      "====================Scenario CF Output====================\n",
      "| [0.823211669921875, 8.287096977233887, 2.646289825439453, 10.151716232299805] \n",
      "==========================================================\n"
     ]
    }
   ],
   "source": [
    "get_scenario_prediction_from_vocabs(scenarioController, cf_out)"
   ]
  },
  {
   "cell_type": "code",
   "execution_count": 22,
   "metadata": {},
   "outputs": [],
   "source": [
    "class GoodIsGood(object):\n",
    "    pass"
   ]
  },
  {
   "cell_type": "code",
   "execution_count": 23,
   "metadata": {},
   "outputs": [],
   "source": [
    "g = GoodIsGood()"
   ]
  },
  {
   "cell_type": "code",
   "execution_count": 24,
   "metadata": {},
   "outputs": [
    {
     "ename": "AttributeError",
     "evalue": "'GoodIsGood' object has no attribute '__name__'",
     "output_type": "error",
     "traceback": [
      "\u001b[0;31m---------------------------------------------------------------------------\u001b[0m",
      "\u001b[0;31mAttributeError\u001b[0m                            Traceback (most recent call last)",
      "\u001b[0;32m<ipython-input-24-edf862ceffc9>\u001b[0m in \u001b[0;36m<module>\u001b[0;34m\u001b[0m\n\u001b[0;32m----> 1\u001b[0;31m \u001b[0mg\u001b[0m\u001b[0;34m.\u001b[0m\u001b[0m__name__\u001b[0m\u001b[0;34m\u001b[0m\u001b[0;34m\u001b[0m\u001b[0m\n\u001b[0m",
      "\u001b[0;31mAttributeError\u001b[0m: 'GoodIsGood' object has no attribute '__name__'"
     ]
    }
   ],
   "source": [
    "g.__name__"
   ]
  },
  {
   "cell_type": "code",
   "execution_count": null,
   "metadata": {},
   "outputs": [],
   "source": []
  }
 ],
 "metadata": {
  "interpreter": {
   "hash": "5c622353f32ef24c8d83e5c3e334107c074e82d7c3e8ca52c56b9fc900ce33e6"
  },
  "kernelspec": {
   "display_name": "Python 3",
   "language": "python",
   "name": "python3"
  },
  "language_info": {
   "codemirror_mode": {
    "name": "ipython",
    "version": 3
   },
   "file_extension": ".py",
   "mimetype": "text/x-python",
   "name": "python",
   "nbconvert_exporter": "python",
   "pygments_lexer": "ipython3",
   "version": "3.8.10"
  }
 },
 "nbformat": 4,
 "nbformat_minor": 4
}
