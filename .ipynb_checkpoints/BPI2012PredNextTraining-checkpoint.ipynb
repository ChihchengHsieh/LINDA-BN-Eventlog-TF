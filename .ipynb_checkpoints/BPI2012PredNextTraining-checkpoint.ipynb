{
 "cells": [
  {
   "cell_type": "code",
   "execution_count": 1,
   "id": "4ee5af2d",
   "metadata": {},
   "outputs": [],
   "source": [
    "from Data import BPI2012Dataset\n",
    "from Parameters.DatasetSetting import BPI2012Setting\n",
    "from Utils.SaveUtils import get_json_dict\n",
    "from Parameters.CommonTrainingParameters import TrainingSetting, LossSetting, OptimizerSetting\n",
    "from Parameters.ModelParameters import TwoLayerLSTMPredNextWithResourceModelParameters\n",
    "from Models import TwoLayerLSTMPredNextWithResourceModel\n",
    "from Controller import ModelTrainingController"
   ]
  },
  {
   "cell_type": "code",
   "execution_count": 2,
   "id": "d7911c87",
   "metadata": {},
   "outputs": [],
   "source": [
    "bpi_2012_parms = BPI2012Setting()"
   ]
  },
  {
   "cell_type": "code",
   "execution_count": 3,
   "id": "60f12aee",
   "metadata": {},
   "outputs": [
    {
     "data": {
      "text/plain": [
       "{'file_path': './datasets/event_logs/BPI_Challenge_2012.xes',\n",
       " 'preprocessed_folder_path': './datasets/preprocessed/BPI_Challenge_2012_with_resource',\n",
       " 'include_types': ['A', 'O', 'W'],\n",
       " 'include_complete_only': True}"
      ]
     },
     "execution_count": 3,
     "metadata": {},
     "output_type": "execute_result"
    }
   ],
   "source": [
    "get_json_dict(bpi_2012_parms)"
   ]
  },
  {
   "cell_type": "code",
   "execution_count": 4,
   "id": "237655d5",
   "metadata": {},
   "outputs": [
    {
     "name": "stdout",
     "output_type": "stream",
     "text": [
      "\n",
      "========================================\n",
      "| Preprocessed data loaded successfully: ./datasets/preprocessed/BPI_Challenge_2012_with_resource/AOW_CompleteOnly \n",
      "========================================\n"
     ]
    }
   ],
   "source": [
    "dataset = BPI2012Dataset(bpi_2012_parms)"
   ]
  },
  {
   "cell_type": "code",
   "execution_count": 5,
   "id": "f47471ae",
   "metadata": {},
   "outputs": [],
   "source": [
    "model_params = TwoLayerLSTMPredNextWithResourceModelParameters()"
   ]
  },
  {
   "cell_type": "code",
   "execution_count": 6,
   "id": "78d54543",
   "metadata": {},
   "outputs": [
    {
     "data": {
      "text/plain": [
       "{'activity_embedding_dim': 32,\n",
       " 'resource_embedding_dim': 128,\n",
       " 'lstm_hidden': 64,\n",
       " 'dense_dim': 64,\n",
       " 'dropout': 0.1}"
      ]
     },
     "execution_count": 6,
     "metadata": {},
     "output_type": "execute_result"
    }
   ],
   "source": [
    "get_json_dict(model_params)"
   ]
  },
  {
   "cell_type": "code",
   "execution_count": 7,
   "id": "845823b7",
   "metadata": {},
   "outputs": [],
   "source": [
    "model = TwoLayerLSTMPredNextWithResourceModel(\n",
    "    activity_vocab = dataset.activity_vocab,\n",
    "    resource_vocab = dataset.resource_vocab,\n",
    "    parameters = model_params\n",
    ")"
   ]
  },
  {
   "cell_type": "code",
   "execution_count": 8,
   "id": "53664c2e",
   "metadata": {},
   "outputs": [],
   "source": [
    "train_params = TrainingSetting()"
   ]
  },
  {
   "cell_type": "code",
   "execution_count": 9,
   "id": "23e75ede",
   "metadata": {},
   "outputs": [
    {
     "data": {
      "text/plain": [
       "{'stop_epoch': 20,\n",
       " 'batch_size': 128,\n",
       " 'verbose_freq': 250,\n",
       " 'run_validation_freq': 80,\n",
       " 'train_test_split_portion': [0.8, 0.1],\n",
       " 'random_seed': 12345}"
      ]
     },
     "execution_count": 9,
     "metadata": {},
     "output_type": "execute_result"
    }
   ],
   "source": [
    "get_json_dict(train_params)"
   ]
  },
  {
   "cell_type": "code",
   "execution_count": 10,
   "id": "5ac86e22",
   "metadata": {},
   "outputs": [],
   "source": [
    "loss_params = LossSetting()"
   ]
  },
  {
   "cell_type": "code",
   "execution_count": 11,
   "id": "1e3ae48c",
   "metadata": {},
   "outputs": [
    {
     "data": {
      "text/plain": [
       "{'loss': 'CrossEntropy'}"
      ]
     },
     "execution_count": 11,
     "metadata": {},
     "output_type": "execute_result"
    }
   ],
   "source": [
    "get_json_dict(loss_params)"
   ]
  },
  {
   "cell_type": "code",
   "execution_count": 12,
   "id": "19671c4c",
   "metadata": {},
   "outputs": [],
   "source": [
    "optim_params = OptimizerSetting()"
   ]
  },
  {
   "cell_type": "code",
   "execution_count": 13,
   "id": "a3ac0004",
   "metadata": {},
   "outputs": [
    {
     "data": {
      "text/plain": [
       "{'optimizer': 'Adam',\n",
       " 'learning_rate': 0.005,\n",
       " 'l2': 1e-10,\n",
       " 'lr_scheduler': 'ExponentialDecay',\n",
       " 'lr_step_scheduler_step': 800,\n",
       " 'lr_setp_scheduler_gamma': 0.8,\n",
       " 'lr_exp_decay_scheduler_step': 1000,\n",
       " 'lr_exp_decay_scheduler_rate': 0.96,\n",
       " 'lr_exp_decay_scheduler_staircase': True,\n",
       " 'SGD_momentum': 0.9}"
      ]
     },
     "execution_count": 13,
     "metadata": {},
     "output_type": "execute_result"
    }
   ],
   "source": [
    "get_json_dict(optim_params)"
   ]
  },
  {
   "cell_type": "code",
   "execution_count": 14,
   "id": "51d8e392",
   "metadata": {},
   "outputs": [
    {
     "name": "stdout",
     "output_type": "stream",
     "text": [
      "\n",
      "========================================\n",
      "| Running on /job:localhost/replica:0/task:0/device:CPU:0  \n",
      "========================================\n"
     ]
    }
   ],
   "source": [
    "controller = ModelTrainingController(\n",
    "    dataset,\n",
    "    model,\n",
    "    train_params,\n",
    "    optim_params,\n",
    "    loss_params,\n",
    ")"
   ]
  },
  {
   "cell_type": "code",
   "execution_count": 15,
   "id": "3b7b98db",
   "metadata": {},
   "outputs": [
    {
     "name": "stdout",
     "output_type": "stream",
     "text": [
      "\n",
      "========================================\n",
      "| Training records in logs/gradient_tape/20210628-232603 \n",
      "========================================\n",
      "\n",
      "========================================\n",
      "| Total epochs: 20 \n",
      "========================================\n",
      "\n",
      "========================================\n",
      "| Total steps: 1640 \n",
      "========================================\n",
      "\n",
      "========================================\n",
      "| Start epoch 0 \n",
      "========================================\n",
      "\n",
      "========================================\n",
      "| Evaluation result | Loss [0.7892] | Accuracy [0.0730]  \n",
      "========================================\n",
      "\n",
      "========================================\n",
      "| Start epoch 1 \n",
      "========================================\n",
      "\n",
      "========================================\n",
      "| Evaluation result | Loss [1.0225] | Accuracy [0.0730]  \n",
      "========================================\n",
      "\n",
      "========================================\n",
      "| Start epoch 2 \n",
      "========================================\n",
      "\n",
      "========================================\n",
      "| Evaluation result | Loss [0.9118] | Accuracy [0.0730]  \n",
      "========================================\n",
      "\n",
      "========================================\n",
      "| Start epoch 3 \n",
      "========================================\n",
      "\n",
      "========================================\n",
      "| Evaluation result | Loss [0.5796] | Accuracy [0.0957]  \n",
      "========================================\n",
      "\n",
      "========================================\n",
      "| Start epoch 4 \n",
      "========================================\n",
      "\n",
      "========================================\n",
      "| Evaluation result | Loss [0.2809] | Accuracy [0.5241]  \n",
      "========================================\n",
      "\n",
      "========================================\n",
      "| Start epoch 5 \n",
      "========================================\n",
      "\n",
      "========================================\n",
      "| Evaluation result | Loss [0.1571] | Accuracy [0.7963]  \n",
      "========================================\n",
      "\n",
      "========================================\n",
      "| Start epoch 6 \n",
      "========================================\n",
      "\n",
      "========================================\n",
      "| Evaluation result | Loss [0.1285] | Accuracy [0.8195]  \n",
      "========================================\n",
      "\n",
      "========================================\n",
      "| Start epoch 7 \n",
      "========================================\n",
      "\n",
      "========================================\n",
      "| Evaluation result | Loss [0.1227] | Accuracy [0.8200]  \n",
      "========================================\n",
      "\n",
      "========================================\n",
      "| Start epoch 8 \n",
      "========================================\n",
      "\n",
      "========================================\n",
      "| Evaluation result | Loss [0.1215] | Accuracy [0.8206]  \n",
      "========================================\n",
      "\n",
      "========================================\n",
      "| Start epoch 9 \n",
      "========================================\n",
      "\n",
      "========================================\n",
      "| Evaluation result | Loss [0.1229] | Accuracy [0.8197]  \n",
      "========================================\n",
      "\n",
      "========================================\n",
      "| Start epoch 10 \n",
      "========================================\n",
      "\n",
      "========================================\n",
      "| Evaluation result | Loss [0.1243] | Accuracy [0.8187]  \n",
      "========================================\n",
      "\n",
      "========================================\n",
      "| Start epoch 11 \n",
      "========================================\n",
      "\n",
      "========================================\n",
      "| Evaluation result | Loss [0.1247] | Accuracy [0.8238]  \n",
      "========================================\n",
      "\n",
      "========================================\n",
      "| Start epoch 12 \n",
      "========================================\n",
      "\n",
      "========================================\n",
      "| Evaluation result | Loss [0.1247] | Accuracy [0.8241]  \n",
      "========================================\n",
      "\n",
      "========================================\n",
      "| Start epoch 13 \n",
      "========================================\n",
      "\n",
      "========================================\n",
      "| Evaluation result | Loss [0.1234] | Accuracy [0.8230]  \n",
      "========================================\n",
      "\n",
      "========================================\n",
      "| Start epoch 14 \n",
      "========================================\n",
      "\n",
      "========================================\n",
      "| Evaluation result | Loss [0.1239] | Accuracy [0.8173]  \n",
      "========================================\n",
      "\n",
      "========================================\n",
      "| Start epoch 15 \n",
      "========================================\n",
      "\n",
      "========================================\n",
      "| Evaluation result | Loss [0.1246] | Accuracy [0.8162]  \n",
      "========================================\n",
      "\n",
      "========================================\n",
      "| Start epoch 16 \n",
      "========================================\n",
      "\n",
      "========================================\n",
      "| Evaluation result | Loss [0.1260] | Accuracy [0.8183]  \n",
      "========================================\n",
      "\n",
      "========================================\n",
      "| Start epoch 17 \n",
      "========================================\n",
      "\n",
      "========================================\n",
      "| Evaluation result | Loss [0.1285] | Accuracy [0.8109]  \n",
      "========================================\n",
      "\n",
      "========================================\n",
      "| Start epoch 18 \n",
      "========================================\n",
      "\n",
      "========================================\n",
      "| Evaluation result | Loss [0.1287] | Accuracy [0.8091]  \n",
      "========================================\n",
      "\n",
      "========================================\n",
      "| Start epoch 19 \n",
      "========================================\n",
      "\n",
      "========================================\n",
      "| Evaluation result | Loss [0.1293] | Accuracy [0.8145]  \n",
      "========================================\n",
      "\n",
      "========================================\n",
      "| Performing Testing ... \n",
      "========================================\n",
      "\n",
      "========================================\n",
      "| Evaluation result | Loss [0.1224] | Accuracy [0.8196]  \n",
      "========================================\n"
     ]
    }
   ],
   "source": [
    "test_accuracy = controller.train()"
   ]
  },
  {
   "cell_type": "code",
   "execution_count": 16,
   "id": "2f7636c8",
   "metadata": {},
   "outputs": [],
   "source": [
    "save_folder_path = model.get_folder_path(\"BPI2012PredNextTraining.ipynb\", test_accuracy , dataset.info_str())"
   ]
  },
  {
   "cell_type": "code",
   "execution_count": 17,
   "id": "a8d58213",
   "metadata": {
    "scrolled": true
   },
   "outputs": [
    {
     "name": "stdout",
     "output_type": "stream",
     "text": [
      "\n",
      "========================================\n",
      "| Parameters saved successfully to: ./SavedModels/0.8196_OneLayerLSTMPredNextWithResourceModel_AOW_CompleteOnly_2021-06-28 23:38:06.962296  \n",
      "========================================\n",
      "\n",
      "========================================\n",
      "| Vocabs saved successfully to: ./SavedModels/0.8196_OneLayerLSTMPredNextWithResourceModel_AOW_CompleteOnly_2021-06-28 23:38:06.962296  \n",
      "========================================\n",
      "\n",
      "========================================\n",
      "| Model saved successfully to: ./SavedModels/0.8196_OneLayerLSTMPredNextWithResourceModel_AOW_CompleteOnly_2021-06-28 23:38:06.962296  \n",
      "========================================\n"
     ]
    }
   ],
   "source": [
    "controller.save_parameters(save_folder_path)\n",
    "model.save(save_folder_path)"
   ]
  },
  {
   "cell_type": "code",
   "execution_count": 18,
   "id": "97bc2468",
   "metadata": {},
   "outputs": [
    {
     "name": "stdout",
     "output_type": "stream",
     "text": [
      "\n",
      "========================================\n",
      "| Model parameters loaded successfully from: ./SavedModels/0.8196_OneLayerLSTMPredNextWithResourceModel_AOW_CompleteOnly_2021-06-28 23:38:06.962296  \n",
      "========================================\n",
      "\n",
      "========================================\n",
      "| Vocab loaded successfully from: ./SavedModels/0.8196_OneLayerLSTMPredNextWithResourceModel_AOW_CompleteOnly_2021-06-28 23:38:06.962296  \n",
      "========================================\n"
     ]
    },
    {
     "data": {
      "text/plain": [
       "<Models.TwoLayerLSTMPredNextWithResourceModel.TwoLayerLSTMPredNextWithResourceModel at 0x16cbf2040>"
      ]
     },
     "execution_count": 18,
     "metadata": {},
     "output_type": "execute_result"
    }
   ],
   "source": [
    "controller.load_parameters(save_folder_path)\n",
    "model.load(save_folder_path)"
   ]
  },
  {
   "cell_type": "code",
   "execution_count": 19,
   "id": "43963412",
   "metadata": {},
   "outputs": [],
   "source": [
    "## Try one layer architecture\n",
    "\n",
    "# two layer acc: 0.8176\n",
    "# one layer acc: 0.8196"
   ]
  }
 ],
 "metadata": {
  "kernelspec": {
   "display_name": "Python 3.8.10 64-bit ('tf_mac': conda)",
   "language": "python",
   "name": "python3810jvsc74a57bd05c622353f32ef24c8d83e5c3e334107c074e82d7c3e8ca52c56b9fc900ce33e6"
  },
  "language_info": {
   "codemirror_mode": {
    "name": "ipython",
    "version": 3
   },
   "file_extension": ".py",
   "mimetype": "text/x-python",
   "name": "python",
   "nbconvert_exporter": "python",
   "pygments_lexer": "ipython3",
   "version": "3.8.10"
  }
 },
 "nbformat": 4,
 "nbformat_minor": 5
}
