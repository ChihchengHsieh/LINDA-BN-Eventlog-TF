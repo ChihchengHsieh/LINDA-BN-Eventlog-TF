{
 "metadata": {
  "language_info": {
   "codemirror_mode": {
    "name": "ipython",
    "version": 3
   },
   "file_extension": ".py",
   "mimetype": "text/x-python",
   "name": "python",
   "nbconvert_exporter": "python",
   "pygments_lexer": "ipython3",
   "version": "3.8.10"
  },
  "orig_nbformat": 4,
  "kernelspec": {
   "name": "python3",
   "display_name": "Python 3.8.10 64-bit ('tf_mac': conda)"
  },
  "interpreter": {
   "hash": "5c622353f32ef24c8d83e5c3e334107c074e82d7c3e8ca52c56b9fc900ce33e6"
  }
 },
 "nbformat": 4,
 "nbformat_minor": 2,
 "cells": [
  {
   "cell_type": "code",
   "execution_count": 1,
   "metadata": {},
   "outputs": [
    {
     "output_type": "stream",
     "name": "stdout",
     "text": [
      "TF version:  2.4.0-rc0\nEager execution enabled:  True\n"
     ]
    }
   ],
   "source": [
    "from Controller import TrainingController\n",
    "from Parameters import TrainingParameters\n",
    "from Utils.SaveUtils import load_parameters\n",
    "from Utils.PrintUtils import print_big\n",
    "import tensorflow as tf\n",
    "import json\n",
    "import numpy as np\n",
    "import pandas as pd\n",
    "from Models import DiCEBinaryDefferentiable\n",
    "from itertools import chain\n",
    "from IPython.core.display import display, HTML\n",
    "from Utils.DiCEHelpers import generate_fake_df, get_trace_with_id, get_longest_trace_row, remove_trail_steps, print_model_prediction_result, remove_tags_for_query_instance\n",
    "\n",
    "# import dice_ml\n",
    "# from dice_ml.utils import helpers\n",
    "\n",
    "print('TF version: ', tf.__version__)\n",
    "print('Eager execution enabled: ', tf.executing_eagerly()) # False"
   ]
  },
  {
   "cell_type": "code",
   "execution_count": 2,
   "metadata": {},
   "outputs": [],
   "source": [
    "folder_path = \"./SavedModels/%s\" % (\n",
    "    \"0.8264_BPI2012WithResource_BaselineLSTMWithResource_2021-06-18 06:11:10.009443\" #AOW\n",
    ")"
   ]
  },
  {
   "cell_type": "code",
   "execution_count": 3,
   "metadata": {},
   "outputs": [
    {
     "output_type": "stream",
     "name": "stdout",
     "text": [
      "\n",
      "========================================\n",
      "| Running on /job:localhost/replica:0/task:0/device:CPU:0  \n",
      "========================================\n",
      "\n",
      "========================================\n",
      "| Preprocessed data loaded successfully: ./datasets/preprocessed/BPI_Challenge_2012_with_resource/AOW \n",
      "========================================\n",
      "\n",
      "========================================\n",
      "| Model loaded successfully from: ./SavedModels/0.8264_BPI2012WithResource_BaselineLSTMWithResource_2021-06-18 06:11:10.009443  \n",
      "========================================\n",
      "Model: \"baseline_lstm_with_resource\"\n",
      "_________________________________________________________________\n",
      "Layer (type)                 Output Shape              Param #   \n",
      "=================================================================\n",
      "embedding (Embedding)        multiple                  832       \n",
      "_________________________________________________________________\n",
      "embedding_1 (Embedding)      multiple                  2304      \n",
      "_________________________________________________________________\n",
      "lstm (LSTM)                  multiple                  24832     \n",
      "_________________________________________________________________\n",
      "lstm_1 (LSTM)                multiple                  33024     \n",
      "_________________________________________________________________\n",
      "lstm_2 (LSTM)                multiple                  24832     \n",
      "_________________________________________________________________\n",
      "lstm_3 (LSTM)                multiple                  33024     \n",
      "_________________________________________________________________\n",
      "sequential (Sequential)      (1, 1, 26)                10782     \n",
      "=================================================================\n",
      "Total params: 129,630\n",
      "Trainable params: 129,244\n",
      "Non-trainable params: 386\n",
      "_________________________________________________________________\n",
      "\n",
      "========================================\n",
      "| Loaded model has been trained for [4100] steps, [50] epochs \n",
      "========================================\n"
     ]
    }
   ],
   "source": [
    "### Initialise controllers\n",
    "parameters_json = load_parameters(folder_path=folder_path)\n",
    "parameters = TrainingParameters(**parameters_json)\n",
    "tf.random.set_seed(parameters.dataset_split_seed)\n",
    "np.random.seed(parameters.dataset_split_seed)\n",
    "parameters.load_model_folder_path = folder_path\n",
    "trainer = TrainingController(parameters = parameters)\n",
    "trainer.show_model_info()"
   ]
  },
  {
   "cell_type": "code",
   "execution_count": 4,
   "metadata": {},
   "outputs": [
    {
     "output_type": "stream",
     "name": "stdout",
     "text": [
      "\n====================Test set length====================\n| 1309 \n=======================================================\n"
     ]
    }
   ],
   "source": [
    "########### Get example data from trainer ###########\n",
    "ordered_test_idx = (list(trainer.test_dataset.unbatch().as_numpy_iterator()))\n",
    "ordered_test_idx.sort()\n",
    "print_big(len(ordered_test_idx), \"Test set length\")"
   ]
  },
  {
   "cell_type": "code",
   "execution_count": 5,
   "metadata": {},
   "outputs": [
    {
     "output_type": "execute_result",
     "data": {
      "text/plain": [
       "                                                  trace  \\\n",
       "8464  [2, 12, 9, 10, 20, 22, 3, 17, 8, 15, 19, 22, 1...   \n",
       "\n",
       "                                            trace_vocab  caseid  amount  \\\n",
       "8464  [<SOS>, A_SUBMITTED_COMPLETE, A_PARTLYSUBMITTE...  200028  5800.0   \n",
       "\n",
       "                                               resource  \\\n",
       "8464  [70, 53, 53, 15, 15, 48, 37, 37, 37, 37, 37, 3...   \n",
       "\n",
       "                                          resource_orig  \n",
       "8464  [<SOS>, 112, 112, 10863, 10863, 11169, 11003, ...  "
      ],
      "text/html": "<div>\n<style scoped>\n    .dataframe tbody tr th:only-of-type {\n        vertical-align: middle;\n    }\n\n    .dataframe tbody tr th {\n        vertical-align: top;\n    }\n\n    .dataframe thead th {\n        text-align: right;\n    }\n</style>\n<table border=\"1\" class=\"dataframe\">\n  <thead>\n    <tr style=\"text-align: right;\">\n      <th></th>\n      <th>trace</th>\n      <th>trace_vocab</th>\n      <th>caseid</th>\n      <th>amount</th>\n      <th>resource</th>\n      <th>resource_orig</th>\n    </tr>\n  </thead>\n  <tbody>\n    <tr>\n      <th>8464</th>\n      <td>[2, 12, 9, 10, 20, 22, 3, 17, 8, 15, 19, 22, 1...</td>\n      <td>[&lt;SOS&gt;, A_SUBMITTED_COMPLETE, A_PARTLYSUBMITTE...</td>\n      <td>200028</td>\n      <td>5800.0</td>\n      <td>[70, 53, 53, 15, 15, 48, 37, 37, 37, 37, 37, 3...</td>\n      <td>[&lt;SOS&gt;, 112, 112, 10863, 10863, 11169, 11003, ...</td>\n    </tr>\n  </tbody>\n</table>\n</div>"
     },
     "metadata": {},
     "execution_count": 5
    }
   ],
   "source": [
    "########## Get longest delcined trace for testing ##########\n",
    "declined_df = get_trace_with_id(trainer.dataset.df.iloc[ordered_test_idx], trainer.model.vocab.vocab_to_index('A_DECLINED_COMPLETE'))\n",
    "longest_declined_trace_row = get_longest_trace_row(declined_df)\n",
    "longest_declined_trace_row"
   ]
  },
  {
   "cell_type": "code",
   "execution_count": 6,
   "metadata": {},
   "outputs": [],
   "source": [
    "_, example_activities, _, example_resources, example_amount, _ = trainer.dataset.collate_fn([longest_declined_trace_row.index[0]])"
   ]
  },
  {
   "cell_type": "code",
   "execution_count": 7,
   "metadata": {},
   "outputs": [
    {
     "output_type": "stream",
     "name": "stdout",
     "text": [
      "========================================Trace========================================\n[['<SOS>', 'A_SUBMITTED_COMPLETE', 'A_PARTLYSUBMITTED_COMPLETE', 'A_PREACCEPTED_COMPLETE', 'W_Afhandelen leads_COMPLETE', 'W_Completeren aanvraag_COMPLETE', 'A_ACCEPTED_COMPLETE', 'O_SELECTED_COMPLETE', 'A_FINALIZED_COMPLETE', 'O_CREATED_COMPLETE', 'O_SENT_COMPLETE', 'W_Completeren aanvraag_COMPLETE', 'O_SELECTED_COMPLETE', 'O_CANCELLED_COMPLETE', 'O_CREATED_COMPLETE', 'O_SENT_COMPLETE', 'W_Nabellen offertes_COMPLETE', 'O_CANCELLED_COMPLETE', 'O_SELECTED_COMPLETE', 'O_CREATED_COMPLETE', 'O_SENT_COMPLETE', 'W_Nabellen offertes_COMPLETE', 'W_Nabellen offertes_COMPLETE', 'W_Nabellen offertes_COMPLETE', 'W_Nabellen offertes_COMPLETE', 'W_Nabellen offertes_COMPLETE', 'O_SENT_BACK_COMPLETE', 'W_Nabellen offertes_COMPLETE', 'W_Valideren aanvraag_COMPLETE', 'W_Nabellen incomplete dossiers_COMPLETE', 'W_Nabellen incomplete dossiers_COMPLETE', 'W_Nabellen incomplete dossiers_COMPLETE', 'W_Nabellen incomplete dossiers_COMPLETE', 'W_Nabellen incomplete dossiers_COMPLETE', 'W_Nabellen incomplete dossiers_COMPLETE', 'W_Nabellen incomplete dossiers_COMPLETE', 'W_Nabellen incomplete dossiers_COMPLETE', 'W_Nabellen incomplete dossiers_COMPLETE', 'W_Nabellen incomplete dossiers_COMPLETE', 'W_Nabellen incomplete dossiers_COMPLETE', 'W_Nabellen incomplete dossiers_COMPLETE', 'W_Nabellen incomplete dossiers_COMPLETE', 'W_Nabellen incomplete dossiers_COMPLETE', 'W_Nabellen incomplete dossiers_COMPLETE', 'W_Nabellen incomplete dossiers_COMPLETE', 'W_Nabellen incomplete dossiers_COMPLETE', 'W_Nabellen incomplete dossiers_COMPLETE', 'W_Nabellen incomplete dossiers_COMPLETE', 'W_Nabellen incomplete dossiers_COMPLETE', 'W_Nabellen incomplete dossiers_COMPLETE', 'W_Nabellen incomplete dossiers_COMPLETE', 'O_DECLINED_COMPLETE', 'A_DECLINED_COMPLETE', 'W_Valideren aanvraag_COMPLETE']]\n"
     ]
    }
   ],
   "source": [
    " print(\"========================================Trace========================================\")\n",
    " print(trainer.model.vocab.list_of_index_to_vocab_2d(example_activities))"
   ]
  },
  {
   "cell_type": "code",
   "execution_count": 8,
   "metadata": {},
   "outputs": [
    {
     "output_type": "stream",
     "name": "stdout",
     "text": [
      "========================================Trace after substraction========================================\n['<SOS>', 'A_SUBMITTED_COMPLETE', 'A_PARTLYSUBMITTED_COMPLETE', 'A_PREACCEPTED_COMPLETE']\n"
     ]
    }
   ],
   "source": [
    "example_idx_activities, example_idx_resources = remove_trail_steps(example_activities, example_resources, 50)\n",
    "example_vocab_activities = trainer.model.vocab.list_of_index_to_vocab_2d(example_idx_activities)[0]\n",
    "print(\"========================================Trace after substraction========================================\")\n",
    "print(example_vocab_activities)"
   ]
  },
  {
   "cell_type": "code",
   "execution_count": 9,
   "metadata": {},
   "outputs": [
    {
     "output_type": "stream",
     "name": "stdout",
     "text": [
      "\n",
      "========================================Predict result========================================\n",
      "| Predicted activity with highest probability (0.36) is \"W_Afhandelen leads_COMPLETE\" \n",
      "==============================================================================================\n",
      "\n",
      "\n",
      "\n",
      "<PAD>                                      0.000377\n",
      "<EOS>                                      0.005197\n",
      "<SOS>                                      0.001689\n",
      "A_ACCEPTED_COMPLETE                        0.113344\n",
      "A_ACTIVATED_COMPLETE                       0.001507\n",
      "A_APPROVED_COMPLETE                        0.000362\n",
      "A_CANCELLED_COMPLETE                       0.081236\n",
      "A_DECLINED_COMPLETE                        0.127201\n",
      "A_FINALIZED_COMPLETE                       0.003128\n",
      "A_PARTLYSUBMITTED_COMPLETE                 0.004422\n",
      "A_PREACCEPTED_COMPLETE                     0.050626\n",
      "A_REGISTERED_COMPLETE                      0.000840\n",
      "A_SUBMITTED_COMPLETE                       0.017736\n",
      "O_ACCEPTED_COMPLETE                        0.000727\n",
      "O_CANCELLED_COMPLETE                       0.000166\n",
      "O_CREATED_COMPLETE                         0.013158\n",
      "O_DECLINED_COMPLETE                        0.000213\n",
      "O_SELECTED_COMPLETE                        0.028422\n",
      "O_SENT_BACK_COMPLETE                       0.000866\n",
      "O_SENT_COMPLETE                            0.011630\n",
      "W_Afhandelen leads_COMPLETE                0.362581\n",
      "W_Beoordelen fraude_COMPLETE               0.008908\n",
      "W_Completeren aanvraag_COMPLETE            0.154157\n",
      "W_Nabellen incomplete dossiers_COMPLETE    0.007841\n",
      "W_Nabellen offertes_COMPLETE               0.001002\n",
      "W_Valideren aanvraag_COMPLETE              0.002665\n",
      "Name: 0, dtype: float64\n"
     ]
    }
   ],
   "source": [
    "##### Get model output\n",
    "example_activities_input = tf.constant(example_idx_activities)\n",
    "example_resources_input = tf.constant(example_idx_resources)\n",
    "example_amount_input = tf.constant(example_amount)\n",
    "\n",
    "predicted_df = print_model_prediction_result(trainer.model, example_activities_input, example_resources_input, example_amount_input)"
   ]
  },
  {
   "cell_type": "code",
   "execution_count": 10,
   "metadata": {},
   "outputs": [
    {
     "output_type": "execute_result",
     "data": {
      "text/plain": [
       "      <PAD>     <EOS>     <SOS>  A_ACCEPTED_COMPLETE  A_ACTIVATED_COMPLETE  \\\n",
       "0  0.000377  0.005197  0.001689             0.113344              0.001507   \n",
       "\n",
       "   A_APPROVED_COMPLETE  A_CANCELLED_COMPLETE  A_DECLINED_COMPLETE  \\\n",
       "0             0.000362              0.081236             0.127201   \n",
       "\n",
       "   A_FINALIZED_COMPLETE  A_PARTLYSUBMITTED_COMPLETE  ...  O_DECLINED_COMPLETE  \\\n",
       "0              0.003128                    0.004422  ...             0.000213   \n",
       "\n",
       "   O_SELECTED_COMPLETE  O_SENT_BACK_COMPLETE  O_SENT_COMPLETE  \\\n",
       "0             0.028422              0.000866          0.01163   \n",
       "\n",
       "   W_Afhandelen leads_COMPLETE  W_Beoordelen fraude_COMPLETE  \\\n",
       "0                     0.362581                      0.008908   \n",
       "\n",
       "   W_Completeren aanvraag_COMPLETE  W_Nabellen incomplete dossiers_COMPLETE  \\\n",
       "0                         0.154157                                 0.007841   \n",
       "\n",
       "   W_Nabellen offertes_COMPLETE  W_Valideren aanvraag_COMPLETE  \n",
       "0                      0.001002                       0.002665  \n",
       "\n",
       "[1 rows x 26 columns]"
      ],
      "text/html": "<div>\n<style scoped>\n    .dataframe tbody tr th:only-of-type {\n        vertical-align: middle;\n    }\n\n    .dataframe tbody tr th {\n        vertical-align: top;\n    }\n\n    .dataframe thead th {\n        text-align: right;\n    }\n</style>\n<table border=\"1\" class=\"dataframe\">\n  <thead>\n    <tr style=\"text-align: right;\">\n      <th></th>\n      <th>&lt;PAD&gt;</th>\n      <th>&lt;EOS&gt;</th>\n      <th>&lt;SOS&gt;</th>\n      <th>A_ACCEPTED_COMPLETE</th>\n      <th>A_ACTIVATED_COMPLETE</th>\n      <th>A_APPROVED_COMPLETE</th>\n      <th>A_CANCELLED_COMPLETE</th>\n      <th>A_DECLINED_COMPLETE</th>\n      <th>A_FINALIZED_COMPLETE</th>\n      <th>A_PARTLYSUBMITTED_COMPLETE</th>\n      <th>...</th>\n      <th>O_DECLINED_COMPLETE</th>\n      <th>O_SELECTED_COMPLETE</th>\n      <th>O_SENT_BACK_COMPLETE</th>\n      <th>O_SENT_COMPLETE</th>\n      <th>W_Afhandelen leads_COMPLETE</th>\n      <th>W_Beoordelen fraude_COMPLETE</th>\n      <th>W_Completeren aanvraag_COMPLETE</th>\n      <th>W_Nabellen incomplete dossiers_COMPLETE</th>\n      <th>W_Nabellen offertes_COMPLETE</th>\n      <th>W_Valideren aanvraag_COMPLETE</th>\n    </tr>\n  </thead>\n  <tbody>\n    <tr>\n      <th>0</th>\n      <td>0.000377</td>\n      <td>0.005197</td>\n      <td>0.001689</td>\n      <td>0.113344</td>\n      <td>0.001507</td>\n      <td>0.000362</td>\n      <td>0.081236</td>\n      <td>0.127201</td>\n      <td>0.003128</td>\n      <td>0.004422</td>\n      <td>...</td>\n      <td>0.000213</td>\n      <td>0.028422</td>\n      <td>0.000866</td>\n      <td>0.01163</td>\n      <td>0.362581</td>\n      <td>0.008908</td>\n      <td>0.154157</td>\n      <td>0.007841</td>\n      <td>0.001002</td>\n      <td>0.002665</td>\n    </tr>\n  </tbody>\n</table>\n<p>1 rows × 26 columns</p>\n</div>"
     },
     "metadata": {},
     "execution_count": 10
    }
   ],
   "source": [
    "predicted_df"
   ]
  },
  {
   "cell_type": "code",
   "execution_count": 11,
   "metadata": {},
   "outputs": [
    {
     "output_type": "stream",
     "name": "stdout",
     "text": [
      "\n",
      "==============================Example activities without tags==============================\n",
      "| ['A_SUBMITTED_COMPLETE', 'A_PARTLYSUBMITTED_COMPLETE', 'A_PREACCEPTED_COMPLETE'] \n",
      "===========================================================================================\n",
      "\n",
      "==============================Example resources without tags==============================\n",
      "| ['112', '112', '10863'] \n",
      "==========================================================================================\n",
      "\n",
      "=================================Amount=================================\n",
      "| [5800.0] \n",
      "========================================================================\n"
     ]
    }
   ],
   "source": [
    "no_need_tags = ['<EOS>', '<SOS>', '<PAD>']\n",
    "example_idx_activities_no_tag, example_idx_resources_no_tag =  remove_tags_for_query_instance(example_idx_activities, example_idx_resources, trainer.model.vocab.tags_idx(), [trainer.model.resources.index(tag) for tag in no_need_tags])\n",
    "\n",
    "example_vocab_trace_no_tag = trainer.model.vocab.list_of_index_to_vocab(example_idx_activities_no_tag)\n",
    "example_vocab_resource_no_tag = [trainer.model.resources[r]  for r in example_idx_resources_no_tag]\n",
    "\n",
    "example_trace_len_no_tag = len(example_vocab_trace_no_tag)\n",
    "#### Determine feature names for DiCE ####\n",
    "activity_feature_names = np.array([\"activity_step_%d\" % (i+1) for i in range(example_trace_len_no_tag)])\n",
    "resource_feature_names = np.array([\"resource_step_%d\" % (i+1) for i in range(example_trace_len_no_tag)])\n",
    "\n",
    "possible_activities = [ a for a in list(trainer.model.vocab.vocabs) if  not a in no_need_tags]\n",
    "possible_resources =  [ r for r in list(trainer.model.resources) if  not r in no_need_tags]\n",
    "\n",
    "possbile_amount = [min(trainer.dataset.df[\"amount\"]), max(trainer.dataset.df[\"amount\"])]\n",
    "\n",
    "print_big(example_vocab_trace_no_tag ,title=\"Example activities without tags\", num_marks = 30)\n",
    "print_big(example_vocab_resource_no_tag ,title=\"Example resources without tags\", num_marks = 30)\n",
    "print_big(example_amount, title=\"=================Amount=================\", num_marks=16)"
   ]
  },
  {
   "cell_type": "code",
   "execution_count": 12,
   "metadata": {},
   "outputs": [
    {
     "output_type": "stream",
     "name": "stdout",
     "text": [
      "\n====================Desired activity====================\n| A_DECLINED_COMPLETE \n========================================================\n"
     ]
    }
   ],
   "source": [
    "############ Setting up desired activity ############\n",
    "desired_activity = 'A_DECLINED_COMPLETE' # A_DECLINED_COMPLETE, A_APPROVED_COMPLETE\n",
    "print_big(desired_activity, \"Desired activity\")\n",
    "\n",
    "dice_binary_model = DiCEBinaryDefferentiable(\n",
    "    model=trainer.model,\n",
    "    vocab=trainer.model.vocab,\n",
    "    resources= trainer.model.resources,\n",
    "    desired=trainer.model.vocab.vocab_to_index(desired_activity),\n",
    "    trace_length = len(example_vocab_trace_no_tag),\n",
    "    sos_idx_activity=trainer.model.vocab.vocab_to_index(\"<SOS>\"),\n",
    "    sos_idx_resource= trainer.model.resources.index('<SOS>'),\n",
    "    amount_min = possbile_amount[0],\n",
    "    amount_max = possbile_amount[1],\n",
    "    possible_resources=possible_resources,\n",
    "    possible_activities=possible_activities \n",
    ")"
   ]
  },
  {
   "cell_type": "code",
   "execution_count": 13,
   "metadata": {},
   "outputs": [],
   "source": [
    "fake_df = generate_fake_df(5000, activity_feature_names, resource_feature_names, possible_activities, possible_resources, possbile_amount, example_trace_len_no_tag)"
   ]
  },
  {
   "cell_type": "code",
   "execution_count": 14,
   "metadata": {},
   "outputs": [],
   "source": [
    "def transform_to_ohe_normalized_input(activities, resources,  possible_activities, possible_resources):\n",
    "    activity_cf = tf.one_hot(activities, depth=len(possible_activities))\n",
    "    resource_cf = tf.one_hot(resources, depth=len(\n",
    "        possible_resources\n",
    "    ))\n",
    "\n",
    "    return activity_cf, resource_cf"
   ]
  },
  {
   "cell_type": "code",
   "execution_count": 15,
   "metadata": {},
   "outputs": [],
   "source": [
    "ohe_activity_cf, ohe_resource_cf = transform_to_ohe_normalized_input(example_idx_activities_no_tag, example_idx_resources_no_tag, possible_activities, possible_resources)"
   ]
  },
  {
   "cell_type": "code",
   "execution_count": 16,
   "metadata": {},
   "outputs": [
    {
     "output_type": "stream",
     "name": "stdout",
     "text": [
      "Custom input\n"
     ]
    },
    {
     "output_type": "execute_result",
     "data": {
      "text/plain": [
       "<tf.Tensor: shape=(1, 1), dtype=float32, numpy=array([[0.00796507]], dtype=float32)>"
      ]
     },
     "metadata": {},
     "execution_count": 16
    }
   ],
   "source": [
    "dice_binary_model(\n",
    "    [\n",
    "        example_amount_input,\n",
    "        ohe_activity_cf,\n",
    "        ohe_resource_cf,\n",
    "    ]\n",
    ")"
   ]
  },
  {
   "cell_type": "code",
   "execution_count": 23,
   "metadata": {},
   "outputs": [],
   "source": [
    "class EventLogDiCE():\n",
    "    def __init__(self, possible_activities, possible_resources, possible_amount, dice_model):\n",
    "        self.possible_activities = possible_activities \n",
    "        self.possible_amount = possible_amount\n",
    "        self.possible_resources = possible_resources\n",
    "        self.dice_model = dice_model\n",
    "\n",
    "    def min_max_scale_amount(self, input_amount, inverse=False):\n",
    "        min_a = self.possible_amount[0]\n",
    "        max_a = self.possible_amount[1]\n",
    "        min_max_range = (max_a - min_a)\n",
    "        if inverse:\n",
    "            return (input_amount * min_max_range ) + min_a\n",
    "        else:\n",
    "            return input_amount - min_a / min_max_range\n",
    "\n",
    "    def get_valid_cf(self, amount_cf, ohe_activity_cf, ohe_resource_cf):\n",
    "        return tf.clip_by_value(amount_cf, self.possible_amount[0], self.possible_amount[1]) ,tf.one_hot(tf.argmax(ohe_activity_cf, axis= -1), depth=len(self.possible_activities)), tf.one_hot(tf.argmax(ohe_resource_cf, axis= -1), depth=len(self.possible_resources))\n",
    "\n",
    "\n",
    "    def generate_counterfactual(self, query_activities, query_resources, query_amount, max_iter = 1000, verbose_freq = 50, lr = 0.005):\n",
    "\n",
    "        ### Get the input for dice model (has to be differentiable)\n",
    "        ohe_activity_cf, ohe_resource_cf = transform_to_ohe_normalized_input(query_activities, query_resources, self.possible_activities, self.possible_resources)\n",
    "\n",
    "        ohe_activity_backup = ohe_activity_cf.numpy()\n",
    "        ohe_resource_backup = ohe_resource_cf.numpy()\n",
    "        amount_backup = query_amount.numpy()\n",
    "\n",
    "        ## Create the cf variable \n",
    "        amount_cf = tf.Variable(query_amount)\n",
    "        ohe_activity_cf = tf.Variable(ohe_activity_cf)\n",
    "        ohe_resource_cf = tf.Variable(ohe_resource_cf)\n",
    "        self.amount_cf = amount_cf\n",
    "\n",
    "        ## Get current prediction.\n",
    "        prediction = round(self.dice_model(\n",
    "            [\n",
    "                amount_cf,\n",
    "                ohe_activity_cf,\n",
    "                ohe_resource_cf\n",
    "            ]\n",
    "        ).numpy()[0, 0])\n",
    "        \n",
    "        print_big(prediction, \"Original Prediction\")\n",
    "\n",
    "        desired_pred = 1 - prediction\n",
    "\n",
    "        print_big(desired_pred, \"Desired Prediction\")\n",
    "\n",
    "        ## init optimizer\n",
    "        optim = tf.keras.optimizers.Adam(learning_rate=lr)\n",
    "\n",
    "        for i in range(max_iter):\n",
    "            if i % verbose_freq == 0 and i != 0:\n",
    "                print_big(f\"Current Loss [{loss.numpy()}]\", f\"Step {i}\")\n",
    "\n",
    "            with tf.GradientTape() as tape:\n",
    "                ### Get prediction from cf\n",
    "                cf_output = self.dice_model(\n",
    "                    [\n",
    "                        amount_cf,\n",
    "                        ohe_activity_cf,\n",
    "                        ohe_resource_cf\n",
    "                    ]\n",
    "                )\n",
    "\n",
    "                ### Using hinge loss since we have cat data\n",
    "                class_loss = tf.keras.metrics.hinge(desired_pred, cf_output)\n",
    "                self.class_loss = class_loss\n",
    "                self.cf_output = cf_output\n",
    "\n",
    "                activity_distance_loss = tf.reduce_sum(tf.pow((ohe_activity_cf - ohe_activity_backup), 2))\n",
    "                resources_distance_loss = tf.reduce_sum(tf.pow(ohe_resource_cf - ohe_resource_backup, 2))\n",
    "                amount_distance_loss = self.min_max_scale_amount(tf.pow(amount_cf - amount_backup,2))\n",
    "                distance_loss = activity_distance_loss + resources_distance_loss + amount_distance_loss\n",
    "                self.distance_loss = distance_loss\n",
    "\n",
    "                ### Categorical contraint\n",
    "                activity_cat_loss = tf.pow(tf.reduce_sum(ohe_activity_cf, axis=1) - 1, 2)\n",
    "                resource_cat_loss = tf.pow(tf.reduce_sum(ohe_resource_cf, axis=1) - 1, 2)\n",
    "                cat_loss = tf.reduce_sum(activity_cat_loss + resource_cat_loss)\n",
    "\n",
    "                # self.cat_loss = cat_loss\n",
    "                loss = cf_output\n",
    "                # loss = class_loss #  + distance_loss + cat_loss\n",
    "                self.loss = loss\n",
    "\n",
    "            ### Get gradient\n",
    "            # grad = tape.gradient(loss, [amount_cf, ohe_activity_cf, ohe_resource_cf])\n",
    "            grad = tape.gradient(loss, [ amount_cf ,ohe_activity_cf, ohe_resource_cf])\n",
    "            self.grad = grad\n",
    "\n",
    "            ### Update CF to this direction\n",
    "            optim.apply_gradients(zip(grad, [amount_cf, ohe_activity_cf, ohe_resource_cf]))\n",
    "\n",
    "            ### Get a valid version of CF\n",
    "            temp_amount_cf, temp_ohe_activity_cf, temp_ohe_resource_cf = self.get_valid_cf(amount_cf, ohe_activity_cf, ohe_resource_cf)\n",
    "\n",
    "            #### Get prediction\n",
    "\n",
    "            cf_pred = round(self.dice_model(\n",
    "            [\n",
    "                temp_amount_cf,\n",
    "                temp_ohe_activity_cf,\n",
    "                temp_ohe_resource_cf\n",
    "            ]\n",
    "            ).numpy()[0, 0])\n",
    "\n",
    "            if (cf_pred == desired_pred):\n",
    "                return amount_cf, ohe_activity_cf, ohe_resource_cf\n",
    "        \n",
    "    "
   ]
  },
  {
   "cell_type": "code",
   "execution_count": 24,
   "metadata": {},
   "outputs": [],
   "source": [
    "dice = EventLogDiCE(possible_activities, possible_resources, possbile_amount, dice_binary_model)"
   ]
  },
  {
   "cell_type": "code",
   "execution_count": 25,
   "metadata": {},
   "outputs": [
    {
     "output_type": "stream",
     "name": "stdout",
     "text": [
      "Custom input\n",
      "\n",
      "====================Original Prediction====================\n",
      "| 0 \n",
      "===========================================================\n",
      "\n",
      "====================Desired Prediction====================\n",
      "| 1 \n",
      "==========================================================\n",
      "Custom input\n",
      "Custom input\n",
      "Custom input\n",
      "Custom input\n",
      "Custom input\n",
      "Custom input\n",
      "Custom input\n",
      "Custom input\n",
      "Custom input\n",
      "Custom input\n",
      "Custom input\n",
      "Custom input\n",
      "Custom input\n",
      "Custom input\n",
      "Custom input\n",
      "Custom input\n",
      "Custom input\n",
      "Custom input\n",
      "Custom input\n",
      "Custom input\n",
      "Custom input\n",
      "Custom input\n",
      "Custom input\n",
      "Custom input\n",
      "Custom input\n",
      "Custom input\n",
      "Custom input\n",
      "Custom input\n",
      "Custom input\n",
      "Custom input\n",
      "Custom input\n",
      "Custom input\n",
      "Custom input\n",
      "Custom input\n",
      "Custom input\n",
      "Custom input\n",
      "Custom input\n",
      "Custom input\n",
      "Custom input\n",
      "Custom input\n",
      "Custom input\n",
      "Custom input\n",
      "Custom input\n",
      "Custom input\n",
      "Custom input\n",
      "Custom input\n",
      "Custom input\n",
      "Custom input\n",
      "Custom input\n",
      "Custom input\n",
      "Custom input\n",
      "Custom input\n",
      "Custom input\n",
      "Custom input\n",
      "Custom input\n",
      "Custom input\n",
      "Custom input\n",
      "Custom input\n",
      "Custom input\n",
      "Custom input\n",
      "Custom input\n",
      "Custom input\n",
      "Custom input\n",
      "Custom input\n",
      "Custom input\n",
      "Custom input\n",
      "Custom input\n",
      "Custom input\n",
      "Custom input\n",
      "Custom input\n",
      "Custom input\n",
      "Custom input\n",
      "Custom input\n",
      "Custom input\n",
      "Custom input\n",
      "Custom input\n",
      "Custom input\n",
      "Custom input\n",
      "Custom input\n",
      "Custom input\n",
      "Custom input\n",
      "Custom input\n",
      "Custom input\n",
      "Custom input\n",
      "Custom input\n",
      "Custom input\n",
      "Custom input\n",
      "Custom input\n",
      "Custom input\n",
      "Custom input\n",
      "Custom input\n",
      "Custom input\n",
      "Custom input\n",
      "Custom input\n",
      "Custom input\n",
      "Custom input\n",
      "Custom input\n",
      "Custom input\n",
      "Custom input\n",
      "Custom input\n",
      "\n",
      "====================Step 50====================\n",
      "| Current Loss [[[9.431848e-06]]] \n",
      "===============================================\n",
      "Custom input\n",
      "Custom input\n",
      "Custom input\n",
      "Custom input\n",
      "Custom input\n",
      "Custom input\n",
      "Custom input\n",
      "Custom input\n",
      "Custom input\n",
      "Custom input\n",
      "Custom input\n",
      "Custom input\n",
      "Custom input\n",
      "Custom input\n",
      "Custom input\n",
      "Custom input\n",
      "Custom input\n",
      "Custom input\n"
     ]
    },
    {
     "output_type": "error",
     "ename": "KeyboardInterrupt",
     "evalue": "",
     "traceback": [
      "\u001b[0;31m---------------------------------------------------------------------------\u001b[0m",
      "\u001b[0;31mKeyboardInterrupt\u001b[0m                         Traceback (most recent call last)",
      "\u001b[0;32m<ipython-input-25-51a30439ad30>\u001b[0m in \u001b[0;36m<module>\u001b[0;34m\u001b[0m\n\u001b[0;32m----> 1\u001b[0;31m \u001b[0mdice\u001b[0m\u001b[0;34m.\u001b[0m\u001b[0mgenerate_counterfactual\u001b[0m\u001b[0;34m(\u001b[0m\u001b[0mexample_idx_activities_no_tag\u001b[0m\u001b[0;34m,\u001b[0m \u001b[0mexample_idx_resources_no_tag\u001b[0m\u001b[0;34m,\u001b[0m\u001b[0mexample_amount_input\u001b[0m\u001b[0;34m)\u001b[0m\u001b[0;34m\u001b[0m\u001b[0;34m\u001b[0m\u001b[0m\n\u001b[0m",
      "\u001b[0;32m<ipython-input-23-1099231f8105>\u001b[0m in \u001b[0;36mgenerate_counterfactual\u001b[0;34m(self, query_activities, query_resources, query_amount, max_iter, verbose_freq, lr)\u001b[0m\n\u001b[1;32m    100\u001b[0m             \u001b[0;31m#### Get prediction\u001b[0m\u001b[0;34m\u001b[0m\u001b[0;34m\u001b[0m\u001b[0;34m\u001b[0m\u001b[0m\n\u001b[1;32m    101\u001b[0m \u001b[0;34m\u001b[0m\u001b[0m\n\u001b[0;32m--> 102\u001b[0;31m             cf_pred = round(self.dice_model(\n\u001b[0m\u001b[1;32m    103\u001b[0m             [\n\u001b[1;32m    104\u001b[0m                 \u001b[0mtemp_amount_cf\u001b[0m\u001b[0;34m,\u001b[0m\u001b[0;34m\u001b[0m\u001b[0;34m\u001b[0m\u001b[0m\n",
      "\u001b[0;32m~/miniforge3/envs/tf_mac/lib/python3.8/site-packages/tensorflow/python/keras/engine/base_layer.py\u001b[0m in \u001b[0;36m__call__\u001b[0;34m(self, *args, **kwargs)\u001b[0m\n\u001b[1;32m   1005\u001b[0m         with autocast_variable.enable_auto_cast_variables(\n\u001b[1;32m   1006\u001b[0m             self._compute_dtype_object):\n\u001b[0;32m-> 1007\u001b[0;31m           \u001b[0moutputs\u001b[0m \u001b[0;34m=\u001b[0m \u001b[0mcall_fn\u001b[0m\u001b[0;34m(\u001b[0m\u001b[0minputs\u001b[0m\u001b[0;34m,\u001b[0m \u001b[0;34m*\u001b[0m\u001b[0margs\u001b[0m\u001b[0;34m,\u001b[0m \u001b[0;34m**\u001b[0m\u001b[0mkwargs\u001b[0m\u001b[0;34m)\u001b[0m\u001b[0;34m\u001b[0m\u001b[0;34m\u001b[0m\u001b[0m\n\u001b[0m\u001b[1;32m   1008\u001b[0m \u001b[0;34m\u001b[0m\u001b[0m\n\u001b[1;32m   1009\u001b[0m         \u001b[0;32mif\u001b[0m \u001b[0mself\u001b[0m\u001b[0;34m.\u001b[0m\u001b[0m_activity_regularizer\u001b[0m\u001b[0;34m:\u001b[0m\u001b[0;34m\u001b[0m\u001b[0;34m\u001b[0m\u001b[0m\n",
      "\u001b[0;32m~/LINDA-BN-Eventlog-TF/Models/DiCEBinaryDefferientiable.py\u001b[0m in \u001b[0;36mcall\u001b[0;34m(self, input)\u001b[0m\n\u001b[1;32m     64\u001b[0m         \u001b[0mself\u001b[0m\u001b[0;34m.\u001b[0m\u001b[0mall_amount\u001b[0m\u001b[0;34m.\u001b[0m\u001b[0mappend\u001b[0m\u001b[0;34m(\u001b[0m\u001b[0mamount\u001b[0m\u001b[0;34m.\u001b[0m\u001b[0mnumpy\u001b[0m\u001b[0;34m(\u001b[0m\u001b[0;34m)\u001b[0m\u001b[0;34m)\u001b[0m\u001b[0;34m\u001b[0m\u001b[0;34m\u001b[0m\u001b[0m\n\u001b[1;32m     65\u001b[0m \u001b[0;34m\u001b[0m\u001b[0m\n\u001b[0;32m---> 66\u001b[0;31m         \u001b[0mout\u001b[0m\u001b[0;34m,\u001b[0m \u001b[0m_\u001b[0m \u001b[0;34m=\u001b[0m \u001b[0mself\u001b[0m\u001b[0;34m.\u001b[0m\u001b[0mmodel\u001b[0m\u001b[0;34m(\u001b[0m\u001b[0mtraces\u001b[0m\u001b[0;34m,\u001b[0m \u001b[0mresources\u001b[0m\u001b[0;34m,\u001b[0m \u001b[0mtf\u001b[0m\u001b[0;34m.\u001b[0m\u001b[0msqueeze\u001b[0m\u001b[0;34m(\u001b[0m\u001b[0mamount\u001b[0m\u001b[0;34m,\u001b[0m \u001b[0maxis\u001b[0m\u001b[0;34m=\u001b[0m\u001b[0;34m-\u001b[0m\u001b[0;36m1\u001b[0m\u001b[0;34m)\u001b[0m\u001b[0;34m,\u001b[0m \u001b[0mtraining\u001b[0m\u001b[0;34m=\u001b[0m\u001b[0;32mFalse\u001b[0m\u001b[0;34m)\u001b[0m\u001b[0;34m\u001b[0m\u001b[0;34m\u001b[0m\u001b[0m\n\u001b[0m\u001b[1;32m     67\u001b[0m \u001b[0;34m\u001b[0m\u001b[0m\n\u001b[1;32m     68\u001b[0m         \u001b[0mself\u001b[0m\u001b[0;34m.\u001b[0m\u001b[0mall_model_out\u001b[0m\u001b[0;34m.\u001b[0m\u001b[0mappend\u001b[0m\u001b[0;34m(\u001b[0m\u001b[0mout\u001b[0m\u001b[0;34m.\u001b[0m\u001b[0mnumpy\u001b[0m\u001b[0;34m(\u001b[0m\u001b[0;34m)\u001b[0m\u001b[0;34m)\u001b[0m\u001b[0;34m\u001b[0m\u001b[0;34m\u001b[0m\u001b[0m\n",
      "\u001b[0;32m~/miniforge3/envs/tf_mac/lib/python3.8/site-packages/tensorflow/python/keras/engine/base_layer.py\u001b[0m in \u001b[0;36m__call__\u001b[0;34m(self, *args, **kwargs)\u001b[0m\n\u001b[1;32m   1005\u001b[0m         with autocast_variable.enable_auto_cast_variables(\n\u001b[1;32m   1006\u001b[0m             self._compute_dtype_object):\n\u001b[0;32m-> 1007\u001b[0;31m           \u001b[0moutputs\u001b[0m \u001b[0;34m=\u001b[0m \u001b[0mcall_fn\u001b[0m\u001b[0;34m(\u001b[0m\u001b[0minputs\u001b[0m\u001b[0;34m,\u001b[0m \u001b[0;34m*\u001b[0m\u001b[0margs\u001b[0m\u001b[0;34m,\u001b[0m \u001b[0;34m**\u001b[0m\u001b[0mkwargs\u001b[0m\u001b[0;34m)\u001b[0m\u001b[0;34m\u001b[0m\u001b[0;34m\u001b[0m\u001b[0m\n\u001b[0m\u001b[1;32m   1008\u001b[0m \u001b[0;34m\u001b[0m\u001b[0m\n\u001b[1;32m   1009\u001b[0m         \u001b[0;32mif\u001b[0m \u001b[0mself\u001b[0m\u001b[0;34m.\u001b[0m\u001b[0m_activity_regularizer\u001b[0m\u001b[0;34m:\u001b[0m\u001b[0;34m\u001b[0m\u001b[0;34m\u001b[0m\u001b[0m\n",
      "\u001b[0;32m~/LINDA-BN-Eventlog-TF/Models/BaselineLSTMWithResource.py\u001b[0m in \u001b[0;36mcall\u001b[0;34m(self, inputs, input_resources, amount, init_state, training)\u001b[0m\n\u001b[1;32m     85\u001b[0m         \u001b[0;31m# max_length = inputs.shape[-1]\u001b[0m\u001b[0;34m\u001b[0m\u001b[0;34m\u001b[0m\u001b[0;34m\u001b[0m\u001b[0m\n\u001b[1;32m     86\u001b[0m \u001b[0;34m\u001b[0m\u001b[0m\n\u001b[0;32m---> 87\u001b[0;31m         activity_lstm_out, a_h_out, a_c_out = self.activity_lstm(\n\u001b[0m\u001b[1;32m     88\u001b[0m             activity_emb_out, training=training, mask=mask, initial_state=init_state[0] if init_state else None)\n\u001b[1;32m     89\u001b[0m         activity_lstm_out_sec, a_h_out_sec, a_c_out_sec = self.activity_lstm_sec(\n",
      "\u001b[0;32m~/miniforge3/envs/tf_mac/lib/python3.8/site-packages/tensorflow/python/keras/layers/recurrent.py\u001b[0m in \u001b[0;36m__call__\u001b[0;34m(self, inputs, initial_state, constants, **kwargs)\u001b[0m\n\u001b[1;32m    658\u001b[0m \u001b[0;34m\u001b[0m\u001b[0m\n\u001b[1;32m    659\u001b[0m     \u001b[0;32mif\u001b[0m \u001b[0minitial_state\u001b[0m \u001b[0;32mis\u001b[0m \u001b[0;32mNone\u001b[0m \u001b[0;32mand\u001b[0m \u001b[0mconstants\u001b[0m \u001b[0;32mis\u001b[0m \u001b[0;32mNone\u001b[0m\u001b[0;34m:\u001b[0m\u001b[0;34m\u001b[0m\u001b[0;34m\u001b[0m\u001b[0m\n\u001b[0;32m--> 660\u001b[0;31m       \u001b[0;32mreturn\u001b[0m \u001b[0msuper\u001b[0m\u001b[0;34m(\u001b[0m\u001b[0mRNN\u001b[0m\u001b[0;34m,\u001b[0m \u001b[0mself\u001b[0m\u001b[0;34m)\u001b[0m\u001b[0;34m.\u001b[0m\u001b[0m__call__\u001b[0m\u001b[0;34m(\u001b[0m\u001b[0minputs\u001b[0m\u001b[0;34m,\u001b[0m \u001b[0;34m**\u001b[0m\u001b[0mkwargs\u001b[0m\u001b[0;34m)\u001b[0m\u001b[0;34m\u001b[0m\u001b[0;34m\u001b[0m\u001b[0m\n\u001b[0m\u001b[1;32m    661\u001b[0m \u001b[0;34m\u001b[0m\u001b[0m\n\u001b[1;32m    662\u001b[0m     \u001b[0;31m# If any of `initial_state` or `constants` are specified and are Keras\u001b[0m\u001b[0;34m\u001b[0m\u001b[0;34m\u001b[0m\u001b[0;34m\u001b[0m\u001b[0m\n",
      "\u001b[0;32m~/miniforge3/envs/tf_mac/lib/python3.8/site-packages/tensorflow/python/keras/engine/base_layer.py\u001b[0m in \u001b[0;36m__call__\u001b[0;34m(self, *args, **kwargs)\u001b[0m\n\u001b[1;32m   1005\u001b[0m         with autocast_variable.enable_auto_cast_variables(\n\u001b[1;32m   1006\u001b[0m             self._compute_dtype_object):\n\u001b[0;32m-> 1007\u001b[0;31m           \u001b[0moutputs\u001b[0m \u001b[0;34m=\u001b[0m \u001b[0mcall_fn\u001b[0m\u001b[0;34m(\u001b[0m\u001b[0minputs\u001b[0m\u001b[0;34m,\u001b[0m \u001b[0;34m*\u001b[0m\u001b[0margs\u001b[0m\u001b[0;34m,\u001b[0m \u001b[0;34m**\u001b[0m\u001b[0mkwargs\u001b[0m\u001b[0;34m)\u001b[0m\u001b[0;34m\u001b[0m\u001b[0;34m\u001b[0m\u001b[0m\n\u001b[0m\u001b[1;32m   1008\u001b[0m \u001b[0;34m\u001b[0m\u001b[0m\n\u001b[1;32m   1009\u001b[0m         \u001b[0;32mif\u001b[0m \u001b[0mself\u001b[0m\u001b[0;34m.\u001b[0m\u001b[0m_activity_regularizer\u001b[0m\u001b[0;34m:\u001b[0m\u001b[0;34m\u001b[0m\u001b[0;34m\u001b[0m\u001b[0m\n",
      "\u001b[0;32m~/miniforge3/envs/tf_mac/lib/python3.8/site-packages/tensorflow/python/keras/layers/recurrent_v2.py\u001b[0m in \u001b[0;36mcall\u001b[0;34m(self, inputs, mask, training, initial_state)\u001b[0m\n\u001b[1;32m   1346\u001b[0m                 **gpu_lstm_kwargs)\n\u001b[1;32m   1347\u001b[0m           \u001b[0;32melse\u001b[0m\u001b[0;34m:\u001b[0m\u001b[0;34m\u001b[0m\u001b[0;34m\u001b[0m\u001b[0m\n\u001b[0;32m-> 1348\u001b[0;31m             last_output, outputs, new_h, new_c, runtime = standard_lstm(\n\u001b[0m\u001b[1;32m   1349\u001b[0m                 **normal_lstm_kwargs)\n\u001b[1;32m   1350\u001b[0m         \u001b[0;32melse\u001b[0m\u001b[0;34m:\u001b[0m\u001b[0;34m\u001b[0m\u001b[0;34m\u001b[0m\u001b[0m\n",
      "\u001b[0;32m~/miniforge3/envs/tf_mac/lib/python3.8/site-packages/tensorflow/python/keras/layers/recurrent_v2.py\u001b[0m in \u001b[0;36mstandard_lstm\u001b[0;34m(inputs, init_h, init_c, kernel, recurrent_kernel, bias, mask, time_major, go_backwards, sequence_lengths, zero_output_for_mask)\u001b[0m\n\u001b[1;32m   1472\u001b[0m     \u001b[0;32mreturn\u001b[0m \u001b[0mh\u001b[0m\u001b[0;34m,\u001b[0m \u001b[0;34m[\u001b[0m\u001b[0mh\u001b[0m\u001b[0;34m,\u001b[0m \u001b[0mc\u001b[0m\u001b[0;34m]\u001b[0m\u001b[0;34m\u001b[0m\u001b[0;34m\u001b[0m\u001b[0m\n\u001b[1;32m   1473\u001b[0m \u001b[0;34m\u001b[0m\u001b[0m\n\u001b[0;32m-> 1474\u001b[0;31m   last_output, outputs, new_states = K.rnn(\n\u001b[0m\u001b[1;32m   1475\u001b[0m       \u001b[0mstep\u001b[0m\u001b[0;34m,\u001b[0m\u001b[0;34m\u001b[0m\u001b[0;34m\u001b[0m\u001b[0m\n\u001b[1;32m   1476\u001b[0m       \u001b[0minputs\u001b[0m\u001b[0;34m,\u001b[0m \u001b[0;34m[\u001b[0m\u001b[0minit_h\u001b[0m\u001b[0;34m,\u001b[0m \u001b[0minit_c\u001b[0m\u001b[0;34m]\u001b[0m\u001b[0;34m,\u001b[0m\u001b[0;34m\u001b[0m\u001b[0;34m\u001b[0m\u001b[0m\n",
      "\u001b[0;32m~/miniforge3/envs/tf_mac/lib/python3.8/site-packages/tensorflow/python/util/dispatch.py\u001b[0m in \u001b[0;36mwrapper\u001b[0;34m(*args, **kwargs)\u001b[0m\n\u001b[1;32m    199\u001b[0m     \u001b[0;34m\"\"\"Call target, and fall back on dispatchers if there is a TypeError.\"\"\"\u001b[0m\u001b[0;34m\u001b[0m\u001b[0;34m\u001b[0m\u001b[0m\n\u001b[1;32m    200\u001b[0m     \u001b[0;32mtry\u001b[0m\u001b[0;34m:\u001b[0m\u001b[0;34m\u001b[0m\u001b[0;34m\u001b[0m\u001b[0m\n\u001b[0;32m--> 201\u001b[0;31m       \u001b[0;32mreturn\u001b[0m \u001b[0mtarget\u001b[0m\u001b[0;34m(\u001b[0m\u001b[0;34m*\u001b[0m\u001b[0margs\u001b[0m\u001b[0;34m,\u001b[0m \u001b[0;34m**\u001b[0m\u001b[0mkwargs\u001b[0m\u001b[0;34m)\u001b[0m\u001b[0;34m\u001b[0m\u001b[0;34m\u001b[0m\u001b[0m\n\u001b[0m\u001b[1;32m    202\u001b[0m     \u001b[0;32mexcept\u001b[0m \u001b[0;34m(\u001b[0m\u001b[0mTypeError\u001b[0m\u001b[0;34m,\u001b[0m \u001b[0mValueError\u001b[0m\u001b[0;34m)\u001b[0m\u001b[0;34m:\u001b[0m\u001b[0;34m\u001b[0m\u001b[0;34m\u001b[0m\u001b[0m\n\u001b[1;32m    203\u001b[0m       \u001b[0;31m# Note: convert_to_eager_tensor currently raises a ValueError, not a\u001b[0m\u001b[0;34m\u001b[0m\u001b[0;34m\u001b[0m\u001b[0;34m\u001b[0m\u001b[0m\n",
      "\u001b[0;32m~/miniforge3/envs/tf_mac/lib/python3.8/site-packages/tensorflow/python/keras/backend.py\u001b[0m in \u001b[0;36mrnn\u001b[0;34m(step_function, inputs, initial_states, go_backwards, mask, constants, unroll, input_length, time_major, zero_output_for_mask)\u001b[0m\n\u001b[1;32m   4530\u001b[0m         \u001b[0;32mreturn\u001b[0m \u001b[0;34m(\u001b[0m\u001b[0mtime\u001b[0m \u001b[0;34m+\u001b[0m \u001b[0;36m1\u001b[0m\u001b[0;34m,\u001b[0m \u001b[0moutput_ta_t\u001b[0m\u001b[0;34m)\u001b[0m \u001b[0;34m+\u001b[0m \u001b[0mtuple\u001b[0m\u001b[0;34m(\u001b[0m\u001b[0mnew_states\u001b[0m\u001b[0;34m)\u001b[0m\u001b[0;34m\u001b[0m\u001b[0;34m\u001b[0m\u001b[0m\n\u001b[1;32m   4531\u001b[0m \u001b[0;34m\u001b[0m\u001b[0m\n\u001b[0;32m-> 4532\u001b[0;31m       final_outputs = control_flow_ops.while_loop(\n\u001b[0m\u001b[1;32m   4533\u001b[0m           \u001b[0mbody\u001b[0m\u001b[0;34m=\u001b[0m\u001b[0m_step\u001b[0m\u001b[0;34m,\u001b[0m\u001b[0;34m\u001b[0m\u001b[0;34m\u001b[0m\u001b[0m\n\u001b[1;32m   4534\u001b[0m           \u001b[0mloop_vars\u001b[0m\u001b[0;34m=\u001b[0m\u001b[0;34m(\u001b[0m\u001b[0mtime\u001b[0m\u001b[0;34m,\u001b[0m \u001b[0moutput_ta\u001b[0m\u001b[0;34m)\u001b[0m \u001b[0;34m+\u001b[0m \u001b[0mstates\u001b[0m\u001b[0;34m,\u001b[0m\u001b[0;34m\u001b[0m\u001b[0;34m\u001b[0m\u001b[0m\n",
      "\u001b[0;32m~/miniforge3/envs/tf_mac/lib/python3.8/site-packages/tensorflow/python/ops/control_flow_ops.py\u001b[0m in \u001b[0;36mwhile_loop\u001b[0;34m(cond, body, loop_vars, shape_invariants, parallel_iterations, back_prop, swap_memory, name, maximum_iterations, return_same_structure)\u001b[0m\n\u001b[1;32m   2733\u001b[0m                                               list(loop_vars))\n\u001b[1;32m   2734\u001b[0m       \u001b[0;32mwhile\u001b[0m \u001b[0mcond\u001b[0m\u001b[0;34m(\u001b[0m\u001b[0;34m*\u001b[0m\u001b[0mloop_vars\u001b[0m\u001b[0;34m)\u001b[0m\u001b[0;34m:\u001b[0m\u001b[0;34m\u001b[0m\u001b[0;34m\u001b[0m\u001b[0m\n\u001b[0;32m-> 2735\u001b[0;31m         \u001b[0mloop_vars\u001b[0m \u001b[0;34m=\u001b[0m \u001b[0mbody\u001b[0m\u001b[0;34m(\u001b[0m\u001b[0;34m*\u001b[0m\u001b[0mloop_vars\u001b[0m\u001b[0;34m)\u001b[0m\u001b[0;34m\u001b[0m\u001b[0;34m\u001b[0m\u001b[0m\n\u001b[0m\u001b[1;32m   2736\u001b[0m         \u001b[0;32mif\u001b[0m \u001b[0mtry_to_pack\u001b[0m \u001b[0;32mand\u001b[0m \u001b[0;32mnot\u001b[0m \u001b[0misinstance\u001b[0m\u001b[0;34m(\u001b[0m\u001b[0mloop_vars\u001b[0m\u001b[0;34m,\u001b[0m \u001b[0;34m(\u001b[0m\u001b[0mlist\u001b[0m\u001b[0;34m,\u001b[0m \u001b[0m_basetuple\u001b[0m\u001b[0;34m)\u001b[0m\u001b[0;34m)\u001b[0m\u001b[0;34m:\u001b[0m\u001b[0;34m\u001b[0m\u001b[0;34m\u001b[0m\u001b[0m\n\u001b[1;32m   2737\u001b[0m           \u001b[0mpacked\u001b[0m \u001b[0;34m=\u001b[0m \u001b[0;32mTrue\u001b[0m\u001b[0;34m\u001b[0m\u001b[0;34m\u001b[0m\u001b[0m\n",
      "\u001b[0;32m~/miniforge3/envs/tf_mac/lib/python3.8/site-packages/tensorflow/python/keras/backend.py\u001b[0m in \u001b[0;36m_step\u001b[0;34m(time, output_ta_t, *states)\u001b[0m\n\u001b[1;32m   4516\u001b[0m         \u001b[0mcurrent_input\u001b[0m \u001b[0;34m=\u001b[0m \u001b[0mtuple\u001b[0m\u001b[0;34m(\u001b[0m\u001b[0mta\u001b[0m\u001b[0;34m.\u001b[0m\u001b[0mread\u001b[0m\u001b[0;34m(\u001b[0m\u001b[0mtime\u001b[0m\u001b[0;34m)\u001b[0m \u001b[0;32mfor\u001b[0m \u001b[0mta\u001b[0m \u001b[0;32min\u001b[0m \u001b[0minput_ta\u001b[0m\u001b[0;34m)\u001b[0m\u001b[0;34m\u001b[0m\u001b[0;34m\u001b[0m\u001b[0m\n\u001b[1;32m   4517\u001b[0m         \u001b[0mcurrent_input\u001b[0m \u001b[0;34m=\u001b[0m \u001b[0mnest\u001b[0m\u001b[0;34m.\u001b[0m\u001b[0mpack_sequence_as\u001b[0m\u001b[0;34m(\u001b[0m\u001b[0minputs\u001b[0m\u001b[0;34m,\u001b[0m \u001b[0mcurrent_input\u001b[0m\u001b[0;34m)\u001b[0m\u001b[0;34m\u001b[0m\u001b[0;34m\u001b[0m\u001b[0m\n\u001b[0;32m-> 4518\u001b[0;31m         output, new_states = step_function(current_input,\n\u001b[0m\u001b[1;32m   4519\u001b[0m                                            tuple(states) + tuple(constants))\n\u001b[1;32m   4520\u001b[0m         \u001b[0mflat_state\u001b[0m \u001b[0;34m=\u001b[0m \u001b[0mnest\u001b[0m\u001b[0;34m.\u001b[0m\u001b[0mflatten\u001b[0m\u001b[0;34m(\u001b[0m\u001b[0mstates\u001b[0m\u001b[0;34m)\u001b[0m\u001b[0;34m\u001b[0m\u001b[0;34m\u001b[0m\u001b[0m\n",
      "\u001b[0;32m~/miniforge3/envs/tf_mac/lib/python3.8/site-packages/tensorflow/python/keras/layers/recurrent_v2.py\u001b[0m in \u001b[0;36mstep\u001b[0;34m(cell_inputs, cell_states)\u001b[0m\n\u001b[1;32m   1466\u001b[0m     \u001b[0mi\u001b[0m \u001b[0;34m=\u001b[0m \u001b[0mnn\u001b[0m\u001b[0;34m.\u001b[0m\u001b[0msigmoid\u001b[0m\u001b[0;34m(\u001b[0m\u001b[0mz0\u001b[0m\u001b[0;34m)\u001b[0m\u001b[0;34m\u001b[0m\u001b[0;34m\u001b[0m\u001b[0m\n\u001b[1;32m   1467\u001b[0m     \u001b[0mf\u001b[0m \u001b[0;34m=\u001b[0m \u001b[0mnn\u001b[0m\u001b[0;34m.\u001b[0m\u001b[0msigmoid\u001b[0m\u001b[0;34m(\u001b[0m\u001b[0mz1\u001b[0m\u001b[0;34m)\u001b[0m\u001b[0;34m\u001b[0m\u001b[0;34m\u001b[0m\u001b[0m\n\u001b[0;32m-> 1468\u001b[0;31m     \u001b[0mc\u001b[0m \u001b[0;34m=\u001b[0m \u001b[0mf\u001b[0m \u001b[0;34m*\u001b[0m \u001b[0mc_tm1\u001b[0m \u001b[0;34m+\u001b[0m \u001b[0mi\u001b[0m \u001b[0;34m*\u001b[0m \u001b[0mnn\u001b[0m\u001b[0;34m.\u001b[0m\u001b[0mtanh\u001b[0m\u001b[0;34m(\u001b[0m\u001b[0mz2\u001b[0m\u001b[0;34m)\u001b[0m\u001b[0;34m\u001b[0m\u001b[0;34m\u001b[0m\u001b[0m\n\u001b[0m\u001b[1;32m   1469\u001b[0m     \u001b[0mo\u001b[0m \u001b[0;34m=\u001b[0m \u001b[0mnn\u001b[0m\u001b[0;34m.\u001b[0m\u001b[0msigmoid\u001b[0m\u001b[0;34m(\u001b[0m\u001b[0mz3\u001b[0m\u001b[0;34m)\u001b[0m\u001b[0;34m\u001b[0m\u001b[0;34m\u001b[0m\u001b[0m\n\u001b[1;32m   1470\u001b[0m \u001b[0;34m\u001b[0m\u001b[0m\n",
      "\u001b[0;32m~/miniforge3/envs/tf_mac/lib/python3.8/site-packages/tensorflow/python/ops/math_ops.py\u001b[0m in \u001b[0;36mbinary_op_wrapper\u001b[0;34m(x, y)\u001b[0m\n\u001b[1;32m   1166\u001b[0m     \u001b[0;32mwith\u001b[0m \u001b[0mops\u001b[0m\u001b[0;34m.\u001b[0m\u001b[0mname_scope\u001b[0m\u001b[0;34m(\u001b[0m\u001b[0;32mNone\u001b[0m\u001b[0;34m,\u001b[0m \u001b[0mop_name\u001b[0m\u001b[0;34m,\u001b[0m \u001b[0;34m[\u001b[0m\u001b[0mx\u001b[0m\u001b[0;34m,\u001b[0m \u001b[0my\u001b[0m\u001b[0;34m]\u001b[0m\u001b[0;34m)\u001b[0m \u001b[0;32mas\u001b[0m \u001b[0mname\u001b[0m\u001b[0;34m:\u001b[0m\u001b[0;34m\u001b[0m\u001b[0;34m\u001b[0m\u001b[0m\n\u001b[1;32m   1167\u001b[0m       \u001b[0;32mtry\u001b[0m\u001b[0;34m:\u001b[0m\u001b[0;34m\u001b[0m\u001b[0;34m\u001b[0m\u001b[0m\n\u001b[0;32m-> 1168\u001b[0;31m         \u001b[0;32mreturn\u001b[0m \u001b[0mfunc\u001b[0m\u001b[0;34m(\u001b[0m\u001b[0mx\u001b[0m\u001b[0;34m,\u001b[0m \u001b[0my\u001b[0m\u001b[0;34m,\u001b[0m \u001b[0mname\u001b[0m\u001b[0;34m=\u001b[0m\u001b[0mname\u001b[0m\u001b[0;34m)\u001b[0m\u001b[0;34m\u001b[0m\u001b[0;34m\u001b[0m\u001b[0m\n\u001b[0m\u001b[1;32m   1169\u001b[0m       \u001b[0;32mexcept\u001b[0m \u001b[0;34m(\u001b[0m\u001b[0mTypeError\u001b[0m\u001b[0;34m,\u001b[0m \u001b[0mValueError\u001b[0m\u001b[0;34m)\u001b[0m \u001b[0;32mas\u001b[0m \u001b[0me\u001b[0m\u001b[0;34m:\u001b[0m\u001b[0;34m\u001b[0m\u001b[0;34m\u001b[0m\u001b[0m\n\u001b[1;32m   1170\u001b[0m         \u001b[0;31m# Even if dispatching the op failed, the RHS may be a tensor aware\u001b[0m\u001b[0;34m\u001b[0m\u001b[0;34m\u001b[0m\u001b[0;34m\u001b[0m\u001b[0m\n",
      "\u001b[0;32m~/miniforge3/envs/tf_mac/lib/python3.8/site-packages/tensorflow/python/ops/math_ops.py\u001b[0m in \u001b[0;36m_mul_dispatch\u001b[0;34m(x, y, name)\u001b[0m\n\u001b[1;32m   1498\u001b[0m     \u001b[0;32mreturn\u001b[0m \u001b[0msparse_tensor\u001b[0m\u001b[0;34m.\u001b[0m\u001b[0mSparseTensor\u001b[0m\u001b[0;34m(\u001b[0m\u001b[0my\u001b[0m\u001b[0;34m.\u001b[0m\u001b[0mindices\u001b[0m\u001b[0;34m,\u001b[0m \u001b[0mnew_vals\u001b[0m\u001b[0;34m,\u001b[0m \u001b[0my\u001b[0m\u001b[0;34m.\u001b[0m\u001b[0mdense_shape\u001b[0m\u001b[0;34m)\u001b[0m\u001b[0;34m\u001b[0m\u001b[0;34m\u001b[0m\u001b[0m\n\u001b[1;32m   1499\u001b[0m   \u001b[0;32melse\u001b[0m\u001b[0;34m:\u001b[0m\u001b[0;34m\u001b[0m\u001b[0;34m\u001b[0m\u001b[0m\n\u001b[0;32m-> 1500\u001b[0;31m     \u001b[0;32mreturn\u001b[0m \u001b[0mmultiply\u001b[0m\u001b[0;34m(\u001b[0m\u001b[0mx\u001b[0m\u001b[0;34m,\u001b[0m \u001b[0my\u001b[0m\u001b[0;34m,\u001b[0m \u001b[0mname\u001b[0m\u001b[0;34m=\u001b[0m\u001b[0mname\u001b[0m\u001b[0;34m)\u001b[0m\u001b[0;34m\u001b[0m\u001b[0;34m\u001b[0m\u001b[0m\n\u001b[0m\u001b[1;32m   1501\u001b[0m \u001b[0;34m\u001b[0m\u001b[0m\n\u001b[1;32m   1502\u001b[0m \u001b[0;34m\u001b[0m\u001b[0m\n",
      "\u001b[0;32m~/miniforge3/envs/tf_mac/lib/python3.8/site-packages/tensorflow/python/util/dispatch.py\u001b[0m in \u001b[0;36mwrapper\u001b[0;34m(*args, **kwargs)\u001b[0m\n\u001b[1;32m    199\u001b[0m     \u001b[0;34m\"\"\"Call target, and fall back on dispatchers if there is a TypeError.\"\"\"\u001b[0m\u001b[0;34m\u001b[0m\u001b[0;34m\u001b[0m\u001b[0m\n\u001b[1;32m    200\u001b[0m     \u001b[0;32mtry\u001b[0m\u001b[0;34m:\u001b[0m\u001b[0;34m\u001b[0m\u001b[0;34m\u001b[0m\u001b[0m\n\u001b[0;32m--> 201\u001b[0;31m       \u001b[0;32mreturn\u001b[0m \u001b[0mtarget\u001b[0m\u001b[0;34m(\u001b[0m\u001b[0;34m*\u001b[0m\u001b[0margs\u001b[0m\u001b[0;34m,\u001b[0m \u001b[0;34m**\u001b[0m\u001b[0mkwargs\u001b[0m\u001b[0;34m)\u001b[0m\u001b[0;34m\u001b[0m\u001b[0;34m\u001b[0m\u001b[0m\n\u001b[0m\u001b[1;32m    202\u001b[0m     \u001b[0;32mexcept\u001b[0m \u001b[0;34m(\u001b[0m\u001b[0mTypeError\u001b[0m\u001b[0;34m,\u001b[0m \u001b[0mValueError\u001b[0m\u001b[0;34m)\u001b[0m\u001b[0;34m:\u001b[0m\u001b[0;34m\u001b[0m\u001b[0;34m\u001b[0m\u001b[0m\n\u001b[1;32m    203\u001b[0m       \u001b[0;31m# Note: convert_to_eager_tensor currently raises a ValueError, not a\u001b[0m\u001b[0;34m\u001b[0m\u001b[0;34m\u001b[0m\u001b[0;34m\u001b[0m\u001b[0m\n",
      "\u001b[0;32m~/miniforge3/envs/tf_mac/lib/python3.8/site-packages/tensorflow/python/ops/math_ops.py\u001b[0m in \u001b[0;36mmultiply\u001b[0;34m(x, y, name)\u001b[0m\n\u001b[1;32m    520\u001b[0m   \"\"\"\n\u001b[1;32m    521\u001b[0m \u001b[0;34m\u001b[0m\u001b[0m\n\u001b[0;32m--> 522\u001b[0;31m   \u001b[0;32mreturn\u001b[0m \u001b[0mgen_math_ops\u001b[0m\u001b[0;34m.\u001b[0m\u001b[0mmul\u001b[0m\u001b[0;34m(\u001b[0m\u001b[0mx\u001b[0m\u001b[0;34m,\u001b[0m \u001b[0my\u001b[0m\u001b[0;34m,\u001b[0m \u001b[0mname\u001b[0m\u001b[0;34m)\u001b[0m\u001b[0;34m\u001b[0m\u001b[0;34m\u001b[0m\u001b[0m\n\u001b[0m\u001b[1;32m    523\u001b[0m \u001b[0;34m\u001b[0m\u001b[0m\n\u001b[1;32m    524\u001b[0m \u001b[0;34m\u001b[0m\u001b[0m\n",
      "\u001b[0;32m~/miniforge3/envs/tf_mac/lib/python3.8/site-packages/tensorflow/python/ops/gen_math_ops.py\u001b[0m in \u001b[0;36mmul\u001b[0;34m(x, y, name)\u001b[0m\n\u001b[1;32m   6062\u001b[0m   \u001b[0;32mif\u001b[0m \u001b[0mtld\u001b[0m\u001b[0;34m.\u001b[0m\u001b[0mis_eager\u001b[0m\u001b[0;34m:\u001b[0m\u001b[0;34m\u001b[0m\u001b[0;34m\u001b[0m\u001b[0m\n\u001b[1;32m   6063\u001b[0m     \u001b[0;32mtry\u001b[0m\u001b[0;34m:\u001b[0m\u001b[0;34m\u001b[0m\u001b[0;34m\u001b[0m\u001b[0m\n\u001b[0;32m-> 6064\u001b[0;31m       _result = pywrap_tfe.TFE_Py_FastPathExecute(\n\u001b[0m\u001b[1;32m   6065\u001b[0m         _ctx, \"Mul\", name, x, y)\n\u001b[1;32m   6066\u001b[0m       \u001b[0;32mreturn\u001b[0m \u001b[0m_result\u001b[0m\u001b[0;34m\u001b[0m\u001b[0;34m\u001b[0m\u001b[0m\n",
      "\u001b[0;31mKeyboardInterrupt\u001b[0m: "
     ]
    }
   ],
   "source": [
    "dice.generate_counterfactual(example_idx_activities_no_tag, example_idx_resources_no_tag,example_amount_input)"
   ]
  },
  {
   "cell_type": "code",
   "execution_count": 68,
   "metadata": {},
   "outputs": [
    {
     "output_type": "execute_result",
     "data": {
      "text/plain": [
       "[None, None, None]"
      ]
     },
     "metadata": {},
     "execution_count": 68
    }
   ],
   "source": [
    "dice.grad"
   ]
  },
  {
   "cell_type": "code",
   "execution_count": 34,
   "metadata": {},
   "outputs": [
    {
     "output_type": "execute_result",
     "data": {
      "text/plain": [
       "<tf.Tensor: shape=(1, 1), dtype=float32, numpy=array([[-0.9920349]], dtype=float32)>"
      ]
     },
     "metadata": {},
     "execution_count": 34
    }
   ],
   "source": [
    "dice.loss"
   ]
  },
  {
   "cell_type": "code",
   "execution_count": 22,
   "metadata": {},
   "outputs": [
    {
     "output_type": "execute_result",
     "data": {
      "text/plain": [
       "<tf.Tensor: shape=(), dtype=float32, numpy=0.0>"
      ]
     },
     "metadata": {},
     "execution_count": 22
    }
   ],
   "source": [
    "dice.cat_loss"
   ]
  },
  {
   "cell_type": "code",
   "execution_count": 23,
   "metadata": {},
   "outputs": [
    {
     "output_type": "execute_result",
     "data": {
      "text/plain": [
       "<tf.Tensor: shape=(1,), dtype=float32, numpy=array([0.9920349], dtype=float32)>"
      ]
     },
     "metadata": {},
     "execution_count": 23
    }
   ],
   "source": [
    "dice.class_loss"
   ]
  },
  {
   "cell_type": "code",
   "execution_count": 24,
   "metadata": {},
   "outputs": [
    {
     "output_type": "execute_result",
     "data": {
      "text/plain": [
       "<tf.Tensor: shape=(), dtype=float32, numpy=0.0>"
      ]
     },
     "metadata": {},
     "execution_count": 24
    }
   ],
   "source": [
    "dice.distance_loss"
   ]
  },
  {
   "cell_type": "code",
   "execution_count": 215,
   "metadata": {},
   "outputs": [
    {
     "output_type": "execute_result",
     "data": {
      "text/plain": [
       "<tf.Tensor: shape=(1,), dtype=float32, numpy=array([0.92006016], dtype=float32)>"
      ]
     },
     "metadata": {},
     "execution_count": 215
    }
   ],
   "source": [
    "dice.loss"
   ]
  },
  {
   "cell_type": "code",
   "execution_count": 216,
   "metadata": {},
   "outputs": [
    {
     "output_type": "execute_result",
     "data": {
      "text/plain": [
       "[<tf.Tensor: shape=(1,), dtype=float32, numpy=array([nan], dtype=float32)>,\n",
       " <tf.Tensor: shape=(8, 23), dtype=float32, numpy=\n",
       " array([[ 0.02666074,  0.00151159,  0.00955772, -0.00159479,  0.02104962,\n",
       "          0.02017802,  0.01435035, -0.008002  , -0.008176  , -0.01699463,\n",
       "         -0.00565872,  0.00833758,  0.02154505,  0.02183243, -0.01677009,\n",
       "          0.00957994, -0.00315624,  0.01214932, -0.01439261,  0.00698711,\n",
       "         -0.01069965,  0.00640788, -0.01145178],\n",
       "        [ 0.03675214,  0.00269707,  0.01209273, -0.00078596,  0.03306829,\n",
       "          0.02909263,  0.01737041, -0.01339286, -0.00795034, -0.02580699,\n",
       "         -0.00672944,  0.00869185,  0.02560805,  0.03053433, -0.02055812,\n",
       "          0.01240346, -0.00538529,  0.01592245, -0.02185494,  0.00698798,\n",
       "         -0.014915  ,  0.00777805, -0.01679251],\n",
       "        [ 0.04881603,  0.00254673,  0.01466103,  0.00074222,  0.05076082,\n",
       "          0.03938919,  0.01925157, -0.02115978, -0.00724413, -0.0359022 ,\n",
       "         -0.00716058,  0.00869203,  0.03146012,  0.04046156, -0.02549281,\n",
       "          0.01517685, -0.00906187,  0.02179154, -0.03088444,  0.00676366,\n",
       "         -0.01942851,  0.01037729, -0.02236678],\n",
       "        [ 0.06191031,  0.00313691,  0.0163759 ,  0.00232441,  0.0732974 ,\n",
       "          0.05265741,  0.02144844, -0.02991653, -0.00660044, -0.04887231,\n",
       "         -0.00854871,  0.00878617,  0.03885506,  0.05131529, -0.03149327,\n",
       "          0.01928826, -0.01421359,  0.02860377, -0.04273823,  0.00668123,\n",
       "         -0.0246129 ,  0.01292829, -0.02912357],\n",
       "        [ 0.07234733,  0.00128461,  0.01745503,  0.00251532,  0.10165323,\n",
       "          0.0657545 ,  0.02015086, -0.03892147, -0.00596628, -0.06233673,\n",
       "         -0.00964471,  0.01038316,  0.04951674,  0.05836955, -0.03821759,\n",
       "          0.02373108, -0.0231307 ,  0.03707837, -0.05529268,  0.00689689,\n",
       "         -0.02835025,  0.01557076, -0.03451027],\n",
       "        [ 0.07735224, -0.00091113,  0.01574763,  0.00197123,  0.1283309 ,\n",
       "          0.07828064,  0.01692777, -0.0485025 , -0.00637951, -0.07355093,\n",
       "         -0.0115167 ,  0.01227437,  0.06104635,  0.05821257, -0.0408447 ,\n",
       "          0.02844019, -0.03473275,  0.04650782, -0.06662475,  0.00797191,\n",
       "         -0.02933764,  0.01927949, -0.03635076],\n",
       "        [ 0.06835683, -0.00805605,  0.01754569, -0.00019666,  0.14822447,\n",
       "          0.08243377,  0.00372703, -0.0476601 , -0.00731912, -0.0739973 ,\n",
       "         -0.00897961,  0.016545  ,  0.07441694,  0.04277125, -0.03832222,\n",
       "          0.02984364, -0.05171331,  0.05039084, -0.07157445,  0.009616  ,\n",
       "         -0.02674614,  0.01979958, -0.03191207],\n",
       "        [ 0.02971909, -0.01061804,  0.01770535, -0.00285755,  0.13430203,\n",
       "          0.05920496, -0.01019397, -0.02849529, -0.00856759, -0.05223909,\n",
       "         -0.00074827,  0.01355885,  0.07674651,  0.01960831, -0.02617171,\n",
       "          0.03232559, -0.04886793,  0.04184014, -0.05391556,  0.00984005,\n",
       "         -0.01209601,  0.01179972, -0.02232963]], dtype=float32)>,\n",
       " <tf.Tensor: shape=(8, 69), dtype=float32, numpy=\n",
       " array([[ 8.73998180e-03,  5.78714069e-04,  1.25440238e-02,\n",
       "         -3.17351660e-05, -7.64825474e-03, -2.35867337e-03,\n",
       "          5.92278223e-03,  6.39939914e-04, -7.16270041e-03,\n",
       "          8.10274761e-03,  1.62551552e-02,  2.94758636e-03,\n",
       "         -2.87073315e-04,  4.94327210e-03,  1.37682387e-03,\n",
       "         -9.04871710e-03,  3.28819314e-03,  4.38414002e-03,\n",
       "          2.03516218e-04,  2.83956178e-04, -8.16775719e-04,\n",
       "          1.31084211e-03, -4.64856625e-03,  1.59674836e-03,\n",
       "         -4.75707324e-03,  2.64972448e-03, -4.87710163e-03,\n",
       "          3.18116788e-03,  8.99361633e-03, -7.41414027e-03,\n",
       "          5.08743944e-03,  4.51667281e-03,  5.62468427e-04,\n",
       "         -5.91708301e-03,  4.57235146e-03, -1.10511547e-02,\n",
       "          6.67842152e-03,  5.90976141e-03,  1.95702026e-03,\n",
       "          2.17622286e-03, -2.07804027e-04,  2.33536232e-02,\n",
       "          7.64493505e-03,  5.25706634e-03, -3.58510274e-03,\n",
       "         -2.49519316e-03,  4.58550081e-03,  1.35893014e-03,\n",
       "         -7.16386456e-03, -1.34402537e-04, -6.92771398e-04,\n",
       "         -3.79115460e-03,  3.66453268e-02,  1.86642620e-03,\n",
       "          4.32560500e-03,  6.72963355e-03, -3.11800512e-03,\n",
       "          1.44015793e-02, -4.05571004e-03,  2.31209155e-02,\n",
       "          1.10933837e-02,  7.17028370e-03,  1.10703669e-02,\n",
       "          1.55471200e-02, -5.92761580e-03,  1.82684120e-02,\n",
       "          1.37890438e-02,  6.56883465e-03, -5.33117075e-03],\n",
       "        [ 1.20014893e-02,  4.34293505e-03,  1.31915361e-02,\n",
       "          6.59258012e-03, -9.81658231e-03, -3.72037059e-03,\n",
       "          5.37411822e-03,  7.94436969e-03, -5.91247808e-03,\n",
       "          7.97786657e-03,  1.86269432e-02,  3.68497660e-03,\n",
       "          1.21858378e-03,  5.28038852e-03,  2.63434928e-03,\n",
       "         -1.16047198e-02,  4.38524736e-03,  5.87774999e-03,\n",
       "          2.59898277e-03,  1.14469870e-03,  2.91925215e-04,\n",
       "         -4.06981213e-04, -6.35561487e-03,  4.09499276e-03,\n",
       "         -4.04135836e-03, -8.48551514e-04, -7.51677202e-03,\n",
       "          2.30925996e-03,  1.07100531e-02, -8.93544126e-03,\n",
       "          5.40761184e-03,  5.08112367e-03,  1.62919331e-03,\n",
       "         -9.22778063e-03,  6.28233608e-03, -1.35865398e-02,\n",
       "          8.27382319e-03,  7.28077721e-03,  5.22607239e-04,\n",
       "         -1.01706246e-03,  6.44600368e-04,  3.35176066e-02,\n",
       "          5.32561867e-03,  5.03775617e-03, -3.34093580e-03,\n",
       "         -3.41417687e-03,  4.17439593e-03,  1.59418001e-03,\n",
       "         -9.40398499e-03, -3.31524032e-04, -2.54862430e-03,\n",
       "         -5.26917353e-03,  4.44645360e-02,  2.66367150e-03,\n",
       "          3.92274838e-03,  9.79626551e-03, -5.07864496e-03,\n",
       "          1.87042616e-02, -5.05614141e-03,  2.88661700e-02,\n",
       "          1.42358821e-02,  5.37460297e-03,  1.21781556e-02,\n",
       "          1.61348935e-02, -1.90469110e-03,  2.25922037e-02,\n",
       "          1.47785470e-02,  5.02411742e-03, -5.14446665e-03],\n",
       "        [ 1.55500108e-02,  6.94727525e-03,  1.34062311e-02,\n",
       "          1.41868778e-02, -1.19280713e-02, -5.27422549e-03,\n",
       "          5.12056891e-03,  1.73006672e-02, -4.01636399e-03,\n",
       "          7.89605640e-03,  2.23319083e-02,  4.23900643e-03,\n",
       "          3.43472464e-03,  5.02068968e-03,  4.88359481e-03,\n",
       "         -1.48480320e-02,  5.42146899e-03,  7.20615126e-03,\n",
       "          5.88403177e-03,  2.17239955e-03,  1.66735554e-03,\n",
       "         -2.46342737e-03, -8.01704545e-03,  6.14766311e-03,\n",
       "         -3.23699764e-03, -4.89525124e-03, -1.08460309e-02,\n",
       "          1.04057603e-03,  1.26165776e-02, -1.06720002e-02,\n",
       "          6.37219381e-03,  5.72332647e-03,  3.71882785e-03,\n",
       "         -1.35902483e-02,  6.89545693e-03, -1.69171672e-02,\n",
       "          1.03923734e-02,  9.99335200e-03, -2.09252909e-03,\n",
       "         -6.95688277e-03,  2.36143963e-03,  4.36700024e-02,\n",
       "          2.35891296e-03,  4.72680386e-03, -1.79772545e-03,\n",
       "         -4.98686917e-03,  2.93036341e-03,  1.80736207e-03,\n",
       "         -1.18010929e-02, -6.11102791e-04, -4.85083647e-03,\n",
       "         -7.27228122e-03,  5.55215292e-02,  3.52412462e-03,\n",
       "          2.59274850e-03,  1.34701021e-02, -7.81124551e-03,\n",
       "          2.37909704e-02, -5.53247426e-03,  3.37705649e-02,\n",
       "          1.85283627e-02,  5.07760327e-03,  1.61679965e-02,\n",
       "          1.67619511e-02,  2.40935059e-03,  2.85112504e-02,\n",
       "          1.72263626e-02,  3.81307676e-03, -4.92126169e-03],\n",
       "        [ 1.86564494e-02,  9.28121060e-03,  1.27447601e-02,\n",
       "          2.27368735e-02, -1.42260361e-02, -5.79107087e-03,\n",
       "          4.71689086e-03,  3.02745011e-02,  1.18437759e-03,\n",
       "          6.84414199e-03,  2.67873760e-02,  3.32614686e-03,\n",
       "          6.65682368e-03,  4.55295015e-03,  8.50499235e-03,\n",
       "         -1.91262420e-02,  6.12896355e-03,  8.15137103e-03,\n",
       "          1.29076317e-02,  3.83967487e-03,  3.51030962e-03,\n",
       "         -5.50327031e-03, -9.66606475e-03,  7.48370867e-03,\n",
       "         -2.61987280e-03, -1.04316548e-02, -1.49103552e-02,\n",
       "         -3.62565392e-04,  1.41090052e-02, -1.23442877e-02,\n",
       "          6.53727911e-03,  6.19928027e-03,  6.26338646e-03,\n",
       "         -1.90500561e-02,  6.45703636e-03, -2.05466896e-02,\n",
       "          1.25731919e-02,  1.37688136e-02, -5.95336221e-03,\n",
       "         -1.45574175e-02,  7.15375086e-03,  5.07071167e-02,\n",
       "         -1.68522424e-03,  3.48069472e-03,  7.24866753e-04,\n",
       "         -7.03961309e-03,  6.80901459e-04,  1.07429444e-03,\n",
       "         -1.43172899e-02, -8.33829050e-04, -7.88031053e-03,\n",
       "         -9.47680417e-03,  6.79139569e-02,  4.61315177e-03,\n",
       "         -4.64232871e-04,  1.70556623e-02, -1.14508746e-02,\n",
       "          2.57544890e-02, -3.69782816e-03,  3.81180607e-02,\n",
       "          2.35218145e-02,  7.99582433e-03,  2.39354912e-02,\n",
       "          1.61859263e-02,  7.21871341e-03,  3.60177048e-02,\n",
       "          2.00655647e-02,  1.43595040e-03, -4.14591096e-03],\n",
       "        [ 1.87743623e-02,  6.22763392e-03,  1.07290205e-02,\n",
       "          2.71310955e-02, -1.56616457e-02, -5.51667437e-03,\n",
       "          4.83311340e-03,  4.25704569e-02,  5.79962181e-03,\n",
       "          3.81500390e-03,  2.91899145e-02,  1.35299785e-03,\n",
       "          1.07522141e-02,  3.87942372e-03,  1.33936387e-02,\n",
       "         -2.35222708e-02,  6.78194873e-03,  8.51798989e-03,\n",
       "          1.97329391e-02,  6.08534738e-03,  5.82636008e-03,\n",
       "         -8.60899314e-03, -1.03265513e-02,  7.72287836e-03,\n",
       "         -2.39962270e-03, -1.55056957e-02, -1.84429474e-02,\n",
       "         -1.15929195e-03,  1.50292022e-02, -1.33810509e-02,\n",
       "          7.03604706e-03,  6.40222291e-03,  9.61050019e-03,\n",
       "         -2.42102332e-02,  3.88967572e-03, -2.38985959e-02,\n",
       "          1.46154845e-02,  1.90375634e-02, -1.03084017e-02,\n",
       "         -2.65777055e-02,  1.23731252e-02,  5.06548025e-02,\n",
       "         -3.36080929e-03,  1.59384869e-03,  5.21849887e-03,\n",
       "         -9.01868939e-03, -2.34021153e-03,  6.54214527e-05,\n",
       "         -1.52684003e-02, -9.33321775e-04, -1.06161647e-02,\n",
       "         -1.10105751e-02,  8.03459436e-02,  6.01754989e-03,\n",
       "         -4.22870275e-03,  2.05094330e-02, -1.50278909e-02,\n",
       "          2.30343789e-02, -1.46260462e-03,  3.99398431e-02,\n",
       "          2.68150065e-02,  1.44710988e-02,  3.56288217e-02,\n",
       "          1.38828354e-02,  9.00387857e-03,  4.38260660e-02,\n",
       "          2.52318867e-02, -2.58925743e-03, -3.02253547e-03],\n",
       "        [ 8.14471114e-03, -1.83019601e-02,  5.36779361e-03,\n",
       "          7.52468035e-03, -9.63369664e-03, -1.00323427e-02,\n",
       "          4.94417828e-03,  3.61373052e-02, -9.50924680e-03,\n",
       "         -6.41958602e-03,  1.17005268e-02,  4.04519215e-03,\n",
       "          1.52861234e-02,  4.50529251e-03,  2.10684370e-02,\n",
       "         -2.63580326e-02,  8.62450898e-03,  8.27431586e-03,\n",
       "          8.66372138e-03,  9.51078720e-03,  9.84256621e-03,\n",
       "         -8.22758954e-03, -6.65734708e-03,  8.65390711e-03,\n",
       "         -1.94921787e-03, -1.26744565e-02, -1.65896844e-02,\n",
       "          3.06628505e-03,  1.84647068e-02, -1.34605514e-02,\n",
       "          1.30600454e-02,  4.33473755e-03,  1.60760637e-02,\n",
       "         -2.37168409e-02, -1.97208486e-03, -2.58605201e-02,\n",
       "          1.85250323e-02,  2.90696900e-02, -1.23883374e-02,\n",
       "         -5.85476160e-02,  4.58631571e-03,  3.56542729e-02,\n",
       "          4.20361664e-03,  1.13144657e-03,  1.51192155e-02,\n",
       "         -8.83010775e-03, -4.27210471e-03,  1.87705574e-03,\n",
       "         -9.17618535e-03, -1.20525993e-03, -9.51277465e-03,\n",
       "         -8.99849087e-03,  8.60569328e-02,  1.11654801e-02,\n",
       "         -3.86124873e-03,  2.68992614e-02, -1.51573103e-02,\n",
       "          2.06111502e-02, -9.62466840e-03,  3.05884313e-02,\n",
       "          2.26125680e-02,  3.18986624e-02,  5.11281416e-02,\n",
       "          1.21465512e-02, -7.81049859e-03,  4.77510914e-02,\n",
       "          4.16102000e-02, -1.06452703e-02, -4.82631288e-03],\n",
       "        [-2.27509160e-02, -7.44647384e-02, -4.72988142e-03,\n",
       "         -5.32074161e-02,  1.04304710e-02, -2.26917863e-02,\n",
       "          3.14755109e-03, -5.41974604e-03, -6.08244687e-02,\n",
       "         -2.91037560e-02, -4.39852066e-02,  1.66636631e-02,\n",
       "          1.82906259e-02,  8.15640204e-03,  3.11498772e-02,\n",
       "         -2.54831687e-02,  1.24299880e-02,  8.09092447e-03,\n",
       "         -3.54999676e-02,  1.53313763e-02,  1.63981523e-02,\n",
       "         -1.85093062e-03,  5.30350441e-03,  1.31717268e-02,\n",
       "         -3.28611175e-04,  5.56548499e-03, -3.90969776e-03,\n",
       "          1.51713248e-02,  2.44305320e-02, -1.08533464e-02,\n",
       "          2.76633538e-02, -1.48714473e-03,  2.58481242e-02,\n",
       "         -1.03509156e-02, -8.05185363e-03, -2.32020058e-02,\n",
       "          2.52675973e-02,  4.28312048e-02, -7.23542226e-03,\n",
       "         -1.18102573e-01, -2.98123006e-02,  5.91946766e-03,\n",
       "          2.81960033e-02,  3.77200032e-03,  3.22046243e-02,\n",
       "         -3.15016741e-03, -3.30522074e-03,  8.38281028e-03,\n",
       "          8.34377389e-03, -8.88712937e-04, -6.80698082e-04,\n",
       "          3.01799737e-05,  7.23824725e-02,  2.31158827e-02,\n",
       "          6.57372177e-03,  3.76956984e-02, -8.35289247e-03,\n",
       "          2.68996079e-02, -3.78738455e-02,  8.15367606e-03,\n",
       "          3.11345048e-03,  6.04535826e-02,  6.27160594e-02,\n",
       "          1.03180669e-02, -5.60472682e-02,  3.95251922e-02,\n",
       "          7.05574602e-02, -2.70090792e-02, -1.25853894e-02],\n",
       "        [-7.12492839e-02, -1.49508953e-01, -1.83269028e-02,\n",
       "         -1.55174524e-01,  4.68686223e-02, -4.47995365e-02,\n",
       "         -2.80022155e-03, -9.19180885e-02, -1.52104542e-01,\n",
       "         -6.01957031e-02, -1.43995628e-01,  4.32385653e-02,\n",
       "          1.58585943e-02,  1.50296539e-02,  3.82379964e-02,\n",
       "         -1.46116773e-02,  1.71907544e-02,  8.67656805e-03,\n",
       "         -1.18640400e-01,  2.14057118e-02,  2.43846010e-02,\n",
       "          1.24720521e-02,  2.56122388e-02,  2.44528707e-02,\n",
       "          4.44425642e-03,  4.32726108e-02,  2.32304372e-02,\n",
       "          3.52177285e-02,  3.14987898e-02, -4.41604014e-03,\n",
       "          4.97077256e-02, -1.10062594e-02,  3.47458832e-02,\n",
       "          2.02658474e-02, -8.29404965e-03, -1.18186940e-02,\n",
       "          3.23406830e-02,  5.24067134e-02,  9.80700087e-03,\n",
       "         -1.92417279e-01, -9.76422578e-02, -2.85519548e-02,\n",
       "          6.60814792e-02,  1.09815039e-02,  5.08762710e-02,\n",
       "          9.98790562e-03,  3.99421901e-03,  2.13055238e-02,\n",
       "          3.69562656e-02,  8.58237268e-04,  1.76313557e-02,\n",
       "          1.71104725e-02,  1.86816826e-02,  4.11274843e-02,\n",
       "          3.15956734e-02,  5.05453311e-02,  8.85877199e-03,\n",
       "          5.00549525e-02, -8.95967484e-02, -2.78477333e-02,\n",
       "         -3.30611244e-02,  8.73838365e-02,  5.01401573e-02,\n",
       "          9.39843897e-03, -1.33052647e-01,  8.76761787e-03,\n",
       "          1.02188677e-01, -4.81936559e-02, -2.73096878e-02]], dtype=float32)>]"
      ]
     },
     "metadata": {},
     "execution_count": 216
    }
   ],
   "source": [
    "dice.grad"
   ]
  },
  {
   "cell_type": "code",
   "execution_count": null,
   "metadata": {},
   "outputs": [],
   "source": []
  }
 ]
}