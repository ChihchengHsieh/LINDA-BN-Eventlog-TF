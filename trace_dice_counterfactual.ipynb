{
 "metadata": {
  "language_info": {
   "codemirror_mode": {
    "name": "ipython",
    "version": 3
   },
   "file_extension": ".py",
   "mimetype": "text/x-python",
   "name": "python",
   "nbconvert_exporter": "python",
   "pygments_lexer": "ipython3",
   "version": "3.8.10"
  },
  "orig_nbformat": 2,
  "kernelspec": {
   "name": "python3",
   "display_name": "Python 3.8.10 64-bit ('tf_mac': conda)"
  },
  "metadata": {
   "interpreter": {
    "hash": "5c622353f32ef24c8d83e5c3e334107c074e82d7c3e8ca52c56b9fc900ce33e6"
   }
  },
  "interpreter": {
   "hash": "5c622353f32ef24c8d83e5c3e334107c074e82d7c3e8ca52c56b9fc900ce33e6"
  }
 },
 "nbformat": 4,
 "nbformat_minor": 2,
 "cells": [
  {
   "cell_type": "code",
   "execution_count": 1,
   "metadata": {},
   "outputs": [],
   "source": [
    "from Controller import TrainingController, ExplainingController\n",
    "from Utils.SaveUtils import load_parameters\n",
    "from Parameters import TrainingParameters, PredictingParameters\n",
    "import tensorflow as tf\n",
    "from IPython.core.display import display, HTML\n",
    "import json\n",
    "import numpy as np\n",
    "import pandas as pd\n",
    "from Parameters.Enums import TracePermutationStrategies\n",
    "from Models import DiCEBinaryOutputModel\n",
    "\n",
    "import dice_ml\n",
    "from dice_ml.utils import helpers"
   ]
  },
  {
   "cell_type": "code",
   "execution_count": 2,
   "metadata": {},
   "outputs": [],
   "source": [
    "### Select models to load\n",
    "folder_path = \"./SavedModels/%s\" % (\n",
    " \"0.7924_BPI2012_BaseLineLSTMModel_2021-06-11 17:08:27.383137\" # AOW\n",
    ")"
   ]
  },
  {
   "cell_type": "code",
   "execution_count": 3,
   "metadata": {},
   "outputs": [],
   "source": [
    "### Setting up parameters\n",
    "parameters_json = load_parameters(folder_path=folder_path)\n",
    "parameters = TrainingParameters(**parameters_json)\n",
    "tf.random.set_seed(parameters.dataset_split_seed)\n",
    "np.random.seed(parameters.dataset_split_seed)\n",
    "parameters.load_model_folder_path = folder_path\n",
    "predicting_parameters = PredictingParameters()\n",
    "predicting_parameters.load_model_folder_path = folder_path"
   ]
  },
  {
   "cell_type": "code",
   "execution_count": 4,
   "metadata": {},
   "outputs": [
    {
     "output_type": "stream",
     "name": "stdout",
     "text": [
      "\n",
      "=================================================\n",
      "| Running on /job:localhost/replica:0/task:0/device:CPU:0  \n",
      "=================================================\n",
      "\n",
      "=================================================\n",
      "| Preprocessed data loaded successfully: ./datasets/preprocessed/BPI_Challenge_2012/AOW \n",
      "=================================================\n",
      "\n",
      "=================================================\n",
      "| Model loaded successfully from: ./SavedModels/0.7924_BPI2012_BaseLineLSTMModel_2021-06-11 17:08:27.383137  \n",
      "=================================================\n"
     ]
    }
   ],
   "source": [
    "trainer = TrainingController(parameters = parameters)"
   ]
  },
  {
   "cell_type": "code",
   "execution_count": 5,
   "metadata": {},
   "outputs": [
    {
     "output_type": "execute_result",
     "data": {
      "text/plain": [
       "['<PAD>',\n",
       " '<EOS>',\n",
       " '<SOS>',\n",
       " 'A_ACCEPTED_COMPLETE',\n",
       " 'A_ACTIVATED_COMPLETE',\n",
       " 'A_APPROVED_COMPLETE',\n",
       " 'A_CANCELLED_COMPLETE',\n",
       " 'A_DECLINED_COMPLETE',\n",
       " 'A_FINALIZED_COMPLETE',\n",
       " 'A_PARTLYSUBMITTED_COMPLETE',\n",
       " 'A_PREACCEPTED_COMPLETE',\n",
       " 'A_REGISTERED_COMPLETE',\n",
       " 'A_SUBMITTED_COMPLETE',\n",
       " 'O_ACCEPTED_COMPLETE',\n",
       " 'O_CANCELLED_COMPLETE',\n",
       " 'O_CREATED_COMPLETE',\n",
       " 'O_DECLINED_COMPLETE',\n",
       " 'O_SELECTED_COMPLETE',\n",
       " 'O_SENT_BACK_COMPLETE',\n",
       " 'O_SENT_COMPLETE',\n",
       " 'W_Afhandelen leads_COMPLETE',\n",
       " 'W_Beoordelen fraude_COMPLETE',\n",
       " 'W_Completeren aanvraag_COMPLETE',\n",
       " 'W_Nabellen incomplete dossiers_COMPLETE',\n",
       " 'W_Nabellen offertes_COMPLETE',\n",
       " 'W_Valideren aanvraag_COMPLETE']"
      ]
     },
     "metadata": {},
     "execution_count": 5
    }
   ],
   "source": [
    "trainer.model.vocab.vocabs"
   ]
  },
  {
   "cell_type": "code",
   "execution_count": 6,
   "metadata": {},
   "outputs": [
    {
     "output_type": "stream",
     "name": "stdout",
     "text": [
      "\n",
      "=================================================\n",
      "| Running on /job:localhost/replica:0/task:0/device:CPU:0  \n",
      "=================================================\n",
      "\n",
      "=================================================\n",
      "| Model loaded successfully from: ./SavedModels/0.7924_BPI2012_BaseLineLSTMModel_2021-06-11 17:08:27.383137  \n",
      "=================================================\n"
     ]
    }
   ],
   "source": [
    "explainer = ExplainingController(parameters=parameters, predicting_parameters= predicting_parameters)"
   ]
  },
  {
   "cell_type": "code",
   "execution_count": 7,
   "metadata": {},
   "outputs": [
    {
     "output_type": "stream",
     "name": "stdout",
     "text": [
      "Predicted activity with highest probability (0.72) is \"W_Nabellen offertes_COMPLETE\"\n"
     ]
    },
    {
     "output_type": "display_data",
     "data": {
      "text/plain": "      <PAD>     <EOS>     <SOS>  A_ACCEPTED_COMPLETE  A_ACTIVATED_COMPLETE  \\\n0  0.000027  0.004371  0.000018             0.000051              0.000041   \n\n   A_APPROVED_COMPLETE  A_CANCELLED_COMPLETE  A_DECLINED_COMPLETE  \\\n0              0.00001              0.044487             0.000771   \n\n   A_FINALIZED_COMPLETE  A_PARTLYSUBMITTED_COMPLETE  ...  O_DECLINED_COMPLETE  \\\n0              0.000127                    0.000063  ...             0.000997   \n\n   O_SELECTED_COMPLETE  O_SENT_BACK_COMPLETE  O_SENT_COMPLETE  \\\n0             0.013255              0.124609         0.000041   \n\n   W_Afhandelen leads_COMPLETE  W_Beoordelen fraude_COMPLETE  \\\n0                     0.000088                      0.000019   \n\n   W_Completeren aanvraag_COMPLETE  W_Nabellen incomplete dossiers_COMPLETE  \\\n0                          0.00011                                 0.000407   \n\n   W_Nabellen offertes_COMPLETE  W_Valideren aanvraag_COMPLETE  \n0                      0.718075                       0.000232  \n\n[1 rows x 26 columns]",
      "text/html": "<div>\n<style scoped>\n    .dataframe tbody tr th:only-of-type {\n        vertical-align: middle;\n    }\n\n    .dataframe tbody tr th {\n        vertical-align: top;\n    }\n\n    .dataframe thead th {\n        text-align: right;\n    }\n</style>\n<table border=\"1\" class=\"dataframe\">\n  <thead>\n    <tr style=\"text-align: right;\">\n      <th></th>\n      <th>&lt;PAD&gt;</th>\n      <th>&lt;EOS&gt;</th>\n      <th>&lt;SOS&gt;</th>\n      <th>A_ACCEPTED_COMPLETE</th>\n      <th>A_ACTIVATED_COMPLETE</th>\n      <th>A_APPROVED_COMPLETE</th>\n      <th>A_CANCELLED_COMPLETE</th>\n      <th>A_DECLINED_COMPLETE</th>\n      <th>A_FINALIZED_COMPLETE</th>\n      <th>A_PARTLYSUBMITTED_COMPLETE</th>\n      <th>...</th>\n      <th>O_DECLINED_COMPLETE</th>\n      <th>O_SELECTED_COMPLETE</th>\n      <th>O_SENT_BACK_COMPLETE</th>\n      <th>O_SENT_COMPLETE</th>\n      <th>W_Afhandelen leads_COMPLETE</th>\n      <th>W_Beoordelen fraude_COMPLETE</th>\n      <th>W_Completeren aanvraag_COMPLETE</th>\n      <th>W_Nabellen incomplete dossiers_COMPLETE</th>\n      <th>W_Nabellen offertes_COMPLETE</th>\n      <th>W_Valideren aanvraag_COMPLETE</th>\n    </tr>\n  </thead>\n  <tbody>\n    <tr>\n      <th>0</th>\n      <td>0.000027</td>\n      <td>0.004371</td>\n      <td>0.000018</td>\n      <td>0.000051</td>\n      <td>0.000041</td>\n      <td>0.00001</td>\n      <td>0.044487</td>\n      <td>0.000771</td>\n      <td>0.000127</td>\n      <td>0.000063</td>\n      <td>...</td>\n      <td>0.000997</td>\n      <td>0.013255</td>\n      <td>0.124609</td>\n      <td>0.000041</td>\n      <td>0.000088</td>\n      <td>0.000019</td>\n      <td>0.00011</td>\n      <td>0.000407</td>\n      <td>0.718075</td>\n      <td>0.000232</td>\n    </tr>\n  </tbody>\n</table>\n<p>1 rows × 26 columns</p>\n</div>"
     },
     "metadata": {}
    },
    {
     "output_type": "stream",
     "name": "stdout",
     "text": [
      "<PAD>                                      0.000027\n<EOS>                                      0.004371\n<SOS>                                      0.000018\nA_ACCEPTED_COMPLETE                        0.000051\nA_ACTIVATED_COMPLETE                       0.000041\nA_APPROVED_COMPLETE                        0.000010\nA_CANCELLED_COMPLETE                       0.044487\nA_DECLINED_COMPLETE                        0.000771\nA_FINALIZED_COMPLETE                       0.000127\nA_PARTLYSUBMITTED_COMPLETE                 0.000063\nA_PREACCEPTED_COMPLETE                     0.000061\nA_REGISTERED_COMPLETE                      0.000013\nA_SUBMITTED_COMPLETE                       0.000118\nO_ACCEPTED_COMPLETE                        0.000050\nO_CANCELLED_COMPLETE                       0.091945\nO_CREATED_COMPLETE                         0.000014\nO_DECLINED_COMPLETE                        0.000997\nO_SELECTED_COMPLETE                        0.013255\nO_SENT_BACK_COMPLETE                       0.124609\nO_SENT_COMPLETE                            0.000041\nW_Afhandelen leads_COMPLETE                0.000088\nW_Beoordelen fraude_COMPLETE               0.000019\nW_Completeren aanvraag_COMPLETE            0.000110\nW_Nabellen incomplete dossiers_COMPLETE    0.000407\nW_Nabellen offertes_COMPLETE               0.718075\nW_Valideren aanvraag_COMPLETE              0.000232\nName: 0, dtype: float64\n"
     ]
    }
   ],
   "source": [
    "########### Define example ###########\n",
    "# example_vocab_trace = ['<SOS>', 'A_SUBMITTED_COMPLETE', 'A_PARTLYSUBMITTED_COMPLETE', 'A_PREACCEPTED_COMPLETE', 'A_ACCEPTED_COMPLETE', 'O_SELECTED_COMPLETE', 'A_FINALIZED_COMPLETE', 'O_CREATED_COMPLETE', 'O_SENT_COMPLETE', 'W_Completeren aanvraag_COMPLETE', 'W_Nabellen offertes_COMPLETE']\n",
    "\n",
    "example_vocab_trace = ['<SOS>', 'A_SUBMITTED_COMPLETE', 'A_PARTLYSUBMITTED_COMPLETE', 'A_PREACCEPTED_COMPLETE', 'A_ACCEPTED_COMPLETE', 'O_SELECTED_COMPLETE', 'A_FINALIZED_COMPLETE', 'O_CREATED_COMPLETE', 'O_SENT_COMPLETE', 'W_Completeren aanvraag_COMPLETE', 'O_CANCELLED_COMPLETE', 'O_SELECTED_COMPLETE', 'O_CREATED_COMPLETE', 'O_SENT_COMPLETE', 'W_Nabellen offertes_COMPLETE', 'W_Nabellen offertes_COMPLETE', 'W_Nabellen offertes_COMPLETE', 'W_Nabellen offertes_COMPLETE', 'W_Nabellen offertes_COMPLETE', 'W_Nabellen offertes_COMPLETE', 'W_Nabellen offertes_COMPLETE']\n",
    "\n",
    "# 'A_CANCELLED_COMPLETE'\n",
    "\n",
    "example_idx_trace = np.array(explainer.model.vocab.list_of_vocab_to_index(example_vocab_trace))\n",
    "\n",
    "########### Throw example into model ###########\n",
    "\n",
    "example_input = tf.constant([example_idx_trace])\n",
    "\n",
    "out, _ = explainer.model(example_input)\n",
    "\n",
    "predicted_vocab_distributions = tf.gather(out, len(example_vocab_trace)-1, axis=1) \n",
    "predicted_vocab_distributions_df = pd.DataFrame(predicted_vocab_distributions.numpy().tolist(),columns=explainer.model.vocab.vocabs)\n",
    "max_arg = tf.math.argmax(predicted_vocab_distributions, axis=-1).numpy()[0]\n",
    "max_prob_vocab = explainer.model.vocab.index_to_vocab(max_arg)\n",
    "print(\"Predicted activity with highest probability (%.2f) is \\\"%s\\\"\" % (predicted_vocab_distributions[0][max_arg].numpy(), max_prob_vocab))\n",
    "display(predicted_vocab_distributions_df)\n",
    "print(predicted_vocab_distributions_df.iloc[0])"
   ]
  },
  {
   "cell_type": "code",
   "execution_count": 8,
   "metadata": {
    "tags": []
   },
   "outputs": [
    {
     "output_type": "stream",
     "name": "stdout",
     "text": [
      "=============Example without tags=============\n['A_SUBMITTED_COMPLETE', 'A_PARTLYSUBMITTED_COMPLETE', 'A_PREACCEPTED_COMPLETE', 'A_ACCEPTED_COMPLETE', 'O_SELECTED_COMPLETE', 'A_FINALIZED_COMPLETE', 'O_CREATED_COMPLETE', 'O_SENT_COMPLETE', 'W_Completeren aanvraag_COMPLETE', 'O_CANCELLED_COMPLETE', 'O_SELECTED_COMPLETE', 'O_CREATED_COMPLETE', 'O_SENT_COMPLETE', 'W_Nabellen offertes_COMPLETE', 'W_Nabellen offertes_COMPLETE', 'W_Nabellen offertes_COMPLETE', 'W_Nabellen offertes_COMPLETE', 'W_Nabellen offertes_COMPLETE', 'W_Nabellen offertes_COMPLETE', 'W_Nabellen offertes_COMPLETE']\n"
     ]
    }
   ],
   "source": [
    "### Remove tags\n",
    "example_idx_trace_without_tags = [ i for i in  example_idx_trace if not i in explainer.vocab.tags_idx()]\n",
    "example_vocab_trace_without_tags = explainer.model.vocab.list_of_index_to_vocab(example_idx_trace_without_tags)\n",
    "\n",
    "print(\"=============Example without tags=============\")\n",
    "print(example_vocab_trace_without_tags)"
   ]
  },
  {
   "cell_type": "code",
   "execution_count": 9,
   "metadata": {},
   "outputs": [],
   "source": [
    "### Set up arguments for CF\n",
    "feature_names = np.array([\"step_%d\" % (i+1) for i in range(len(example_vocab_trace_without_tags))])\n",
    "without_tags_vocabs = [ v for v in explainer.vocab.vocabs if not \"<\" in v]\n",
    "cat_vars_without_tag = {}\n",
    "for k in feature_names:\n",
    "    cat_vars_without_tag[k] = without_tags_vocabs"
   ]
  },
  {
   "cell_type": "code",
   "execution_count": 10,
   "metadata": {},
   "outputs": [
    {
     "output_type": "stream",
     "name": "stdout",
     "text": [
      "Desired activity is \"A_APPROVED_COMPLETE\"\n"
     ]
    }
   ],
   "source": [
    "#### Define the desired activity.\n",
    "desired_activity = 'A_APPROVED_COMPLETE'\n",
    "print(\"Desired activity is \\\"%s\\\"\" %(desired_activity))"
   ]
  },
  {
   "cell_type": "code",
   "execution_count": 11,
   "metadata": {},
   "outputs": [],
   "source": [
    "dice_binary_model = DiCEBinaryOutputModel(explainer.model, explainer.vocab, desired=explainer.vocab.vocab_to_index(desired_activity), trace_length = len(example_vocab_trace_without_tags), without_tags_vocabs = without_tags_vocabs)"
   ]
  },
  {
   "cell_type": "code",
   "execution_count": 12,
   "metadata": {},
   "outputs": [],
   "source": [
    "d = dice_ml.Data(features=cat_vars_without_tag, outcome_name=\"predicted\",continuous_features = [])\n",
    "m = dice_ml.Model(model= dice_binary_model, backend=\"TF2\")\n",
    "exp = dice_ml.Dice(d, m)"
   ]
  },
  {
   "cell_type": "code",
   "execution_count": 13,
   "metadata": {},
   "outputs": [],
   "source": [
    "example_df = pd.DataFrame([example_vocab_trace_without_tags], columns= feature_names)"
   ]
  },
  {
   "cell_type": "code",
   "execution_count": 14,
   "metadata": {},
   "outputs": [
    {
     "output_type": "execute_result",
     "data": {
      "text/plain": [
       "                 step_1                      step_2                  step_3  \\\n",
       "0  A_SUBMITTED_COMPLETE  A_PARTLYSUBMITTED_COMPLETE  A_PREACCEPTED_COMPLETE   \n",
       "\n",
       "                step_4               step_5                step_6  \\\n",
       "0  A_ACCEPTED_COMPLETE  O_SELECTED_COMPLETE  A_FINALIZED_COMPLETE   \n",
       "\n",
       "               step_7           step_8                           step_9  \\\n",
       "0  O_CREATED_COMPLETE  O_SENT_COMPLETE  W_Completeren aanvraag_COMPLETE   \n",
       "\n",
       "                step_10  ...             step_12          step_13  \\\n",
       "0  O_CANCELLED_COMPLETE  ...  O_CREATED_COMPLETE  O_SENT_COMPLETE   \n",
       "\n",
       "                        step_14                       step_15  \\\n",
       "0  W_Nabellen offertes_COMPLETE  W_Nabellen offertes_COMPLETE   \n",
       "\n",
       "                        step_16                       step_17  \\\n",
       "0  W_Nabellen offertes_COMPLETE  W_Nabellen offertes_COMPLETE   \n",
       "\n",
       "                        step_18                       step_19  \\\n",
       "0  W_Nabellen offertes_COMPLETE  W_Nabellen offertes_COMPLETE   \n",
       "\n",
       "                        step_20               step_21  \n",
       "0  W_Nabellen offertes_COMPLETE  A_CANCELLED_COMPLETE  \n",
       "\n",
       "[1 rows x 21 columns]"
      ],
      "text/html": "<div>\n<style scoped>\n    .dataframe tbody tr th:only-of-type {\n        vertical-align: middle;\n    }\n\n    .dataframe tbody tr th {\n        vertical-align: top;\n    }\n\n    .dataframe thead th {\n        text-align: right;\n    }\n</style>\n<table border=\"1\" class=\"dataframe\">\n  <thead>\n    <tr style=\"text-align: right;\">\n      <th></th>\n      <th>step_1</th>\n      <th>step_2</th>\n      <th>step_3</th>\n      <th>step_4</th>\n      <th>step_5</th>\n      <th>step_6</th>\n      <th>step_7</th>\n      <th>step_8</th>\n      <th>step_9</th>\n      <th>step_10</th>\n      <th>...</th>\n      <th>step_12</th>\n      <th>step_13</th>\n      <th>step_14</th>\n      <th>step_15</th>\n      <th>step_16</th>\n      <th>step_17</th>\n      <th>step_18</th>\n      <th>step_19</th>\n      <th>step_20</th>\n      <th>step_21</th>\n    </tr>\n  </thead>\n  <tbody>\n    <tr>\n      <th>0</th>\n      <td>A_SUBMITTED_COMPLETE</td>\n      <td>A_PARTLYSUBMITTED_COMPLETE</td>\n      <td>A_PREACCEPTED_COMPLETE</td>\n      <td>A_ACCEPTED_COMPLETE</td>\n      <td>O_SELECTED_COMPLETE</td>\n      <td>A_FINALIZED_COMPLETE</td>\n      <td>O_CREATED_COMPLETE</td>\n      <td>O_SENT_COMPLETE</td>\n      <td>W_Completeren aanvraag_COMPLETE</td>\n      <td>O_CANCELLED_COMPLETE</td>\n      <td>...</td>\n      <td>O_CREATED_COMPLETE</td>\n      <td>O_SENT_COMPLETE</td>\n      <td>W_Nabellen offertes_COMPLETE</td>\n      <td>W_Nabellen offertes_COMPLETE</td>\n      <td>W_Nabellen offertes_COMPLETE</td>\n      <td>W_Nabellen offertes_COMPLETE</td>\n      <td>W_Nabellen offertes_COMPLETE</td>\n      <td>W_Nabellen offertes_COMPLETE</td>\n      <td>W_Nabellen offertes_COMPLETE</td>\n      <td>A_CANCELLED_COMPLETE</td>\n    </tr>\n  </tbody>\n</table>\n<p>1 rows × 21 columns</p>\n</div>"
     },
     "metadata": {},
     "execution_count": 14
    }
   ],
   "source": [
    "example_df"
   ]
  },
  {
   "cell_type": "code",
   "execution_count": 24,
   "metadata": {
    "tags": []
   },
   "outputs": [
    {
     "output_type": "stream",
     "name": "stdout",
     "text": [
      "step 1,  loss=660.594\n",
      "step 51,  loss=628.084\n",
      "step 101,  loss=596.864\n",
      "step 151,  loss=566.956\n",
      "step 201,  loss=538.328\n",
      "step 251,  loss=510.943\n",
      "step 301,  loss=484.765\n",
      "step 351,  loss=459.759\n",
      "step 401,  loss=435.888\n",
      "step 451,  loss=413.12\n",
      "step 501,  loss=391.42\n",
      "step 551,  loss=370.754\n",
      "step 601,  loss=351.09\n",
      "step 651,  loss=332.396\n",
      "step 701,  loss=314.64\n",
      "step 751,  loss=297.791\n",
      "step 801,  loss=281.819\n",
      "step 851,  loss=266.693\n",
      "step 901,  loss=252.385\n",
      "step 951,  loss=238.865\n",
      "step 1001,  loss=226.105\n",
      "step 1051,  loss=214.076\n",
      "step 1101,  loss=202.751\n",
      "step 1151,  loss=192.102\n",
      "step 1201,  loss=182.104\n",
      "step 1251,  loss=172.729\n",
      "step 1301,  loss=163.953\n",
      "step 1351,  loss=155.748\n",
      "step 1401,  loss=148.091\n",
      "step 1451,  loss=140.957\n",
      "step 1501,  loss=134.321\n",
      "step 1551,  loss=128.16\n",
      "step 1601,  loss=122.451\n",
      "step 1651,  loss=117.171\n",
      "step 1701,  loss=112.297\n",
      "step 1751,  loss=107.808\n",
      "step 1801,  loss=103.683\n",
      "step 1851,  loss=99.8998\n",
      "step 1901,  loss=96.4394\n",
      "step 1951,  loss=93.2817\n",
      "Diverse Counterfactuals found! total time taken: 05 min 13 sec\n"
     ]
    }
   ],
   "source": [
    "dice_exp = exp.generate_counterfactuals(\n",
    "        example_df,\n",
    "        total_CFs=1,\n",
    "        desired_class=\"opposite\",\n",
    "        min_iter=100, max_iter=2000,\n",
    "        features_to_vary=\"all\",\n",
    "        algorithm = \"DiverseCF\", # DiverseCF, RandomInitCF\n",
    "        proximity_weight=1000, #0.5,\n",
    "        diversity_weight=2000,#1.0,\n",
    "        init_near_query_instance=True,\n",
    "        tie_random = True,\n",
    "        categorical_penalty = 1,\n",
    "        learning_rate=0.0005,\n",
    "        verbose=True,\n",
    "    )"
   ]
  },
  {
   "cell_type": "code",
   "execution_count": 25,
   "metadata": {},
   "outputs": [
    {
     "output_type": "stream",
     "name": "stdout",
     "text": [
      "[['A_ACCEPTED_COMPLETE', 'A_SUBMITTED_COMPLETE'], ['A_ACCEPTED_COMPLETE', 'A_PARTLYSUBMITTED_COMPLETE', 'A_REGISTERED_COMPLETE'], ['A_PREACCEPTED_COMPLETE', 'A_REGISTERED_COMPLETE'], ['O_SENT_BACK_COMPLETE', 'A_ACCEPTED_COMPLETE'], ['O_SELECTED_COMPLETE', 'A_REGISTERED_COMPLETE'], ['A_FINALIZED_COMPLETE', 'O_ACCEPTED_COMPLETE'], ['O_CREATED_COMPLETE'], ['O_SENT_COMPLETE', 'A_DECLINED_COMPLETE'], ['W_Completeren aanvraag_COMPLETE', 'O_CREATED_COMPLETE'], ['A_ACCEPTED_COMPLETE', 'A_ACTIVATED_COMPLETE', 'A_APPROVED_COMPLETE', 'A_CANCELLED_COMPLETE', 'A_DECLINED_COMPLETE', 'A_FINALIZED_COMPLETE', 'A_PARTLYSUBMITTED_COMPLETE', 'A_PREACCEPTED_COMPLETE', 'A_REGISTERED_COMPLETE', 'A_SUBMITTED_COMPLETE', 'O_ACCEPTED_COMPLETE', 'O_CANCELLED_COMPLETE', 'O_CREATED_COMPLETE', 'O_DECLINED_COMPLETE', 'O_SELECTED_COMPLETE', 'O_SENT_BACK_COMPLETE', 'O_SENT_COMPLETE', 'W_Afhandelen leads_COMPLETE', 'W_Beoordelen fraude_COMPLETE', 'W_Completeren aanvraag_COMPLETE', 'W_Nabellen incomplete dossiers_COMPLETE', 'W_Nabellen offertes_COMPLETE', 'W_Valideren aanvraag_COMPLETE'], ['A_ACCEPTED_COMPLETE', 'A_ACTIVATED_COMPLETE', 'A_APPROVED_COMPLETE', 'A_CANCELLED_COMPLETE', 'A_DECLINED_COMPLETE', 'A_FINALIZED_COMPLETE', 'A_PARTLYSUBMITTED_COMPLETE', 'A_PREACCEPTED_COMPLETE', 'A_REGISTERED_COMPLETE', 'A_SUBMITTED_COMPLETE', 'O_ACCEPTED_COMPLETE', 'O_CANCELLED_COMPLETE', 'O_CREATED_COMPLETE', 'O_DECLINED_COMPLETE', 'O_SELECTED_COMPLETE', 'O_SENT_BACK_COMPLETE', 'O_SENT_COMPLETE', 'W_Afhandelen leads_COMPLETE', 'W_Beoordelen fraude_COMPLETE', 'W_Completeren aanvraag_COMPLETE', 'W_Nabellen incomplete dossiers_COMPLETE', 'W_Nabellen offertes_COMPLETE', 'W_Valideren aanvraag_COMPLETE'], ['A_ACCEPTED_COMPLETE', 'A_ACTIVATED_COMPLETE', 'A_APPROVED_COMPLETE', 'A_CANCELLED_COMPLETE', 'A_DECLINED_COMPLETE', 'A_FINALIZED_COMPLETE', 'A_PARTLYSUBMITTED_COMPLETE', 'A_PREACCEPTED_COMPLETE', 'A_REGISTERED_COMPLETE', 'A_SUBMITTED_COMPLETE', 'O_ACCEPTED_COMPLETE', 'O_CANCELLED_COMPLETE', 'O_CREATED_COMPLETE', 'O_DECLINED_COMPLETE', 'O_SELECTED_COMPLETE', 'O_SENT_BACK_COMPLETE', 'O_SENT_COMPLETE', 'W_Afhandelen leads_COMPLETE', 'W_Beoordelen fraude_COMPLETE', 'W_Completeren aanvraag_COMPLETE', 'W_Nabellen incomplete dossiers_COMPLETE', 'W_Nabellen offertes_COMPLETE', 'W_Valideren aanvraag_COMPLETE'], ['A_ACCEPTED_COMPLETE', 'A_ACTIVATED_COMPLETE', 'A_APPROVED_COMPLETE', 'A_CANCELLED_COMPLETE', 'A_DECLINED_COMPLETE', 'A_FINALIZED_COMPLETE', 'A_PARTLYSUBMITTED_COMPLETE', 'A_PREACCEPTED_COMPLETE', 'A_REGISTERED_COMPLETE', 'A_SUBMITTED_COMPLETE', 'O_ACCEPTED_COMPLETE', 'O_CANCELLED_COMPLETE', 'O_CREATED_COMPLETE', 'O_DECLINED_COMPLETE', 'O_SELECTED_COMPLETE', 'O_SENT_BACK_COMPLETE', 'O_SENT_COMPLETE', 'W_Afhandelen leads_COMPLETE', 'W_Beoordelen fraude_COMPLETE', 'W_Completeren aanvraag_COMPLETE', 'W_Nabellen incomplete dossiers_COMPLETE', 'W_Nabellen offertes_COMPLETE', 'W_Valideren aanvraag_COMPLETE'], ['A_ACCEPTED_COMPLETE', 'A_ACTIVATED_COMPLETE', 'A_APPROVED_COMPLETE', 'A_CANCELLED_COMPLETE', 'A_DECLINED_COMPLETE', 'A_FINALIZED_COMPLETE', 'A_PARTLYSUBMITTED_COMPLETE', 'A_PREACCEPTED_COMPLETE', 'A_REGISTERED_COMPLETE', 'A_SUBMITTED_COMPLETE', 'O_ACCEPTED_COMPLETE', 'O_CANCELLED_COMPLETE', 'O_CREATED_COMPLETE', 'O_DECLINED_COMPLETE', 'O_SELECTED_COMPLETE', 'O_SENT_BACK_COMPLETE', 'O_SENT_COMPLETE', 'W_Afhandelen leads_COMPLETE', 'W_Beoordelen fraude_COMPLETE', 'W_Completeren aanvraag_COMPLETE', 'W_Nabellen incomplete dossiers_COMPLETE', 'W_Nabellen offertes_COMPLETE', 'W_Valideren aanvraag_COMPLETE'], ['A_ACCEPTED_COMPLETE', 'A_ACTIVATED_COMPLETE', 'A_APPROVED_COMPLETE', 'A_CANCELLED_COMPLETE', 'A_DECLINED_COMPLETE', 'A_FINALIZED_COMPLETE', 'A_PARTLYSUBMITTED_COMPLETE', 'A_PREACCEPTED_COMPLETE', 'A_REGISTERED_COMPLETE', 'A_SUBMITTED_COMPLETE', 'O_ACCEPTED_COMPLETE', 'O_CANCELLED_COMPLETE', 'O_CREATED_COMPLETE', 'O_DECLINED_COMPLETE', 'O_SELECTED_COMPLETE', 'O_SENT_BACK_COMPLETE', 'O_SENT_COMPLETE', 'W_Afhandelen leads_COMPLETE', 'W_Beoordelen fraude_COMPLETE', 'W_Completeren aanvraag_COMPLETE', 'W_Nabellen incomplete dossiers_COMPLETE', 'W_Nabellen offertes_COMPLETE', 'W_Valideren aanvraag_COMPLETE'], ['A_ACCEPTED_COMPLETE', 'A_ACTIVATED_COMPLETE', 'A_APPROVED_COMPLETE', 'A_CANCELLED_COMPLETE', 'A_DECLINED_COMPLETE', 'A_FINALIZED_COMPLETE', 'A_PARTLYSUBMITTED_COMPLETE', 'A_PREACCEPTED_COMPLETE', 'A_REGISTERED_COMPLETE', 'A_SUBMITTED_COMPLETE', 'O_ACCEPTED_COMPLETE', 'O_CANCELLED_COMPLETE', 'O_CREATED_COMPLETE', 'O_DECLINED_COMPLETE', 'O_SELECTED_COMPLETE', 'O_SENT_BACK_COMPLETE', 'O_SENT_COMPLETE', 'W_Afhandelen leads_COMPLETE', 'W_Beoordelen fraude_COMPLETE', 'W_Completeren aanvraag_COMPLETE', 'W_Nabellen incomplete dossiers_COMPLETE', 'W_Nabellen offertes_COMPLETE', 'W_Valideren aanvraag_COMPLETE'], ['A_ACCEPTED_COMPLETE', 'A_ACTIVATED_COMPLETE', 'A_APPROVED_COMPLETE', 'A_CANCELLED_COMPLETE', 'A_DECLINED_COMPLETE', 'A_FINALIZED_COMPLETE', 'A_PARTLYSUBMITTED_COMPLETE', 'A_PREACCEPTED_COMPLETE', 'A_REGISTERED_COMPLETE', 'A_SUBMITTED_COMPLETE', 'O_ACCEPTED_COMPLETE', 'O_CANCELLED_COMPLETE', 'O_CREATED_COMPLETE', 'O_DECLINED_COMPLETE', 'O_SELECTED_COMPLETE', 'O_SENT_BACK_COMPLETE', 'O_SENT_COMPLETE', 'W_Afhandelen leads_COMPLETE', 'W_Beoordelen fraude_COMPLETE', 'W_Completeren aanvraag_COMPLETE', 'W_Nabellen incomplete dossiers_COMPLETE', 'W_Nabellen offertes_COMPLETE', 'W_Valideren aanvraag_COMPLETE'], ['A_ACCEPTED_COMPLETE', 'A_ACTIVATED_COMPLETE', 'A_APPROVED_COMPLETE', 'A_CANCELLED_COMPLETE', 'A_DECLINED_COMPLETE', 'A_FINALIZED_COMPLETE', 'A_PARTLYSUBMITTED_COMPLETE', 'A_PREACCEPTED_COMPLETE', 'A_REGISTERED_COMPLETE', 'A_SUBMITTED_COMPLETE', 'O_ACCEPTED_COMPLETE', 'O_CANCELLED_COMPLETE', 'O_CREATED_COMPLETE', 'O_DECLINED_COMPLETE', 'O_SELECTED_COMPLETE', 'O_SENT_BACK_COMPLETE', 'O_SENT_COMPLETE', 'W_Afhandelen leads_COMPLETE', 'W_Beoordelen fraude_COMPLETE', 'W_Completeren aanvraag_COMPLETE', 'W_Nabellen incomplete dossiers_COMPLETE', 'W_Nabellen offertes_COMPLETE', 'W_Valideren aanvraag_COMPLETE'], ['A_ACCEPTED_COMPLETE', 'A_ACTIVATED_COMPLETE', 'A_APPROVED_COMPLETE', 'A_CANCELLED_COMPLETE', 'A_DECLINED_COMPLETE', 'A_FINALIZED_COMPLETE', 'A_PARTLYSUBMITTED_COMPLETE', 'A_PREACCEPTED_COMPLETE', 'A_REGISTERED_COMPLETE', 'A_SUBMITTED_COMPLETE', 'O_ACCEPTED_COMPLETE', 'O_CANCELLED_COMPLETE', 'O_CREATED_COMPLETE', 'O_DECLINED_COMPLETE', 'O_SELECTED_COMPLETE', 'O_SENT_BACK_COMPLETE', 'O_SENT_COMPLETE', 'W_Afhandelen leads_COMPLETE', 'W_Beoordelen fraude_COMPLETE', 'W_Completeren aanvraag_COMPLETE', 'W_Nabellen incomplete dossiers_COMPLETE', 'W_Nabellen offertes_COMPLETE', 'W_Valideren aanvraag_COMPLETE'], ['A_ACCEPTED_COMPLETE', 'A_ACTIVATED_COMPLETE', 'A_APPROVED_COMPLETE', 'A_CANCELLED_COMPLETE', 'A_DECLINED_COMPLETE', 'A_FINALIZED_COMPLETE', 'A_PARTLYSUBMITTED_COMPLETE', 'A_PREACCEPTED_COMPLETE', 'A_REGISTERED_COMPLETE', 'A_SUBMITTED_COMPLETE', 'O_ACCEPTED_COMPLETE', 'O_CANCELLED_COMPLETE', 'O_CREATED_COMPLETE', 'O_DECLINED_COMPLETE', 'O_SELECTED_COMPLETE', 'O_SENT_BACK_COMPLETE', 'O_SENT_COMPLETE', 'W_Afhandelen leads_COMPLETE', 'W_Beoordelen fraude_COMPLETE', 'W_Completeren aanvraag_COMPLETE', 'W_Nabellen incomplete dossiers_COMPLETE', 'W_Nabellen offertes_COMPLETE', 'W_Valideren aanvraag_COMPLETE']]\n"
     ]
    }
   ],
   "source": [
    "#### Check what permutations are fed into the model. ####\n",
    "all_received_activities = []\n",
    "for i in range(len(example_vocab_trace_without_tags)):\n",
    "    trace = explainer.model.vocab.list_of_index_to_vocab(list(set((np.squeeze(np.array(dice_binary_model.all_trace))[:, i]).tolist())))\n",
    "    all_received_activities.append(trace)\n",
    "print(all_received_activities)"
   ]
  },
  {
   "cell_type": "code",
   "execution_count": 26,
   "metadata": {},
   "outputs": [
    {
     "output_type": "stream",
     "name": "stdout",
     "text": [
      "All inputs are the same: False\n"
     ]
    }
   ],
   "source": [
    "########## Checking if all the permutation are the same (Shouldn't be) ##########\n",
    "all_cf_are_same = all([all((dice_binary_model.all_cf_input[1] == dice_binary_model.all_cf_input[i]).tolist()[0]) for i in range(len(dice_binary_model.all_cf_input))][1:])\n",
    "print(\"All inputs are the same: %s\" % (all_cf_are_same))"
   ]
  },
  {
   "cell_type": "code",
   "execution_count": 27,
   "metadata": {},
   "outputs": [
    {
     "output_type": "execute_result",
     "data": {
      "text/plain": [
       "['<EOS>',\n",
       " 'A_ACCEPTED_COMPLETE',\n",
       " 'A_ACTIVATED_COMPLETE',\n",
       " 'A_APPROVED_COMPLETE',\n",
       " 'A_CANCELLED_COMPLETE',\n",
       " 'A_DECLINED_COMPLETE',\n",
       " 'A_FINALIZED_COMPLETE',\n",
       " 'A_PARTLYSUBMITTED_COMPLETE',\n",
       " 'A_PREACCEPTED_COMPLETE',\n",
       " 'A_REGISTERED_COMPLETE',\n",
       " 'O_ACCEPTED_COMPLETE',\n",
       " 'O_CANCELLED_COMPLETE',\n",
       " 'O_CREATED_COMPLETE',\n",
       " 'O_DECLINED_COMPLETE',\n",
       " 'O_SELECTED_COMPLETE',\n",
       " 'O_SENT_BACK_COMPLETE',\n",
       " 'O_SENT_COMPLETE',\n",
       " 'W_Afhandelen leads_COMPLETE',\n",
       " 'W_Beoordelen fraude_COMPLETE',\n",
       " 'W_Completeren aanvraag_COMPLETE',\n",
       " 'W_Nabellen incomplete dossiers_COMPLETE',\n",
       " 'W_Nabellen offertes_COMPLETE',\n",
       " 'W_Valideren aanvraag_COMPLETE']"
      ]
     },
     "metadata": {},
     "execution_count": 27
    }
   ],
   "source": [
    "############### All Predicted next activity ###############\n",
    "from itertools import chain\n",
    "explainer.model.vocab.list_of_index_to_vocab(list(set(list(chain.from_iterable(dice_binary_model.all_predicted)))))"
   ]
  },
  {
   "cell_type": "code",
   "execution_count": 28,
   "metadata": {},
   "outputs": [
    {
     "output_type": "stream",
     "name": "stdout",
     "text": [
      "Query instance (original outcome : 0)\n"
     ]
    },
    {
     "output_type": "display_data",
     "data": {
      "text/plain": "                 step_1                      step_2                  step_3  \\\n0  A_SUBMITTED_COMPLETE  A_PARTLYSUBMITTED_COMPLETE  A_PREACCEPTED_COMPLETE   \n\n                step_4               step_5                step_6  \\\n0  A_ACCEPTED_COMPLETE  O_SELECTED_COMPLETE  A_FINALIZED_COMPLETE   \n\n               step_7           step_8                           step_9  \\\n0  O_CREATED_COMPLETE  O_SENT_COMPLETE  W_Completeren aanvraag_COMPLETE   \n\n                step_10  ...             step_12          step_13  \\\n0  O_CANCELLED_COMPLETE  ...  O_CREATED_COMPLETE  O_SENT_COMPLETE   \n\n                        step_14                       step_15  \\\n0  W_Nabellen offertes_COMPLETE  W_Nabellen offertes_COMPLETE   \n\n                        step_16                       step_17  \\\n0  W_Nabellen offertes_COMPLETE  W_Nabellen offertes_COMPLETE   \n\n                        step_18                       step_19  \\\n0  W_Nabellen offertes_COMPLETE  W_Nabellen offertes_COMPLETE   \n\n                        step_20 predicted  \n0  W_Nabellen offertes_COMPLETE       0.0  \n\n[1 rows x 21 columns]",
      "text/html": "<div>\n<style scoped>\n    .dataframe tbody tr th:only-of-type {\n        vertical-align: middle;\n    }\n\n    .dataframe tbody tr th {\n        vertical-align: top;\n    }\n\n    .dataframe thead th {\n        text-align: right;\n    }\n</style>\n<table border=\"1\" class=\"dataframe\">\n  <thead>\n    <tr style=\"text-align: right;\">\n      <th></th>\n      <th>step_1</th>\n      <th>step_2</th>\n      <th>step_3</th>\n      <th>step_4</th>\n      <th>step_5</th>\n      <th>step_6</th>\n      <th>step_7</th>\n      <th>step_8</th>\n      <th>step_9</th>\n      <th>step_10</th>\n      <th>...</th>\n      <th>step_12</th>\n      <th>step_13</th>\n      <th>step_14</th>\n      <th>step_15</th>\n      <th>step_16</th>\n      <th>step_17</th>\n      <th>step_18</th>\n      <th>step_19</th>\n      <th>step_20</th>\n      <th>predicted</th>\n    </tr>\n  </thead>\n  <tbody>\n    <tr>\n      <th>0</th>\n      <td>A_SUBMITTED_COMPLETE</td>\n      <td>A_PARTLYSUBMITTED_COMPLETE</td>\n      <td>A_PREACCEPTED_COMPLETE</td>\n      <td>A_ACCEPTED_COMPLETE</td>\n      <td>O_SELECTED_COMPLETE</td>\n      <td>A_FINALIZED_COMPLETE</td>\n      <td>O_CREATED_COMPLETE</td>\n      <td>O_SENT_COMPLETE</td>\n      <td>W_Completeren aanvraag_COMPLETE</td>\n      <td>O_CANCELLED_COMPLETE</td>\n      <td>...</td>\n      <td>O_CREATED_COMPLETE</td>\n      <td>O_SENT_COMPLETE</td>\n      <td>W_Nabellen offertes_COMPLETE</td>\n      <td>W_Nabellen offertes_COMPLETE</td>\n      <td>W_Nabellen offertes_COMPLETE</td>\n      <td>W_Nabellen offertes_COMPLETE</td>\n      <td>W_Nabellen offertes_COMPLETE</td>\n      <td>W_Nabellen offertes_COMPLETE</td>\n      <td>W_Nabellen offertes_COMPLETE</td>\n      <td>0.0</td>\n    </tr>\n  </tbody>\n</table>\n<p>1 rows × 21 columns</p>\n</div>"
     },
     "metadata": {}
    },
    {
     "output_type": "stream",
     "name": "stdout",
     "text": [
      "\nDiverse Counterfactual set without sparsity correction since only metadata about each  feature is available (new outcome:  1.0\n"
     ]
    },
    {
     "output_type": "display_data",
     "data": {
      "text/plain": "  step_1               step_2 step_3 step_4 step_5 step_6 step_7 step_8  \\\n0      -  A_ACCEPTED_COMPLETE      -      -      -      -      -      -   \n\n  step_9              step_10  ...                       step_12  \\\n0      -  A_ACCEPTED_COMPLETE  ...  W_Nabellen offertes_COMPLETE   \n\n               step_13                        step_14             step_15  \\\n0  O_DECLINED_COMPLETE  W_Valideren aanvraag_COMPLETE  O_CREATED_COMPLETE   \n\n                      step_16              step_17          step_18  \\\n0  A_PARTLYSUBMITTED_COMPLETE  A_DECLINED_COMPLETE  O_SENT_COMPLETE   \n\n                       step_19                step_20 predicted  \n0  W_Afhandelen leads_COMPLETE  A_REGISTERED_COMPLETE     0.524  \n\n[1 rows x 21 columns]",
      "text/html": "<div>\n<style scoped>\n    .dataframe tbody tr th:only-of-type {\n        vertical-align: middle;\n    }\n\n    .dataframe tbody tr th {\n        vertical-align: top;\n    }\n\n    .dataframe thead th {\n        text-align: right;\n    }\n</style>\n<table border=\"1\" class=\"dataframe\">\n  <thead>\n    <tr style=\"text-align: right;\">\n      <th></th>\n      <th>step_1</th>\n      <th>step_2</th>\n      <th>step_3</th>\n      <th>step_4</th>\n      <th>step_5</th>\n      <th>step_6</th>\n      <th>step_7</th>\n      <th>step_8</th>\n      <th>step_9</th>\n      <th>step_10</th>\n      <th>...</th>\n      <th>step_12</th>\n      <th>step_13</th>\n      <th>step_14</th>\n      <th>step_15</th>\n      <th>step_16</th>\n      <th>step_17</th>\n      <th>step_18</th>\n      <th>step_19</th>\n      <th>step_20</th>\n      <th>predicted</th>\n    </tr>\n  </thead>\n  <tbody>\n    <tr>\n      <th>0</th>\n      <td>-</td>\n      <td>A_ACCEPTED_COMPLETE</td>\n      <td>-</td>\n      <td>-</td>\n      <td>-</td>\n      <td>-</td>\n      <td>-</td>\n      <td>-</td>\n      <td>-</td>\n      <td>A_ACCEPTED_COMPLETE</td>\n      <td>...</td>\n      <td>W_Nabellen offertes_COMPLETE</td>\n      <td>O_DECLINED_COMPLETE</td>\n      <td>W_Valideren aanvraag_COMPLETE</td>\n      <td>O_CREATED_COMPLETE</td>\n      <td>A_PARTLYSUBMITTED_COMPLETE</td>\n      <td>A_DECLINED_COMPLETE</td>\n      <td>O_SENT_COMPLETE</td>\n      <td>W_Afhandelen leads_COMPLETE</td>\n      <td>A_REGISTERED_COMPLETE</td>\n      <td>0.524</td>\n    </tr>\n  </tbody>\n</table>\n<p>1 rows × 21 columns</p>\n</div>"
     },
     "metadata": {}
    }
   ],
   "source": [
    "dice_exp.visualize_as_dataframe(show_only_changes=True, display_sparse_df=False)"
   ]
  },
  {
   "cell_type": "code",
   "execution_count": 29,
   "metadata": {},
   "outputs": [
    {
     "output_type": "stream",
     "name": "stdout",
     "text": [
      "['A_SUBMITTED_COMPLETE', 'A_PARTLYSUBMITTED_COMPLETE', 'A_PREACCEPTED_COMPLETE', 'A_ACCEPTED_COMPLETE', 'O_SELECTED_COMPLETE', 'A_FINALIZED_COMPLETE', 'O_CREATED_COMPLETE', 'O_SENT_COMPLETE', 'W_Completeren aanvraag_COMPLETE', 'O_CANCELLED_COMPLETE', 'O_SELECTED_COMPLETE', 'O_CREATED_COMPLETE', 'O_SENT_COMPLETE', 'W_Nabellen offertes_COMPLETE', 'W_Nabellen offertes_COMPLETE', 'W_Nabellen offertes_COMPLETE', 'W_Nabellen offertes_COMPLETE', 'W_Nabellen offertes_COMPLETE', 'W_Nabellen offertes_COMPLETE', 'W_Nabellen offertes_COMPLETE']\n"
     ]
    }
   ],
   "source": [
    "######## Print the example trace ########\n",
    "print(list(example_df.iloc[0]))"
   ]
  },
  {
   "cell_type": "code",
   "execution_count": 30,
   "metadata": {},
   "outputs": [
    {
     "output_type": "stream",
     "name": "stdout",
     "text": [
      "['A_SUBMITTED_COMPLETE', 'A_ACCEPTED_COMPLETE', 'A_PREACCEPTED_COMPLETE', 'A_ACCEPTED_COMPLETE', 'O_SELECTED_COMPLETE', 'A_FINALIZED_COMPLETE', 'O_CREATED_COMPLETE', 'O_SENT_COMPLETE', 'W_Completeren aanvraag_COMPLETE', 'A_ACCEPTED_COMPLETE', 'A_PARTLYSUBMITTED_COMPLETE', 'W_Nabellen offertes_COMPLETE', 'O_DECLINED_COMPLETE', 'W_Valideren aanvraag_COMPLETE', 'O_CREATED_COMPLETE', 'A_PARTLYSUBMITTED_COMPLETE', 'A_DECLINED_COMPLETE', 'O_SENT_COMPLETE', 'W_Afhandelen leads_COMPLETE', 'A_REGISTERED_COMPLETE']\n"
     ]
    }
   ],
   "source": [
    "######## Print the counterfactual trace ########\n",
    "print(list(dice_exp.final_cfs_df.iloc[0][:-1]))"
   ]
  },
  {
   "cell_type": "code",
   "execution_count": null,
   "metadata": {},
   "outputs": [],
   "source": []
  }
 ]
}