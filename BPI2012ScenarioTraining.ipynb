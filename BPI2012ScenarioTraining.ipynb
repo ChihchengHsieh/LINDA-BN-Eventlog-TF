{
 "cells": [
  {
   "cell_type": "code",
   "execution_count": 1,
   "id": "ab7a9925",
   "metadata": {},
   "outputs": [],
   "source": [
    "from Data import BPI2012ScenarioDataset\n",
    "from Parameters.DatasetSetting import BPI2012ScenarioSetting\n",
    "from Utils.SaveUtils import get_json_dict\n",
    "from Parameters.CommonTrainingParameters import TrainingSetting, LossSetting, OptimizerSetting\n",
    "from Parameters.ModelParameters import TwoLayerLSTMScenarioCfWithResourceModelParameters\n",
    "from Models import TwoLayerLSTMScenarioCfWithResourceModel\n",
    "from Controller import ModelTrainingController\n",
    "from Parameters.Enums import SelectableLoss "
   ]
  },
  {
   "cell_type": "code",
   "execution_count": 2,
   "id": "ddc24fa1",
   "metadata": {},
   "outputs": [],
   "source": [
    "bpi_2012_scenario_parms = BPI2012ScenarioSetting()"
   ]
  },
  {
   "cell_type": "code",
   "execution_count": 3,
   "id": "1111a594",
   "metadata": {},
   "outputs": [
    {
     "data": {
      "text/plain": [
       "{'file_path': './datasets/event_logs/BPI_Challenge_2012.xes',\n",
       " 'preprocessed_folder_path': './datasets/preprocessed/BPI_Challenge_2012_scenario',\n",
       " 'include_types': ['A', 'O', 'W'],\n",
       " 'include_complete_only': True,\n",
       " 'sample_times': 20}"
      ]
     },
     "execution_count": 3,
     "metadata": {},
     "output_type": "execute_result"
    }
   ],
   "source": [
    "get_json_dict(bpi_2012_scenario_parms)"
   ]
  },
  {
   "cell_type": "code",
   "execution_count": 4,
   "id": "73b78b64",
   "metadata": {},
   "outputs": [
    {
     "name": "stderr",
     "output_type": "stream",
     "text": [
      "parsing log, completed traces :: 100%|██████████| 13087/13087 [00:05<00:00, 2430.82it/s]\n"
     ]
    },
    {
     "name": "stdout",
     "output_type": "stream",
     "text": [
      "\n",
      "========================================\n",
      "| Preprocessed data saved successfully \n",
      "========================================\n"
     ]
    }
   ],
   "source": [
    "dataset = BPI2012ScenarioDataset(bpi_2012_scenario_parms)"
   ]
  },
  {
   "cell_type": "code",
   "execution_count": 5,
   "id": "d3821aa2",
   "metadata": {},
   "outputs": [],
   "source": [
    "model_params = TwoLayerLSTMScenarioCfWithResourceModelParameters()"
   ]
  },
  {
   "cell_type": "code",
   "execution_count": 6,
   "id": "e15bceb1",
   "metadata": {},
   "outputs": [
    {
     "data": {
      "text/plain": [
       "{'activity_embedding_dim': 32,\n",
       " 'resource_embedding_dim': 128,\n",
       " 'lstm_hidden': 64,\n",
       " 'dense_dim': 64,\n",
       " 'dropout': 0.1}"
      ]
     },
     "execution_count": 6,
     "metadata": {},
     "output_type": "execute_result"
    }
   ],
   "source": [
    "get_json_dict(model_params)"
   ]
  },
  {
   "cell_type": "code",
   "execution_count": 7,
   "id": "62b83b60",
   "metadata": {},
   "outputs": [],
   "source": [
    "model = TwoLayerLSTMScenarioCfWithResourceModel(\n",
    "    activity_vocab = dataset.activity_vocab,\n",
    "    resource_vocab = dataset.resource_vocab,\n",
    "    parameters = model_params\n",
    ")"
   ]
  },
  {
   "cell_type": "code",
   "execution_count": 8,
   "id": "2b1ca52a",
   "metadata": {},
   "outputs": [],
   "source": [
    "train_params = TrainingSetting(\n",
    "    stop_epoch=1,\n",
    "    \n",
    ")"
   ]
  },
  {
   "cell_type": "code",
   "execution_count": 9,
   "id": "3e3d73af",
   "metadata": {},
   "outputs": [
    {
     "data": {
      "text/plain": [
       "{'stop_epoch': 1,\n",
       " 'batch_size': 128,\n",
       " 'verbose_freq': 250,\n",
       " 'run_validation_freq': 80,\n",
       " 'train_test_split_portion': [0.8, 0.1],\n",
       " 'random_seed': 12345}"
      ]
     },
     "execution_count": 9,
     "metadata": {},
     "output_type": "execute_result"
    }
   ],
   "source": [
    "get_json_dict(train_params)"
   ]
  },
  {
   "cell_type": "code",
   "execution_count": 10,
   "id": "e9485aa5",
   "metadata": {},
   "outputs": [],
   "source": [
    "loss_params = LossSetting(\n",
    "    loss = SelectableLoss.BCE\n",
    ")"
   ]
  },
  {
   "cell_type": "code",
   "execution_count": 11,
   "id": "a3dfcad4",
   "metadata": {},
   "outputs": [
    {
     "data": {
      "text/plain": [
       "{'loss': 'BCE'}"
      ]
     },
     "execution_count": 11,
     "metadata": {},
     "output_type": "execute_result"
    }
   ],
   "source": [
    "get_json_dict(loss_params)"
   ]
  },
  {
   "cell_type": "code",
   "execution_count": 12,
   "id": "9473ba0b",
   "metadata": {},
   "outputs": [],
   "source": [
    "optim_params = OptimizerSetting()"
   ]
  },
  {
   "cell_type": "code",
   "execution_count": 13,
   "id": "f98ed4eb",
   "metadata": {},
   "outputs": [
    {
     "data": {
      "text/plain": [
       "{'optimizer': 'Adam',\n",
       " 'learning_rate': 0.005,\n",
       " 'l2': 1e-10,\n",
       " 'lr_scheduler': 'ExponentialDecay',\n",
       " 'lr_step_scheduler_step': 800,\n",
       " 'lr_setp_scheduler_gamma': 0.8,\n",
       " 'lr_exp_decay_scheduler_step': 1000,\n",
       " 'lr_exp_decay_scheduler_rate': 0.96,\n",
       " 'lr_exp_decay_scheduler_staircase': True,\n",
       " 'SGD_momentum': 0.9}"
      ]
     },
     "execution_count": 13,
     "metadata": {},
     "output_type": "execute_result"
    }
   ],
   "source": [
    "get_json_dict(optim_params)"
   ]
  },
  {
   "cell_type": "code",
   "execution_count": 14,
   "id": "55ee3dfb",
   "metadata": {},
   "outputs": [
    {
     "name": "stdout",
     "output_type": "stream",
     "text": [
      "\n",
      "========================================\n",
      "| Running on /job:localhost/replica:0/task:0/device:CPU:0  \n",
      "========================================\n"
     ]
    }
   ],
   "source": [
    "controller = ModelTrainingController(\n",
    "    dataset,\n",
    "    model,\n",
    "    train_params,\n",
    "    optim_params,\n",
    "    loss_params,\n",
    ")"
   ]
  },
  {
   "cell_type": "code",
   "execution_count": 15,
   "id": "81802104",
   "metadata": {},
   "outputs": [
    {
     "name": "stdout",
     "output_type": "stream",
     "text": [
      "\n",
      "========================================\n",
      "| Training records in logs/gradient_tape/20210629-012022 \n",
      "========================================\n",
      "\n",
      "========================================\n",
      "| Total epochs: 1 \n",
      "========================================\n",
      "\n",
      "========================================\n",
      "| Total steps: 3272 \n",
      "========================================\n",
      "\n",
      "========================================\n",
      "| Start epoch 0 \n",
      "========================================\n",
      "\n",
      "========================================\n",
      "| Evaluation result | Loss [0.2251] | Accuracy [0.9027]  \n",
      "========================================\n",
      "\n",
      "========================================\n",
      "| Evaluation result | Loss [0.2530] | Accuracy [0.9078]  \n",
      "========================================\n",
      "\n",
      "========================================\n",
      "| Evaluation result | Loss [0.1712] | Accuracy [0.9240]  \n",
      "========================================\n",
      "\n",
      "========================================\n",
      "| Evaluation result | Loss [0.1009] | Accuracy [0.9571]  \n",
      "========================================\n",
      "\n",
      "========================================\n",
      "| Evaluation result | Loss [0.0541] | Accuracy [0.9618]  \n",
      "========================================\n",
      "\n",
      "========================================\n",
      "| Evaluation result | Loss [0.0488] | Accuracy [0.9648]  \n",
      "========================================\n",
      "\n",
      "========================================\n",
      "| Evaluation result | Loss [0.0357] | Accuracy [0.9852]  \n",
      "========================================\n",
      "\n",
      "========================================\n",
      "| Evaluation result | Loss [0.0356] | Accuracy [0.9852]  \n",
      "========================================\n",
      "\n",
      "========================================\n",
      "| Evaluation result | Loss [0.0328] | Accuracy [0.9851]  \n",
      "========================================\n",
      "\n",
      "========================================\n",
      "| Evaluation result | Loss [0.0329] | Accuracy [0.9853]  \n",
      "========================================\n",
      "\n",
      "========================================\n",
      "| Evaluation result | Loss [0.0329] | Accuracy [0.9854]  \n",
      "========================================\n",
      "\n",
      "========================================\n",
      "| Evaluation result | Loss [0.0336] | Accuracy [0.9863]  \n",
      "========================================\n",
      "\n",
      "========================================\n",
      "| Evaluation result | Loss [0.0335] | Accuracy [0.9860]  \n",
      "========================================\n",
      "\n",
      "========================================\n",
      "| Evaluation result | Loss [0.0332] | Accuracy [0.9860]  \n",
      "========================================\n",
      "\n",
      "========================================\n",
      "| Evaluation result | Loss [0.0328] | Accuracy [0.9854]  \n",
      "========================================\n",
      "\n",
      "========================================\n",
      "| Evaluation result | Loss [0.0326] | Accuracy [0.9851]  \n",
      "========================================\n",
      "\n",
      "========================================\n",
      "| Evaluation result | Loss [0.0327] | Accuracy [0.9854]  \n",
      "========================================\n",
      "\n",
      "========================================\n",
      "| Evaluation result | Loss [0.0325] | Accuracy [0.9853]  \n",
      "========================================\n",
      "\n",
      "========================================\n",
      "| Evaluation result | Loss [0.0326] | Accuracy [0.9857]  \n",
      "========================================\n",
      "\n",
      "========================================\n",
      "| Evaluation result | Loss [0.0325] | Accuracy [0.9853]  \n",
      "========================================\n",
      "\n",
      "========================================\n",
      "| Evaluation result | Loss [0.0327] | Accuracy [0.9856]  \n",
      "========================================\n",
      "\n",
      "========================================\n",
      "| Evaluation result | Loss [0.0325] | Accuracy [0.9855]  \n",
      "========================================\n",
      "\n",
      "========================================\n",
      "| Evaluation result | Loss [0.0325] | Accuracy [0.9856]  \n",
      "========================================\n",
      "\n",
      "========================================\n",
      "| Evaluation result | Loss [0.0359] | Accuracy [0.9848]  \n",
      "========================================\n",
      "\n",
      "========================================\n",
      "| Evaluation result | Loss [0.0328] | Accuracy [0.9851]  \n",
      "========================================\n",
      "\n",
      "========================================\n",
      "| Evaluation result | Loss [0.0326] | Accuracy [0.9857]  \n",
      "========================================\n",
      "\n",
      "========================================\n",
      "| Evaluation result | Loss [0.0325] | Accuracy [0.9851]  \n",
      "========================================\n",
      "\n",
      "========================================\n",
      "| Evaluation result | Loss [0.0325] | Accuracy [0.9859]  \n",
      "========================================\n",
      "\n",
      "========================================\n",
      "| Evaluation result | Loss [0.0325] | Accuracy [0.9852]  \n",
      "========================================\n",
      "\n",
      "========================================\n",
      "| Evaluation result | Loss [0.0325] | Accuracy [0.9852]  \n",
      "========================================\n",
      "\n",
      "========================================\n",
      "| Evaluation result | Loss [0.0327] | Accuracy [0.9857]  \n",
      "========================================\n",
      "\n",
      "========================================\n",
      "| Evaluation result | Loss [0.0344] | Accuracy [0.9845]  \n",
      "========================================\n",
      "\n",
      "========================================\n",
      "| Evaluation result | Loss [0.0324] | Accuracy [0.9859]  \n",
      "========================================\n",
      "\n",
      "========================================\n",
      "| Evaluation result | Loss [0.0327] | Accuracy [0.9854]  \n",
      "========================================\n",
      "\n",
      "========================================\n",
      "| Evaluation result | Loss [0.0326] | Accuracy [0.9856]  \n",
      "========================================\n",
      "\n",
      "========================================\n",
      "| Evaluation result | Loss [0.0323] | Accuracy [0.9858]  \n",
      "========================================\n",
      "\n",
      "========================================\n",
      "| Evaluation result | Loss [0.0324] | Accuracy [0.9854]  \n",
      "========================================\n",
      "\n",
      "========================================\n",
      "| Evaluation result | Loss [0.0326] | Accuracy [0.9858]  \n",
      "========================================\n",
      "\n",
      "========================================\n",
      "| Evaluation result | Loss [0.0324] | Accuracy [0.9856]  \n",
      "========================================\n",
      "\n",
      "========================================\n",
      "| Evaluation result | Loss [0.0325] | Accuracy [0.9857]  \n",
      "========================================\n",
      "\n",
      "========================================\n",
      "| Performing Testing ... \n",
      "========================================\n",
      "\n",
      "========================================\n",
      "| Evaluation result | Loss [0.0325] | Accuracy [0.9852]  \n",
      "========================================\n"
     ]
    }
   ],
   "source": [
    "test_accuracy = controller.train()"
   ]
  },
  {
   "cell_type": "code",
   "execution_count": 16,
   "id": "b5bb778b",
   "metadata": {},
   "outputs": [],
   "source": [
    "save_folder_path = model.get_folder_path(\"BPI2012ScenarioTraining.ipynb\", test_accuracy , dataset.info_str())"
   ]
  },
  {
   "cell_type": "code",
   "execution_count": 18,
   "id": "986f7128",
   "metadata": {},
   "outputs": [],
   "source": [
    "controller.save_parameters(save_folder_path)"
   ]
  },
  {
   "cell_type": "code",
   "execution_count": 20,
   "id": "dd5eb396",
   "metadata": {},
   "outputs": [
    {
     "name": "stdout",
     "output_type": "stream",
     "text": [
      "WARNING:tensorflow:Skipping full serialization of Keras layer <Models.TwoLayerLSTMScenarioCfWithResourceModel.TwoLayerLSTMScenarioCfWithResourceModel object at 0x178865a90>, because it is not built.\n"
     ]
    },
    {
     "ename": "ValueError",
     "evalue": "Model <Models.TwoLayerLSTMScenarioCfWithResourceModel.TwoLayerLSTMScenarioCfWithResourceModel object at 0x178865a90> cannot be saved because the input shapes have not been set. Usually, input shapes are automatically determined from calling `.fit()` or `.predict()`. To manually set the shapes, call `model.build(input_shape)`.",
     "output_type": "error",
     "traceback": [
      "\u001b[0;31m---------------------------------------------------------------------------\u001b[0m",
      "\u001b[0;31mValueError\u001b[0m                                Traceback (most recent call last)",
      "\u001b[0;32m<ipython-input-20-2cb0898ddb4f>\u001b[0m in \u001b[0;36m<module>\u001b[0;34m\u001b[0m\n\u001b[0;32m----> 1\u001b[0;31m \u001b[0mcontroller\u001b[0m\u001b[0;34m.\u001b[0m\u001b[0mmodel\u001b[0m\u001b[0;34m.\u001b[0m\u001b[0msave\u001b[0m\u001b[0;34m(\u001b[0m\u001b[0msave_folder_path\u001b[0m\u001b[0;34m)\u001b[0m\u001b[0;34m\u001b[0m\u001b[0;34m\u001b[0m\u001b[0m\n\u001b[0m",
      "\u001b[0;32m~/miniforge3/envs/tf_mac/lib/python3.8/site-packages/tensorflow/python/keras/engine/training.py\u001b[0m in \u001b[0;36msave\u001b[0;34m(self, filepath, overwrite, include_optimizer, save_format, signatures, options, save_traces)\u001b[0m\n\u001b[1;32m   1999\u001b[0m     \"\"\"\n\u001b[1;32m   2000\u001b[0m     \u001b[0;31m# pylint: enable=line-too-long\u001b[0m\u001b[0;34m\u001b[0m\u001b[0;34m\u001b[0m\u001b[0;34m\u001b[0m\u001b[0m\n\u001b[0;32m-> 2001\u001b[0;31m     save.save_model(self, filepath, overwrite, include_optimizer, save_format,\n\u001b[0m\u001b[1;32m   2002\u001b[0m                     signatures, options, save_traces)\n\u001b[1;32m   2003\u001b[0m \u001b[0;34m\u001b[0m\u001b[0m\n",
      "\u001b[0;32m~/miniforge3/envs/tf_mac/lib/python3.8/site-packages/tensorflow/python/keras/saving/save.py\u001b[0m in \u001b[0;36msave_model\u001b[0;34m(model, filepath, overwrite, include_optimizer, save_format, signatures, options, save_traces)\u001b[0m\n\u001b[1;32m    154\u001b[0m         model, filepath, overwrite, include_optimizer)\n\u001b[1;32m    155\u001b[0m   \u001b[0;32melse\u001b[0m\u001b[0;34m:\u001b[0m\u001b[0;34m\u001b[0m\u001b[0;34m\u001b[0m\u001b[0m\n\u001b[0;32m--> 156\u001b[0;31m     saved_model_save.save(model, filepath, overwrite, include_optimizer,\n\u001b[0m\u001b[1;32m    157\u001b[0m                           signatures, options, save_traces)\n\u001b[1;32m    158\u001b[0m \u001b[0;34m\u001b[0m\u001b[0m\n",
      "\u001b[0;32m~/miniforge3/envs/tf_mac/lib/python3.8/site-packages/tensorflow/python/keras/saving/saved_model/save.py\u001b[0m in \u001b[0;36msave\u001b[0;34m(model, filepath, overwrite, include_optimizer, signatures, options, save_traces)\u001b[0m\n\u001b[1;32m     71\u001b[0m   \u001b[0;32mif\u001b[0m \u001b[0msave_traces\u001b[0m\u001b[0;34m:\u001b[0m\u001b[0;34m\u001b[0m\u001b[0;34m\u001b[0m\u001b[0m\n\u001b[1;32m     72\u001b[0m     \u001b[0;32mif\u001b[0m \u001b[0msave_impl\u001b[0m\u001b[0;34m.\u001b[0m\u001b[0mshould_skip_serialization\u001b[0m\u001b[0;34m(\u001b[0m\u001b[0mmodel\u001b[0m\u001b[0;34m)\u001b[0m\u001b[0;34m:\u001b[0m\u001b[0;34m\u001b[0m\u001b[0;34m\u001b[0m\u001b[0m\n\u001b[0;32m---> 73\u001b[0;31m       \u001b[0msaving_utils\u001b[0m\u001b[0;34m.\u001b[0m\u001b[0mraise_model_input_error\u001b[0m\u001b[0;34m(\u001b[0m\u001b[0mmodel\u001b[0m\u001b[0;34m)\u001b[0m\u001b[0;34m\u001b[0m\u001b[0;34m\u001b[0m\u001b[0m\n\u001b[0m\u001b[1;32m     74\u001b[0m \u001b[0;34m\u001b[0m\u001b[0m\n\u001b[1;32m     75\u001b[0m   \u001b[0;32mif\u001b[0m \u001b[0;32mnot\u001b[0m \u001b[0minclude_optimizer\u001b[0m\u001b[0;34m:\u001b[0m\u001b[0;34m\u001b[0m\u001b[0;34m\u001b[0m\u001b[0m\n",
      "\u001b[0;32m~/miniforge3/envs/tf_mac/lib/python3.8/site-packages/tensorflow/python/keras/saving/saving_utils.py\u001b[0m in \u001b[0;36mraise_model_input_error\u001b[0;34m(model)\u001b[0m\n\u001b[1;32m     92\u001b[0m \u001b[0;34m\u001b[0m\u001b[0m\n\u001b[1;32m     93\u001b[0m \u001b[0;32mdef\u001b[0m \u001b[0mraise_model_input_error\u001b[0m\u001b[0;34m(\u001b[0m\u001b[0mmodel\u001b[0m\u001b[0;34m)\u001b[0m\u001b[0;34m:\u001b[0m\u001b[0;34m\u001b[0m\u001b[0;34m\u001b[0m\u001b[0m\n\u001b[0;32m---> 94\u001b[0;31m   raise ValueError(\n\u001b[0m\u001b[1;32m     95\u001b[0m       \u001b[0;34m'Model {} cannot be saved because the input shapes have not been '\u001b[0m\u001b[0;34m\u001b[0m\u001b[0;34m\u001b[0m\u001b[0m\n\u001b[1;32m     96\u001b[0m       \u001b[0;34m'set. Usually, input shapes are automatically determined from calling'\u001b[0m\u001b[0;34m\u001b[0m\u001b[0;34m\u001b[0m\u001b[0m\n",
      "\u001b[0;31mValueError\u001b[0m: Model <Models.TwoLayerLSTMScenarioCfWithResourceModel.TwoLayerLSTMScenarioCfWithResourceModel object at 0x178865a90> cannot be saved because the input shapes have not been set. Usually, input shapes are automatically determined from calling `.fit()` or `.predict()`. To manually set the shapes, call `model.build(input_shape)`."
     ]
    }
   ],
   "source": [
    "controller.model.save(save_folder_path)"
   ]
  },
  {
   "cell_type": "code",
   "execution_count": null,
   "id": "5f2606a0",
   "metadata": {},
   "outputs": [],
   "source": [
    "controller.load_parameters(save_folder_path)\n",
    "model.load(save_folder_path)"
   ]
  },
  {
   "cell_type": "code",
   "execution_count": null,
   "id": "3e04f98a",
   "metadata": {},
   "outputs": [],
   "source": []
  }
 ],
 "metadata": {
  "kernelspec": {
   "display_name": "Python 3.8.10 64-bit ('tf_mac': conda)",
   "language": "python",
   "name": "python3810jvsc74a57bd05c622353f32ef24c8d83e5c3e334107c074e82d7c3e8ca52c56b9fc900ce33e6"
  },
  "language_info": {
   "codemirror_mode": {
    "name": "ipython",
    "version": 3
   },
   "file_extension": ".py",
   "mimetype": "text/x-python",
   "name": "python",
   "nbconvert_exporter": "python",
   "pygments_lexer": "ipython3",
   "version": "3.8.10"
  }
 },
 "nbformat": 4,
 "nbformat_minor": 5
}
