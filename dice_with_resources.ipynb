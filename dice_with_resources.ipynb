{
 "metadata": {
  "language_info": {
   "codemirror_mode": {
    "name": "ipython",
    "version": 3
   },
   "file_extension": ".py",
   "mimetype": "text/x-python",
   "name": "python",
   "nbconvert_exporter": "python",
   "pygments_lexer": "ipython3",
   "version": "3.8.10"
  },
  "orig_nbformat": 4,
  "kernelspec": {
   "name": "python3",
   "display_name": "Python 3.8.10 64-bit ('tf_mac': conda)"
  },
  "interpreter": {
   "hash": "5c622353f32ef24c8d83e5c3e334107c074e82d7c3e8ca52c56b9fc900ce33e6"
  }
 },
 "nbformat": 4,
 "nbformat_minor": 2,
 "cells": [
  {
   "cell_type": "code",
   "execution_count": 1,
   "metadata": {},
   "outputs": [
    {
     "output_type": "stream",
     "name": "stdout",
     "text": [
      "TF version:  2.4.0-rc0\nEager execution enabled:  True\n"
     ]
    }
   ],
   "source": [
    "from Controller import TrainingController, ExplainingController\n",
    "from Utils.SaveUtils import load_parameters\n",
    "from Parameters import TrainingParameters, PredictingParameters\n",
    "import tensorflow as tf\n",
    "from IPython.core.display import display, HTML\n",
    "import json\n",
    "import numpy as np\n",
    "import pandas as pd\n",
    "from Parameters.Enums import TracePermutationStrategies\n",
    "from Models import DiCEBinaryOutputModelWithResource\n",
    "from itertools import chain\n",
    "\n",
    "import dice_ml\n",
    "from dice_ml.utils import helpers\n",
    "\n",
    "print('TF version: ', tf.__version__)\n",
    "print('Eager execution enabled: ', tf.executing_eagerly()) # False\n",
    "seed = 123\n",
    "tf.random.set_seed(seed)\n",
    "np.random.seed(seed)"
   ]
  },
  {
   "cell_type": "code",
   "execution_count": 2,
   "metadata": {},
   "outputs": [],
   "source": [
    "folder_path = \"./SavedModels/%s\" % (\n",
    "    \"0.8264_BPI2012WithResource_BaselineLSTMWithResource_2021-06-18 06:11:10.009443\" # AOW\n",
    ")"
   ]
  },
  {
   "cell_type": "code",
   "execution_count": 3,
   "metadata": {},
   "outputs": [],
   "source": [
    "parameters_json = load_parameters(folder_path=folder_path)\n",
    "parameters = TrainingParameters(**parameters_json)\n",
    "tf.random.set_seed(parameters.dataset_split_seed)\n",
    "np.random.seed(parameters.dataset_split_seed)\n",
    "parameters.load_model_folder_path = folder_path\n",
    "predicting_parameters = PredictingParameters()\n",
    "predicting_parameters.load_model_folder_path = folder_path\n",
    " "
   ]
  },
  {
   "cell_type": "code",
   "execution_count": 4,
   "metadata": {},
   "outputs": [
    {
     "output_type": "stream",
     "name": "stdout",
     "text": [
      "\n",
      "=================================================\n",
      "| Running on /job:localhost/replica:0/task:0/device:CPU:0  \n",
      "=================================================\n",
      "\n",
      "=================================================\n",
      "| Preprocessed data loaded successfully: ./datasets/preprocessed/BPI_Challenge_2012_with_resource/AOW \n",
      "=================================================\n",
      "\n",
      "=================================================\n",
      "| Model loaded successfully from: ./SavedModels/0.8264_BPI2012WithResource_BaselineLSTMWithResource_2021-06-18 06:11:10.009443  \n",
      "=================================================\n"
     ]
    }
   ],
   "source": [
    "trainer = TrainingController(parameters = parameters)"
   ]
  },
  {
   "cell_type": "code",
   "execution_count": 5,
   "metadata": {},
   "outputs": [
    {
     "output_type": "stream",
     "name": "stdout",
     "text": [
      "\n",
      "=================================================\n",
      "| Running on /job:localhost/replica:0/task:0/device:CPU:0  \n",
      "=================================================\n",
      "\n",
      "=================================================\n",
      "| Model loaded successfully from: ./SavedModels/0.8264_BPI2012WithResource_BaselineLSTMWithResource_2021-06-18 06:11:10.009443  \n",
      "=================================================\n"
     ]
    }
   ],
   "source": [
    "explainer = ExplainingController(parameters=parameters, predicting_parameters= predicting_parameters)"
   ]
  },
  {
   "cell_type": "code",
   "execution_count": 6,
   "metadata": {},
   "outputs": [
    {
     "output_type": "stream",
     "name": "stdout",
     "text": [
      "Test set length: 1309\n"
     ]
    }
   ],
   "source": [
    "########### Get example data from trainer ###########\n",
    "ordered_test_idx = (list(trainer.test_dataset.unbatch().as_numpy_iterator()))\n",
    "ordered_test_idx.sort()\n",
    "print(\"Test set length: %d\" %(len(ordered_test_idx)))"
   ]
  },
  {
   "cell_type": "code",
   "execution_count": 7,
   "metadata": {},
   "outputs": [],
   "source": [
    "caseids, example_data, example_lengths, example_resources, example_amount, _ = trainer.dataset.collate_fn([ordered_test_idx[5]])"
   ]
  },
  {
   "cell_type": "code",
   "execution_count": 8,
   "metadata": {},
   "outputs": [
    {
     "output_type": "execute_result",
     "data": {
      "text/plain": [
       "(1, 37)"
      ]
     },
     "metadata": {},
     "execution_count": 8
    }
   ],
   "source": [
    "example_data.shape"
   ]
  },
  {
   "cell_type": "code",
   "execution_count": 9,
   "metadata": {},
   "outputs": [
    {
     "output_type": "execute_result",
     "data": {
      "text/plain": [
       "[['<SOS>',\n",
       "  'A_SUBMITTED_COMPLETE',\n",
       "  'A_PARTLYSUBMITTED_COMPLETE',\n",
       "  'A_PREACCEPTED_COMPLETE',\n",
       "  'W_Afhandelen leads_COMPLETE',\n",
       "  'W_Completeren aanvraag_COMPLETE',\n",
       "  'A_ACCEPTED_COMPLETE',\n",
       "  'A_FINALIZED_COMPLETE',\n",
       "  'O_SELECTED_COMPLETE',\n",
       "  'O_CREATED_COMPLETE',\n",
       "  'O_SENT_COMPLETE',\n",
       "  'W_Completeren aanvraag_COMPLETE',\n",
       "  'W_Nabellen offertes_COMPLETE',\n",
       "  'W_Nabellen offertes_COMPLETE',\n",
       "  'W_Nabellen offertes_COMPLETE',\n",
       "  'W_Nabellen offertes_COMPLETE',\n",
       "  'W_Nabellen offertes_COMPLETE',\n",
       "  'O_SENT_BACK_COMPLETE',\n",
       "  'W_Nabellen offertes_COMPLETE',\n",
       "  'W_Valideren aanvraag_COMPLETE',\n",
       "  'W_Valideren aanvraag_COMPLETE',\n",
       "  'W_Nabellen incomplete dossiers_COMPLETE',\n",
       "  'O_CANCELLED_COMPLETE',\n",
       "  'O_SELECTED_COMPLETE',\n",
       "  'O_CREATED_COMPLETE',\n",
       "  'O_SENT_COMPLETE',\n",
       "  'W_Nabellen incomplete dossiers_COMPLETE',\n",
       "  'W_Nabellen incomplete dossiers_COMPLETE',\n",
       "  'W_Nabellen incomplete dossiers_COMPLETE',\n",
       "  'W_Nabellen incomplete dossiers_COMPLETE',\n",
       "  'O_SENT_BACK_COMPLETE',\n",
       "  'W_Nabellen incomplete dossiers_COMPLETE',\n",
       "  'O_ACCEPTED_COMPLETE',\n",
       "  'A_APPROVED_COMPLETE',\n",
       "  'A_REGISTERED_COMPLETE',\n",
       "  'A_ACTIVATED_COMPLETE',\n",
       "  'W_Valideren aanvraag_COMPLETE']]"
      ]
     },
     "metadata": {},
     "execution_count": 9
    }
   ],
   "source": [
    "explainer.vocab.list_of_index_to_vocab_2d(example_data)"
   ]
  },
  {
   "cell_type": "code",
   "execution_count": 10,
   "metadata": {},
   "outputs": [],
   "source": [
    "remove_trail_steps = 2\n",
    "example_idx_trace = np.array([example_data[0][:-remove_trail_steps]])\n",
    "example_idx_resources = np.array([example_resources[0][:-remove_trail_steps]])\n",
    "example_vocab_trace = trainer.model.vocab.list_of_index_to_vocab_2d(example_idx_trace)[0]"
   ]
  },
  {
   "cell_type": "code",
   "execution_count": 11,
   "metadata": {},
   "outputs": [
    {
     "output_type": "execute_result",
     "data": {
      "text/plain": [
       "['<SOS>',\n",
       " 'A_SUBMITTED_COMPLETE',\n",
       " 'A_PARTLYSUBMITTED_COMPLETE',\n",
       " 'A_PREACCEPTED_COMPLETE',\n",
       " 'W_Afhandelen leads_COMPLETE',\n",
       " 'W_Completeren aanvraag_COMPLETE',\n",
       " 'A_ACCEPTED_COMPLETE',\n",
       " 'A_FINALIZED_COMPLETE',\n",
       " 'O_SELECTED_COMPLETE',\n",
       " 'O_CREATED_COMPLETE',\n",
       " 'O_SENT_COMPLETE',\n",
       " 'W_Completeren aanvraag_COMPLETE',\n",
       " 'W_Nabellen offertes_COMPLETE',\n",
       " 'W_Nabellen offertes_COMPLETE',\n",
       " 'W_Nabellen offertes_COMPLETE',\n",
       " 'W_Nabellen offertes_COMPLETE',\n",
       " 'W_Nabellen offertes_COMPLETE',\n",
       " 'O_SENT_BACK_COMPLETE',\n",
       " 'W_Nabellen offertes_COMPLETE',\n",
       " 'W_Valideren aanvraag_COMPLETE',\n",
       " 'W_Valideren aanvraag_COMPLETE',\n",
       " 'W_Nabellen incomplete dossiers_COMPLETE',\n",
       " 'O_CANCELLED_COMPLETE',\n",
       " 'O_SELECTED_COMPLETE',\n",
       " 'O_CREATED_COMPLETE',\n",
       " 'O_SENT_COMPLETE',\n",
       " 'W_Nabellen incomplete dossiers_COMPLETE',\n",
       " 'W_Nabellen incomplete dossiers_COMPLETE',\n",
       " 'W_Nabellen incomplete dossiers_COMPLETE',\n",
       " 'W_Nabellen incomplete dossiers_COMPLETE',\n",
       " 'O_SENT_BACK_COMPLETE',\n",
       " 'W_Nabellen incomplete dossiers_COMPLETE',\n",
       " 'O_ACCEPTED_COMPLETE',\n",
       " 'A_APPROVED_COMPLETE',\n",
       " 'A_REGISTERED_COMPLETE']"
      ]
     },
     "metadata": {},
     "execution_count": 11
    }
   ],
   "source": [
    "example_vocab_trace "
   ]
  },
  {
   "cell_type": "code",
   "execution_count": 12,
   "metadata": {},
   "outputs": [],
   "source": [
    "example_input = tf.constant(example_idx_trace)\n",
    "example_resources_input = tf.constant(example_idx_resources)\n",
    "example_amount_input = tf.constant(example_amount)"
   ]
  },
  {
   "cell_type": "code",
   "execution_count": 13,
   "metadata": {},
   "outputs": [],
   "source": [
    "out, _ = explainer.model(example_input, input_resources = example_resources_input, amount = example_amount_input)"
   ]
  },
  {
   "cell_type": "code",
   "execution_count": 14,
   "metadata": {},
   "outputs": [
    {
     "output_type": "stream",
     "name": "stdout",
     "text": [
      "Predicted activity with highest probability (1.00) is \"A_ACTIVATED_COMPLETE\"\n"
     ]
    },
    {
     "output_type": "display_data",
     "data": {
      "text/plain": "          <PAD>         <EOS>         <SOS>  A_ACCEPTED_COMPLETE  \\\n0  4.614226e-12  1.789443e-10  1.439743e-10         3.851426e-09   \n\n   A_ACTIVATED_COMPLETE  A_APPROVED_COMPLETE  A_CANCELLED_COMPLETE  \\\n0               0.99792             0.000167          2.115873e-07   \n\n   A_DECLINED_COMPLETE  A_FINALIZED_COMPLETE  A_PARTLYSUBMITTED_COMPLETE  ...  \\\n0             0.000003          4.054506e-10                1.483202e-11  ...   \n\n   O_DECLINED_COMPLETE  O_SELECTED_COMPLETE  O_SENT_BACK_COMPLETE  \\\n0         9.100694e-07         6.379963e-07          1.383656e-10   \n\n   O_SENT_COMPLETE  W_Afhandelen leads_COMPLETE  W_Beoordelen fraude_COMPLETE  \\\n0     1.061643e-10                 8.480251e-10                  7.571456e-12   \n\n   W_Completeren aanvraag_COMPLETE  W_Nabellen incomplete dossiers_COMPLETE  \\\n0                     1.022284e-08                                 0.000001   \n\n   W_Nabellen offertes_COMPLETE  W_Valideren aanvraag_COMPLETE  \n0                  3.666700e-11                       0.000034  \n\n[1 rows x 26 columns]",
      "text/html": "<div>\n<style scoped>\n    .dataframe tbody tr th:only-of-type {\n        vertical-align: middle;\n    }\n\n    .dataframe tbody tr th {\n        vertical-align: top;\n    }\n\n    .dataframe thead th {\n        text-align: right;\n    }\n</style>\n<table border=\"1\" class=\"dataframe\">\n  <thead>\n    <tr style=\"text-align: right;\">\n      <th></th>\n      <th>&lt;PAD&gt;</th>\n      <th>&lt;EOS&gt;</th>\n      <th>&lt;SOS&gt;</th>\n      <th>A_ACCEPTED_COMPLETE</th>\n      <th>A_ACTIVATED_COMPLETE</th>\n      <th>A_APPROVED_COMPLETE</th>\n      <th>A_CANCELLED_COMPLETE</th>\n      <th>A_DECLINED_COMPLETE</th>\n      <th>A_FINALIZED_COMPLETE</th>\n      <th>A_PARTLYSUBMITTED_COMPLETE</th>\n      <th>...</th>\n      <th>O_DECLINED_COMPLETE</th>\n      <th>O_SELECTED_COMPLETE</th>\n      <th>O_SENT_BACK_COMPLETE</th>\n      <th>O_SENT_COMPLETE</th>\n      <th>W_Afhandelen leads_COMPLETE</th>\n      <th>W_Beoordelen fraude_COMPLETE</th>\n      <th>W_Completeren aanvraag_COMPLETE</th>\n      <th>W_Nabellen incomplete dossiers_COMPLETE</th>\n      <th>W_Nabellen offertes_COMPLETE</th>\n      <th>W_Valideren aanvraag_COMPLETE</th>\n    </tr>\n  </thead>\n  <tbody>\n    <tr>\n      <th>0</th>\n      <td>4.614226e-12</td>\n      <td>1.789443e-10</td>\n      <td>1.439743e-10</td>\n      <td>3.851426e-09</td>\n      <td>0.99792</td>\n      <td>0.000167</td>\n      <td>2.115873e-07</td>\n      <td>0.000003</td>\n      <td>4.054506e-10</td>\n      <td>1.483202e-11</td>\n      <td>...</td>\n      <td>9.100694e-07</td>\n      <td>6.379963e-07</td>\n      <td>1.383656e-10</td>\n      <td>1.061643e-10</td>\n      <td>8.480251e-10</td>\n      <td>7.571456e-12</td>\n      <td>1.022284e-08</td>\n      <td>0.000001</td>\n      <td>3.666700e-11</td>\n      <td>0.000034</td>\n    </tr>\n  </tbody>\n</table>\n<p>1 rows × 26 columns</p>\n</div>"
     },
     "metadata": {}
    },
    {
     "output_type": "stream",
     "name": "stdout",
     "text": [
      "<PAD>                                      4.614226e-12\n<EOS>                                      1.789443e-10\n<SOS>                                      1.439743e-10\nA_ACCEPTED_COMPLETE                        3.851426e-09\nA_ACTIVATED_COMPLETE                       9.979196e-01\nA_APPROVED_COMPLETE                        1.670038e-04\nA_CANCELLED_COMPLETE                       2.115873e-07\nA_DECLINED_COMPLETE                        2.833510e-06\nA_FINALIZED_COMPLETE                       4.054506e-10\nA_PARTLYSUBMITTED_COMPLETE                 1.483202e-11\nA_PREACCEPTED_COMPLETE                     1.400106e-08\nA_REGISTERED_COMPLETE                      1.805327e-03\nA_SUBMITTED_COMPLETE                       6.897296e-08\nO_ACCEPTED_COMPLETE                        6.786489e-05\nO_CANCELLED_COMPLETE                       4.381851e-10\nO_CREATED_COMPLETE                         1.440350e-10\nO_DECLINED_COMPLETE                        9.100694e-07\nO_SELECTED_COMPLETE                        6.379963e-07\nO_SENT_BACK_COMPLETE                       1.383656e-10\nO_SENT_COMPLETE                            1.061643e-10\nW_Afhandelen leads_COMPLETE                8.480251e-10\nW_Beoordelen fraude_COMPLETE               7.571456e-12\nW_Completeren aanvraag_COMPLETE            1.022284e-08\nW_Nabellen incomplete dossiers_COMPLETE    1.133307e-06\nW_Nabellen offertes_COMPLETE               3.666700e-11\nW_Valideren aanvraag_COMPLETE              3.422382e-05\nName: 0, dtype: float64\n"
     ]
    }
   ],
   "source": [
    "predicted_vocab_distributions = tf.gather(out, len(example_vocab_trace)-1, axis=1)\n",
    "predicted_vocab_distributions_df = pd.DataFrame(predicted_vocab_distributions.numpy().tolist(),columns=explainer.model.vocab.vocabs)\n",
    "max_arg = tf.math.argmax(predicted_vocab_distributions, axis=-1).numpy()[0]\n",
    "max_prob_vocab = explainer.model.vocab.index_to_vocab(max_arg)\n",
    "print(\"Predicted activity with highest probability (%.2f) is \\\"%s\\\"\" % (predicted_vocab_distributions[0][max_arg].numpy(), max_prob_vocab))\n",
    "display(predicted_vocab_distributions_df)\n",
    "print(predicted_vocab_distributions_df.iloc[0])"
   ]
  },
  {
   "cell_type": "code",
   "execution_count": 15,
   "metadata": {},
   "outputs": [],
   "source": [
    "indexes_to_remove_from_resource = [explainer.resources.index('<PAD>'), explainer.resources.index('<SOS>'),explainer.resources.index('<EOS>')]"
   ]
  },
  {
   "cell_type": "code",
   "execution_count": 35,
   "metadata": {},
   "outputs": [
    {
     "output_type": "stream",
     "name": "stdout",
     "text": [
      "=============Example activities without tags=============\n['A_SUBMITTED_COMPLETE', 'A_PARTLYSUBMITTED_COMPLETE', 'A_PREACCEPTED_COMPLETE', 'W_Afhandelen leads_COMPLETE', 'W_Completeren aanvraag_COMPLETE', 'A_ACCEPTED_COMPLETE', 'A_FINALIZED_COMPLETE', 'O_SELECTED_COMPLETE', 'O_CREATED_COMPLETE', 'O_SENT_COMPLETE', 'W_Completeren aanvraag_COMPLETE', 'W_Nabellen offertes_COMPLETE', 'W_Nabellen offertes_COMPLETE', 'W_Nabellen offertes_COMPLETE', 'W_Nabellen offertes_COMPLETE', 'W_Nabellen offertes_COMPLETE', 'O_SENT_BACK_COMPLETE', 'W_Nabellen offertes_COMPLETE', 'W_Valideren aanvraag_COMPLETE', 'W_Valideren aanvraag_COMPLETE', 'W_Nabellen incomplete dossiers_COMPLETE', 'O_CANCELLED_COMPLETE', 'O_SELECTED_COMPLETE', 'O_CREATED_COMPLETE', 'O_SENT_COMPLETE', 'W_Nabellen incomplete dossiers_COMPLETE', 'W_Nabellen incomplete dossiers_COMPLETE', 'W_Nabellen incomplete dossiers_COMPLETE', 'W_Nabellen incomplete dossiers_COMPLETE', 'O_SENT_BACK_COMPLETE', 'W_Nabellen incomplete dossiers_COMPLETE', 'O_ACCEPTED_COMPLETE', 'A_APPROVED_COMPLETE', 'A_REGISTERED_COMPLETE']\n=============Example resources without tags=============\n['112', '112', '11001', '11001', '11180', '11201', '11201', '11201', '11201', '11201', '11201', '11201', '11119', '11119', '10889', '11122', '11029', 'UNKNOWN', '10138', '10138', '10982', '11169', '11169', '11169', '11169', '11169', '11169', '10913', '11049', '10789', '10789', '10138', '10138', '10138']\n=================Amount=================\n[50000.0]\n"
     ]
    }
   ],
   "source": [
    "example_idx_trace_without_tags = [ i for i in  example_idx_trace[0] if not i in explainer.vocab.tags_idx()]\n",
    "example_vocab_trace_without_tags = explainer.model.vocab.list_of_index_to_vocab(example_idx_trace_without_tags)\n",
    "\n",
    "example_idx_resources_without_tags = [ i for i in  example_idx_resources[0] if not i in indexes_to_remove_from_resource ]\n",
    "\n",
    "example_vocab_resource_without_tags = [\n",
    "   explainer.resources[r]  for r in example_idx_resources_without_tags\n",
    "]\n",
    "\n",
    "print(\"=============Example activities without tags=============\")\n",
    "print(example_vocab_trace_without_tags)\n",
    "\n",
    "print(\"=============Example resources without tags=============\")\n",
    "print(example_vocab_resource_without_tags)\n",
    "\n",
    "print(\"=================Amount=================\")\n",
    "print(example_amount)"
   ]
  },
  {
   "cell_type": "code",
   "execution_count": 17,
   "metadata": {},
   "outputs": [],
   "source": [
    "activity_feature_names = np.array([\"step_%d_activity\" % (i+1) for i in range(len(example_vocab_trace_without_tags))])\n",
    "without_tags_vocabs = [ v for v in explainer.vocab.vocabs if not \"<\" in v]\n",
    "activity_cat_vars_without_tag = {}\n",
    "for k in activity_feature_names:\n",
    "    activity_cat_vars_without_tag[k] = without_tags_vocabs\n",
    "\n",
    "resource_feature_names = np.array([\"step_%d_resource\" % (i+1) for i in range(len(example_vocab_trace_without_tags))])\n",
    "without_tags_resources = [r for r in explainer.resources if not \"<\" in r ]\n",
    "resources_cat_vars_without_tag = {}\n",
    "for k in resource_feature_names:\n",
    "    resources_cat_vars_without_tag[k] = without_tags_resources"
   ]
  },
  {
   "cell_type": "code",
   "execution_count": 18,
   "metadata": {},
   "outputs": [
    {
     "output_type": "stream",
     "name": "stdout",
     "text": [
      "Desired activity is \"A_DECLINED_COMPLETE\"\n"
     ]
    }
   ],
   "source": [
    "desired_activity = 'A_DECLINED_COMPLETE' # A_DECLINED_COMPLETE, A_APPROVED_COMPLETE\n",
    "print(\"Desired activity is \\\"%s\\\"\" %(desired_activity))"
   ]
  },
  {
   "cell_type": "code",
   "execution_count": 19,
   "metadata": {},
   "outputs": [],
   "source": [
    "all_features_and_range = {**activity_cat_vars_without_tag, **resources_cat_vars_without_tag,\"amount\": [0, 99999.0]}"
   ]
  },
  {
   "cell_type": "code",
   "execution_count": 20,
   "metadata": {},
   "outputs": [],
   "source": [
    "dice_binary_model = DiCEBinaryOutputModelWithResource(explainer.model, explainer.vocab, desired=explainer.vocab.vocab_to_index(desired_activity),trace_length = len(example_vocab_trace_without_tags), without_tags_vocabs = without_tags_vocabs, without_tags_resources=without_tags_resources, resources= explainer.resources, sos_idx_activity=explainer.vocab.vocab_to_index(\"<SOS>\"), sos_idx_resource= explainer.resources.index('<SOS>'), amount_min = all_features_and_range['amount'][0], amount_max = all_features_and_range['amount'][1])"
   ]
  },
  {
   "cell_type": "code",
   "execution_count": 21,
   "metadata": {},
   "outputs": [],
   "source": [
    "d = dice_ml.Data(features=all_features_and_range, outcome_name=\"predicted\",continuous_features = ['amount'])\n",
    "m = dice_ml.Model(model=dice_binary_model, backend=\"TF2\")\n",
    "exp = dice_ml.Dice(d, m)"
   ]
  },
  {
   "cell_type": "code",
   "execution_count": 22,
   "metadata": {},
   "outputs": [],
   "source": [
    "feature_names = activity_feature_names.tolist() + resource_feature_names.tolist() + ['amount']"
   ]
  },
  {
   "cell_type": "code",
   "execution_count": 23,
   "metadata": {},
   "outputs": [],
   "source": [
    "query_instance = [example_vocab_trace_without_tags + example_vocab_resource_without_tags + example_amount]\n",
    "example_df = pd.DataFrame(query_instance, columns= feature_names)"
   ]
  },
  {
   "cell_type": "code",
   "execution_count": 24,
   "metadata": {
    "tags": []
   },
   "outputs": [
    {
     "output_type": "stream",
     "name": "stderr",
     "text": [
      "INFO:root: MAD is not given for feature amount, so using 1.0 as MAD instead.\n",
      "step 1,  loss=4206.54\n",
      "step 51,  loss=0.345629\n",
      "step 101,  loss=0.0261456\n",
      "Diverse Counterfactuals found! total time taken: 01 min 22 sec\n"
     ]
    }
   ],
   "source": [
    "dice_exp = exp.generate_counterfactuals(\n",
    "        example_df,\n",
    "        total_CFs=1,\n",
    "        verbose=True,\n",
    "        min_iter=100,\n",
    "        max_iter=3000,\n",
    "        desired_class=\"opposite\",\n",
    "        features_to_vary=\"all\",\n",
    "        algorithm = \"RandomInitCF\", # DiverseCF, RandomInitCF\n",
    "        # proximity_weight=0.1, #0.5,\n",
    "        # diversity_weight=50000,#1.0,\n",
    "        # init_near_query_instance=True,\n",
    "        # tie_random = True,\n",
    "        # categorical_penalty = 1,\n",
    "        # learning_rate=0.0005,\n",
    "    )"
   ]
  },
  {
   "cell_type": "code",
   "execution_count": 25,
   "metadata": {},
   "outputs": [
    {
     "output_type": "stream",
     "name": "stdout",
     "text": [
      "[['A_SUBMITTED_COMPLETE', 'A_ACTIVATED_COMPLETE'], ['A_PARTLYSUBMITTED_COMPLETE', 'A_PREACCEPTED_COMPLETE', 'A_ACTIVATED_COMPLETE'], ['A_PREACCEPTED_COMPLETE', 'W_Beoordelen fraude_COMPLETE'], ['O_SELECTED_COMPLETE', 'W_Afhandelen leads_COMPLETE', 'W_Valideren aanvraag_COMPLETE'], ['A_PREACCEPTED_COMPLETE', 'A_ACCEPTED_COMPLETE', 'W_Completeren aanvraag_COMPLETE'], ['O_DECLINED_COMPLETE', 'A_ACCEPTED_COMPLETE', 'A_SUBMITTED_COMPLETE'], ['A_FINALIZED_COMPLETE', 'O_SELECTED_COMPLETE', 'O_CANCELLED_COMPLETE'], ['O_SELECTED_COMPLETE', 'A_CANCELLED_COMPLETE'], ['O_SENT_BACK_COMPLETE', 'O_CANCELLED_COMPLETE', 'O_CREATED_COMPLETE'], ['O_DECLINED_COMPLETE', 'O_SENT_COMPLETE', 'W_Afhandelen leads_COMPLETE'], ['A_PREACCEPTED_COMPLETE', 'A_SUBMITTED_COMPLETE', 'W_Completeren aanvraag_COMPLETE'], ['W_Nabellen offertes_COMPLETE', 'A_REGISTERED_COMPLETE', 'W_Afhandelen leads_COMPLETE'], ['W_Nabellen offertes_COMPLETE', 'A_REGISTERED_COMPLETE', 'A_ACCEPTED_COMPLETE'], ['W_Nabellen offertes_COMPLETE', 'O_ACCEPTED_COMPLETE', 'O_CREATED_COMPLETE'], ['W_Nabellen offertes_COMPLETE', 'O_SENT_BACK_COMPLETE', 'A_REGISTERED_COMPLETE'], ['W_Nabellen offertes_COMPLETE', 'A_PARTLYSUBMITTED_COMPLETE', 'O_SENT_COMPLETE'], ['O_SELECTED_COMPLETE', 'A_PREACCEPTED_COMPLETE', 'O_SENT_BACK_COMPLETE'], ['W_Nabellen offertes_COMPLETE', 'A_PREACCEPTED_COMPLETE', 'A_ACTIVATED_COMPLETE'], ['A_ACCEPTED_COMPLETE', 'W_Valideren aanvraag_COMPLETE', 'O_SENT_COMPLETE'], ['A_FINALIZED_COMPLETE', 'W_Valideren aanvraag_COMPLETE', 'O_SENT_BACK_COMPLETE'], ['W_Valideren aanvraag_COMPLETE', 'O_SENT_BACK_COMPLETE', 'W_Nabellen incomplete dossiers_COMPLETE'], ['A_PARTLYSUBMITTED_COMPLETE', 'O_CANCELLED_COMPLETE', 'O_CREATED_COMPLETE'], ['W_Valideren aanvraag_COMPLETE', 'O_SELECTED_COMPLETE', 'A_CANCELLED_COMPLETE'], ['W_Nabellen offertes_COMPLETE', 'A_PARTLYSUBMITTED_COMPLETE', 'O_CREATED_COMPLETE'], ['W_Valideren aanvraag_COMPLETE', 'O_SENT_BACK_COMPLETE', 'O_SENT_COMPLETE'], ['O_DECLINED_COMPLETE', 'A_REGISTERED_COMPLETE', 'W_Nabellen incomplete dossiers_COMPLETE'], ['W_Nabellen incomplete dossiers_COMPLETE', 'O_ACCEPTED_COMPLETE', 'A_DECLINED_COMPLETE'], ['O_SELECTED_COMPLETE', 'A_REGISTERED_COMPLETE', 'W_Nabellen incomplete dossiers_COMPLETE'], ['O_SENT_COMPLETE', 'W_Afhandelen leads_COMPLETE', 'W_Nabellen incomplete dossiers_COMPLETE'], ['O_SENT_BACK_COMPLETE', 'A_REGISTERED_COMPLETE', 'O_ACCEPTED_COMPLETE'], ['W_Afhandelen leads_COMPLETE', 'W_Completeren aanvraag_COMPLETE', 'W_Nabellen incomplete dossiers_COMPLETE'], ['O_SELECTED_COMPLETE', 'O_ACCEPTED_COMPLETE', 'A_PARTLYSUBMITTED_COMPLETE'], ['O_SENT_COMPLETE', 'A_APPROVED_COMPLETE', 'O_CANCELLED_COMPLETE'], ['O_SENT_BACK_COMPLETE', 'A_REGISTERED_COMPLETE', 'A_ACTIVATED_COMPLETE']]\n"
     ]
    }
   ],
   "source": [
    "#### Check what permutations are fed into the model. ####\n",
    "all_received_activities = []\n",
    "for i in range(len(example_vocab_trace_without_tags)):\n",
    "    trace = explainer.model.vocab.list_of_index_to_vocab(list(set((np.squeeze(np.array(dice_binary_model.all_trace))[:, i]).tolist())))\n",
    "    all_received_activities.append(trace)\n",
    "print(all_received_activities)"
   ]
  },
  {
   "cell_type": "code",
   "execution_count": 26,
   "metadata": {},
   "outputs": [
    {
     "output_type": "stream",
     "name": "stdout",
     "text": [
      "[['11049', '10188', '112'], ['10789', '11269', '112'], ['10889', '11001', '10913'], ['11029', '10914', '11001'], ['11180', '11200', '11122'], ['11111', '11201'], ['10863', '11003', '11201'], ['11119', '11299', '11201'], ['10809', '10859', '11201'], ['10933', '10859', '11201'], ['10125', '11003', '11201'], ['11120', '11299', '11201'], ['11169', '11254', '11119'], ['11254', '10899', '11119'], ['10889', '112', '10862'], ['11122', '10862', '11019'], ['11029', '10929', '11000'], ['10789', '11259', 'UNKNOWN'], ['10138', '11111'], ['10125', '10138', '10912'], ['11304', '11002', '10982'], ['11169', '10899'], ['11169', '11079', '10912'], ['11169', '10789', '10910', '10124'], ['11169', '10861', '11200'], ['11169', '10910', 'UNKNOWN'], ['11169', '11254', 'UNKNOWN'], ['10859', '11119', '10913'], ['11049', '10931', '10912'], ['10789', '11319', 'UNKNOWN'], ['10789', '11000', '10971'], ['10982', '11000', '10138'], ['11259', '10138', '10939'], ['10138', '10188', '11299']]\n"
     ]
    }
   ],
   "source": [
    "#### Check what permutations are fed into the model. ####\n",
    "all_received_resources = []\n",
    "for i in range(len(example_vocab_trace_without_tags)):\n",
    "    res = [ explainer.resources[r] for r in list(set((np.squeeze(np.array(dice_binary_model.all_resource))[:, i]).tolist()))]\n",
    "    all_received_resources.append(res)\n",
    "print(all_received_resources)"
   ]
  },
  {
   "cell_type": "code",
   "execution_count": 30,
   "metadata": {},
   "outputs": [
    {
     "output_type": "stream",
     "name": "stdout",
     "text": [
      "All inputs are the same: False\n"
     ]
    }
   ],
   "source": [
    "########## Checking if all the permutation are the same (Shouldn't be) ##########\n",
    "all_cf_are_same = all([all((dice_binary_model.all_cf_input[1][:, 1:] == dice_binary_model.all_cf_input[i][:, 1:]).tolist()[0]) for i in range(len(dice_binary_model.all_cf_input))][1:])\n",
    "print(\"All inputs are the same: %s\" % (all_cf_are_same))"
   ]
  },
  {
   "cell_type": "code",
   "execution_count": 31,
   "metadata": {},
   "outputs": [
    {
     "output_type": "stream",
     "name": "stdout",
     "text": [
      "All trace and resource are the same: False\n"
     ]
    }
   ],
   "source": [
    "########## Checking if all the trace & resource (except amount) are the same (Shouldn't be) ##########\n",
    "all_trace_and_resource_are_same = all([all((dice_binary_model.all_cf_input[1][:, 1:] == dice_binary_model.all_cf_input[i][:, 1:]).tolist()[0]) for\n",
    " i in range(len(dice_binary_model.all_cf_input))][1:])\n",
    "print(\"All trace and resource are the same: %s\" % (all_trace_and_resource_are_same))"
   ]
  },
  {
   "cell_type": "code",
   "execution_count": 32,
   "metadata": {},
   "outputs": [
    {
     "output_type": "stream",
     "name": "stdout",
     "text": [
      "Query instance (original outcome : 0)\n"
     ]
    },
    {
     "output_type": "display_data",
     "data": {
      "text/plain": "        step_1_activity             step_2_activity         step_3_activity  \\\n0  A_SUBMITTED_COMPLETE  A_PARTLYSUBMITTED_COMPLETE  A_PREACCEPTED_COMPLETE   \n\n               step_4_activity                  step_5_activity  \\\n0  W_Afhandelen leads_COMPLETE  W_Completeren aanvraag_COMPLETE   \n\n       step_6_activity       step_7_activity      step_8_activity  \\\n0  A_ACCEPTED_COMPLETE  A_FINALIZED_COMPLETE  O_SELECTED_COMPLETE   \n\n      step_9_activity step_10_activity  ... step_27_resource step_28_resource  \\\n0  O_CREATED_COMPLETE  O_SENT_COMPLETE  ...            11169            10913   \n\n  step_29_resource step_30_resource step_31_resource step_32_resource  \\\n0            11049            10789            10789            10138   \n\n  step_33_resource step_34_resource   amount predicted  \n0            10138            10138  50000.0       0.0  \n\n[1 rows x 70 columns]",
      "text/html": "<div>\n<style scoped>\n    .dataframe tbody tr th:only-of-type {\n        vertical-align: middle;\n    }\n\n    .dataframe tbody tr th {\n        vertical-align: top;\n    }\n\n    .dataframe thead th {\n        text-align: right;\n    }\n</style>\n<table border=\"1\" class=\"dataframe\">\n  <thead>\n    <tr style=\"text-align: right;\">\n      <th></th>\n      <th>step_1_activity</th>\n      <th>step_2_activity</th>\n      <th>step_3_activity</th>\n      <th>step_4_activity</th>\n      <th>step_5_activity</th>\n      <th>step_6_activity</th>\n      <th>step_7_activity</th>\n      <th>step_8_activity</th>\n      <th>step_9_activity</th>\n      <th>step_10_activity</th>\n      <th>...</th>\n      <th>step_27_resource</th>\n      <th>step_28_resource</th>\n      <th>step_29_resource</th>\n      <th>step_30_resource</th>\n      <th>step_31_resource</th>\n      <th>step_32_resource</th>\n      <th>step_33_resource</th>\n      <th>step_34_resource</th>\n      <th>amount</th>\n      <th>predicted</th>\n    </tr>\n  </thead>\n  <tbody>\n    <tr>\n      <th>0</th>\n      <td>A_SUBMITTED_COMPLETE</td>\n      <td>A_PARTLYSUBMITTED_COMPLETE</td>\n      <td>A_PREACCEPTED_COMPLETE</td>\n      <td>W_Afhandelen leads_COMPLETE</td>\n      <td>W_Completeren aanvraag_COMPLETE</td>\n      <td>A_ACCEPTED_COMPLETE</td>\n      <td>A_FINALIZED_COMPLETE</td>\n      <td>O_SELECTED_COMPLETE</td>\n      <td>O_CREATED_COMPLETE</td>\n      <td>O_SENT_COMPLETE</td>\n      <td>...</td>\n      <td>11169</td>\n      <td>10913</td>\n      <td>11049</td>\n      <td>10789</td>\n      <td>10789</td>\n      <td>10138</td>\n      <td>10138</td>\n      <td>10138</td>\n      <td>50000.0</td>\n      <td>0.0</td>\n    </tr>\n  </tbody>\n</table>\n<p>1 rows × 70 columns</p>\n</div>"
     },
     "metadata": {}
    },
    {
     "output_type": "stream",
     "name": "stdout",
     "text": [
      "\nDiverse Counterfactual set without sparsity correction since only metadata about each  feature is available (new outcome:  1.0\n"
     ]
    },
    {
     "output_type": "display_data",
     "data": {
      "text/plain": "        step_1_activity       step_2_activity               step_3_activity  \\\n0  A_ACTIVATED_COMPLETE  A_ACTIVATED_COMPLETE  W_Beoordelen fraude_COMPLETE   \n\n                 step_4_activity      step_5_activity      step_6_activity  \\\n0  W_Valideren aanvraag_COMPLETE  A_ACCEPTED_COMPLETE  O_DECLINED_COMPLETE   \n\n       step_7_activity step_8_activity       step_9_activity  \\\n0  O_SELECTED_COMPLETE               -  O_SENT_BACK_COMPLETE   \n\n              step_10_activity  ... step_27_resource step_28_resource  \\\n0  W_Afhandelen leads_COMPLETE  ...          UNKNOWN            11119   \n\n  step_29_resource step_30_resource step_31_resource step_32_resource  \\\n0            10931          UNKNOWN            10971            10982   \n\n  step_33_resource step_34_resource amount predicted  \n0            11259            10188   35.0     0.776  \n\n[1 rows x 70 columns]",
      "text/html": "<div>\n<style scoped>\n    .dataframe tbody tr th:only-of-type {\n        vertical-align: middle;\n    }\n\n    .dataframe tbody tr th {\n        vertical-align: top;\n    }\n\n    .dataframe thead th {\n        text-align: right;\n    }\n</style>\n<table border=\"1\" class=\"dataframe\">\n  <thead>\n    <tr style=\"text-align: right;\">\n      <th></th>\n      <th>step_1_activity</th>\n      <th>step_2_activity</th>\n      <th>step_3_activity</th>\n      <th>step_4_activity</th>\n      <th>step_5_activity</th>\n      <th>step_6_activity</th>\n      <th>step_7_activity</th>\n      <th>step_8_activity</th>\n      <th>step_9_activity</th>\n      <th>step_10_activity</th>\n      <th>...</th>\n      <th>step_27_resource</th>\n      <th>step_28_resource</th>\n      <th>step_29_resource</th>\n      <th>step_30_resource</th>\n      <th>step_31_resource</th>\n      <th>step_32_resource</th>\n      <th>step_33_resource</th>\n      <th>step_34_resource</th>\n      <th>amount</th>\n      <th>predicted</th>\n    </tr>\n  </thead>\n  <tbody>\n    <tr>\n      <th>0</th>\n      <td>A_ACTIVATED_COMPLETE</td>\n      <td>A_ACTIVATED_COMPLETE</td>\n      <td>W_Beoordelen fraude_COMPLETE</td>\n      <td>W_Valideren aanvraag_COMPLETE</td>\n      <td>A_ACCEPTED_COMPLETE</td>\n      <td>O_DECLINED_COMPLETE</td>\n      <td>O_SELECTED_COMPLETE</td>\n      <td>-</td>\n      <td>O_SENT_BACK_COMPLETE</td>\n      <td>W_Afhandelen leads_COMPLETE</td>\n      <td>...</td>\n      <td>UNKNOWN</td>\n      <td>11119</td>\n      <td>10931</td>\n      <td>UNKNOWN</td>\n      <td>10971</td>\n      <td>10982</td>\n      <td>11259</td>\n      <td>10188</td>\n      <td>35.0</td>\n      <td>0.776</td>\n    </tr>\n  </tbody>\n</table>\n<p>1 rows × 70 columns</p>\n</div>"
     },
     "metadata": {}
    }
   ],
   "source": [
    "dice_exp.visualize_as_dataframe(show_only_changes=True, display_sparse_df=False)"
   ]
  },
  {
   "cell_type": "code",
   "execution_count": 33,
   "metadata": {},
   "outputs": [
    {
     "output_type": "stream",
     "name": "stdout",
     "text": [
      "['A_SUBMITTED_COMPLETE', 'A_PARTLYSUBMITTED_COMPLETE', 'A_PREACCEPTED_COMPLETE', 'W_Afhandelen leads_COMPLETE', 'W_Completeren aanvraag_COMPLETE', 'A_ACCEPTED_COMPLETE', 'A_FINALIZED_COMPLETE', 'O_SELECTED_COMPLETE', 'O_CREATED_COMPLETE', 'O_SENT_COMPLETE', 'W_Completeren aanvraag_COMPLETE', 'W_Nabellen offertes_COMPLETE', 'W_Nabellen offertes_COMPLETE', 'W_Nabellen offertes_COMPLETE', 'W_Nabellen offertes_COMPLETE', 'W_Nabellen offertes_COMPLETE', 'O_SENT_BACK_COMPLETE', 'W_Nabellen offertes_COMPLETE', 'W_Valideren aanvraag_COMPLETE', 'W_Valideren aanvraag_COMPLETE', 'W_Nabellen incomplete dossiers_COMPLETE', 'O_CANCELLED_COMPLETE', 'O_SELECTED_COMPLETE', 'O_CREATED_COMPLETE', 'O_SENT_COMPLETE', 'W_Nabellen incomplete dossiers_COMPLETE', 'W_Nabellen incomplete dossiers_COMPLETE', 'W_Nabellen incomplete dossiers_COMPLETE', 'W_Nabellen incomplete dossiers_COMPLETE', 'O_SENT_BACK_COMPLETE', 'W_Nabellen incomplete dossiers_COMPLETE', 'O_ACCEPTED_COMPLETE', 'A_APPROVED_COMPLETE', 'A_REGISTERED_COMPLETE', '112', '112', '11001', '11001', '11180', '11201', '11201', '11201', '11201', '11201', '11201', '11201', '11119', '11119', '10889', '11122', '11029', 'UNKNOWN', '10138', '10138', '10982', '11169', '11169', '11169', '11169', '11169', '11169', '10913', '11049', '10789', '10789', '10138', '10138', '10138', 50000.0]\n"
     ]
    }
   ],
   "source": [
    "######## Print the example trace ########\n",
    "print(list(example_df.iloc[0]))"
   ]
  },
  {
   "cell_type": "code",
   "execution_count": 34,
   "metadata": {},
   "outputs": [
    {
     "output_type": "stream",
     "name": "stdout",
     "text": [
      "['A_ACTIVATED_COMPLETE', 'A_ACTIVATED_COMPLETE', 'W_Beoordelen fraude_COMPLETE', 'W_Valideren aanvraag_COMPLETE', 'A_ACCEPTED_COMPLETE', 'O_DECLINED_COMPLETE', 'O_SELECTED_COMPLETE', 'O_SELECTED_COMPLETE', 'O_SENT_BACK_COMPLETE', 'W_Afhandelen leads_COMPLETE', 'A_PREACCEPTED_COMPLETE', 'W_Afhandelen leads_COMPLETE', 'A_REGISTERED_COMPLETE', 'O_CREATED_COMPLETE', 'O_SENT_BACK_COMPLETE', 'O_SENT_COMPLETE', 'O_SELECTED_COMPLETE', 'A_ACTIVATED_COMPLETE', 'A_ACCEPTED_COMPLETE', 'O_SENT_BACK_COMPLETE', 'O_SENT_BACK_COMPLETE', 'O_CREATED_COMPLETE', 'A_CANCELLED_COMPLETE', 'A_PARTLYSUBMITTED_COMPLETE', 'O_SENT_BACK_COMPLETE', 'A_REGISTERED_COMPLETE', 'O_ACCEPTED_COMPLETE', 'O_SELECTED_COMPLETE', 'W_Afhandelen leads_COMPLETE', 'O_ACCEPTED_COMPLETE', 'W_Afhandelen leads_COMPLETE', 'A_PARTLYSUBMITTED_COMPLETE', 'O_SENT_COMPLETE', 'O_SENT_BACK_COMPLETE', '10188', '11269', '10913', '10914', '11200', '11201', '10863', '11119', '10809', '10859', '10125', '11120', '11254', '11254', '10862', '10862', '10929', '11259', '11111', '10125', '11002', '10899', '10912', '11169', '10861', '10910', 'UNKNOWN', '11119', '10931', 'UNKNOWN', '10971', '10982', '11259', '10188', 35.0]\n"
     ]
    }
   ],
   "source": [
    "######## Print the counterfactual trace ########\n",
    "print(list(dice_exp.final_cfs_df.iloc[0][:-1]))"
   ]
  },
  {
   "cell_type": "code",
   "execution_count": null,
   "metadata": {},
   "outputs": [],
   "source": []
  }
 ]
}