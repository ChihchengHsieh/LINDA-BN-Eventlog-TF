{
 "metadata": {
  "language_info": {
   "codemirror_mode": {
    "name": "ipython",
    "version": 3
   },
   "file_extension": ".py",
   "mimetype": "text/x-python",
   "name": "python",
   "nbconvert_exporter": "python",
   "pygments_lexer": "ipython3",
   "version": "3.8.10"
  },
  "orig_nbformat": 4,
  "kernelspec": {
   "name": "python3",
   "display_name": "Python 3.8.10 64-bit ('tf_mac': conda)"
  },
  "interpreter": {
   "hash": "5c622353f32ef24c8d83e5c3e334107c074e82d7c3e8ca52c56b9fc900ce33e6"
  }
 },
 "nbformat": 4,
 "nbformat_minor": 2,
 "cells": [
  {
   "cell_type": "code",
   "execution_count": 1,
   "metadata": {},
   "outputs": [
    {
     "output_type": "stream",
     "name": "stdout",
     "text": [
      "TF version:  2.4.0-rc0\nEager execution enabled:  True\n"
     ]
    }
   ],
   "source": [
    "from Controller import TrainingController, ExplainingController\n",
    "from Utils.SaveUtils import load_parameters\n",
    "from Parameters import TrainingParameters, PredictingParameters\n",
    "import tensorflow as tf\n",
    "from IPython.core.display import display, HTML\n",
    "import json\n",
    "import numpy as np\n",
    "import pandas as pd\n",
    "from Parameters.Enums import TracePermutationStrategies\n",
    "from Models import DiCEBinaryDefferientiable\n",
    "from itertools import chain\n",
    "\n",
    "import dice_ml\n",
    "from dice_ml.utils import helpers\n",
    "\n",
    "print('TF version: ', tf.__version__)\n",
    "print('Eager execution enabled: ', tf.executing_eagerly()) # False\n",
    "seed = 123\n",
    "tf.random.set_seed(seed)\n",
    "np.random.seed(seed)"
   ]
  },
  {
   "cell_type": "code",
   "execution_count": 2,
   "metadata": {},
   "outputs": [],
   "source": [
    "folder_path = \"./SavedModels/%s\" % (\"0.8264_BPI2012WithResource_BaselineLSTMWithResource_2021-06-18 06:11:10.009443\" # AOW\n",
    ")"
   ]
  },
  {
   "cell_type": "code",
   "execution_count": 3,
   "metadata": {},
   "outputs": [],
   "source": [
    "parameters_json = load_parameters(folder_path=folder_path)\n",
    "parameters = TrainingParameters(**parameters_json)\n",
    "tf.random.set_seed(parameters.dataset_split_seed)\n",
    "np.random.seed(parameters.dataset_split_seed)\n",
    "parameters.load_model_folder_path = folder_path\n",
    "predicting_parameters = PredictingParameters()\n",
    "predicting_parameters.load_model_folder_path = folder_path\n",
    " "
   ]
  },
  {
   "cell_type": "code",
   "execution_count": 4,
   "metadata": {},
   "outputs": [
    {
     "output_type": "stream",
     "name": "stdout",
     "text": [
      "\n",
      "=================================================\n",
      "| Running on /job:localhost/replica:0/task:0/device:CPU:0  \n",
      "=================================================\n",
      "\n",
      "=================================================\n",
      "| Preprocessed data loaded successfully: ./datasets/preprocessed/BPI_Challenge_2012_with_resource/AOW \n",
      "=================================================\n",
      "\n",
      "=================================================\n",
      "| Model loaded successfully from: ./SavedModels/0.8264_BPI2012WithResource_BaselineLSTMWithResource_2021-06-18 06:11:10.009443  \n",
      "=================================================\n"
     ]
    }
   ],
   "source": [
    "trainer = TrainingController(parameters = parameters)"
   ]
  },
  {
   "cell_type": "code",
   "execution_count": 5,
   "metadata": {},
   "outputs": [
    {
     "output_type": "stream",
     "name": "stdout",
     "text": [
      "\n",
      "=================================================\n",
      "| Running on /job:localhost/replica:0/task:0/device:CPU:0  \n",
      "=================================================\n",
      "\n",
      "=================================================\n",
      "| Model loaded successfully from: ./SavedModels/0.8264_BPI2012WithResource_BaselineLSTMWithResource_2021-06-18 06:11:10.009443  \n",
      "=================================================\n"
     ]
    }
   ],
   "source": [
    "explainer = ExplainingController(parameters=parameters, predicting_parameters= predicting_parameters)"
   ]
  },
  {
   "cell_type": "code",
   "execution_count": 6,
   "metadata": {},
   "outputs": [
    {
     "output_type": "stream",
     "name": "stdout",
     "text": [
      "Test set length: 1309\n"
     ]
    }
   ],
   "source": [
    "########### Get example data from trainer ###########\n",
    "ordered_test_idx = (list(trainer.test_dataset.unbatch().as_numpy_iterator()))\n",
    "ordered_test_idx.sort()\n",
    "print(\"Test set length: %d\" %(len(ordered_test_idx)))"
   ]
  },
  {
   "cell_type": "code",
   "execution_count": 7,
   "metadata": {},
   "outputs": [],
   "source": [
    "longest_fail_idx = None\n",
    "longest_fail_length = 0\n",
    "all_decline_idxs = []\n",
    "declined_idx = trainer.model.vocab.vocab_to_index('A_DECLINED_COMPLETE')\n",
    "for idx in ordered_test_idx:\n",
    "    caseids, example_data, example_lengths, example_resources, example_amount, _= trainer.dataset.collate_fn([idx])\n",
    "    if declined_idx in example_data[0]:\n",
    "        all_decline_idxs.append(idx)\n",
    "        if type(longest_fail_idx) == type(None):\n",
    "            longest_fail_idx = idx\n",
    "            longest_fail_length = example_data.shape[1]\n",
    "        else:\n",
    "            if example_data.shape[1] > longest_fail_length:\n",
    "                longest_fail_idx = idx\n",
    "                longest_fail_length = example_data.shape[1]"
   ]
  },
  {
   "cell_type": "code",
   "execution_count": 8,
   "metadata": {},
   "outputs": [],
   "source": [
    "caseids, example_data, example_lengths, example_resources, example_amount, _ = trainer.dataset.collate_fn([longest_fail_idx])"
   ]
  },
  {
   "cell_type": "code",
   "execution_count": 9,
   "metadata": {},
   "outputs": [],
   "source": [
    "remove_trail_steps = 50\n",
    "example_idx_trace = np.array([example_data[0][:-remove_trail_steps]])\n",
    "example_idx_resources = np.array([example_resources[0][:-remove_trail_steps]])\n",
    "example_vocab_trace = trainer.model.vocab.list_of_index_to_vocab_2d(example_idx_trace)[0]"
   ]
  },
  {
   "cell_type": "code",
   "execution_count": 10,
   "metadata": {},
   "outputs": [
    {
     "output_type": "stream",
     "name": "stdout",
     "text": [
      "['<SOS>', 'A_SUBMITTED_COMPLETE', 'A_PARTLYSUBMITTED_COMPLETE', 'A_PREACCEPTED_COMPLETE']\n"
     ]
    }
   ],
   "source": [
    "print(example_vocab_trace)"
   ]
  },
  {
   "cell_type": "code",
   "execution_count": 11,
   "metadata": {},
   "outputs": [],
   "source": [
    "example_input = tf.constant(example_idx_trace)\n",
    "example_resources_input = tf.constant(example_idx_resources)\n",
    "example_amount_input = tf.constant(example_amount)"
   ]
  },
  {
   "cell_type": "code",
   "execution_count": 12,
   "metadata": {},
   "outputs": [],
   "source": [
    "out, _ = explainer.model(example_input, input_resources = example_resources_input, amount = example_amount_input)"
   ]
  },
  {
   "cell_type": "code",
   "execution_count": 13,
   "metadata": {},
   "outputs": [
    {
     "output_type": "stream",
     "name": "stdout",
     "text": [
      "Predicted activity with highest probability (0.36) is \"W_Afhandelen leads_COMPLETE\"\n"
     ]
    },
    {
     "output_type": "display_data",
     "data": {
      "text/plain": "      <PAD>     <EOS>     <SOS>  A_ACCEPTED_COMPLETE  A_ACTIVATED_COMPLETE  \\\n0  0.000377  0.005197  0.001689             0.113344              0.001507   \n\n   A_APPROVED_COMPLETE  A_CANCELLED_COMPLETE  A_DECLINED_COMPLETE  \\\n0             0.000362              0.081236             0.127201   \n\n   A_FINALIZED_COMPLETE  A_PARTLYSUBMITTED_COMPLETE  ...  O_DECLINED_COMPLETE  \\\n0              0.003128                    0.004422  ...             0.000213   \n\n   O_SELECTED_COMPLETE  O_SENT_BACK_COMPLETE  O_SENT_COMPLETE  \\\n0             0.028422              0.000866          0.01163   \n\n   W_Afhandelen leads_COMPLETE  W_Beoordelen fraude_COMPLETE  \\\n0                     0.362581                      0.008908   \n\n   W_Completeren aanvraag_COMPLETE  W_Nabellen incomplete dossiers_COMPLETE  \\\n0                         0.154157                                 0.007841   \n\n   W_Nabellen offertes_COMPLETE  W_Valideren aanvraag_COMPLETE  \n0                      0.001002                       0.002665  \n\n[1 rows x 26 columns]",
      "text/html": "<div>\n<style scoped>\n    .dataframe tbody tr th:only-of-type {\n        vertical-align: middle;\n    }\n\n    .dataframe tbody tr th {\n        vertical-align: top;\n    }\n\n    .dataframe thead th {\n        text-align: right;\n    }\n</style>\n<table border=\"1\" class=\"dataframe\">\n  <thead>\n    <tr style=\"text-align: right;\">\n      <th></th>\n      <th>&lt;PAD&gt;</th>\n      <th>&lt;EOS&gt;</th>\n      <th>&lt;SOS&gt;</th>\n      <th>A_ACCEPTED_COMPLETE</th>\n      <th>A_ACTIVATED_COMPLETE</th>\n      <th>A_APPROVED_COMPLETE</th>\n      <th>A_CANCELLED_COMPLETE</th>\n      <th>A_DECLINED_COMPLETE</th>\n      <th>A_FINALIZED_COMPLETE</th>\n      <th>A_PARTLYSUBMITTED_COMPLETE</th>\n      <th>...</th>\n      <th>O_DECLINED_COMPLETE</th>\n      <th>O_SELECTED_COMPLETE</th>\n      <th>O_SENT_BACK_COMPLETE</th>\n      <th>O_SENT_COMPLETE</th>\n      <th>W_Afhandelen leads_COMPLETE</th>\n      <th>W_Beoordelen fraude_COMPLETE</th>\n      <th>W_Completeren aanvraag_COMPLETE</th>\n      <th>W_Nabellen incomplete dossiers_COMPLETE</th>\n      <th>W_Nabellen offertes_COMPLETE</th>\n      <th>W_Valideren aanvraag_COMPLETE</th>\n    </tr>\n  </thead>\n  <tbody>\n    <tr>\n      <th>0</th>\n      <td>0.000377</td>\n      <td>0.005197</td>\n      <td>0.001689</td>\n      <td>0.113344</td>\n      <td>0.001507</td>\n      <td>0.000362</td>\n      <td>0.081236</td>\n      <td>0.127201</td>\n      <td>0.003128</td>\n      <td>0.004422</td>\n      <td>...</td>\n      <td>0.000213</td>\n      <td>0.028422</td>\n      <td>0.000866</td>\n      <td>0.01163</td>\n      <td>0.362581</td>\n      <td>0.008908</td>\n      <td>0.154157</td>\n      <td>0.007841</td>\n      <td>0.001002</td>\n      <td>0.002665</td>\n    </tr>\n  </tbody>\n</table>\n<p>1 rows × 26 columns</p>\n</div>"
     },
     "metadata": {}
    },
    {
     "output_type": "stream",
     "name": "stdout",
     "text": [
      "<PAD>                                      0.000377\n<EOS>                                      0.005197\n<SOS>                                      0.001689\nA_ACCEPTED_COMPLETE                        0.113344\nA_ACTIVATED_COMPLETE                       0.001507\nA_APPROVED_COMPLETE                        0.000362\nA_CANCELLED_COMPLETE                       0.081236\nA_DECLINED_COMPLETE                        0.127201\nA_FINALIZED_COMPLETE                       0.003128\nA_PARTLYSUBMITTED_COMPLETE                 0.004422\nA_PREACCEPTED_COMPLETE                     0.050626\nA_REGISTERED_COMPLETE                      0.000840\nA_SUBMITTED_COMPLETE                       0.017736\nO_ACCEPTED_COMPLETE                        0.000727\nO_CANCELLED_COMPLETE                       0.000166\nO_CREATED_COMPLETE                         0.013158\nO_DECLINED_COMPLETE                        0.000213\nO_SELECTED_COMPLETE                        0.028422\nO_SENT_BACK_COMPLETE                       0.000866\nO_SENT_COMPLETE                            0.011630\nW_Afhandelen leads_COMPLETE                0.362581\nW_Beoordelen fraude_COMPLETE               0.008908\nW_Completeren aanvraag_COMPLETE            0.154157\nW_Nabellen incomplete dossiers_COMPLETE    0.007841\nW_Nabellen offertes_COMPLETE               0.001002\nW_Valideren aanvraag_COMPLETE              0.002665\nName: 0, dtype: float64\n"
     ]
    }
   ],
   "source": [
    "predicted_vocab_distributions = tf.gather(out, len(example_vocab_trace)-1, axis=1)\n",
    "predicted_vocab_distributions_df = pd.DataFrame(predicted_vocab_distributions.numpy().tolist(),columns=explainer.model.vocab.vocabs)\n",
    "max_arg = tf.math.argmax(predicted_vocab_distributions, axis=-1).numpy()[0]\n",
    "max_prob_vocab = explainer.model.vocab.index_to_vocab(max_arg)\n",
    "print(\"Predicted activity with highest probability (%.2f) is \\\"%s\\\"\" % (predicted_vocab_distributions[0][max_arg].numpy(), max_prob_vocab))\n",
    "display(predicted_vocab_distributions_df)\n",
    "print(predicted_vocab_distributions_df.iloc[0])"
   ]
  },
  {
   "cell_type": "code",
   "execution_count": 14,
   "metadata": {},
   "outputs": [],
   "source": [
    "indexes_to_remove_from_resource = [explainer.resources.index('<PAD>'), explainer.resources.index('<SOS>'),explainer.resources.index('<EOS>')]"
   ]
  },
  {
   "cell_type": "code",
   "execution_count": 15,
   "metadata": {},
   "outputs": [
    {
     "output_type": "stream",
     "name": "stdout",
     "text": [
      "=============Example activities without tags=============\n['A_SUBMITTED_COMPLETE', 'A_PARTLYSUBMITTED_COMPLETE', 'A_PREACCEPTED_COMPLETE']\n=============Example resources without tags=============\n['112', '112', '10863']\n=================Amount=================\n[5800.0]\n"
     ]
    }
   ],
   "source": [
    "example_idx_trace_without_tags = [ i for i in  example_idx_trace[0] if not i in explainer.vocab.tags_idx()]\n",
    "example_vocab_trace_without_tags = explainer.model.vocab.list_of_index_to_vocab(example_idx_trace_without_tags)\n",
    "\n",
    "example_idx_resources_without_tags = [ i for i in  example_idx_resources[0] if not i in indexes_to_remove_from_resource ]\n",
    "\n",
    "example_vocab_resource_without_tags = [\n",
    "   explainer.resources[r]  for r in example_idx_resources_without_tags\n",
    "]\n",
    "\n",
    "example_trace_len = len(example_vocab_trace_without_tags)\n",
    "\n",
    "print(\"=============Example activities without tags=============\")\n",
    "print(example_vocab_trace_without_tags)\n",
    "\n",
    "print(\"=============Example resources without tags=============\")\n",
    "print(example_vocab_resource_without_tags)\n",
    "\n",
    "print(\"=================Amount=================\")\n",
    "print(example_amount)"
   ]
  },
  {
   "cell_type": "code",
   "execution_count": 16,
   "metadata": {},
   "outputs": [],
   "source": [
    "#### Determine feature name ####\n",
    "activity_feature_names = np.array([\"activity_step_%d\" % (i+1) for i in range(len(example_vocab_trace_without_tags))])\n",
    "\n",
    "resource_feature_names = np.array([\"resource_step_%d\" % (i+1) for i in range(len(example_vocab_trace_without_tags))])"
   ]
  },
  {
   "cell_type": "code",
   "execution_count": 17,
   "metadata": {},
   "outputs": [
    {
     "output_type": "stream",
     "name": "stdout",
     "text": [
      "Desired activity is \"A_DECLINED_COMPLETE\"\n"
     ]
    }
   ],
   "source": [
    "############ Setting up desired activity ############\n",
    "desired_activity = 'A_DECLINED_COMPLETE' # A_DECLINED_COMPLETE, A_APPROVED_COMPLETE\n",
    "print(\"Desired activity is \\\"%s\\\"\" %(desired_activity))"
   ]
  },
  {
   "cell_type": "code",
   "execution_count": 18,
   "metadata": {},
   "outputs": [
    {
     "output_type": "execute_result",
     "data": {
      "text/plain": [
       "                                               trace  \\\n",
       "0  [2, 12, 9, 10, 3, 17, 8, 15, 19, 22, 24, 24, 1...   \n",
       "1  [2, 12, 9, 10, 22, 3, 8, 17, 15, 19, 22, 24, 1...   \n",
       "2  [2, 12, 9, 10, 22, 22, 22, 3, 17, 8, 15, 19, 2...   \n",
       "3                                   [2, 12, 9, 7, 1]   \n",
       "4                                   [2, 12, 9, 7, 1]   \n",
       "\n",
       "                                         trace_vocab  caseid   amount  \\\n",
       "0  [<SOS>, A_SUBMITTED_COMPLETE, A_PARTLYSUBMITTE...  173688  20000.0   \n",
       "1  [<SOS>, A_SUBMITTED_COMPLETE, A_PARTLYSUBMITTE...  173691   5000.0   \n",
       "2  [<SOS>, A_SUBMITTED_COMPLETE, A_PARTLYSUBMITTE...  173694   7000.0   \n",
       "3  [<SOS>, A_SUBMITTED_COMPLETE, A_PARTLYSUBMITTE...  173697  15000.0   \n",
       "4  [<SOS>, A_SUBMITTED_COMPLETE, A_PARTLYSUBMITTE...  173700   5000.0   \n",
       "\n",
       "                                            resource  \\\n",
       "0  [70, 53, 53, 53, 14, 14, 14, 14, 14, 71, 71, 2...   \n",
       "1  [70, 53, 53, 53, 71, 14, 14, 14, 14, 14, 71, 7...   \n",
       "2  [70, 53, 53, 53, 22, 71, 55, 55, 55, 55, 55, 5...   \n",
       "3                               [70, 53, 53, 53, 69]   \n",
       "4                               [70, 53, 53, 53, 69]   \n",
       "\n",
       "                                       resource_orig  \n",
       "0  [<SOS>, 112, 112, 112, 10862, 10862, 10862, 10...  \n",
       "1  [<SOS>, 112, 112, 112, UNKNOWN, 10862, 10862, ...  \n",
       "2  [<SOS>, 112, 112, 112, 10912, UNKNOWN, 11201, ...  \n",
       "3                      [<SOS>, 112, 112, 112, <EOS>]  \n",
       "4                      [<SOS>, 112, 112, 112, <EOS>]  "
      ],
      "text/html": "<div>\n<style scoped>\n    .dataframe tbody tr th:only-of-type {\n        vertical-align: middle;\n    }\n\n    .dataframe tbody tr th {\n        vertical-align: top;\n    }\n\n    .dataframe thead th {\n        text-align: right;\n    }\n</style>\n<table border=\"1\" class=\"dataframe\">\n  <thead>\n    <tr style=\"text-align: right;\">\n      <th></th>\n      <th>trace</th>\n      <th>trace_vocab</th>\n      <th>caseid</th>\n      <th>amount</th>\n      <th>resource</th>\n      <th>resource_orig</th>\n    </tr>\n  </thead>\n  <tbody>\n    <tr>\n      <th>0</th>\n      <td>[2, 12, 9, 10, 3, 17, 8, 15, 19, 22, 24, 24, 1...</td>\n      <td>[&lt;SOS&gt;, A_SUBMITTED_COMPLETE, A_PARTLYSUBMITTE...</td>\n      <td>173688</td>\n      <td>20000.0</td>\n      <td>[70, 53, 53, 53, 14, 14, 14, 14, 14, 71, 71, 2...</td>\n      <td>[&lt;SOS&gt;, 112, 112, 112, 10862, 10862, 10862, 10...</td>\n    </tr>\n    <tr>\n      <th>1</th>\n      <td>[2, 12, 9, 10, 22, 3, 8, 17, 15, 19, 22, 24, 1...</td>\n      <td>[&lt;SOS&gt;, A_SUBMITTED_COMPLETE, A_PARTLYSUBMITTE...</td>\n      <td>173691</td>\n      <td>5000.0</td>\n      <td>[70, 53, 53, 53, 71, 14, 14, 14, 14, 14, 71, 7...</td>\n      <td>[&lt;SOS&gt;, 112, 112, 112, UNKNOWN, 10862, 10862, ...</td>\n    </tr>\n    <tr>\n      <th>2</th>\n      <td>[2, 12, 9, 10, 22, 22, 22, 3, 17, 8, 15, 19, 2...</td>\n      <td>[&lt;SOS&gt;, A_SUBMITTED_COMPLETE, A_PARTLYSUBMITTE...</td>\n      <td>173694</td>\n      <td>7000.0</td>\n      <td>[70, 53, 53, 53, 22, 71, 55, 55, 55, 55, 55, 5...</td>\n      <td>[&lt;SOS&gt;, 112, 112, 112, 10912, UNKNOWN, 11201, ...</td>\n    </tr>\n    <tr>\n      <th>3</th>\n      <td>[2, 12, 9, 7, 1]</td>\n      <td>[&lt;SOS&gt;, A_SUBMITTED_COMPLETE, A_PARTLYSUBMITTE...</td>\n      <td>173697</td>\n      <td>15000.0</td>\n      <td>[70, 53, 53, 53, 69]</td>\n      <td>[&lt;SOS&gt;, 112, 112, 112, &lt;EOS&gt;]</td>\n    </tr>\n    <tr>\n      <th>4</th>\n      <td>[2, 12, 9, 7, 1]</td>\n      <td>[&lt;SOS&gt;, A_SUBMITTED_COMPLETE, A_PARTLYSUBMITTE...</td>\n      <td>173700</td>\n      <td>5000.0</td>\n      <td>[70, 53, 53, 53, 69]</td>\n      <td>[&lt;SOS&gt;, 112, 112, 112, &lt;EOS&gt;]</td>\n    </tr>\n  </tbody>\n</table>\n</div>"
     },
     "metadata": {},
     "execution_count": 18
    }
   ],
   "source": [
    "### all possible activities in the first step\n",
    "trainer.dataset.df.head(5)"
   ]
  },
  {
   "source": [
    "dont_need = ['<EOS>', '<SOS>', '<PAD>']\n",
    "possible_resources =  [ r for r in list(trainer.model.resources) if  not r in dont_need]\n",
    "possible_activities = [ a for a in list(trainer.model.vocab.vocabs) if  not a in dont_need]"
   ],
   "cell_type": "code",
   "metadata": {},
   "execution_count": 19,
   "outputs": []
  },
  {
   "cell_type": "code",
   "execution_count": 20,
   "metadata": {},
   "outputs": [],
   "source": [
    "possbile_amount = [min(trainer.dataset.df[\"amount\"]), max(trainer.dataset.df[\"amount\"])]"
   ]
  },
  {
   "cell_type": "code",
   "execution_count": 21,
   "metadata": {},
   "outputs": [],
   "source": [
    "fake_dataset_size = 5000\n",
    "fake_df = pd.DataFrame([])\n",
    "### Create a fake dataset\n",
    "for i in range (example_trace_len):\n",
    "    # fake_df[activity_feature_names[i]] = np.random.choice(possible_activities[i], fake_dataset_size)\n",
    "    fake_df[activity_feature_names[i]] = np.random.choice(possible_activities, fake_dataset_size)\n",
    "\n",
    "for i in range (example_trace_len):\n",
    "    fake_df[resource_feature_names[i]] =np.random.choice(possible_resources, fake_dataset_size)\n",
    "\n",
    "fake_df['amount'] = np.random.uniform(possbile_amount[0], possbile_amount[1], (fake_dataset_size,))\n",
    "\n",
    "fake_df['predicted'] = np.random.choice([0, 1], fake_dataset_size)"
   ]
  },
  {
   "cell_type": "code",
   "execution_count": 22,
   "metadata": {},
   "outputs": [
    {
     "output_type": "execute_result",
     "data": {
      "text/plain": [
       "        activity_step_1                          activity_step_2  \\\n",
       "0   A_APPROVED_COMPLETE                     A_CANCELLED_COMPLETE   \n",
       "1  A_FINALIZED_COMPLETE  W_Nabellen incomplete dossiers_COMPLETE   \n",
       "2  A_ACTIVATED_COMPLETE                          O_SENT_COMPLETE   \n",
       "3   A_DECLINED_COMPLETE                      O_DECLINED_COMPLETE   \n",
       "4  A_SUBMITTED_COMPLETE                      A_APPROVED_COMPLETE   \n",
       "\n",
       "                 activity_step_3 resource_step_1 resource_step_2  \\\n",
       "0           A_CANCELLED_COMPLETE           11121           10939   \n",
       "1     A_PARTLYSUBMITTED_COMPLETE           11299           11269   \n",
       "2  W_Valideren aanvraag_COMPLETE           10929           11120   \n",
       "3           A_CANCELLED_COMPLETE           11179           10933   \n",
       "4  W_Valideren aanvraag_COMPLETE           11201           11009   \n",
       "\n",
       "  resource_step_3        amount  predicted  \n",
       "0           11289  11868.495585          0  \n",
       "1           11302  28519.009473          1  \n",
       "2           11009  26601.927998          1  \n",
       "3           10972  42416.534017          1  \n",
       "4           11000  30255.501468          0  "
      ],
      "text/html": "<div>\n<style scoped>\n    .dataframe tbody tr th:only-of-type {\n        vertical-align: middle;\n    }\n\n    .dataframe tbody tr th {\n        vertical-align: top;\n    }\n\n    .dataframe thead th {\n        text-align: right;\n    }\n</style>\n<table border=\"1\" class=\"dataframe\">\n  <thead>\n    <tr style=\"text-align: right;\">\n      <th></th>\n      <th>activity_step_1</th>\n      <th>activity_step_2</th>\n      <th>activity_step_3</th>\n      <th>resource_step_1</th>\n      <th>resource_step_2</th>\n      <th>resource_step_3</th>\n      <th>amount</th>\n      <th>predicted</th>\n    </tr>\n  </thead>\n  <tbody>\n    <tr>\n      <th>0</th>\n      <td>A_APPROVED_COMPLETE</td>\n      <td>A_CANCELLED_COMPLETE</td>\n      <td>A_CANCELLED_COMPLETE</td>\n      <td>11121</td>\n      <td>10939</td>\n      <td>11289</td>\n      <td>11868.495585</td>\n      <td>0</td>\n    </tr>\n    <tr>\n      <th>1</th>\n      <td>A_FINALIZED_COMPLETE</td>\n      <td>W_Nabellen incomplete dossiers_COMPLETE</td>\n      <td>A_PARTLYSUBMITTED_COMPLETE</td>\n      <td>11299</td>\n      <td>11269</td>\n      <td>11302</td>\n      <td>28519.009473</td>\n      <td>1</td>\n    </tr>\n    <tr>\n      <th>2</th>\n      <td>A_ACTIVATED_COMPLETE</td>\n      <td>O_SENT_COMPLETE</td>\n      <td>W_Valideren aanvraag_COMPLETE</td>\n      <td>10929</td>\n      <td>11120</td>\n      <td>11009</td>\n      <td>26601.927998</td>\n      <td>1</td>\n    </tr>\n    <tr>\n      <th>3</th>\n      <td>A_DECLINED_COMPLETE</td>\n      <td>O_DECLINED_COMPLETE</td>\n      <td>A_CANCELLED_COMPLETE</td>\n      <td>11179</td>\n      <td>10933</td>\n      <td>10972</td>\n      <td>42416.534017</td>\n      <td>1</td>\n    </tr>\n    <tr>\n      <th>4</th>\n      <td>A_SUBMITTED_COMPLETE</td>\n      <td>A_APPROVED_COMPLETE</td>\n      <td>W_Valideren aanvraag_COMPLETE</td>\n      <td>11201</td>\n      <td>11009</td>\n      <td>11000</td>\n      <td>30255.501468</td>\n      <td>0</td>\n    </tr>\n  </tbody>\n</table>\n</div>"
     },
     "metadata": {},
     "execution_count": 22
    }
   ],
   "source": [
    "fake_df.head(5)"
   ]
  },
  {
   "cell_type": "code",
   "execution_count": 23,
   "metadata": {},
   "outputs": [],
   "source": [
    "d = dice_ml.Data(dataframe=fake_df, outcome_name=\"predicted\",continuous_features = ['amount'])"
   ]
  },
  {
   "cell_type": "code",
   "execution_count": 24,
   "metadata": {},
   "outputs": [],
   "source": [
    "dice_binary_model = DiCEBinaryDefferientiable(\n",
    "    explainer.model, \n",
    "    explainer.vocab,\n",
    "    desired=explainer.vocab.vocab_to_index(desired_activity),\n",
    "    trace_length = len(example_vocab_trace_without_tags),\n",
    "    resources= explainer.resources,\n",
    "    sos_idx_activity=explainer.vocab.vocab_to_index(\"<SOS>\"),\n",
    "    sos_idx_resource= explainer.resources.index('<SOS>'),\n",
    "    amount_min = possbile_amount[0],\n",
    "    amount_max = possbile_amount[1],\n",
    "    possible_resources=possible_resources,\n",
    "    possible_activities=possible_activities \n",
    ")\n"
   ]
  },
  {
   "cell_type": "code",
   "execution_count": 25,
   "metadata": {},
   "outputs": [],
   "source": [
    "m = dice_ml.Model(model=dice_binary_model, backend=\"TF2\")"
   ]
  },
  {
   "cell_type": "code",
   "execution_count": 26,
   "metadata": {},
   "outputs": [],
   "source": [
    "### Create a fake data frame for all the possibility for them.\n",
    "exp = dice_ml.Dice(d, m)"
   ]
  },
  {
   "cell_type": "code",
   "execution_count": 27,
   "metadata": {},
   "outputs": [],
   "source": [
    "feature_names = activity_feature_names.tolist() + resource_feature_names.tolist() + ['amount']"
   ]
  },
  {
   "cell_type": "code",
   "execution_count": 28,
   "metadata": {},
   "outputs": [],
   "source": [
    "query_instance = [example_vocab_trace_without_tags + example_vocab_resource_without_tags + example_amount]\n",
    "example_df = pd.DataFrame(query_instance, columns= feature_names)"
   ]
  },
  {
   "cell_type": "code",
   "execution_count": 29,
   "metadata": {},
   "outputs": [
    {
     "output_type": "execute_result",
     "data": {
      "text/plain": [
       "        activity_step_1             activity_step_2         activity_step_3  \\\n",
       "0  A_SUBMITTED_COMPLETE  A_PARTLYSUBMITTED_COMPLETE  A_PREACCEPTED_COMPLETE   \n",
       "\n",
       "  resource_step_1 resource_step_2 resource_step_3  amount  \n",
       "0             112             112           10863  5800.0  "
      ],
      "text/html": "<div>\n<style scoped>\n    .dataframe tbody tr th:only-of-type {\n        vertical-align: middle;\n    }\n\n    .dataframe tbody tr th {\n        vertical-align: top;\n    }\n\n    .dataframe thead th {\n        text-align: right;\n    }\n</style>\n<table border=\"1\" class=\"dataframe\">\n  <thead>\n    <tr style=\"text-align: right;\">\n      <th></th>\n      <th>activity_step_1</th>\n      <th>activity_step_2</th>\n      <th>activity_step_3</th>\n      <th>resource_step_1</th>\n      <th>resource_step_2</th>\n      <th>resource_step_3</th>\n      <th>amount</th>\n    </tr>\n  </thead>\n  <tbody>\n    <tr>\n      <th>0</th>\n      <td>A_SUBMITTED_COMPLETE</td>\n      <td>A_PARTLYSUBMITTED_COMPLETE</td>\n      <td>A_PREACCEPTED_COMPLETE</td>\n      <td>112</td>\n      <td>112</td>\n      <td>10863</td>\n      <td>5800.0</td>\n    </tr>\n  </tbody>\n</table>\n</div>"
     },
     "metadata": {},
     "execution_count": 29
    }
   ],
   "source": [
    "example_df"
   ]
  },
  {
   "cell_type": "code",
   "execution_count": 44,
   "metadata": {
    "tags": []
   },
   "outputs": [
    {
     "output_type": "stream",
     "name": "stdout",
     "text": [
      "step 1,  loss=2.92516\n",
      "step 51,  loss=0.0152323\n",
      "step 101,  loss=0.0124236\n",
      "step 151,  loss=0.0112486\n",
      "step 201,  loss=0.0145335\n",
      "Diverse Counterfactuals found! total time taken: 00 min 26 sec\n"
     ]
    }
   ],
   "source": [
    "## Problem of weight propagation?\n",
    "dice_exp = exp.generate_counterfactuals(\n",
    "        example_df,\n",
    "        total_CFs=1,\n",
    "        verbose=True,\n",
    "        min_iter=100,\n",
    "        max_iter=500,\n",
    "        features_to_vary=[\n",
    "        'amount',\n",
    "        *activity_feature_names.tolist(),\n",
    "        *resource_feature_names.tolist(),\n",
    "        ],\n",
    "        # desired_class=\"opposite\",\n",
    "        # yloss_type= \"log_loss\" # log_loss, hinge_loss, l2_loss\n",
    "        # algorithm = \"DiverseCF\", # DiverseCF, RandomInitCF\n",
    "        # proximity_weight=0.5, #0.5,\n",
    "        # diversity_weight=1,#1.0,\n",
    "        # init_near_query_instance=True,\n",
    "        # tie_random = True,\n",
    "        # categorical_penalty = 1,\n",
    "        # learning_rate=0.0005,\n",
    "    )"
   ]
  },
  {
   "cell_type": "code",
   "execution_count": 45,
   "metadata": {},
   "outputs": [
    {
     "output_type": "stream",
     "name": "stdout",
     "text": [
      "All inputs are the same: False\n"
     ]
    }
   ],
   "source": [
    "########## Checking if all the permutation are the same (Shouldn't be) ##########\n",
    "all_cf_are_same = all([all((dice_binary_model.all_cf_input[1][:, 1:] == dice_binary_model.all_cf_input[i][:, 1:]).tolist()[0]) for i in range(len(dice_binary_model.all_cf_input))][1:])\n",
    "print(\"All inputs are the same: %s\" % (all_cf_are_same))"
   ]
  },
  {
   "cell_type": "code",
   "execution_count": 46,
   "metadata": {},
   "outputs": [
    {
     "output_type": "stream",
     "name": "stdout",
     "text": [
      "All trace and resource are the same: False\n"
     ]
    }
   ],
   "source": [
    "########## Checking if all the trace & resource (except amount) are the same (Shouldn't be) ##########\n",
    "all_trace_and_resource_are_same = all([all((dice_binary_model.all_cf_input[1][:, 1:] == dice_binary_model.all_cf_input[i][:, 1:]).tolist()[0]) for\n",
    " i in range(len(dice_binary_model.all_cf_input))][1:])\n",
    "print(\"All trace and resource are the same: %s\" % (all_trace_and_resource_are_same))"
   ]
  },
  {
   "cell_type": "code",
   "execution_count": 47,
   "metadata": {},
   "outputs": [
    {
     "output_type": "stream",
     "name": "stdout",
     "text": [
      "Query instance (original outcome : 0)\n"
     ]
    },
    {
     "output_type": "display_data",
     "data": {
      "text/plain": "        activity_step_1             activity_step_2         activity_step_3  \\\n0  A_SUBMITTED_COMPLETE  A_PARTLYSUBMITTED_COMPLETE  A_PREACCEPTED_COMPLETE   \n\n  resource_step_1 resource_step_2 resource_step_3  amount  predicted  \n0             112             112           10863  5800.0      0.127  ",
      "text/html": "<div>\n<style scoped>\n    .dataframe tbody tr th:only-of-type {\n        vertical-align: middle;\n    }\n\n    .dataframe tbody tr th {\n        vertical-align: top;\n    }\n\n    .dataframe thead th {\n        text-align: right;\n    }\n</style>\n<table border=\"1\" class=\"dataframe\">\n  <thead>\n    <tr style=\"text-align: right;\">\n      <th></th>\n      <th>activity_step_1</th>\n      <th>activity_step_2</th>\n      <th>activity_step_3</th>\n      <th>resource_step_1</th>\n      <th>resource_step_2</th>\n      <th>resource_step_3</th>\n      <th>amount</th>\n      <th>predicted</th>\n    </tr>\n  </thead>\n  <tbody>\n    <tr>\n      <th>0</th>\n      <td>A_SUBMITTED_COMPLETE</td>\n      <td>A_PARTLYSUBMITTED_COMPLETE</td>\n      <td>A_PREACCEPTED_COMPLETE</td>\n      <td>112</td>\n      <td>112</td>\n      <td>10863</td>\n      <td>5800.0</td>\n      <td>0.127</td>\n    </tr>\n  </tbody>\n</table>\n</div>"
     },
     "metadata": {}
    },
    {
     "output_type": "stream",
     "name": "stdout",
     "text": [
      "\nDiverse Counterfactual set without sparsity correction (new outcome:  1.0\n"
     ]
    },
    {
     "output_type": "display_data",
     "data": {
      "text/plain": "  activity_step_1 activity_step_2  activity_step_3 resource_step_1  \\\n0               -               -  O_SENT_COMPLETE           11254   \n\n  resource_step_2 resource_step_3      amount predicted  \n0               -           11029  248.158737     0.733  ",
      "text/html": "<div>\n<style scoped>\n    .dataframe tbody tr th:only-of-type {\n        vertical-align: middle;\n    }\n\n    .dataframe tbody tr th {\n        vertical-align: top;\n    }\n\n    .dataframe thead th {\n        text-align: right;\n    }\n</style>\n<table border=\"1\" class=\"dataframe\">\n  <thead>\n    <tr style=\"text-align: right;\">\n      <th></th>\n      <th>activity_step_1</th>\n      <th>activity_step_2</th>\n      <th>activity_step_3</th>\n      <th>resource_step_1</th>\n      <th>resource_step_2</th>\n      <th>resource_step_3</th>\n      <th>amount</th>\n      <th>predicted</th>\n    </tr>\n  </thead>\n  <tbody>\n    <tr>\n      <th>0</th>\n      <td>-</td>\n      <td>-</td>\n      <td>O_SENT_COMPLETE</td>\n      <td>11254</td>\n      <td>-</td>\n      <td>11029</td>\n      <td>248.158737</td>\n      <td>0.733</td>\n    </tr>\n  </tbody>\n</table>\n</div>"
     },
     "metadata": {}
    }
   ],
   "source": [
    "dice_exp.visualize_as_dataframe(show_only_changes=True, display_sparse_df=False)"
   ]
  },
  {
   "cell_type": "code",
   "execution_count": 48,
   "metadata": {},
   "outputs": [
    {
     "output_type": "stream",
     "name": "stdout",
     "text": [
      "['A_SUBMITTED_COMPLETE', 'A_PARTLYSUBMITTED_COMPLETE', 'A_PREACCEPTED_COMPLETE', '112', '112', '10863', 5800.0]\n"
     ]
    }
   ],
   "source": [
    "######## Print the example trace ########\n",
    "print(list(example_df.iloc[0]))"
   ]
  },
  {
   "cell_type": "code",
   "execution_count": 49,
   "metadata": {},
   "outputs": [
    {
     "output_type": "stream",
     "name": "stdout",
     "text": [
      "['A_SUBMITTED_COMPLETE', 'A_PARTLYSUBMITTED_COMPLETE', 'O_SENT_COMPLETE', '11254', '112', '11029', 248.158737]\n"
     ]
    }
   ],
   "source": [
    "######## Print the counterfactual trace ########\n",
    "print(list(dice_exp.final_cfs_df.iloc[0][:-1]))"
   ]
  },
  {
   "cell_type": "code",
   "execution_count": null,
   "metadata": {},
   "outputs": [],
   "source": []
  }
 ]
}