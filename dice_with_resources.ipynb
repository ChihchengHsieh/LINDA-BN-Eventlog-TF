{
 "metadata": {
  "language_info": {
   "codemirror_mode": {
    "name": "ipython",
    "version": 3
   },
   "file_extension": ".py",
   "mimetype": "text/x-python",
   "name": "python",
   "nbconvert_exporter": "python",
   "pygments_lexer": "ipython3",
   "version": "3.8.10"
  },
  "orig_nbformat": 4,
  "kernelspec": {
   "name": "python3",
   "display_name": "Python 3.8.10 64-bit ('tf_mac': conda)"
  },
  "interpreter": {
   "hash": "5c622353f32ef24c8d83e5c3e334107c074e82d7c3e8ca52c56b9fc900ce33e6"
  }
 },
 "nbformat": 4,
 "nbformat_minor": 2,
 "cells": [
  {
   "cell_type": "code",
   "execution_count": 1,
   "metadata": {},
   "outputs": [
    {
     "output_type": "stream",
     "name": "stdout",
     "text": [
      "TF version:  2.4.0-rc0\nEager execution enabled:  True\n"
     ]
    }
   ],
   "source": [
    "from Controller import TrainingController, ExplainingController\n",
    "from Utils.SaveUtils import load_parameters\n",
    "from Parameters import TrainingParameters, PredictingParameters\n",
    "import tensorflow as tf\n",
    "from IPython.core.display import display, HTML\n",
    "import json\n",
    "import numpy as np\n",
    "import pandas as pd\n",
    "from Parameters.Enums import TracePermutationStrategies\n",
    "from Models import DiCEBinaryDefferientiable\n",
    "from itertools import chain\n",
    "\n",
    "import dice_ml\n",
    "from dice_ml.utils import helpers\n",
    "\n",
    "print('TF version: ', tf.__version__)\n",
    "print('Eager execution enabled: ', tf.executing_eagerly()) # False\n",
    "seed = 123\n",
    "tf.random.set_seed(seed)\n",
    "np.random.seed(seed)"
   ]
  },
  {
   "cell_type": "code",
   "execution_count": 2,
   "metadata": {},
   "outputs": [],
   "source": [
    "folder_path = \"./SavedModels/%s\" % (\"0.8264_BPI2012WithResource_BaselineLSTMWithResource_2021-06-18 06:11:10.009443\" # AOW\n",
    ")"
   ]
  },
  {
   "cell_type": "code",
   "execution_count": 3,
   "metadata": {},
   "outputs": [],
   "source": [
    "parameters_json = load_parameters(folder_path=folder_path)\n",
    "parameters = TrainingParameters(**parameters_json)\n",
    "tf.random.set_seed(parameters.dataset_split_seed)\n",
    "np.random.seed(parameters.dataset_split_seed)\n",
    "parameters.load_model_folder_path = folder_path\n",
    "predicting_parameters = PredictingParameters()\n",
    "predicting_parameters.load_model_folder_path = folder_path\n",
    " "
   ]
  },
  {
   "cell_type": "code",
   "execution_count": 4,
   "metadata": {},
   "outputs": [
    {
     "output_type": "stream",
     "name": "stdout",
     "text": [
      "\n",
      "=================================================\n",
      "| Running on /job:localhost/replica:0/task:0/device:CPU:0  \n",
      "=================================================\n",
      "\n",
      "=================================================\n",
      "| Preprocessed data loaded successfully: ./datasets/preprocessed/BPI_Challenge_2012_with_resource/AOW \n",
      "=================================================\n",
      "\n",
      "=================================================\n",
      "| Model loaded successfully from: ./SavedModels/0.8264_BPI2012WithResource_BaselineLSTMWithResource_2021-06-18 06:11:10.009443  \n",
      "=================================================\n"
     ]
    }
   ],
   "source": [
    "trainer = TrainingController(parameters = parameters)"
   ]
  },
  {
   "cell_type": "code",
   "execution_count": 5,
   "metadata": {},
   "outputs": [
    {
     "output_type": "stream",
     "name": "stdout",
     "text": [
      "\n",
      "=================================================\n",
      "| Running on /job:localhost/replica:0/task:0/device:CPU:0  \n",
      "=================================================\n",
      "\n",
      "=================================================\n",
      "| Model loaded successfully from: ./SavedModels/0.8264_BPI2012WithResource_BaselineLSTMWithResource_2021-06-18 06:11:10.009443  \n",
      "=================================================\n"
     ]
    }
   ],
   "source": [
    "explainer = ExplainingController(parameters=parameters, predicting_parameters= predicting_parameters)"
   ]
  },
  {
   "cell_type": "code",
   "execution_count": 6,
   "metadata": {},
   "outputs": [
    {
     "output_type": "stream",
     "name": "stdout",
     "text": [
      "Test set length: 1309\n"
     ]
    }
   ],
   "source": [
    "########### Get example data from trainer ###########\n",
    "ordered_test_idx = (list(trainer.test_dataset.unbatch().as_numpy_iterator()))\n",
    "ordered_test_idx.sort()\n",
    "print(\"Test set length: %d\" %(len(ordered_test_idx)))"
   ]
  },
  {
   "cell_type": "code",
   "execution_count": 7,
   "metadata": {},
   "outputs": [],
   "source": [
    "longest_fail_idx = None\n",
    "longest_fail_length = 0\n",
    "all_decline_idxs = []\n",
    "declined_idx = trainer.model.vocab.vocab_to_index('A_DECLINED_COMPLETE')\n",
    "for idx in ordered_test_idx:\n",
    "    caseids, example_data, example_lengths, example_resources, example_amount, _= trainer.dataset.collate_fn([idx])\n",
    "    if declined_idx in example_data[0]:\n",
    "        all_decline_idxs.append(idx)\n",
    "        if type(longest_fail_idx) == type(None):\n",
    "            longest_fail_idx = idx\n",
    "            longest_fail_length = example_data.shape[1]\n",
    "        else:\n",
    "            if example_data.shape[1] > longest_fail_length:\n",
    "                longest_fail_idx = idx\n",
    "                longest_fail_length = example_data.shape[1]"
   ]
  },
  {
   "cell_type": "code",
   "execution_count": 8,
   "metadata": {},
   "outputs": [],
   "source": [
    "caseids, example_data, example_lengths, example_resources, example_amount, _ = trainer.dataset.collate_fn([longest_fail_idx])"
   ]
  },
  {
   "cell_type": "code",
   "execution_count": 9,
   "metadata": {},
   "outputs": [],
   "source": [
    "remove_trail_steps = 4\n",
    "example_idx_trace = np.array([example_data[0][:-remove_trail_steps]])\n",
    "example_idx_resources = np.array([example_resources[0][:-remove_trail_steps]])\n",
    "example_vocab_trace = trainer.model.vocab.list_of_index_to_vocab_2d(example_idx_trace)[0]"
   ]
  },
  {
   "cell_type": "code",
   "execution_count": 10,
   "metadata": {},
   "outputs": [
    {
     "output_type": "stream",
     "name": "stdout",
     "text": [
      "['<SOS>', 'A_SUBMITTED_COMPLETE', 'A_PARTLYSUBMITTED_COMPLETE', 'A_PREACCEPTED_COMPLETE', 'W_Afhandelen leads_COMPLETE', 'W_Completeren aanvraag_COMPLETE', 'A_ACCEPTED_COMPLETE', 'O_SELECTED_COMPLETE', 'A_FINALIZED_COMPLETE', 'O_CREATED_COMPLETE', 'O_SENT_COMPLETE', 'W_Completeren aanvraag_COMPLETE', 'O_SELECTED_COMPLETE', 'O_CANCELLED_COMPLETE', 'O_CREATED_COMPLETE', 'O_SENT_COMPLETE', 'W_Nabellen offertes_COMPLETE', 'O_CANCELLED_COMPLETE', 'O_SELECTED_COMPLETE', 'O_CREATED_COMPLETE', 'O_SENT_COMPLETE', 'W_Nabellen offertes_COMPLETE', 'W_Nabellen offertes_COMPLETE', 'W_Nabellen offertes_COMPLETE', 'W_Nabellen offertes_COMPLETE', 'W_Nabellen offertes_COMPLETE', 'O_SENT_BACK_COMPLETE', 'W_Nabellen offertes_COMPLETE', 'W_Valideren aanvraag_COMPLETE', 'W_Nabellen incomplete dossiers_COMPLETE', 'W_Nabellen incomplete dossiers_COMPLETE', 'W_Nabellen incomplete dossiers_COMPLETE', 'W_Nabellen incomplete dossiers_COMPLETE', 'W_Nabellen incomplete dossiers_COMPLETE', 'W_Nabellen incomplete dossiers_COMPLETE', 'W_Nabellen incomplete dossiers_COMPLETE', 'W_Nabellen incomplete dossiers_COMPLETE', 'W_Nabellen incomplete dossiers_COMPLETE', 'W_Nabellen incomplete dossiers_COMPLETE', 'W_Nabellen incomplete dossiers_COMPLETE', 'W_Nabellen incomplete dossiers_COMPLETE', 'W_Nabellen incomplete dossiers_COMPLETE', 'W_Nabellen incomplete dossiers_COMPLETE', 'W_Nabellen incomplete dossiers_COMPLETE', 'W_Nabellen incomplete dossiers_COMPLETE', 'W_Nabellen incomplete dossiers_COMPLETE', 'W_Nabellen incomplete dossiers_COMPLETE', 'W_Nabellen incomplete dossiers_COMPLETE', 'W_Nabellen incomplete dossiers_COMPLETE', 'W_Nabellen incomplete dossiers_COMPLETE']\n"
     ]
    }
   ],
   "source": [
    "print(example_vocab_trace)"
   ]
  },
  {
   "cell_type": "code",
   "execution_count": 11,
   "metadata": {},
   "outputs": [],
   "source": [
    "example_input = tf.constant(example_idx_trace)\n",
    "example_resources_input = tf.constant(example_idx_resources)\n",
    "example_amount_input = tf.constant(example_amount)"
   ]
  },
  {
   "cell_type": "code",
   "execution_count": 12,
   "metadata": {},
   "outputs": [],
   "source": [
    "out, _ = explainer.model(example_input, input_resources = example_resources_input, amount = example_amount_input)"
   ]
  },
  {
   "cell_type": "code",
   "execution_count": 13,
   "metadata": {},
   "outputs": [
    {
     "output_type": "stream",
     "name": "stdout",
     "text": [
      "Predicted activity with highest probability (0.63) is \"W_Nabellen incomplete dossiers_COMPLETE\"\n"
     ]
    },
    {
     "output_type": "display_data",
     "data": {
      "text/plain": "      <PAD>     <EOS>     <SOS>  A_ACCEPTED_COMPLETE  A_ACTIVATED_COMPLETE  \\\n0  0.000034  0.002423  0.000076             0.001958              0.025987   \n\n   A_APPROVED_COMPLETE  A_CANCELLED_COMPLETE  A_DECLINED_COMPLETE  \\\n0             0.040202              0.064902             0.029624   \n\n   A_FINALIZED_COMPLETE  A_PARTLYSUBMITTED_COMPLETE  ...  O_DECLINED_COMPLETE  \\\n0              0.000463                    0.000077  ...             0.005079   \n\n   O_SELECTED_COMPLETE  O_SENT_BACK_COMPLETE  O_SENT_COMPLETE  \\\n0              0.01691              0.002994         0.000137   \n\n   W_Afhandelen leads_COMPLETE  W_Beoordelen fraude_COMPLETE  \\\n0                     0.000006                      0.000064   \n\n   W_Completeren aanvraag_COMPLETE  W_Nabellen incomplete dossiers_COMPLETE  \\\n0                         0.003706                                 0.631747   \n\n   W_Nabellen offertes_COMPLETE  W_Valideren aanvraag_COMPLETE  \n0                       0.00057                       0.112999  \n\n[1 rows x 26 columns]",
      "text/html": "<div>\n<style scoped>\n    .dataframe tbody tr th:only-of-type {\n        vertical-align: middle;\n    }\n\n    .dataframe tbody tr th {\n        vertical-align: top;\n    }\n\n    .dataframe thead th {\n        text-align: right;\n    }\n</style>\n<table border=\"1\" class=\"dataframe\">\n  <thead>\n    <tr style=\"text-align: right;\">\n      <th></th>\n      <th>&lt;PAD&gt;</th>\n      <th>&lt;EOS&gt;</th>\n      <th>&lt;SOS&gt;</th>\n      <th>A_ACCEPTED_COMPLETE</th>\n      <th>A_ACTIVATED_COMPLETE</th>\n      <th>A_APPROVED_COMPLETE</th>\n      <th>A_CANCELLED_COMPLETE</th>\n      <th>A_DECLINED_COMPLETE</th>\n      <th>A_FINALIZED_COMPLETE</th>\n      <th>A_PARTLYSUBMITTED_COMPLETE</th>\n      <th>...</th>\n      <th>O_DECLINED_COMPLETE</th>\n      <th>O_SELECTED_COMPLETE</th>\n      <th>O_SENT_BACK_COMPLETE</th>\n      <th>O_SENT_COMPLETE</th>\n      <th>W_Afhandelen leads_COMPLETE</th>\n      <th>W_Beoordelen fraude_COMPLETE</th>\n      <th>W_Completeren aanvraag_COMPLETE</th>\n      <th>W_Nabellen incomplete dossiers_COMPLETE</th>\n      <th>W_Nabellen offertes_COMPLETE</th>\n      <th>W_Valideren aanvraag_COMPLETE</th>\n    </tr>\n  </thead>\n  <tbody>\n    <tr>\n      <th>0</th>\n      <td>0.000034</td>\n      <td>0.002423</td>\n      <td>0.000076</td>\n      <td>0.001958</td>\n      <td>0.025987</td>\n      <td>0.040202</td>\n      <td>0.064902</td>\n      <td>0.029624</td>\n      <td>0.000463</td>\n      <td>0.000077</td>\n      <td>...</td>\n      <td>0.005079</td>\n      <td>0.01691</td>\n      <td>0.002994</td>\n      <td>0.000137</td>\n      <td>0.000006</td>\n      <td>0.000064</td>\n      <td>0.003706</td>\n      <td>0.631747</td>\n      <td>0.00057</td>\n      <td>0.112999</td>\n    </tr>\n  </tbody>\n</table>\n<p>1 rows × 26 columns</p>\n</div>"
     },
     "metadata": {}
    },
    {
     "output_type": "stream",
     "name": "stdout",
     "text": [
      "<PAD>                                      0.000034\n<EOS>                                      0.002423\n<SOS>                                      0.000076\nA_ACCEPTED_COMPLETE                        0.001958\nA_ACTIVATED_COMPLETE                       0.025987\nA_APPROVED_COMPLETE                        0.040202\nA_CANCELLED_COMPLETE                       0.064902\nA_DECLINED_COMPLETE                        0.029624\nA_FINALIZED_COMPLETE                       0.000463\nA_PARTLYSUBMITTED_COMPLETE                 0.000077\nA_PREACCEPTED_COMPLETE                     0.000112\nA_REGISTERED_COMPLETE                      0.021333\nA_SUBMITTED_COMPLETE                       0.000658\nO_ACCEPTED_COMPLETE                        0.029949\nO_CANCELLED_COMPLETE                       0.007966\nO_CREATED_COMPLETE                         0.000026\nO_DECLINED_COMPLETE                        0.005079\nO_SELECTED_COMPLETE                        0.016910\nO_SENT_BACK_COMPLETE                       0.002994\nO_SENT_COMPLETE                            0.000137\nW_Afhandelen leads_COMPLETE                0.000006\nW_Beoordelen fraude_COMPLETE               0.000064\nW_Completeren aanvraag_COMPLETE            0.003706\nW_Nabellen incomplete dossiers_COMPLETE    0.631747\nW_Nabellen offertes_COMPLETE               0.000570\nW_Valideren aanvraag_COMPLETE              0.112999\nName: 0, dtype: float64\n"
     ]
    }
   ],
   "source": [
    "predicted_vocab_distributions = tf.gather(out, len(example_vocab_trace)-1, axis=1)\n",
    "predicted_vocab_distributions_df = pd.DataFrame(predicted_vocab_distributions.numpy().tolist(),columns=explainer.model.vocab.vocabs)\n",
    "max_arg = tf.math.argmax(predicted_vocab_distributions, axis=-1).numpy()[0]\n",
    "max_prob_vocab = explainer.model.vocab.index_to_vocab(max_arg)\n",
    "print(\"Predicted activity with highest probability (%.2f) is \\\"%s\\\"\" % (predicted_vocab_distributions[0][max_arg].numpy(), max_prob_vocab))\n",
    "display(predicted_vocab_distributions_df)\n",
    "print(predicted_vocab_distributions_df.iloc[0])"
   ]
  },
  {
   "cell_type": "code",
   "execution_count": 14,
   "metadata": {},
   "outputs": [],
   "source": [
    "indexes_to_remove_from_resource = [explainer.resources.index('<PAD>'), explainer.resources.index('<SOS>'),explainer.resources.index('<EOS>')]"
   ]
  },
  {
   "cell_type": "code",
   "execution_count": 15,
   "metadata": {},
   "outputs": [
    {
     "output_type": "stream",
     "name": "stdout",
     "text": [
      "=============Example activities without tags=============\n['A_SUBMITTED_COMPLETE', 'A_PARTLYSUBMITTED_COMPLETE', 'A_PREACCEPTED_COMPLETE', 'W_Afhandelen leads_COMPLETE', 'W_Completeren aanvraag_COMPLETE', 'A_ACCEPTED_COMPLETE', 'O_SELECTED_COMPLETE', 'A_FINALIZED_COMPLETE', 'O_CREATED_COMPLETE', 'O_SENT_COMPLETE', 'W_Completeren aanvraag_COMPLETE', 'O_SELECTED_COMPLETE', 'O_CANCELLED_COMPLETE', 'O_CREATED_COMPLETE', 'O_SENT_COMPLETE', 'W_Nabellen offertes_COMPLETE', 'O_CANCELLED_COMPLETE', 'O_SELECTED_COMPLETE', 'O_CREATED_COMPLETE', 'O_SENT_COMPLETE', 'W_Nabellen offertes_COMPLETE', 'W_Nabellen offertes_COMPLETE', 'W_Nabellen offertes_COMPLETE', 'W_Nabellen offertes_COMPLETE', 'W_Nabellen offertes_COMPLETE', 'O_SENT_BACK_COMPLETE', 'W_Nabellen offertes_COMPLETE', 'W_Valideren aanvraag_COMPLETE', 'W_Nabellen incomplete dossiers_COMPLETE', 'W_Nabellen incomplete dossiers_COMPLETE', 'W_Nabellen incomplete dossiers_COMPLETE', 'W_Nabellen incomplete dossiers_COMPLETE', 'W_Nabellen incomplete dossiers_COMPLETE', 'W_Nabellen incomplete dossiers_COMPLETE', 'W_Nabellen incomplete dossiers_COMPLETE', 'W_Nabellen incomplete dossiers_COMPLETE', 'W_Nabellen incomplete dossiers_COMPLETE', 'W_Nabellen incomplete dossiers_COMPLETE', 'W_Nabellen incomplete dossiers_COMPLETE', 'W_Nabellen incomplete dossiers_COMPLETE', 'W_Nabellen incomplete dossiers_COMPLETE', 'W_Nabellen incomplete dossiers_COMPLETE', 'W_Nabellen incomplete dossiers_COMPLETE', 'W_Nabellen incomplete dossiers_COMPLETE', 'W_Nabellen incomplete dossiers_COMPLETE', 'W_Nabellen incomplete dossiers_COMPLETE', 'W_Nabellen incomplete dossiers_COMPLETE', 'W_Nabellen incomplete dossiers_COMPLETE', 'W_Nabellen incomplete dossiers_COMPLETE']\n=============Example resources without tags=============\n['112', '112', '10863', '10863', '11169', '11003', '11003', '11003', '11003', '11003', '11003', '11003', '11003', '11003', '11003', '11003', '11003', '11003', '11003', '11003', '11003', '11003', '10913', '11180', '11000', '10899', '10899', '10899', '10899', '11121', '11000', '10861', '10909', '10909', '10913', '11002', '11002', '11179', '11009', '11259', '11181', '11181', '11181', '11000', '11169', '11122', '10982', '11003', '11003']\n=================Amount=================\n[5800.0]\n"
     ]
    }
   ],
   "source": [
    "example_idx_trace_without_tags = [ i for i in  example_idx_trace[0] if not i in explainer.vocab.tags_idx()]\n",
    "example_vocab_trace_without_tags = explainer.model.vocab.list_of_index_to_vocab(example_idx_trace_without_tags)\n",
    "\n",
    "example_idx_resources_without_tags = [ i for i in  example_idx_resources[0] if not i in indexes_to_remove_from_resource ]\n",
    "\n",
    "example_vocab_resource_without_tags = [\n",
    "   explainer.resources[r]  for r in example_idx_resources_without_tags\n",
    "]\n",
    "\n",
    "example_trace_len = len(example_vocab_trace_without_tags)\n",
    "\n",
    "print(\"=============Example activities without tags=============\")\n",
    "print(example_vocab_trace_without_tags)\n",
    "\n",
    "print(\"=============Example resources without tags=============\")\n",
    "print(example_vocab_resource_without_tags)\n",
    "\n",
    "print(\"=================Amount=================\")\n",
    "print(example_amount)"
   ]
  },
  {
   "cell_type": "code",
   "execution_count": 16,
   "metadata": {},
   "outputs": [],
   "source": [
    "#### Determine feature name ####\n",
    "activity_feature_names = np.array([\"activity_step_%d\" % (i+1) for i in range(len(example_vocab_trace_without_tags))])\n",
    "\n",
    "resource_feature_names = np.array([\"resource_step_%d\" % (i+1) for i in range(len(example_vocab_trace_without_tags))])"
   ]
  },
  {
   "cell_type": "code",
   "execution_count": 17,
   "metadata": {},
   "outputs": [
    {
     "output_type": "stream",
     "name": "stdout",
     "text": [
      "Desired activity is \"A_DECLINED_COMPLETE\"\n"
     ]
    }
   ],
   "source": [
    "############ Setting up desired activity ############\n",
    "desired_activity = 'A_DECLINED_COMPLETE' # A_DECLINED_COMPLETE, A_APPROVED_COMPLETE\n",
    "print(\"Desired activity is \\\"%s\\\"\" %(desired_activity))"
   ]
  },
  {
   "cell_type": "code",
   "execution_count": 18,
   "metadata": {},
   "outputs": [
    {
     "output_type": "execute_result",
     "data": {
      "text/plain": [
       "                                               trace  \\\n",
       "0  [2, 12, 9, 10, 3, 17, 8, 15, 19, 22, 24, 24, 1...   \n",
       "1  [2, 12, 9, 10, 22, 3, 8, 17, 15, 19, 22, 24, 1...   \n",
       "2  [2, 12, 9, 10, 22, 22, 22, 3, 17, 8, 15, 19, 2...   \n",
       "3                                   [2, 12, 9, 7, 1]   \n",
       "4                                   [2, 12, 9, 7, 1]   \n",
       "\n",
       "                                         trace_vocab  caseid   amount  \\\n",
       "0  [<SOS>, A_SUBMITTED_COMPLETE, A_PARTLYSUBMITTE...  173688  20000.0   \n",
       "1  [<SOS>, A_SUBMITTED_COMPLETE, A_PARTLYSUBMITTE...  173691   5000.0   \n",
       "2  [<SOS>, A_SUBMITTED_COMPLETE, A_PARTLYSUBMITTE...  173694   7000.0   \n",
       "3  [<SOS>, A_SUBMITTED_COMPLETE, A_PARTLYSUBMITTE...  173697  15000.0   \n",
       "4  [<SOS>, A_SUBMITTED_COMPLETE, A_PARTLYSUBMITTE...  173700   5000.0   \n",
       "\n",
       "                                            resource  \\\n",
       "0  [70, 53, 53, 53, 14, 14, 14, 14, 14, 71, 71, 2...   \n",
       "1  [70, 53, 53, 53, 71, 14, 14, 14, 14, 14, 71, 7...   \n",
       "2  [70, 53, 53, 53, 22, 71, 55, 55, 55, 55, 55, 5...   \n",
       "3                               [70, 53, 53, 53, 69]   \n",
       "4                               [70, 53, 53, 53, 69]   \n",
       "\n",
       "                                       resource_orig  \n",
       "0  [<SOS>, 112, 112, 112, 10862, 10862, 10862, 10...  \n",
       "1  [<SOS>, 112, 112, 112, UNKNOWN, 10862, 10862, ...  \n",
       "2  [<SOS>, 112, 112, 112, 10912, UNKNOWN, 11201, ...  \n",
       "3                      [<SOS>, 112, 112, 112, <EOS>]  \n",
       "4                      [<SOS>, 112, 112, 112, <EOS>]  "
      ],
      "text/html": "<div>\n<style scoped>\n    .dataframe tbody tr th:only-of-type {\n        vertical-align: middle;\n    }\n\n    .dataframe tbody tr th {\n        vertical-align: top;\n    }\n\n    .dataframe thead th {\n        text-align: right;\n    }\n</style>\n<table border=\"1\" class=\"dataframe\">\n  <thead>\n    <tr style=\"text-align: right;\">\n      <th></th>\n      <th>trace</th>\n      <th>trace_vocab</th>\n      <th>caseid</th>\n      <th>amount</th>\n      <th>resource</th>\n      <th>resource_orig</th>\n    </tr>\n  </thead>\n  <tbody>\n    <tr>\n      <th>0</th>\n      <td>[2, 12, 9, 10, 3, 17, 8, 15, 19, 22, 24, 24, 1...</td>\n      <td>[&lt;SOS&gt;, A_SUBMITTED_COMPLETE, A_PARTLYSUBMITTE...</td>\n      <td>173688</td>\n      <td>20000.0</td>\n      <td>[70, 53, 53, 53, 14, 14, 14, 14, 14, 71, 71, 2...</td>\n      <td>[&lt;SOS&gt;, 112, 112, 112, 10862, 10862, 10862, 10...</td>\n    </tr>\n    <tr>\n      <th>1</th>\n      <td>[2, 12, 9, 10, 22, 3, 8, 17, 15, 19, 22, 24, 1...</td>\n      <td>[&lt;SOS&gt;, A_SUBMITTED_COMPLETE, A_PARTLYSUBMITTE...</td>\n      <td>173691</td>\n      <td>5000.0</td>\n      <td>[70, 53, 53, 53, 71, 14, 14, 14, 14, 14, 71, 7...</td>\n      <td>[&lt;SOS&gt;, 112, 112, 112, UNKNOWN, 10862, 10862, ...</td>\n    </tr>\n    <tr>\n      <th>2</th>\n      <td>[2, 12, 9, 10, 22, 22, 22, 3, 17, 8, 15, 19, 2...</td>\n      <td>[&lt;SOS&gt;, A_SUBMITTED_COMPLETE, A_PARTLYSUBMITTE...</td>\n      <td>173694</td>\n      <td>7000.0</td>\n      <td>[70, 53, 53, 53, 22, 71, 55, 55, 55, 55, 55, 5...</td>\n      <td>[&lt;SOS&gt;, 112, 112, 112, 10912, UNKNOWN, 11201, ...</td>\n    </tr>\n    <tr>\n      <th>3</th>\n      <td>[2, 12, 9, 7, 1]</td>\n      <td>[&lt;SOS&gt;, A_SUBMITTED_COMPLETE, A_PARTLYSUBMITTE...</td>\n      <td>173697</td>\n      <td>15000.0</td>\n      <td>[70, 53, 53, 53, 69]</td>\n      <td>[&lt;SOS&gt;, 112, 112, 112, &lt;EOS&gt;]</td>\n    </tr>\n    <tr>\n      <th>4</th>\n      <td>[2, 12, 9, 7, 1]</td>\n      <td>[&lt;SOS&gt;, A_SUBMITTED_COMPLETE, A_PARTLYSUBMITTE...</td>\n      <td>173700</td>\n      <td>5000.0</td>\n      <td>[70, 53, 53, 53, 69]</td>\n      <td>[&lt;SOS&gt;, 112, 112, 112, &lt;EOS&gt;]</td>\n    </tr>\n  </tbody>\n</table>\n</div>"
     },
     "metadata": {},
     "execution_count": 18
    }
   ],
   "source": [
    "### all possible activities in the first step\n",
    "trainer.dataset.df.head(5)"
   ]
  },
  {
   "source": [
    "dont_need = ['<EOS>', '<SOS>', '<PAD>']\n",
    "possible_resources =  [ r for r in list(trainer.model.resources) if  not r in dont_need]\n",
    "possible_activities = [ a for a in list(trainer.model.vocab.vocabs) if  not a in dont_need]"
   ],
   "cell_type": "code",
   "metadata": {},
   "execution_count": 19,
   "outputs": []
  },
  {
   "cell_type": "code",
   "execution_count": 20,
   "metadata": {},
   "outputs": [],
   "source": [
    "possbile_amount = [min(trainer.dataset.df[\"amount\"]), max(trainer.dataset.df[\"amount\"])]"
   ]
  },
  {
   "cell_type": "code",
   "execution_count": 21,
   "metadata": {},
   "outputs": [],
   "source": [
    "fake_dataset_size = 5000\n",
    "fake_df = pd.DataFrame([])\n",
    "### Create a fake dataset\n",
    "for i in range (example_trace_len):\n",
    "    # fake_df[activity_feature_names[i]] = np.random.choice(possible_activities[i], fake_dataset_size)\n",
    "    fake_df[activity_feature_names[i]] = np.random.choice(possible_activities, fake_dataset_size)\n",
    "\n",
    "for i in range (example_trace_len):\n",
    "    fake_df[resource_feature_names[i]] =np.random.choice(possible_resources, fake_dataset_size)\n",
    "\n",
    "fake_df['amount'] = np.random.uniform(possbile_amount[0], possbile_amount[1], (fake_dataset_size,))\n",
    "\n",
    "fake_df['predicted'] = np.random.choice([0, 1], fake_dataset_size)"
   ]
  },
  {
   "cell_type": "code",
   "execution_count": 22,
   "metadata": {},
   "outputs": [
    {
     "output_type": "execute_result",
     "data": {
      "text/plain": [
       "        activity_step_1                          activity_step_2  \\\n",
       "0   A_APPROVED_COMPLETE                     A_CANCELLED_COMPLETE   \n",
       "1  A_FINALIZED_COMPLETE  W_Nabellen incomplete dossiers_COMPLETE   \n",
       "2  A_ACTIVATED_COMPLETE                          O_SENT_COMPLETE   \n",
       "3   A_DECLINED_COMPLETE                      O_DECLINED_COMPLETE   \n",
       "4  A_SUBMITTED_COMPLETE                      A_APPROVED_COMPLETE   \n",
       "\n",
       "                 activity_step_3                activity_step_4  \\\n",
       "0           A_CANCELLED_COMPLETE            O_DECLINED_COMPLETE   \n",
       "1     A_PARTLYSUBMITTED_COMPLETE                O_SENT_COMPLETE   \n",
       "2  W_Valideren aanvraag_COMPLETE  W_Valideren aanvraag_COMPLETE   \n",
       "3           A_CANCELLED_COMPLETE   W_Nabellen offertes_COMPLETE   \n",
       "4  W_Valideren aanvraag_COMPLETE                O_SENT_COMPLETE   \n",
       "\n",
       "                activity_step_5        activity_step_6  \\\n",
       "0            O_CREATED_COMPLETE    O_ACCEPTED_COMPLETE   \n",
       "1  W_Beoordelen fraude_COMPLETE        O_SENT_COMPLETE   \n",
       "2    A_PARTLYSUBMITTED_COMPLETE    O_DECLINED_COMPLETE   \n",
       "3          O_SENT_BACK_COMPLETE    A_ACCEPTED_COMPLETE   \n",
       "4  W_Beoordelen fraude_COMPLETE  A_REGISTERED_COMPLETE   \n",
       "\n",
       "                activity_step_7        activity_step_8  \\\n",
       "0          A_FINALIZED_COMPLETE   A_SUBMITTED_COMPLETE   \n",
       "1           O_SELECTED_COMPLETE    A_APPROVED_COMPLETE   \n",
       "2         A_REGISTERED_COMPLETE    A_ACCEPTED_COMPLETE   \n",
       "3            O_CREATED_COMPLETE  A_REGISTERED_COMPLETE   \n",
       "4  W_Beoordelen fraude_COMPLETE     O_CREATED_COMPLETE   \n",
       "\n",
       "                           activity_step_9  \\\n",
       "0  W_Nabellen incomplete dossiers_COMPLETE   \n",
       "1                       O_CREATED_COMPLETE   \n",
       "2              W_Afhandelen leads_COMPLETE   \n",
       "3                      O_ACCEPTED_COMPLETE   \n",
       "4                      O_ACCEPTED_COMPLETE   \n",
       "\n",
       "                          activity_step_10  ... resource_step_42  \\\n",
       "0                   A_PREACCEPTED_COMPLETE  ...            10138   \n",
       "1  W_Nabellen incomplete dossiers_COMPLETE  ...            10889   \n",
       "2                     O_CANCELLED_COMPLETE  ...            11203   \n",
       "3            W_Valideren aanvraag_COMPLETE  ...            11003   \n",
       "4                     A_CANCELLED_COMPLETE  ...            11179   \n",
       "\n",
       "  resource_step_43 resource_step_44 resource_step_45 resource_step_46  \\\n",
       "0            10933            10972            11309            11019   \n",
       "1            11269          UNKNOWN            11121            10859   \n",
       "2            10912              112            11049            10880   \n",
       "3            11203            10914            11189            10809   \n",
       "4            11019            10971            10609            10125   \n",
       "\n",
       "  resource_step_47 resource_step_48 resource_step_49        amount predicted  \n",
       "0            11181            11254            10910  51853.978311         1  \n",
       "1            10912            10789            11189  89959.165717         0  \n",
       "2            11319            10889            10809  83750.426267         1  \n",
       "3            10929            10913            11003  78396.800106         0  \n",
       "4            11254            11254            11002  53551.286699         0  \n",
       "\n",
       "[5 rows x 100 columns]"
      ],
      "text/html": "<div>\n<style scoped>\n    .dataframe tbody tr th:only-of-type {\n        vertical-align: middle;\n    }\n\n    .dataframe tbody tr th {\n        vertical-align: top;\n    }\n\n    .dataframe thead th {\n        text-align: right;\n    }\n</style>\n<table border=\"1\" class=\"dataframe\">\n  <thead>\n    <tr style=\"text-align: right;\">\n      <th></th>\n      <th>activity_step_1</th>\n      <th>activity_step_2</th>\n      <th>activity_step_3</th>\n      <th>activity_step_4</th>\n      <th>activity_step_5</th>\n      <th>activity_step_6</th>\n      <th>activity_step_7</th>\n      <th>activity_step_8</th>\n      <th>activity_step_9</th>\n      <th>activity_step_10</th>\n      <th>...</th>\n      <th>resource_step_42</th>\n      <th>resource_step_43</th>\n      <th>resource_step_44</th>\n      <th>resource_step_45</th>\n      <th>resource_step_46</th>\n      <th>resource_step_47</th>\n      <th>resource_step_48</th>\n      <th>resource_step_49</th>\n      <th>amount</th>\n      <th>predicted</th>\n    </tr>\n  </thead>\n  <tbody>\n    <tr>\n      <th>0</th>\n      <td>A_APPROVED_COMPLETE</td>\n      <td>A_CANCELLED_COMPLETE</td>\n      <td>A_CANCELLED_COMPLETE</td>\n      <td>O_DECLINED_COMPLETE</td>\n      <td>O_CREATED_COMPLETE</td>\n      <td>O_ACCEPTED_COMPLETE</td>\n      <td>A_FINALIZED_COMPLETE</td>\n      <td>A_SUBMITTED_COMPLETE</td>\n      <td>W_Nabellen incomplete dossiers_COMPLETE</td>\n      <td>A_PREACCEPTED_COMPLETE</td>\n      <td>...</td>\n      <td>10138</td>\n      <td>10933</td>\n      <td>10972</td>\n      <td>11309</td>\n      <td>11019</td>\n      <td>11181</td>\n      <td>11254</td>\n      <td>10910</td>\n      <td>51853.978311</td>\n      <td>1</td>\n    </tr>\n    <tr>\n      <th>1</th>\n      <td>A_FINALIZED_COMPLETE</td>\n      <td>W_Nabellen incomplete dossiers_COMPLETE</td>\n      <td>A_PARTLYSUBMITTED_COMPLETE</td>\n      <td>O_SENT_COMPLETE</td>\n      <td>W_Beoordelen fraude_COMPLETE</td>\n      <td>O_SENT_COMPLETE</td>\n      <td>O_SELECTED_COMPLETE</td>\n      <td>A_APPROVED_COMPLETE</td>\n      <td>O_CREATED_COMPLETE</td>\n      <td>W_Nabellen incomplete dossiers_COMPLETE</td>\n      <td>...</td>\n      <td>10889</td>\n      <td>11269</td>\n      <td>UNKNOWN</td>\n      <td>11121</td>\n      <td>10859</td>\n      <td>10912</td>\n      <td>10789</td>\n      <td>11189</td>\n      <td>89959.165717</td>\n      <td>0</td>\n    </tr>\n    <tr>\n      <th>2</th>\n      <td>A_ACTIVATED_COMPLETE</td>\n      <td>O_SENT_COMPLETE</td>\n      <td>W_Valideren aanvraag_COMPLETE</td>\n      <td>W_Valideren aanvraag_COMPLETE</td>\n      <td>A_PARTLYSUBMITTED_COMPLETE</td>\n      <td>O_DECLINED_COMPLETE</td>\n      <td>A_REGISTERED_COMPLETE</td>\n      <td>A_ACCEPTED_COMPLETE</td>\n      <td>W_Afhandelen leads_COMPLETE</td>\n      <td>O_CANCELLED_COMPLETE</td>\n      <td>...</td>\n      <td>11203</td>\n      <td>10912</td>\n      <td>112</td>\n      <td>11049</td>\n      <td>10880</td>\n      <td>11319</td>\n      <td>10889</td>\n      <td>10809</td>\n      <td>83750.426267</td>\n      <td>1</td>\n    </tr>\n    <tr>\n      <th>3</th>\n      <td>A_DECLINED_COMPLETE</td>\n      <td>O_DECLINED_COMPLETE</td>\n      <td>A_CANCELLED_COMPLETE</td>\n      <td>W_Nabellen offertes_COMPLETE</td>\n      <td>O_SENT_BACK_COMPLETE</td>\n      <td>A_ACCEPTED_COMPLETE</td>\n      <td>O_CREATED_COMPLETE</td>\n      <td>A_REGISTERED_COMPLETE</td>\n      <td>O_ACCEPTED_COMPLETE</td>\n      <td>W_Valideren aanvraag_COMPLETE</td>\n      <td>...</td>\n      <td>11003</td>\n      <td>11203</td>\n      <td>10914</td>\n      <td>11189</td>\n      <td>10809</td>\n      <td>10929</td>\n      <td>10913</td>\n      <td>11003</td>\n      <td>78396.800106</td>\n      <td>0</td>\n    </tr>\n    <tr>\n      <th>4</th>\n      <td>A_SUBMITTED_COMPLETE</td>\n      <td>A_APPROVED_COMPLETE</td>\n      <td>W_Valideren aanvraag_COMPLETE</td>\n      <td>O_SENT_COMPLETE</td>\n      <td>W_Beoordelen fraude_COMPLETE</td>\n      <td>A_REGISTERED_COMPLETE</td>\n      <td>W_Beoordelen fraude_COMPLETE</td>\n      <td>O_CREATED_COMPLETE</td>\n      <td>O_ACCEPTED_COMPLETE</td>\n      <td>A_CANCELLED_COMPLETE</td>\n      <td>...</td>\n      <td>11179</td>\n      <td>11019</td>\n      <td>10971</td>\n      <td>10609</td>\n      <td>10125</td>\n      <td>11254</td>\n      <td>11254</td>\n      <td>11002</td>\n      <td>53551.286699</td>\n      <td>0</td>\n    </tr>\n  </tbody>\n</table>\n<p>5 rows × 100 columns</p>\n</div>"
     },
     "metadata": {},
     "execution_count": 22
    }
   ],
   "source": [
    "fake_df.head(5)"
   ]
  },
  {
   "cell_type": "code",
   "execution_count": 23,
   "metadata": {},
   "outputs": [],
   "source": [
    "d = dice_ml.Data(dataframe=fake_df, outcome_name=\"predicted\",continuous_features = ['amount'])"
   ]
  },
  {
   "cell_type": "code",
   "execution_count": 24,
   "metadata": {},
   "outputs": [],
   "source": [
    "dice_binary_model = DiCEBinaryDefferientiable(\n",
    "    explainer.model, \n",
    "    explainer.vocab,\n",
    "    desired=explainer.vocab.vocab_to_index(desired_activity),\n",
    "    trace_length = len(example_vocab_trace_without_tags),\n",
    "    resources= explainer.resources,\n",
    "    sos_idx_activity=explainer.vocab.vocab_to_index(\"<SOS>\"),\n",
    "    sos_idx_resource= explainer.resources.index('<SOS>'),\n",
    "    amount_min = possbile_amount[0],\n",
    "    amount_max = possbile_amount[1],\n",
    "    possible_resources=possible_resources,\n",
    "    possible_activities=possible_activities \n",
    ")\n"
   ]
  },
  {
   "cell_type": "code",
   "execution_count": 25,
   "metadata": {},
   "outputs": [],
   "source": [
    "m = dice_ml.Model(model=dice_binary_model, backend=\"TF2\")"
   ]
  },
  {
   "cell_type": "code",
   "execution_count": 26,
   "metadata": {},
   "outputs": [],
   "source": [
    "### Create a fake data frame for all the possibility for them.\n",
    "exp = dice_ml.Dice(d, m)"
   ]
  },
  {
   "cell_type": "code",
   "execution_count": 31,
   "metadata": {},
   "outputs": [],
   "source": [
    "feature_names = activity_feature_names.tolist() + resource_feature_names.tolist() + ['amount']"
   ]
  },
  {
   "cell_type": "code",
   "execution_count": 33,
   "metadata": {},
   "outputs": [],
   "source": [
    "query_instance = [example_vocab_trace_without_tags + example_vocab_resource_without_tags + example_amount]\n",
    "example_df = pd.DataFrame(query_instance, columns= feature_names)"
   ]
  },
  {
   "cell_type": "code",
   "execution_count": 34,
   "metadata": {},
   "outputs": [
    {
     "output_type": "execute_result",
     "data": {
      "text/plain": [
       "        activity_step_1             activity_step_2         activity_step_3  \\\n",
       "0  A_SUBMITTED_COMPLETE  A_PARTLYSUBMITTED_COMPLETE  A_PREACCEPTED_COMPLETE   \n",
       "\n",
       "               activity_step_4                  activity_step_5  \\\n",
       "0  W_Afhandelen leads_COMPLETE  W_Completeren aanvraag_COMPLETE   \n",
       "\n",
       "       activity_step_6      activity_step_7       activity_step_8  \\\n",
       "0  A_ACCEPTED_COMPLETE  O_SELECTED_COMPLETE  A_FINALIZED_COMPLETE   \n",
       "\n",
       "      activity_step_9 activity_step_10  ... resource_step_41 resource_step_42  \\\n",
       "0  O_CREATED_COMPLETE  O_SENT_COMPLETE  ...            11181            11181   \n",
       "\n",
       "  resource_step_43 resource_step_44 resource_step_45 resource_step_46  \\\n",
       "0            11181            11000            11169            11122   \n",
       "\n",
       "  resource_step_47 resource_step_48 resource_step_49  amount  \n",
       "0            10982            11003            11003  5800.0  \n",
       "\n",
       "[1 rows x 99 columns]"
      ],
      "text/html": "<div>\n<style scoped>\n    .dataframe tbody tr th:only-of-type {\n        vertical-align: middle;\n    }\n\n    .dataframe tbody tr th {\n        vertical-align: top;\n    }\n\n    .dataframe thead th {\n        text-align: right;\n    }\n</style>\n<table border=\"1\" class=\"dataframe\">\n  <thead>\n    <tr style=\"text-align: right;\">\n      <th></th>\n      <th>activity_step_1</th>\n      <th>activity_step_2</th>\n      <th>activity_step_3</th>\n      <th>activity_step_4</th>\n      <th>activity_step_5</th>\n      <th>activity_step_6</th>\n      <th>activity_step_7</th>\n      <th>activity_step_8</th>\n      <th>activity_step_9</th>\n      <th>activity_step_10</th>\n      <th>...</th>\n      <th>resource_step_41</th>\n      <th>resource_step_42</th>\n      <th>resource_step_43</th>\n      <th>resource_step_44</th>\n      <th>resource_step_45</th>\n      <th>resource_step_46</th>\n      <th>resource_step_47</th>\n      <th>resource_step_48</th>\n      <th>resource_step_49</th>\n      <th>amount</th>\n    </tr>\n  </thead>\n  <tbody>\n    <tr>\n      <th>0</th>\n      <td>A_SUBMITTED_COMPLETE</td>\n      <td>A_PARTLYSUBMITTED_COMPLETE</td>\n      <td>A_PREACCEPTED_COMPLETE</td>\n      <td>W_Afhandelen leads_COMPLETE</td>\n      <td>W_Completeren aanvraag_COMPLETE</td>\n      <td>A_ACCEPTED_COMPLETE</td>\n      <td>O_SELECTED_COMPLETE</td>\n      <td>A_FINALIZED_COMPLETE</td>\n      <td>O_CREATED_COMPLETE</td>\n      <td>O_SENT_COMPLETE</td>\n      <td>...</td>\n      <td>11181</td>\n      <td>11181</td>\n      <td>11181</td>\n      <td>11000</td>\n      <td>11169</td>\n      <td>11122</td>\n      <td>10982</td>\n      <td>11003</td>\n      <td>11003</td>\n      <td>5800.0</td>\n    </tr>\n  </tbody>\n</table>\n<p>1 rows × 99 columns</p>\n</div>"
     },
     "metadata": {},
     "execution_count": 34
    }
   ],
   "source": [
    "example_df"
   ]
  },
  {
   "cell_type": "code",
   "execution_count": 49,
   "metadata": {
    "tags": []
   },
   "outputs": [
    {
     "output_type": "stream",
     "name": "stdout",
     "text": [
      "step 1,  loss=879.289\n",
      "step 51,  loss=13.0575\n",
      "step 101,  loss=12.9385\n",
      "step 151,  loss=12.9382\n",
      "step 201,  loss=12.9381\n",
      "step 251,  loss=12.9381\n",
      "step 301,  loss=12.9381\n",
      "step 351,  loss=12.9381\n",
      "step 401,  loss=12.9381\n"
     ]
    },
    {
     "output_type": "error",
     "ename": "KeyboardInterrupt",
     "evalue": "",
     "traceback": [
      "\u001b[0;31m---------------------------------------------------------------------------\u001b[0m",
      "\u001b[0;31mKeyboardInterrupt\u001b[0m                         Traceback (most recent call last)",
      "\u001b[0;32m<ipython-input-49-78a5b11cb445>\u001b[0m in \u001b[0;36m<module>\u001b[0;34m\u001b[0m\n\u001b[1;32m      1\u001b[0m \u001b[0;31m## Problem of weight propagation?\u001b[0m\u001b[0;34m\u001b[0m\u001b[0;34m\u001b[0m\u001b[0;34m\u001b[0m\u001b[0m\n\u001b[1;32m      2\u001b[0m \u001b[0;34m\u001b[0m\u001b[0m\n\u001b[0;32m----> 3\u001b[0;31m dice_exp = exp.generate_counterfactuals(\n\u001b[0m\u001b[1;32m      4\u001b[0m         \u001b[0mexample_df\u001b[0m\u001b[0;34m,\u001b[0m\u001b[0;34m\u001b[0m\u001b[0;34m\u001b[0m\u001b[0m\n\u001b[1;32m      5\u001b[0m         \u001b[0mtotal_CFs\u001b[0m\u001b[0;34m=\u001b[0m\u001b[0;36m1\u001b[0m\u001b[0;34m,\u001b[0m\u001b[0;34m\u001b[0m\u001b[0;34m\u001b[0m\u001b[0m\n",
      "\u001b[0;32m~/miniforge3/envs/tf_mac/lib/python3.8/site-packages/dice_ml/explainer_interfaces/dice_tensorflow2.py\u001b[0m in \u001b[0;36mgenerate_counterfactuals\u001b[0;34m(self, query_instance, total_CFs, desired_class, proximity_weight, diversity_weight, categorical_penalty, algorithm, features_to_vary, permitted_range, yloss_type, diversity_loss_type, feature_weights, optimizer, learning_rate, min_iter, max_iter, project_iter, loss_diff_thres, loss_converge_maxiter, verbose, init_near_query_instance, tie_random, stopping_threshold, posthoc_sparsity_param, posthoc_sparsity_algorithm)\u001b[0m\n\u001b[1;32m    127\u001b[0m \u001b[0;34m\u001b[0m\u001b[0m\n\u001b[1;32m    128\u001b[0m         \u001b[0mfinal_cfs_df\u001b[0m\u001b[0;34m,\u001b[0m \u001b[0mtest_instance_df\u001b[0m\u001b[0;34m,\u001b[0m \u001b[0mfinal_cfs_df_sparse\u001b[0m \u001b[0;34m=\u001b[0m\u001b[0;31m \u001b[0m\u001b[0;31m\\\u001b[0m\u001b[0;34m\u001b[0m\u001b[0;34m\u001b[0m\u001b[0m\n\u001b[0;32m--> 129\u001b[0;31m             self.find_counterfactuals(query_instance, desired_class, optimizer,\n\u001b[0m\u001b[1;32m    130\u001b[0m                                       \u001b[0mlearning_rate\u001b[0m\u001b[0;34m,\u001b[0m \u001b[0mmin_iter\u001b[0m\u001b[0;34m,\u001b[0m \u001b[0mmax_iter\u001b[0m\u001b[0;34m,\u001b[0m \u001b[0mproject_iter\u001b[0m\u001b[0;34m,\u001b[0m\u001b[0;34m\u001b[0m\u001b[0;34m\u001b[0m\u001b[0m\n\u001b[1;32m    131\u001b[0m                                       \u001b[0mloss_diff_thres\u001b[0m\u001b[0;34m,\u001b[0m \u001b[0mloss_converge_maxiter\u001b[0m\u001b[0;34m,\u001b[0m \u001b[0mverbose\u001b[0m\u001b[0;34m,\u001b[0m\u001b[0;34m\u001b[0m\u001b[0;34m\u001b[0m\u001b[0m\n",
      "\u001b[0;32m~/miniforge3/envs/tf_mac/lib/python3.8/site-packages/dice_ml/explainer_interfaces/dice_tensorflow2.py\u001b[0m in \u001b[0;36mfind_counterfactuals\u001b[0;34m(self, query_instance, desired_class, optimizer, learning_rate, min_iter, max_iter, project_iter, loss_diff_thres, loss_converge_maxiter, verbose, init_near_query_instance, tie_random, stopping_threshold, posthoc_sparsity_param, posthoc_sparsity_algorithm)\u001b[0m\n\u001b[1;32m    510\u001b[0m                 \u001b[0;31m# backing up CFs if they are valid\u001b[0m\u001b[0;34m\u001b[0m\u001b[0;34m\u001b[0m\u001b[0;34m\u001b[0m\u001b[0m\n\u001b[1;32m    511\u001b[0m                 \u001b[0mtemp_cfs_stored\u001b[0m \u001b[0;34m=\u001b[0m \u001b[0mself\u001b[0m\u001b[0;34m.\u001b[0m\u001b[0mround_off_cfs\u001b[0m\u001b[0;34m(\u001b[0m\u001b[0massign\u001b[0m\u001b[0;34m=\u001b[0m\u001b[0;32mFalse\u001b[0m\u001b[0;34m)\u001b[0m\u001b[0;34m\u001b[0m\u001b[0;34m\u001b[0m\u001b[0m\n\u001b[0;32m--> 512\u001b[0;31m                 \u001b[0mtest_preds_stored\u001b[0m \u001b[0;34m=\u001b[0m \u001b[0;34m[\u001b[0m\u001b[0mself\u001b[0m\u001b[0;34m.\u001b[0m\u001b[0mpredict_fn\u001b[0m\u001b[0;34m(\u001b[0m\u001b[0mtf\u001b[0m\u001b[0;34m.\u001b[0m\u001b[0mconstant\u001b[0m\u001b[0;34m(\u001b[0m\u001b[0mcf\u001b[0m\u001b[0;34m,\u001b[0m \u001b[0mdtype\u001b[0m\u001b[0;34m=\u001b[0m\u001b[0mtf\u001b[0m\u001b[0;34m.\u001b[0m\u001b[0mfloat32\u001b[0m\u001b[0;34m)\u001b[0m\u001b[0;34m)\u001b[0m \u001b[0;32mfor\u001b[0m \u001b[0mcf\u001b[0m \u001b[0;32min\u001b[0m \u001b[0mtemp_cfs_stored\u001b[0m\u001b[0;34m]\u001b[0m\u001b[0;34m\u001b[0m\u001b[0;34m\u001b[0m\u001b[0m\n\u001b[0m\u001b[1;32m    513\u001b[0m \u001b[0;34m\u001b[0m\u001b[0m\n\u001b[1;32m    514\u001b[0m                 if((self.target_cf_class == 0 and all(i <= self.stopping_threshold for i in test_preds_stored)) or\n",
      "\u001b[0;32m~/miniforge3/envs/tf_mac/lib/python3.8/site-packages/dice_ml/explainer_interfaces/dice_tensorflow2.py\u001b[0m in \u001b[0;36m<listcomp>\u001b[0;34m(.0)\u001b[0m\n\u001b[1;32m    510\u001b[0m                 \u001b[0;31m# backing up CFs if they are valid\u001b[0m\u001b[0;34m\u001b[0m\u001b[0;34m\u001b[0m\u001b[0;34m\u001b[0m\u001b[0m\n\u001b[1;32m    511\u001b[0m                 \u001b[0mtemp_cfs_stored\u001b[0m \u001b[0;34m=\u001b[0m \u001b[0mself\u001b[0m\u001b[0;34m.\u001b[0m\u001b[0mround_off_cfs\u001b[0m\u001b[0;34m(\u001b[0m\u001b[0massign\u001b[0m\u001b[0;34m=\u001b[0m\u001b[0;32mFalse\u001b[0m\u001b[0;34m)\u001b[0m\u001b[0;34m\u001b[0m\u001b[0;34m\u001b[0m\u001b[0m\n\u001b[0;32m--> 512\u001b[0;31m                 \u001b[0mtest_preds_stored\u001b[0m \u001b[0;34m=\u001b[0m \u001b[0;34m[\u001b[0m\u001b[0mself\u001b[0m\u001b[0;34m.\u001b[0m\u001b[0mpredict_fn\u001b[0m\u001b[0;34m(\u001b[0m\u001b[0mtf\u001b[0m\u001b[0;34m.\u001b[0m\u001b[0mconstant\u001b[0m\u001b[0;34m(\u001b[0m\u001b[0mcf\u001b[0m\u001b[0;34m,\u001b[0m \u001b[0mdtype\u001b[0m\u001b[0;34m=\u001b[0m\u001b[0mtf\u001b[0m\u001b[0;34m.\u001b[0m\u001b[0mfloat32\u001b[0m\u001b[0;34m)\u001b[0m\u001b[0;34m)\u001b[0m \u001b[0;32mfor\u001b[0m \u001b[0mcf\u001b[0m \u001b[0;32min\u001b[0m \u001b[0mtemp_cfs_stored\u001b[0m\u001b[0;34m]\u001b[0m\u001b[0;34m\u001b[0m\u001b[0;34m\u001b[0m\u001b[0m\n\u001b[0m\u001b[1;32m    513\u001b[0m \u001b[0;34m\u001b[0m\u001b[0m\n\u001b[1;32m    514\u001b[0m                 if((self.target_cf_class == 0 and all(i <= self.stopping_threshold for i in test_preds_stored)) or\n",
      "\u001b[0;32m~/miniforge3/envs/tf_mac/lib/python3.8/site-packages/dice_ml/explainer_interfaces/dice_tensorflow2.py\u001b[0m in \u001b[0;36mpredict_fn\u001b[0;34m(self, input_instance)\u001b[0m\n\u001b[1;32m    142\u001b[0m     \u001b[0;32mdef\u001b[0m \u001b[0mpredict_fn\u001b[0m\u001b[0;34m(\u001b[0m\u001b[0mself\u001b[0m\u001b[0;34m,\u001b[0m \u001b[0minput_instance\u001b[0m\u001b[0;34m)\u001b[0m\u001b[0;34m:\u001b[0m\u001b[0;34m\u001b[0m\u001b[0;34m\u001b[0m\u001b[0m\n\u001b[1;32m    143\u001b[0m         \u001b[0;34m\"\"\"prediction function\"\"\"\u001b[0m\u001b[0;34m\u001b[0m\u001b[0;34m\u001b[0m\u001b[0m\n\u001b[0;32m--> 144\u001b[0;31m         \u001b[0mtemp_preds\u001b[0m \u001b[0;34m=\u001b[0m \u001b[0mself\u001b[0m\u001b[0;34m.\u001b[0m\u001b[0mmodel\u001b[0m\u001b[0;34m.\u001b[0m\u001b[0mget_output\u001b[0m\u001b[0;34m(\u001b[0m\u001b[0minput_instance\u001b[0m\u001b[0;34m)\u001b[0m\u001b[0;34m.\u001b[0m\u001b[0mnumpy\u001b[0m\u001b[0;34m(\u001b[0m\u001b[0;34m)\u001b[0m\u001b[0;34m\u001b[0m\u001b[0;34m\u001b[0m\u001b[0m\n\u001b[0m\u001b[1;32m    145\u001b[0m         \u001b[0;32mreturn\u001b[0m \u001b[0mnp\u001b[0m\u001b[0;34m.\u001b[0m\u001b[0marray\u001b[0m\u001b[0;34m(\u001b[0m\u001b[0;34m[\u001b[0m\u001b[0mpreds\u001b[0m\u001b[0;34m[\u001b[0m\u001b[0;34m(\u001b[0m\u001b[0mself\u001b[0m\u001b[0;34m.\u001b[0m\u001b[0mnum_output_nodes\u001b[0m\u001b[0;34m-\u001b[0m\u001b[0;36m1\u001b[0m\u001b[0;34m)\u001b[0m\u001b[0;34m:\u001b[0m\u001b[0;34m]\u001b[0m \u001b[0;32mfor\u001b[0m \u001b[0mpreds\u001b[0m \u001b[0;32min\u001b[0m \u001b[0mtemp_preds\u001b[0m\u001b[0;34m]\u001b[0m\u001b[0;34m,\u001b[0m \u001b[0mdtype\u001b[0m\u001b[0;34m=\u001b[0m\u001b[0mnp\u001b[0m\u001b[0;34m.\u001b[0m\u001b[0mfloat32\u001b[0m\u001b[0;34m)\u001b[0m\u001b[0;34m\u001b[0m\u001b[0;34m\u001b[0m\u001b[0m\n\u001b[1;32m    146\u001b[0m \u001b[0;34m\u001b[0m\u001b[0m\n",
      "\u001b[0;32m~/miniforge3/envs/tf_mac/lib/python3.8/site-packages/dice_ml/model_interfaces/keras_tensorflow_model.py\u001b[0m in \u001b[0;36mget_output\u001b[0;34m(self, input_tensor, training, transform_data)\u001b[0m\n\u001b[1;32m     36\u001b[0m \u001b[0;34m\u001b[0m\u001b[0m\n\u001b[1;32m     37\u001b[0m         \u001b[0;32mif\u001b[0m \u001b[0mself\u001b[0m\u001b[0;34m.\u001b[0m\u001b[0mbackend\u001b[0m \u001b[0;34m==\u001b[0m \u001b[0;34m'TF2'\u001b[0m\u001b[0;34m:\u001b[0m\u001b[0;34m\u001b[0m\u001b[0;34m\u001b[0m\u001b[0m\n\u001b[0;32m---> 38\u001b[0;31m             \u001b[0;32mreturn\u001b[0m \u001b[0mself\u001b[0m\u001b[0;34m.\u001b[0m\u001b[0mmodel\u001b[0m\u001b[0;34m(\u001b[0m\u001b[0minput_tensor\u001b[0m\u001b[0;34m,\u001b[0m \u001b[0mtraining\u001b[0m\u001b[0;34m=\u001b[0m\u001b[0mtraining\u001b[0m\u001b[0;34m)\u001b[0m\u001b[0;34m\u001b[0m\u001b[0;34m\u001b[0m\u001b[0m\n\u001b[0m\u001b[1;32m     39\u001b[0m         \u001b[0;32melse\u001b[0m\u001b[0;34m:\u001b[0m\u001b[0;34m\u001b[0m\u001b[0;34m\u001b[0m\u001b[0m\n\u001b[1;32m     40\u001b[0m             \u001b[0;32mreturn\u001b[0m \u001b[0mself\u001b[0m\u001b[0;34m.\u001b[0m\u001b[0mmodel\u001b[0m\u001b[0;34m(\u001b[0m\u001b[0minput_tensor\u001b[0m\u001b[0;34m)\u001b[0m\u001b[0;34m\u001b[0m\u001b[0;34m\u001b[0m\u001b[0m\n",
      "\u001b[0;32m~/miniforge3/envs/tf_mac/lib/python3.8/site-packages/tensorflow/python/keras/engine/base_layer.py\u001b[0m in \u001b[0;36m__call__\u001b[0;34m(self, *args, **kwargs)\u001b[0m\n\u001b[1;32m   1005\u001b[0m         with autocast_variable.enable_auto_cast_variables(\n\u001b[1;32m   1006\u001b[0m             self._compute_dtype_object):\n\u001b[0;32m-> 1007\u001b[0;31m           \u001b[0moutputs\u001b[0m \u001b[0;34m=\u001b[0m \u001b[0mcall_fn\u001b[0m\u001b[0;34m(\u001b[0m\u001b[0minputs\u001b[0m\u001b[0;34m,\u001b[0m \u001b[0;34m*\u001b[0m\u001b[0margs\u001b[0m\u001b[0;34m,\u001b[0m \u001b[0;34m**\u001b[0m\u001b[0mkwargs\u001b[0m\u001b[0;34m)\u001b[0m\u001b[0;34m\u001b[0m\u001b[0;34m\u001b[0m\u001b[0m\n\u001b[0m\u001b[1;32m   1008\u001b[0m \u001b[0;34m\u001b[0m\u001b[0m\n\u001b[1;32m   1009\u001b[0m         \u001b[0;32mif\u001b[0m \u001b[0mself\u001b[0m\u001b[0;34m.\u001b[0m\u001b[0m_activity_regularizer\u001b[0m\u001b[0;34m:\u001b[0m\u001b[0;34m\u001b[0m\u001b[0;34m\u001b[0m\u001b[0m\n",
      "\u001b[0;32m~/LINDA-BN-Eventlog-TF/Models/DiCEBinaryOutputModelWithResource.py\u001b[0m in \u001b[0;36mcall\u001b[0;34m(self, input)\u001b[0m\n\u001b[1;32m     91\u001b[0m         \u001b[0;31m# Feed to the model\u001b[0m\u001b[0;34m\u001b[0m\u001b[0;34m\u001b[0m\u001b[0;34m\u001b[0m\u001b[0m\n\u001b[1;32m     92\u001b[0m         \u001b[0;31m# print(\"Ready for input\")\u001b[0m\u001b[0;34m\u001b[0m\u001b[0;34m\u001b[0m\u001b[0;34m\u001b[0m\u001b[0m\n\u001b[0;32m---> 93\u001b[0;31m         \u001b[0mout\u001b[0m\u001b[0;34m,\u001b[0m \u001b[0m_\u001b[0m \u001b[0;34m=\u001b[0m \u001b[0mself\u001b[0m\u001b[0;34m.\u001b[0m\u001b[0mmodel\u001b[0m\u001b[0;34m(\u001b[0m\u001b[0mtraces\u001b[0m\u001b[0;34m,\u001b[0m \u001b[0mresources\u001b[0m\u001b[0;34m,\u001b[0m \u001b[0mtf\u001b[0m\u001b[0;34m.\u001b[0m\u001b[0msqueeze\u001b[0m\u001b[0;34m(\u001b[0m\u001b[0mamount\u001b[0m\u001b[0;34m,\u001b[0m \u001b[0maxis\u001b[0m\u001b[0;34m=\u001b[0m\u001b[0;34m-\u001b[0m\u001b[0;36m1\u001b[0m\u001b[0;34m)\u001b[0m\u001b[0;34m)\u001b[0m\u001b[0;34m\u001b[0m\u001b[0;34m\u001b[0m\u001b[0m\n\u001b[0m\u001b[1;32m     94\u001b[0m \u001b[0;34m\u001b[0m\u001b[0m\n\u001b[1;32m     95\u001b[0m         \u001b[0mself\u001b[0m\u001b[0;34m.\u001b[0m\u001b[0mall_model_out\u001b[0m\u001b[0;34m.\u001b[0m\u001b[0mappend\u001b[0m\u001b[0;34m(\u001b[0m\u001b[0mout\u001b[0m\u001b[0;34m.\u001b[0m\u001b[0mnumpy\u001b[0m\u001b[0;34m(\u001b[0m\u001b[0;34m)\u001b[0m\u001b[0;34m)\u001b[0m\u001b[0;34m\u001b[0m\u001b[0;34m\u001b[0m\u001b[0m\n",
      "\u001b[0;32m~/miniforge3/envs/tf_mac/lib/python3.8/site-packages/tensorflow/python/keras/engine/base_layer.py\u001b[0m in \u001b[0;36m__call__\u001b[0;34m(self, *args, **kwargs)\u001b[0m\n\u001b[1;32m   1005\u001b[0m         with autocast_variable.enable_auto_cast_variables(\n\u001b[1;32m   1006\u001b[0m             self._compute_dtype_object):\n\u001b[0;32m-> 1007\u001b[0;31m           \u001b[0moutputs\u001b[0m \u001b[0;34m=\u001b[0m \u001b[0mcall_fn\u001b[0m\u001b[0;34m(\u001b[0m\u001b[0minputs\u001b[0m\u001b[0;34m,\u001b[0m \u001b[0;34m*\u001b[0m\u001b[0margs\u001b[0m\u001b[0;34m,\u001b[0m \u001b[0;34m**\u001b[0m\u001b[0mkwargs\u001b[0m\u001b[0;34m)\u001b[0m\u001b[0;34m\u001b[0m\u001b[0;34m\u001b[0m\u001b[0m\n\u001b[0m\u001b[1;32m   1008\u001b[0m \u001b[0;34m\u001b[0m\u001b[0m\n\u001b[1;32m   1009\u001b[0m         \u001b[0;32mif\u001b[0m \u001b[0mself\u001b[0m\u001b[0;34m.\u001b[0m\u001b[0m_activity_regularizer\u001b[0m\u001b[0;34m:\u001b[0m\u001b[0;34m\u001b[0m\u001b[0;34m\u001b[0m\u001b[0m\n",
      "\u001b[0;32m~/LINDA-BN-Eventlog-TF/Models/BaselineLSTMWithResource.py\u001b[0m in \u001b[0;36mcall\u001b[0;34m(self, inputs, input_resources, amount, init_state, training)\u001b[0m\n\u001b[1;32m     76\u001b[0m         activity_lstm_out, a_h_out, a_c_out = self.activity_lstm(\n\u001b[1;32m     77\u001b[0m             activity_emb_out, training=training, mask=mask, initial_state= init_state[0] if init_state else None)\n\u001b[0;32m---> 78\u001b[0;31m         activity_lstm_out_sec, a_h_out_sec, a_c_out_sec = self.activity_lstm_sec(\n\u001b[0m\u001b[1;32m     79\u001b[0m             activity_lstm_out, training=training, mask=mask, initial_state=init_state[1] if init_state else None)\n\u001b[1;32m     80\u001b[0m \u001b[0;34m\u001b[0m\u001b[0m\n",
      "\u001b[0;32m~/miniforge3/envs/tf_mac/lib/python3.8/site-packages/tensorflow/python/keras/layers/recurrent.py\u001b[0m in \u001b[0;36m__call__\u001b[0;34m(self, inputs, initial_state, constants, **kwargs)\u001b[0m\n\u001b[1;32m    658\u001b[0m \u001b[0;34m\u001b[0m\u001b[0m\n\u001b[1;32m    659\u001b[0m     \u001b[0;32mif\u001b[0m \u001b[0minitial_state\u001b[0m \u001b[0;32mis\u001b[0m \u001b[0;32mNone\u001b[0m \u001b[0;32mand\u001b[0m \u001b[0mconstants\u001b[0m \u001b[0;32mis\u001b[0m \u001b[0;32mNone\u001b[0m\u001b[0;34m:\u001b[0m\u001b[0;34m\u001b[0m\u001b[0;34m\u001b[0m\u001b[0m\n\u001b[0;32m--> 660\u001b[0;31m       \u001b[0;32mreturn\u001b[0m \u001b[0msuper\u001b[0m\u001b[0;34m(\u001b[0m\u001b[0mRNN\u001b[0m\u001b[0;34m,\u001b[0m \u001b[0mself\u001b[0m\u001b[0;34m)\u001b[0m\u001b[0;34m.\u001b[0m\u001b[0m__call__\u001b[0m\u001b[0;34m(\u001b[0m\u001b[0minputs\u001b[0m\u001b[0;34m,\u001b[0m \u001b[0;34m**\u001b[0m\u001b[0mkwargs\u001b[0m\u001b[0;34m)\u001b[0m\u001b[0;34m\u001b[0m\u001b[0;34m\u001b[0m\u001b[0m\n\u001b[0m\u001b[1;32m    661\u001b[0m \u001b[0;34m\u001b[0m\u001b[0m\n\u001b[1;32m    662\u001b[0m     \u001b[0;31m# If any of `initial_state` or `constants` are specified and are Keras\u001b[0m\u001b[0;34m\u001b[0m\u001b[0;34m\u001b[0m\u001b[0;34m\u001b[0m\u001b[0m\n",
      "\u001b[0;32m~/miniforge3/envs/tf_mac/lib/python3.8/site-packages/tensorflow/python/keras/engine/base_layer.py\u001b[0m in \u001b[0;36m__call__\u001b[0;34m(self, *args, **kwargs)\u001b[0m\n\u001b[1;32m   1005\u001b[0m         with autocast_variable.enable_auto_cast_variables(\n\u001b[1;32m   1006\u001b[0m             self._compute_dtype_object):\n\u001b[0;32m-> 1007\u001b[0;31m           \u001b[0moutputs\u001b[0m \u001b[0;34m=\u001b[0m \u001b[0mcall_fn\u001b[0m\u001b[0;34m(\u001b[0m\u001b[0minputs\u001b[0m\u001b[0;34m,\u001b[0m \u001b[0;34m*\u001b[0m\u001b[0margs\u001b[0m\u001b[0;34m,\u001b[0m \u001b[0;34m**\u001b[0m\u001b[0mkwargs\u001b[0m\u001b[0;34m)\u001b[0m\u001b[0;34m\u001b[0m\u001b[0;34m\u001b[0m\u001b[0m\n\u001b[0m\u001b[1;32m   1008\u001b[0m \u001b[0;34m\u001b[0m\u001b[0m\n\u001b[1;32m   1009\u001b[0m         \u001b[0;32mif\u001b[0m \u001b[0mself\u001b[0m\u001b[0;34m.\u001b[0m\u001b[0m_activity_regularizer\u001b[0m\u001b[0;34m:\u001b[0m\u001b[0;34m\u001b[0m\u001b[0;34m\u001b[0m\u001b[0m\n",
      "\u001b[0;32m~/miniforge3/envs/tf_mac/lib/python3.8/site-packages/tensorflow/python/keras/layers/recurrent_v2.py\u001b[0m in \u001b[0;36mcall\u001b[0;34m(self, inputs, mask, training, initial_state)\u001b[0m\n\u001b[1;32m   1346\u001b[0m                 **gpu_lstm_kwargs)\n\u001b[1;32m   1347\u001b[0m           \u001b[0;32melse\u001b[0m\u001b[0;34m:\u001b[0m\u001b[0;34m\u001b[0m\u001b[0;34m\u001b[0m\u001b[0m\n\u001b[0;32m-> 1348\u001b[0;31m             last_output, outputs, new_h, new_c, runtime = standard_lstm(\n\u001b[0m\u001b[1;32m   1349\u001b[0m                 **normal_lstm_kwargs)\n\u001b[1;32m   1350\u001b[0m         \u001b[0;32melse\u001b[0m\u001b[0;34m:\u001b[0m\u001b[0;34m\u001b[0m\u001b[0;34m\u001b[0m\u001b[0m\n",
      "\u001b[0;32m~/miniforge3/envs/tf_mac/lib/python3.8/site-packages/tensorflow/python/keras/layers/recurrent_v2.py\u001b[0m in \u001b[0;36mstandard_lstm\u001b[0;34m(inputs, init_h, init_c, kernel, recurrent_kernel, bias, mask, time_major, go_backwards, sequence_lengths, zero_output_for_mask)\u001b[0m\n\u001b[1;32m   1472\u001b[0m     \u001b[0;32mreturn\u001b[0m \u001b[0mh\u001b[0m\u001b[0;34m,\u001b[0m \u001b[0;34m[\u001b[0m\u001b[0mh\u001b[0m\u001b[0;34m,\u001b[0m \u001b[0mc\u001b[0m\u001b[0;34m]\u001b[0m\u001b[0;34m\u001b[0m\u001b[0;34m\u001b[0m\u001b[0m\n\u001b[1;32m   1473\u001b[0m \u001b[0;34m\u001b[0m\u001b[0m\n\u001b[0;32m-> 1474\u001b[0;31m   last_output, outputs, new_states = K.rnn(\n\u001b[0m\u001b[1;32m   1475\u001b[0m       \u001b[0mstep\u001b[0m\u001b[0;34m,\u001b[0m\u001b[0;34m\u001b[0m\u001b[0;34m\u001b[0m\u001b[0m\n\u001b[1;32m   1476\u001b[0m       \u001b[0minputs\u001b[0m\u001b[0;34m,\u001b[0m \u001b[0;34m[\u001b[0m\u001b[0minit_h\u001b[0m\u001b[0;34m,\u001b[0m \u001b[0minit_c\u001b[0m\u001b[0;34m]\u001b[0m\u001b[0;34m,\u001b[0m\u001b[0;34m\u001b[0m\u001b[0;34m\u001b[0m\u001b[0m\n",
      "\u001b[0;32m~/miniforge3/envs/tf_mac/lib/python3.8/site-packages/tensorflow/python/util/dispatch.py\u001b[0m in \u001b[0;36mwrapper\u001b[0;34m(*args, **kwargs)\u001b[0m\n\u001b[1;32m    199\u001b[0m     \u001b[0;34m\"\"\"Call target, and fall back on dispatchers if there is a TypeError.\"\"\"\u001b[0m\u001b[0;34m\u001b[0m\u001b[0;34m\u001b[0m\u001b[0m\n\u001b[1;32m    200\u001b[0m     \u001b[0;32mtry\u001b[0m\u001b[0;34m:\u001b[0m\u001b[0;34m\u001b[0m\u001b[0;34m\u001b[0m\u001b[0m\n\u001b[0;32m--> 201\u001b[0;31m       \u001b[0;32mreturn\u001b[0m \u001b[0mtarget\u001b[0m\u001b[0;34m(\u001b[0m\u001b[0;34m*\u001b[0m\u001b[0margs\u001b[0m\u001b[0;34m,\u001b[0m \u001b[0;34m**\u001b[0m\u001b[0mkwargs\u001b[0m\u001b[0;34m)\u001b[0m\u001b[0;34m\u001b[0m\u001b[0;34m\u001b[0m\u001b[0m\n\u001b[0m\u001b[1;32m    202\u001b[0m     \u001b[0;32mexcept\u001b[0m \u001b[0;34m(\u001b[0m\u001b[0mTypeError\u001b[0m\u001b[0;34m,\u001b[0m \u001b[0mValueError\u001b[0m\u001b[0;34m)\u001b[0m\u001b[0;34m:\u001b[0m\u001b[0;34m\u001b[0m\u001b[0;34m\u001b[0m\u001b[0m\n\u001b[1;32m    203\u001b[0m       \u001b[0;31m# Note: convert_to_eager_tensor currently raises a ValueError, not a\u001b[0m\u001b[0;34m\u001b[0m\u001b[0;34m\u001b[0m\u001b[0;34m\u001b[0m\u001b[0m\n",
      "\u001b[0;32m~/miniforge3/envs/tf_mac/lib/python3.8/site-packages/tensorflow/python/keras/backend.py\u001b[0m in \u001b[0;36mrnn\u001b[0;34m(step_function, inputs, initial_states, go_backwards, mask, constants, unroll, input_length, time_major, zero_output_for_mask)\u001b[0m\n\u001b[1;32m   4496\u001b[0m                 tuple(flat_new_output)) + tuple(new_states)\n\u001b[1;32m   4497\u001b[0m \u001b[0;34m\u001b[0m\u001b[0m\n\u001b[0;32m-> 4498\u001b[0;31m       final_outputs = control_flow_ops.while_loop(\n\u001b[0m\u001b[1;32m   4499\u001b[0m           \u001b[0mbody\u001b[0m\u001b[0;34m=\u001b[0m\u001b[0m_step\u001b[0m\u001b[0;34m,\u001b[0m\u001b[0;34m\u001b[0m\u001b[0;34m\u001b[0m\u001b[0m\n\u001b[1;32m   4500\u001b[0m           \u001b[0mloop_vars\u001b[0m\u001b[0;34m=\u001b[0m\u001b[0;34m(\u001b[0m\u001b[0mtime\u001b[0m\u001b[0;34m,\u001b[0m \u001b[0moutput_ta\u001b[0m\u001b[0;34m,\u001b[0m \u001b[0mflat_zero_output\u001b[0m\u001b[0;34m)\u001b[0m \u001b[0;34m+\u001b[0m \u001b[0mstates\u001b[0m\u001b[0;34m,\u001b[0m\u001b[0;34m\u001b[0m\u001b[0;34m\u001b[0m\u001b[0m\n",
      "\u001b[0;32m~/miniforge3/envs/tf_mac/lib/python3.8/site-packages/tensorflow/python/ops/control_flow_ops.py\u001b[0m in \u001b[0;36mwhile_loop\u001b[0;34m(cond, body, loop_vars, shape_invariants, parallel_iterations, back_prop, swap_memory, name, maximum_iterations, return_same_structure)\u001b[0m\n\u001b[1;32m   2733\u001b[0m                                               list(loop_vars))\n\u001b[1;32m   2734\u001b[0m       \u001b[0;32mwhile\u001b[0m \u001b[0mcond\u001b[0m\u001b[0;34m(\u001b[0m\u001b[0;34m*\u001b[0m\u001b[0mloop_vars\u001b[0m\u001b[0;34m)\u001b[0m\u001b[0;34m:\u001b[0m\u001b[0;34m\u001b[0m\u001b[0;34m\u001b[0m\u001b[0m\n\u001b[0;32m-> 2735\u001b[0;31m         \u001b[0mloop_vars\u001b[0m \u001b[0;34m=\u001b[0m \u001b[0mbody\u001b[0m\u001b[0;34m(\u001b[0m\u001b[0;34m*\u001b[0m\u001b[0mloop_vars\u001b[0m\u001b[0;34m)\u001b[0m\u001b[0;34m\u001b[0m\u001b[0;34m\u001b[0m\u001b[0m\n\u001b[0m\u001b[1;32m   2736\u001b[0m         \u001b[0;32mif\u001b[0m \u001b[0mtry_to_pack\u001b[0m \u001b[0;32mand\u001b[0m \u001b[0;32mnot\u001b[0m \u001b[0misinstance\u001b[0m\u001b[0;34m(\u001b[0m\u001b[0mloop_vars\u001b[0m\u001b[0;34m,\u001b[0m \u001b[0;34m(\u001b[0m\u001b[0mlist\u001b[0m\u001b[0;34m,\u001b[0m \u001b[0m_basetuple\u001b[0m\u001b[0;34m)\u001b[0m\u001b[0;34m)\u001b[0m\u001b[0;34m:\u001b[0m\u001b[0;34m\u001b[0m\u001b[0;34m\u001b[0m\u001b[0m\n\u001b[1;32m   2737\u001b[0m           \u001b[0mpacked\u001b[0m \u001b[0;34m=\u001b[0m \u001b[0;32mTrue\u001b[0m\u001b[0;34m\u001b[0m\u001b[0;34m\u001b[0m\u001b[0m\n",
      "\u001b[0;32m~/miniforge3/envs/tf_mac/lib/python3.8/site-packages/tensorflow/python/keras/backend.py\u001b[0m in \u001b[0;36m_step\u001b[0;34m(time, output_ta_t, prev_output, *states)\u001b[0m\n\u001b[1;32m   4471\u001b[0m         \u001b[0mcurrent_input\u001b[0m \u001b[0;34m=\u001b[0m \u001b[0mnest\u001b[0m\u001b[0;34m.\u001b[0m\u001b[0mpack_sequence_as\u001b[0m\u001b[0;34m(\u001b[0m\u001b[0minputs\u001b[0m\u001b[0;34m,\u001b[0m \u001b[0mcurrent_input\u001b[0m\u001b[0;34m)\u001b[0m\u001b[0;34m\u001b[0m\u001b[0;34m\u001b[0m\u001b[0m\n\u001b[1;32m   4472\u001b[0m         \u001b[0mmask_t\u001b[0m \u001b[0;34m=\u001b[0m \u001b[0mmasking_fn\u001b[0m\u001b[0;34m(\u001b[0m\u001b[0mtime\u001b[0m\u001b[0;34m)\u001b[0m\u001b[0;34m\u001b[0m\u001b[0;34m\u001b[0m\u001b[0m\n\u001b[0;32m-> 4473\u001b[0;31m         output, new_states = step_function(current_input,\n\u001b[0m\u001b[1;32m   4474\u001b[0m                                            tuple(states) + tuple(constants))\n\u001b[1;32m   4475\u001b[0m         \u001b[0;31m# mask output\u001b[0m\u001b[0;34m\u001b[0m\u001b[0;34m\u001b[0m\u001b[0;34m\u001b[0m\u001b[0m\n",
      "\u001b[0;32m~/miniforge3/envs/tf_mac/lib/python3.8/site-packages/tensorflow/python/keras/layers/recurrent_v2.py\u001b[0m in \u001b[0;36mstep\u001b[0;34m(cell_inputs, cell_states)\u001b[0m\n\u001b[1;32m   1467\u001b[0m     \u001b[0mf\u001b[0m \u001b[0;34m=\u001b[0m \u001b[0mnn\u001b[0m\u001b[0;34m.\u001b[0m\u001b[0msigmoid\u001b[0m\u001b[0;34m(\u001b[0m\u001b[0mz1\u001b[0m\u001b[0;34m)\u001b[0m\u001b[0;34m\u001b[0m\u001b[0;34m\u001b[0m\u001b[0m\n\u001b[1;32m   1468\u001b[0m     \u001b[0mc\u001b[0m \u001b[0;34m=\u001b[0m \u001b[0mf\u001b[0m \u001b[0;34m*\u001b[0m \u001b[0mc_tm1\u001b[0m \u001b[0;34m+\u001b[0m \u001b[0mi\u001b[0m \u001b[0;34m*\u001b[0m \u001b[0mnn\u001b[0m\u001b[0;34m.\u001b[0m\u001b[0mtanh\u001b[0m\u001b[0;34m(\u001b[0m\u001b[0mz2\u001b[0m\u001b[0;34m)\u001b[0m\u001b[0;34m\u001b[0m\u001b[0;34m\u001b[0m\u001b[0m\n\u001b[0;32m-> 1469\u001b[0;31m     \u001b[0mo\u001b[0m \u001b[0;34m=\u001b[0m \u001b[0mnn\u001b[0m\u001b[0;34m.\u001b[0m\u001b[0msigmoid\u001b[0m\u001b[0;34m(\u001b[0m\u001b[0mz3\u001b[0m\u001b[0;34m)\u001b[0m\u001b[0;34m\u001b[0m\u001b[0;34m\u001b[0m\u001b[0m\n\u001b[0m\u001b[1;32m   1470\u001b[0m \u001b[0;34m\u001b[0m\u001b[0m\n\u001b[1;32m   1471\u001b[0m     \u001b[0mh\u001b[0m \u001b[0;34m=\u001b[0m \u001b[0mo\u001b[0m \u001b[0;34m*\u001b[0m \u001b[0mnn\u001b[0m\u001b[0;34m.\u001b[0m\u001b[0mtanh\u001b[0m\u001b[0;34m(\u001b[0m\u001b[0mc\u001b[0m\u001b[0;34m)\u001b[0m\u001b[0;34m\u001b[0m\u001b[0;34m\u001b[0m\u001b[0m\n",
      "\u001b[0;32m~/miniforge3/envs/tf_mac/lib/python3.8/site-packages/tensorflow/python/util/dispatch.py\u001b[0m in \u001b[0;36mwrapper\u001b[0;34m(*args, **kwargs)\u001b[0m\n\u001b[1;32m    199\u001b[0m     \u001b[0;34m\"\"\"Call target, and fall back on dispatchers if there is a TypeError.\"\"\"\u001b[0m\u001b[0;34m\u001b[0m\u001b[0;34m\u001b[0m\u001b[0m\n\u001b[1;32m    200\u001b[0m     \u001b[0;32mtry\u001b[0m\u001b[0;34m:\u001b[0m\u001b[0;34m\u001b[0m\u001b[0;34m\u001b[0m\u001b[0m\n\u001b[0;32m--> 201\u001b[0;31m       \u001b[0;32mreturn\u001b[0m \u001b[0mtarget\u001b[0m\u001b[0;34m(\u001b[0m\u001b[0;34m*\u001b[0m\u001b[0margs\u001b[0m\u001b[0;34m,\u001b[0m \u001b[0;34m**\u001b[0m\u001b[0mkwargs\u001b[0m\u001b[0;34m)\u001b[0m\u001b[0;34m\u001b[0m\u001b[0;34m\u001b[0m\u001b[0m\n\u001b[0m\u001b[1;32m    202\u001b[0m     \u001b[0;32mexcept\u001b[0m \u001b[0;34m(\u001b[0m\u001b[0mTypeError\u001b[0m\u001b[0;34m,\u001b[0m \u001b[0mValueError\u001b[0m\u001b[0;34m)\u001b[0m\u001b[0;34m:\u001b[0m\u001b[0;34m\u001b[0m\u001b[0;34m\u001b[0m\u001b[0m\n\u001b[1;32m    203\u001b[0m       \u001b[0;31m# Note: convert_to_eager_tensor currently raises a ValueError, not a\u001b[0m\u001b[0;34m\u001b[0m\u001b[0;34m\u001b[0m\u001b[0;34m\u001b[0m\u001b[0m\n",
      "\u001b[0;32m~/miniforge3/envs/tf_mac/lib/python3.8/site-packages/tensorflow/python/ops/math_ops.py\u001b[0m in \u001b[0;36msigmoid\u001b[0;34m(x, name)\u001b[0m\n\u001b[1;32m   3748\u001b[0m   \u001b[0;32mwith\u001b[0m \u001b[0mops\u001b[0m\u001b[0;34m.\u001b[0m\u001b[0mname_scope\u001b[0m\u001b[0;34m(\u001b[0m\u001b[0mname\u001b[0m\u001b[0;34m,\u001b[0m \u001b[0;34m\"Sigmoid\"\u001b[0m\u001b[0;34m,\u001b[0m \u001b[0;34m[\u001b[0m\u001b[0mx\u001b[0m\u001b[0;34m]\u001b[0m\u001b[0;34m)\u001b[0m \u001b[0;32mas\u001b[0m \u001b[0mname\u001b[0m\u001b[0;34m:\u001b[0m\u001b[0;34m\u001b[0m\u001b[0;34m\u001b[0m\u001b[0m\n\u001b[1;32m   3749\u001b[0m     \u001b[0mx\u001b[0m \u001b[0;34m=\u001b[0m \u001b[0mops\u001b[0m\u001b[0;34m.\u001b[0m\u001b[0mconvert_to_tensor\u001b[0m\u001b[0;34m(\u001b[0m\u001b[0mx\u001b[0m\u001b[0;34m,\u001b[0m \u001b[0mname\u001b[0m\u001b[0;34m=\u001b[0m\u001b[0;34m\"x\"\u001b[0m\u001b[0;34m)\u001b[0m\u001b[0;34m\u001b[0m\u001b[0;34m\u001b[0m\u001b[0m\n\u001b[0;32m-> 3750\u001b[0;31m     \u001b[0;32mreturn\u001b[0m \u001b[0mgen_math_ops\u001b[0m\u001b[0;34m.\u001b[0m\u001b[0msigmoid\u001b[0m\u001b[0;34m(\u001b[0m\u001b[0mx\u001b[0m\u001b[0;34m,\u001b[0m \u001b[0mname\u001b[0m\u001b[0;34m=\u001b[0m\u001b[0mname\u001b[0m\u001b[0;34m)\u001b[0m\u001b[0;34m\u001b[0m\u001b[0;34m\u001b[0m\u001b[0m\n\u001b[0m\u001b[1;32m   3751\u001b[0m \u001b[0;34m\u001b[0m\u001b[0m\n\u001b[1;32m   3752\u001b[0m \u001b[0;34m\u001b[0m\u001b[0m\n",
      "\u001b[0;32m~/miniforge3/envs/tf_mac/lib/python3.8/site-packages/tensorflow/python/ops/gen_math_ops.py\u001b[0m in \u001b[0;36msigmoid\u001b[0;34m(x, name)\u001b[0m\n\u001b[1;32m   8786\u001b[0m   \u001b[0;32mif\u001b[0m \u001b[0mtld\u001b[0m\u001b[0;34m.\u001b[0m\u001b[0mis_eager\u001b[0m\u001b[0;34m:\u001b[0m\u001b[0;34m\u001b[0m\u001b[0;34m\u001b[0m\u001b[0m\n\u001b[1;32m   8787\u001b[0m     \u001b[0;32mtry\u001b[0m\u001b[0;34m:\u001b[0m\u001b[0;34m\u001b[0m\u001b[0;34m\u001b[0m\u001b[0m\n\u001b[0;32m-> 8788\u001b[0;31m       _result = pywrap_tfe.TFE_Py_FastPathExecute(\n\u001b[0m\u001b[1;32m   8789\u001b[0m         _ctx, \"Sigmoid\", name, x)\n\u001b[1;32m   8790\u001b[0m       \u001b[0;32mreturn\u001b[0m \u001b[0m_result\u001b[0m\u001b[0;34m\u001b[0m\u001b[0;34m\u001b[0m\u001b[0m\n",
      "\u001b[0;31mKeyboardInterrupt\u001b[0m: "
     ]
    }
   ],
   "source": [
    "## Problem of weight propagation?\n",
    "dice_exp = exp.generate_counterfactuals(\n",
    "        example_df,\n",
    "        total_CFs=1,\n",
    "        verbose=True,\n",
    "        min_iter=100,\n",
    "        max_iter=500,\n",
    "        # desired_class=\"opposite\",\n",
    "        # features_to_vary=['amount'],\n",
    "        # yloss_type= \"log_loss\" # log_loss, hinge_loss, l2_loss\n",
    "        # algorithm = \"DiverseCF\", # DiverseCF, RandomInitCF\n",
    "        # proximity_weight=0.5, #0.5,\n",
    "        # diversity_weight=1,#1.0,\n",
    "        # init_near_query_instance=True,\n",
    "        # tie_random = True,\n",
    "        # categorical_penalty = 1,\n",
    "        # learning_rate=0.0005,\n",
    "    )"
   ]
  },
  {
   "cell_type": "code",
   "execution_count": 26,
   "metadata": {},
   "outputs": [
    {
     "output_type": "stream",
     "name": "stdout",
     "text": [
      "[['A_SUBMITTED_COMPLETE'], ['A_PARTLYSUBMITTED_COMPLETE', 'A_PREACCEPTED_COMPLETE'], ['A_PREACCEPTED_COMPLETE']]\n"
     ]
    }
   ],
   "source": [
    "#### Check what permutations are fed into the model. ####\n",
    "all_received_activities = []\n",
    "for i in range(len(example_vocab_trace_without_tags)):\n",
    "    trace = explainer.model.vocab.list_of_index_to_vocab(list(set((np.squeeze(np.array(dice_binary_model.all_trace))[:, i]).tolist())))\n",
    "    all_received_activities.append(trace)\n",
    "print(all_received_activities)"
   ]
  },
  {
   "cell_type": "code",
   "execution_count": 27,
   "metadata": {},
   "outputs": [
    {
     "output_type": "stream",
     "name": "stdout",
     "text": [
      "[['112', '10971'], ['10859', '112'], ['10863', '11201']]\n"
     ]
    }
   ],
   "source": [
    "#### Check what permutations are fed into the model. ####\n",
    "all_received_resources = []\n",
    "for i in range(len(example_vocab_trace_without_tags)):\n",
    "    res = [ explainer.resources[r] for r in list(set((np.squeeze(np.array(dice_binary_model.all_resource))[:, i]).tolist()))]\n",
    "    all_received_resources.append(res)\n",
    "print(all_received_resources)"
   ]
  },
  {
   "cell_type": "code",
   "execution_count": 28,
   "metadata": {},
   "outputs": [
    {
     "output_type": "stream",
     "name": "stdout",
     "text": [
      "All inputs are the same: True\n"
     ]
    }
   ],
   "source": [
    "########## Checking if all the permutation are the same (Shouldn't be) ##########\n",
    "all_cf_are_same = all([all((dice_binary_model.all_cf_input[1][:, 1:] == dice_binary_model.all_cf_input[i][:, 1:]).tolist()[0]) for i in range(len(dice_binary_model.all_cf_input))][1:])\n",
    "print(\"All inputs are the same: %s\" % (all_cf_are_same))"
   ]
  },
  {
   "cell_type": "code",
   "execution_count": 29,
   "metadata": {},
   "outputs": [
    {
     "output_type": "stream",
     "name": "stdout",
     "text": [
      "All trace and resource are the same: True\n"
     ]
    }
   ],
   "source": [
    "########## Checking if all the trace & resource (except amount) are the same (Shouldn't be) ##########\n",
    "all_trace_and_resource_are_same = all([all((dice_binary_model.all_cf_input[1][:, 1:] == dice_binary_model.all_cf_input[i][:, 1:]).tolist()[0]) for\n",
    " i in range(len(dice_binary_model.all_cf_input))][1:])\n",
    "print(\"All trace and resource are the same: %s\" % (all_trace_and_resource_are_same))"
   ]
  },
  {
   "cell_type": "code",
   "execution_count": 30,
   "metadata": {},
   "outputs": [
    {
     "output_type": "stream",
     "name": "stdout",
     "text": [
      "Query instance (original outcome : 0)\n"
     ]
    },
    {
     "output_type": "display_data",
     "data": {
      "text/plain": "        step_1_activity             step_2_activity         step_3_activity  \\\n0  A_SUBMITTED_COMPLETE  A_PARTLYSUBMITTED_COMPLETE  A_PREACCEPTED_COMPLETE   \n\n  step_1_resource step_2_resource step_3_resource  amount  predicted  \n0             112             112           10863  5800.0        0.0  ",
      "text/html": "<div>\n<style scoped>\n    .dataframe tbody tr th:only-of-type {\n        vertical-align: middle;\n    }\n\n    .dataframe tbody tr th {\n        vertical-align: top;\n    }\n\n    .dataframe thead th {\n        text-align: right;\n    }\n</style>\n<table border=\"1\" class=\"dataframe\">\n  <thead>\n    <tr style=\"text-align: right;\">\n      <th></th>\n      <th>step_1_activity</th>\n      <th>step_2_activity</th>\n      <th>step_3_activity</th>\n      <th>step_1_resource</th>\n      <th>step_2_resource</th>\n      <th>step_3_resource</th>\n      <th>amount</th>\n      <th>predicted</th>\n    </tr>\n  </thead>\n  <tbody>\n    <tr>\n      <th>0</th>\n      <td>A_SUBMITTED_COMPLETE</td>\n      <td>A_PARTLYSUBMITTED_COMPLETE</td>\n      <td>A_PREACCEPTED_COMPLETE</td>\n      <td>112</td>\n      <td>112</td>\n      <td>10863</td>\n      <td>5800.0</td>\n      <td>0.0</td>\n    </tr>\n  </tbody>\n</table>\n</div>"
     },
     "metadata": {}
    },
    {
     "output_type": "stream",
     "name": "stdout",
     "text": [
      "\nNo counterfactuals found!\n"
     ]
    }
   ],
   "source": [
    "dice_exp.visualize_as_dataframe(show_only_changes=True, display_sparse_df=False)"
   ]
  },
  {
   "cell_type": "code",
   "execution_count": 31,
   "metadata": {},
   "outputs": [
    {
     "output_type": "stream",
     "name": "stdout",
     "text": [
      "['A_SUBMITTED_COMPLETE', 'A_PARTLYSUBMITTED_COMPLETE', 'A_PREACCEPTED_COMPLETE', '112', '112', '10863', 5800.0]\n"
     ]
    }
   ],
   "source": [
    "######## Print the example trace ########\n",
    "print(list(example_df.iloc[0]))"
   ]
  },
  {
   "cell_type": "code",
   "execution_count": 32,
   "metadata": {},
   "outputs": [
    {
     "output_type": "error",
     "ename": "IndexError",
     "evalue": "single positional indexer is out-of-bounds",
     "traceback": [
      "\u001b[0;31m---------------------------------------------------------------------------\u001b[0m",
      "\u001b[0;31mIndexError\u001b[0m                                Traceback (most recent call last)",
      "\u001b[0;32m<ipython-input-32-665f4e617de1>\u001b[0m in \u001b[0;36m<module>\u001b[0;34m\u001b[0m\n\u001b[1;32m      1\u001b[0m \u001b[0;31m######## Print the counterfactual trace ########\u001b[0m\u001b[0;34m\u001b[0m\u001b[0;34m\u001b[0m\u001b[0;34m\u001b[0m\u001b[0m\n\u001b[0;32m----> 2\u001b[0;31m \u001b[0mprint\u001b[0m\u001b[0;34m(\u001b[0m\u001b[0mlist\u001b[0m\u001b[0;34m(\u001b[0m\u001b[0mdice_exp\u001b[0m\u001b[0;34m.\u001b[0m\u001b[0mfinal_cfs_df\u001b[0m\u001b[0;34m.\u001b[0m\u001b[0miloc\u001b[0m\u001b[0;34m[\u001b[0m\u001b[0;36m0\u001b[0m\u001b[0;34m]\u001b[0m\u001b[0;34m[\u001b[0m\u001b[0;34m:\u001b[0m\u001b[0;34m-\u001b[0m\u001b[0;36m1\u001b[0m\u001b[0;34m]\u001b[0m\u001b[0;34m)\u001b[0m\u001b[0;34m)\u001b[0m\u001b[0;34m\u001b[0m\u001b[0;34m\u001b[0m\u001b[0m\n\u001b[0m",
      "\u001b[0;32m~/miniforge3/envs/tf_mac/lib/python3.8/site-packages/pandas/core/indexing.py\u001b[0m in \u001b[0;36m__getitem__\u001b[0;34m(self, key)\u001b[0m\n\u001b[1;32m    893\u001b[0m \u001b[0;34m\u001b[0m\u001b[0m\n\u001b[1;32m    894\u001b[0m             \u001b[0mmaybe_callable\u001b[0m \u001b[0;34m=\u001b[0m \u001b[0mcom\u001b[0m\u001b[0;34m.\u001b[0m\u001b[0mapply_if_callable\u001b[0m\u001b[0;34m(\u001b[0m\u001b[0mkey\u001b[0m\u001b[0;34m,\u001b[0m \u001b[0mself\u001b[0m\u001b[0;34m.\u001b[0m\u001b[0mobj\u001b[0m\u001b[0;34m)\u001b[0m\u001b[0;34m\u001b[0m\u001b[0;34m\u001b[0m\u001b[0m\n\u001b[0;32m--> 895\u001b[0;31m             \u001b[0;32mreturn\u001b[0m \u001b[0mself\u001b[0m\u001b[0;34m.\u001b[0m\u001b[0m_getitem_axis\u001b[0m\u001b[0;34m(\u001b[0m\u001b[0mmaybe_callable\u001b[0m\u001b[0;34m,\u001b[0m \u001b[0maxis\u001b[0m\u001b[0;34m=\u001b[0m\u001b[0maxis\u001b[0m\u001b[0;34m)\u001b[0m\u001b[0;34m\u001b[0m\u001b[0;34m\u001b[0m\u001b[0m\n\u001b[0m\u001b[1;32m    896\u001b[0m \u001b[0;34m\u001b[0m\u001b[0m\n\u001b[1;32m    897\u001b[0m     \u001b[0;32mdef\u001b[0m \u001b[0m_is_scalar_access\u001b[0m\u001b[0;34m(\u001b[0m\u001b[0mself\u001b[0m\u001b[0;34m,\u001b[0m \u001b[0mkey\u001b[0m\u001b[0;34m:\u001b[0m \u001b[0mTuple\u001b[0m\u001b[0;34m)\u001b[0m\u001b[0;34m:\u001b[0m\u001b[0;34m\u001b[0m\u001b[0;34m\u001b[0m\u001b[0m\n",
      "\u001b[0;32m~/miniforge3/envs/tf_mac/lib/python3.8/site-packages/pandas/core/indexing.py\u001b[0m in \u001b[0;36m_getitem_axis\u001b[0;34m(self, key, axis)\u001b[0m\n\u001b[1;32m   1499\u001b[0m \u001b[0;34m\u001b[0m\u001b[0m\n\u001b[1;32m   1500\u001b[0m             \u001b[0;31m# validate the location\u001b[0m\u001b[0;34m\u001b[0m\u001b[0;34m\u001b[0m\u001b[0;34m\u001b[0m\u001b[0m\n\u001b[0;32m-> 1501\u001b[0;31m             \u001b[0mself\u001b[0m\u001b[0;34m.\u001b[0m\u001b[0m_validate_integer\u001b[0m\u001b[0;34m(\u001b[0m\u001b[0mkey\u001b[0m\u001b[0;34m,\u001b[0m \u001b[0maxis\u001b[0m\u001b[0;34m)\u001b[0m\u001b[0;34m\u001b[0m\u001b[0;34m\u001b[0m\u001b[0m\n\u001b[0m\u001b[1;32m   1502\u001b[0m \u001b[0;34m\u001b[0m\u001b[0m\n\u001b[1;32m   1503\u001b[0m             \u001b[0;32mreturn\u001b[0m \u001b[0mself\u001b[0m\u001b[0;34m.\u001b[0m\u001b[0mobj\u001b[0m\u001b[0;34m.\u001b[0m\u001b[0m_ixs\u001b[0m\u001b[0;34m(\u001b[0m\u001b[0mkey\u001b[0m\u001b[0;34m,\u001b[0m \u001b[0maxis\u001b[0m\u001b[0;34m=\u001b[0m\u001b[0maxis\u001b[0m\u001b[0;34m)\u001b[0m\u001b[0;34m\u001b[0m\u001b[0;34m\u001b[0m\u001b[0m\n",
      "\u001b[0;32m~/miniforge3/envs/tf_mac/lib/python3.8/site-packages/pandas/core/indexing.py\u001b[0m in \u001b[0;36m_validate_integer\u001b[0;34m(self, key, axis)\u001b[0m\n\u001b[1;32m   1442\u001b[0m         \u001b[0mlen_axis\u001b[0m \u001b[0;34m=\u001b[0m \u001b[0mlen\u001b[0m\u001b[0;34m(\u001b[0m\u001b[0mself\u001b[0m\u001b[0;34m.\u001b[0m\u001b[0mobj\u001b[0m\u001b[0;34m.\u001b[0m\u001b[0m_get_axis\u001b[0m\u001b[0;34m(\u001b[0m\u001b[0maxis\u001b[0m\u001b[0;34m)\u001b[0m\u001b[0;34m)\u001b[0m\u001b[0;34m\u001b[0m\u001b[0;34m\u001b[0m\u001b[0m\n\u001b[1;32m   1443\u001b[0m         \u001b[0;32mif\u001b[0m \u001b[0mkey\u001b[0m \u001b[0;34m>=\u001b[0m \u001b[0mlen_axis\u001b[0m \u001b[0;32mor\u001b[0m \u001b[0mkey\u001b[0m \u001b[0;34m<\u001b[0m \u001b[0;34m-\u001b[0m\u001b[0mlen_axis\u001b[0m\u001b[0;34m:\u001b[0m\u001b[0;34m\u001b[0m\u001b[0;34m\u001b[0m\u001b[0m\n\u001b[0;32m-> 1444\u001b[0;31m             \u001b[0;32mraise\u001b[0m \u001b[0mIndexError\u001b[0m\u001b[0;34m(\u001b[0m\u001b[0;34m\"single positional indexer is out-of-bounds\"\u001b[0m\u001b[0;34m)\u001b[0m\u001b[0;34m\u001b[0m\u001b[0;34m\u001b[0m\u001b[0m\n\u001b[0m\u001b[1;32m   1445\u001b[0m \u001b[0;34m\u001b[0m\u001b[0m\n\u001b[1;32m   1446\u001b[0m     \u001b[0;31m# -------------------------------------------------------------------\u001b[0m\u001b[0;34m\u001b[0m\u001b[0;34m\u001b[0m\u001b[0;34m\u001b[0m\u001b[0m\n",
      "\u001b[0;31mIndexError\u001b[0m: single positional indexer is out-of-bounds"
     ]
    }
   ],
   "source": [
    "######## Print the counterfactual trace ########\n",
    "print(list(dice_exp.final_cfs_df.iloc[0][:-1]))"
   ]
  },
  {
   "cell_type": "code",
   "execution_count": null,
   "metadata": {},
   "outputs": [],
   "source": [
    "dice_exp.final_cfs_df.iloc[0][:-1]"
   ]
  }
 ]
}