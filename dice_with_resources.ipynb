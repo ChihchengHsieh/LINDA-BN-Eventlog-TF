{
 "metadata": {
  "language_info": {
   "codemirror_mode": {
    "name": "ipython",
    "version": 3
   },
   "file_extension": ".py",
   "mimetype": "text/x-python",
   "name": "python",
   "nbconvert_exporter": "python",
   "pygments_lexer": "ipython3",
   "version": "3.8.10"
  },
  "orig_nbformat": 4,
  "kernelspec": {
   "name": "python3",
   "display_name": "Python 3.8.10 64-bit ('tf_mac': conda)"
  },
  "interpreter": {
   "hash": "5c622353f32ef24c8d83e5c3e334107c074e82d7c3e8ca52c56b9fc900ce33e6"
  }
 },
 "nbformat": 4,
 "nbformat_minor": 2,
 "cells": [
  {
   "cell_type": "code",
   "execution_count": 1,
   "metadata": {},
   "outputs": [
    {
     "output_type": "stream",
     "name": "stdout",
     "text": [
      "TF version:  2.4.0-rc0\nEager execution enabled:  True\n"
     ]
    }
   ],
   "source": [
    "from Controller import TrainingController\n",
    "from Parameters import TrainingParameters\n",
    "from Utils.SaveUtils import load_parameters\n",
    "from Utils.PrintUtils import print_big\n",
    "import tensorflow as tf\n",
    "import json\n",
    "import numpy as np\n",
    "import pandas as pd\n",
    "from Models import DiCEBinaryDefferentiable\n",
    "from itertools import chain\n",
    "from IPython.core.display import display, HTML\n",
    "from Utils.DiCEHelpers import generate_fake_df, get_trace_with_id, get_longest_trace_row, remove_trail_steps, print_model_prediction_result, remove_tags_for_query_instance\n",
    "\n",
    "import dice_ml\n",
    "from dice_ml.utils import helpers\n",
    "\n",
    "print('TF version: ', tf.__version__)\n",
    "print('Eager execution enabled: ', tf.executing_eagerly()) # False"
   ]
  },
  {
   "cell_type": "code",
   "execution_count": 2,
   "metadata": {},
   "outputs": [],
   "source": [
    "folder_path = \"./SavedModels/%s\" % (\n",
    "    \"0.8264_BPI2012WithResource_BaselineLSTMWithResource_2021-06-18 06:11:10.009443\" #AOW\n",
    ")"
   ]
  },
  {
   "cell_type": "code",
   "execution_count": 3,
   "metadata": {},
   "outputs": [
    {
     "output_type": "stream",
     "name": "stdout",
     "text": [
      "\n",
      "========================================\n",
      "| Running on /job:localhost/replica:0/task:0/device:CPU:0  \n",
      "========================================\n",
      "\n",
      "========================================\n",
      "| Preprocessed data loaded successfully: ./datasets/preprocessed/BPI_Challenge_2012_with_resource/AOW \n",
      "========================================\n",
      "\n",
      "========================================\n",
      "| Model loaded successfully from: ./SavedModels/0.8264_BPI2012WithResource_BaselineLSTMWithResource_2021-06-18 06:11:10.009443  \n",
      "========================================\n",
      "Model: \"baseline_lstm_with_resource\"\n",
      "_________________________________________________________________\n",
      "Layer (type)                 Output Shape              Param #   \n",
      "=================================================================\n",
      "embedding (Embedding)        multiple                  832       \n",
      "_________________________________________________________________\n",
      "embedding_1 (Embedding)      multiple                  2304      \n",
      "_________________________________________________________________\n",
      "lstm (LSTM)                  multiple                  24832     \n",
      "_________________________________________________________________\n",
      "lstm_1 (LSTM)                multiple                  33024     \n",
      "_________________________________________________________________\n",
      "lstm_2 (LSTM)                multiple                  24832     \n",
      "_________________________________________________________________\n",
      "lstm_3 (LSTM)                multiple                  33024     \n",
      "_________________________________________________________________\n",
      "sequential (Sequential)      (1, 1, 26)                10782     \n",
      "=================================================================\n",
      "Total params: 129,630\n",
      "Trainable params: 129,244\n",
      "Non-trainable params: 386\n",
      "_________________________________________________________________\n",
      "\n",
      "========================================\n",
      "| Loaded model has been trained for [4100] steps, [50] epochs \n",
      "========================================\n"
     ]
    }
   ],
   "source": [
    "### Initialise controllers\n",
    "parameters_json = load_parameters(folder_path=folder_path)\n",
    "parameters = TrainingParameters(**parameters_json)\n",
    "tf.random.set_seed(parameters.dataset_split_seed)\n",
    "np.random.seed(parameters.dataset_split_seed)\n",
    "parameters.load_model_folder_path = folder_path\n",
    "trainer = TrainingController(parameters = parameters)\n",
    "trainer.show_model_info()"
   ]
  },
  {
   "cell_type": "code",
   "execution_count": 4,
   "metadata": {},
   "outputs": [
    {
     "output_type": "stream",
     "name": "stdout",
     "text": [
      "\n====================Test set length====================\n| 1309 \n=======================================================\n"
     ]
    }
   ],
   "source": [
    "########### Get example data from trainer ###########\n",
    "ordered_test_idx = (list(trainer.test_dataset.unbatch().as_numpy_iterator()))\n",
    "ordered_test_idx.sort()\n",
    "print_big(len(ordered_test_idx), \"Test set length\")"
   ]
  },
  {
   "cell_type": "code",
   "execution_count": 5,
   "metadata": {},
   "outputs": [
    {
     "output_type": "execute_result",
     "data": {
      "text/plain": [
       "                                                  trace  \\\n",
       "8464  [2, 12, 9, 10, 20, 22, 3, 17, 8, 15, 19, 22, 1...   \n",
       "\n",
       "                                            trace_vocab  caseid  amount  \\\n",
       "8464  [<SOS>, A_SUBMITTED_COMPLETE, A_PARTLYSUBMITTE...  200028  5800.0   \n",
       "\n",
       "                                               resource  \\\n",
       "8464  [70, 53, 53, 15, 15, 48, 37, 37, 37, 37, 37, 3...   \n",
       "\n",
       "                                          resource_orig  \n",
       "8464  [<SOS>, 112, 112, 10863, 10863, 11169, 11003, ...  "
      ],
      "text/html": "<div>\n<style scoped>\n    .dataframe tbody tr th:only-of-type {\n        vertical-align: middle;\n    }\n\n    .dataframe tbody tr th {\n        vertical-align: top;\n    }\n\n    .dataframe thead th {\n        text-align: right;\n    }\n</style>\n<table border=\"1\" class=\"dataframe\">\n  <thead>\n    <tr style=\"text-align: right;\">\n      <th></th>\n      <th>trace</th>\n      <th>trace_vocab</th>\n      <th>caseid</th>\n      <th>amount</th>\n      <th>resource</th>\n      <th>resource_orig</th>\n    </tr>\n  </thead>\n  <tbody>\n    <tr>\n      <th>8464</th>\n      <td>[2, 12, 9, 10, 20, 22, 3, 17, 8, 15, 19, 22, 1...</td>\n      <td>[&lt;SOS&gt;, A_SUBMITTED_COMPLETE, A_PARTLYSUBMITTE...</td>\n      <td>200028</td>\n      <td>5800.0</td>\n      <td>[70, 53, 53, 15, 15, 48, 37, 37, 37, 37, 37, 3...</td>\n      <td>[&lt;SOS&gt;, 112, 112, 10863, 10863, 11169, 11003, ...</td>\n    </tr>\n  </tbody>\n</table>\n</div>"
     },
     "metadata": {},
     "execution_count": 5
    }
   ],
   "source": [
    "########## Get longest delcined trace for testing ##########\n",
    "declined_df = get_trace_with_id(trainer.dataset.df.iloc[ordered_test_idx], trainer.model.vocab.vocab_to_index('A_DECLINED_COMPLETE'))\n",
    "longest_declined_trace_row = get_longest_trace_row(declined_df)\n",
    "longest_declined_trace_row"
   ]
  },
  {
   "cell_type": "code",
   "execution_count": 6,
   "metadata": {},
   "outputs": [],
   "source": [
    "_, example_activities, _, example_resources, example_amount, _ = trainer.dataset.collate_fn([longest_declined_trace_row.index[0]])"
   ]
  },
  {
   "cell_type": "code",
   "execution_count": 7,
   "metadata": {},
   "outputs": [
    {
     "output_type": "stream",
     "name": "stdout",
     "text": [
      "========================================Trace========================================\n[['<SOS>', 'A_SUBMITTED_COMPLETE', 'A_PARTLYSUBMITTED_COMPLETE', 'A_PREACCEPTED_COMPLETE', 'W_Afhandelen leads_COMPLETE', 'W_Completeren aanvraag_COMPLETE', 'A_ACCEPTED_COMPLETE', 'O_SELECTED_COMPLETE', 'A_FINALIZED_COMPLETE', 'O_CREATED_COMPLETE', 'O_SENT_COMPLETE', 'W_Completeren aanvraag_COMPLETE', 'O_SELECTED_COMPLETE', 'O_CANCELLED_COMPLETE', 'O_CREATED_COMPLETE', 'O_SENT_COMPLETE', 'W_Nabellen offertes_COMPLETE', 'O_CANCELLED_COMPLETE', 'O_SELECTED_COMPLETE', 'O_CREATED_COMPLETE', 'O_SENT_COMPLETE', 'W_Nabellen offertes_COMPLETE', 'W_Nabellen offertes_COMPLETE', 'W_Nabellen offertes_COMPLETE', 'W_Nabellen offertes_COMPLETE', 'W_Nabellen offertes_COMPLETE', 'O_SENT_BACK_COMPLETE', 'W_Nabellen offertes_COMPLETE', 'W_Valideren aanvraag_COMPLETE', 'W_Nabellen incomplete dossiers_COMPLETE', 'W_Nabellen incomplete dossiers_COMPLETE', 'W_Nabellen incomplete dossiers_COMPLETE', 'W_Nabellen incomplete dossiers_COMPLETE', 'W_Nabellen incomplete dossiers_COMPLETE', 'W_Nabellen incomplete dossiers_COMPLETE', 'W_Nabellen incomplete dossiers_COMPLETE', 'W_Nabellen incomplete dossiers_COMPLETE', 'W_Nabellen incomplete dossiers_COMPLETE', 'W_Nabellen incomplete dossiers_COMPLETE', 'W_Nabellen incomplete dossiers_COMPLETE', 'W_Nabellen incomplete dossiers_COMPLETE', 'W_Nabellen incomplete dossiers_COMPLETE', 'W_Nabellen incomplete dossiers_COMPLETE', 'W_Nabellen incomplete dossiers_COMPLETE', 'W_Nabellen incomplete dossiers_COMPLETE', 'W_Nabellen incomplete dossiers_COMPLETE', 'W_Nabellen incomplete dossiers_COMPLETE', 'W_Nabellen incomplete dossiers_COMPLETE', 'W_Nabellen incomplete dossiers_COMPLETE', 'W_Nabellen incomplete dossiers_COMPLETE', 'W_Nabellen incomplete dossiers_COMPLETE', 'O_DECLINED_COMPLETE', 'A_DECLINED_COMPLETE', 'W_Valideren aanvraag_COMPLETE']]\n"
     ]
    }
   ],
   "source": [
    " print(\"========================================Trace========================================\")\n",
    " print(trainer.model.vocab.list_of_index_to_vocab_2d(example_activities))"
   ]
  },
  {
   "cell_type": "code",
   "execution_count": 8,
   "metadata": {},
   "outputs": [
    {
     "output_type": "stream",
     "name": "stdout",
     "text": [
      "========================================Trace after substraction========================================\n['<SOS>', 'A_SUBMITTED_COMPLETE', 'A_PARTLYSUBMITTED_COMPLETE', 'A_PREACCEPTED_COMPLETE']\n"
     ]
    }
   ],
   "source": [
    "example_idx_activities, example_idx_resources = remove_trail_steps(example_activities, example_resources, 50)\n",
    "example_vocab_activities = trainer.model.vocab.list_of_index_to_vocab_2d(example_idx_activities)[0]\n",
    "print(\"========================================Trace after substraction========================================\")\n",
    "print(example_vocab_activities)"
   ]
  },
  {
   "cell_type": "code",
   "execution_count": 9,
   "metadata": {},
   "outputs": [
    {
     "output_type": "stream",
     "name": "stdout",
     "text": [
      "\n",
      "========================================Predict result========================================\n",
      "| Predicted activity with highest probability (0.36) is \"W_Afhandelen leads_COMPLETE\" \n",
      "==============================================================================================\n",
      "\n",
      "\n",
      "\n",
      "<PAD>                                      0.000377\n",
      "<EOS>                                      0.005197\n",
      "<SOS>                                      0.001689\n",
      "A_ACCEPTED_COMPLETE                        0.113344\n",
      "A_ACTIVATED_COMPLETE                       0.001507\n",
      "A_APPROVED_COMPLETE                        0.000362\n",
      "A_CANCELLED_COMPLETE                       0.081236\n",
      "A_DECLINED_COMPLETE                        0.127201\n",
      "A_FINALIZED_COMPLETE                       0.003128\n",
      "A_PARTLYSUBMITTED_COMPLETE                 0.004422\n",
      "A_PREACCEPTED_COMPLETE                     0.050626\n",
      "A_REGISTERED_COMPLETE                      0.000840\n",
      "A_SUBMITTED_COMPLETE                       0.017736\n",
      "O_ACCEPTED_COMPLETE                        0.000727\n",
      "O_CANCELLED_COMPLETE                       0.000166\n",
      "O_CREATED_COMPLETE                         0.013158\n",
      "O_DECLINED_COMPLETE                        0.000213\n",
      "O_SELECTED_COMPLETE                        0.028422\n",
      "O_SENT_BACK_COMPLETE                       0.000866\n",
      "O_SENT_COMPLETE                            0.011630\n",
      "W_Afhandelen leads_COMPLETE                0.362581\n",
      "W_Beoordelen fraude_COMPLETE               0.008908\n",
      "W_Completeren aanvraag_COMPLETE            0.154157\n",
      "W_Nabellen incomplete dossiers_COMPLETE    0.007841\n",
      "W_Nabellen offertes_COMPLETE               0.001002\n",
      "W_Valideren aanvraag_COMPLETE              0.002665\n",
      "Name: 0, dtype: float64\n"
     ]
    }
   ],
   "source": [
    "##### Get model output\n",
    "example_activities_input = tf.constant(example_idx_activities)\n",
    "example_resources_input = tf.constant(example_idx_resources)\n",
    "example_amount_input = tf.constant(example_amount)\n",
    "\n",
    "predicted_df = print_model_prediction_result(trainer.model, example_activities_input, example_resources_input, example_amount_input)"
   ]
  },
  {
   "cell_type": "code",
   "execution_count": 10,
   "metadata": {},
   "outputs": [
    {
     "output_type": "execute_result",
     "data": {
      "text/plain": [
       "      <PAD>     <EOS>     <SOS>  A_ACCEPTED_COMPLETE  A_ACTIVATED_COMPLETE  \\\n",
       "0  0.000377  0.005197  0.001689             0.113344              0.001507   \n",
       "\n",
       "   A_APPROVED_COMPLETE  A_CANCELLED_COMPLETE  A_DECLINED_COMPLETE  \\\n",
       "0             0.000362              0.081236             0.127201   \n",
       "\n",
       "   A_FINALIZED_COMPLETE  A_PARTLYSUBMITTED_COMPLETE  ...  O_DECLINED_COMPLETE  \\\n",
       "0              0.003128                    0.004422  ...             0.000213   \n",
       "\n",
       "   O_SELECTED_COMPLETE  O_SENT_BACK_COMPLETE  O_SENT_COMPLETE  \\\n",
       "0             0.028422              0.000866          0.01163   \n",
       "\n",
       "   W_Afhandelen leads_COMPLETE  W_Beoordelen fraude_COMPLETE  \\\n",
       "0                     0.362581                      0.008908   \n",
       "\n",
       "   W_Completeren aanvraag_COMPLETE  W_Nabellen incomplete dossiers_COMPLETE  \\\n",
       "0                         0.154157                                 0.007841   \n",
       "\n",
       "   W_Nabellen offertes_COMPLETE  W_Valideren aanvraag_COMPLETE  \n",
       "0                      0.001002                       0.002665  \n",
       "\n",
       "[1 rows x 26 columns]"
      ],
      "text/html": "<div>\n<style scoped>\n    .dataframe tbody tr th:only-of-type {\n        vertical-align: middle;\n    }\n\n    .dataframe tbody tr th {\n        vertical-align: top;\n    }\n\n    .dataframe thead th {\n        text-align: right;\n    }\n</style>\n<table border=\"1\" class=\"dataframe\">\n  <thead>\n    <tr style=\"text-align: right;\">\n      <th></th>\n      <th>&lt;PAD&gt;</th>\n      <th>&lt;EOS&gt;</th>\n      <th>&lt;SOS&gt;</th>\n      <th>A_ACCEPTED_COMPLETE</th>\n      <th>A_ACTIVATED_COMPLETE</th>\n      <th>A_APPROVED_COMPLETE</th>\n      <th>A_CANCELLED_COMPLETE</th>\n      <th>A_DECLINED_COMPLETE</th>\n      <th>A_FINALIZED_COMPLETE</th>\n      <th>A_PARTLYSUBMITTED_COMPLETE</th>\n      <th>...</th>\n      <th>O_DECLINED_COMPLETE</th>\n      <th>O_SELECTED_COMPLETE</th>\n      <th>O_SENT_BACK_COMPLETE</th>\n      <th>O_SENT_COMPLETE</th>\n      <th>W_Afhandelen leads_COMPLETE</th>\n      <th>W_Beoordelen fraude_COMPLETE</th>\n      <th>W_Completeren aanvraag_COMPLETE</th>\n      <th>W_Nabellen incomplete dossiers_COMPLETE</th>\n      <th>W_Nabellen offertes_COMPLETE</th>\n      <th>W_Valideren aanvraag_COMPLETE</th>\n    </tr>\n  </thead>\n  <tbody>\n    <tr>\n      <th>0</th>\n      <td>0.000377</td>\n      <td>0.005197</td>\n      <td>0.001689</td>\n      <td>0.113344</td>\n      <td>0.001507</td>\n      <td>0.000362</td>\n      <td>0.081236</td>\n      <td>0.127201</td>\n      <td>0.003128</td>\n      <td>0.004422</td>\n      <td>...</td>\n      <td>0.000213</td>\n      <td>0.028422</td>\n      <td>0.000866</td>\n      <td>0.01163</td>\n      <td>0.362581</td>\n      <td>0.008908</td>\n      <td>0.154157</td>\n      <td>0.007841</td>\n      <td>0.001002</td>\n      <td>0.002665</td>\n    </tr>\n  </tbody>\n</table>\n<p>1 rows × 26 columns</p>\n</div>"
     },
     "metadata": {},
     "execution_count": 10
    }
   ],
   "source": [
    "predicted_df"
   ]
  },
  {
   "cell_type": "code",
   "execution_count": 11,
   "metadata": {},
   "outputs": [
    {
     "output_type": "stream",
     "name": "stdout",
     "text": [
      "\n",
      "==============================Example activities without tags==============================\n",
      "| ['A_SUBMITTED_COMPLETE', 'A_PARTLYSUBMITTED_COMPLETE', 'A_PREACCEPTED_COMPLETE'] \n",
      "===========================================================================================\n",
      "\n",
      "==============================Example resources without tags==============================\n",
      "| ['112', '112', '10863'] \n",
      "==========================================================================================\n",
      "\n",
      "=================================Amount=================================\n",
      "| [5800.0] \n",
      "========================================================================\n"
     ]
    }
   ],
   "source": [
    "no_need_tags = ['<EOS>', '<SOS>', '<PAD>']\n",
    "example_idx_activities_no_tag, example_idx_resources_no_tag =  remove_tags_for_query_instance(example_idx_activities, example_idx_resources, trainer.model.vocab.tags_idx(), [trainer.model.resources.index(tag) for tag in no_need_tags])\n",
    "\n",
    "example_vocab_trace_no_tag = trainer.model.vocab.list_of_index_to_vocab(example_idx_activities_no_tag)\n",
    "example_vocab_resource_no_tag = [trainer.model.resources[r]  for r in example_idx_resources_no_tag]\n",
    "\n",
    "example_trace_len_no_tag = len(example_vocab_trace_no_tag)\n",
    "#### Determine feature names for DiCE ####\n",
    "activity_feature_names = np.array([\"activity_step_%d\" % (i+1) for i in range(example_trace_len_no_tag)])\n",
    "resource_feature_names = np.array([\"resource_step_%d\" % (i+1) for i in range(example_trace_len_no_tag)])\n",
    "\n",
    "possible_activities = [ a for a in list(trainer.model.vocab.vocabs) if  not a in no_need_tags]\n",
    "possible_resources =  [ r for r in list(trainer.model.resources) if  not r in no_need_tags]\n",
    "\n",
    "possbile_amount = [min(trainer.dataset.df[\"amount\"]), max(trainer.dataset.df[\"amount\"])]\n",
    "\n",
    "\n",
    "\n",
    "print_big(example_vocab_trace_no_tag ,title=\"Example activities without tags\", num_marks = 30)\n",
    "print_big(example_vocab_resource_no_tag ,title=\"Example resources without tags\", num_marks = 30)\n",
    "print_big(example_amount, title=\"=================Amount=================\", num_marks=16)"
   ]
  },
  {
   "cell_type": "code",
   "execution_count": 12,
   "metadata": {},
   "outputs": [
    {
     "output_type": "stream",
     "name": "stdout",
     "text": [
      "\n====================Desired activity====================\n| A_DECLINED_COMPLETE \n========================================================\n"
     ]
    }
   ],
   "source": [
    "############ Setting up desired activity ############\n",
    "desired_activity = 'A_DECLINED_COMPLETE' # A_DECLINED_COMPLETE, A_APPROVED_COMPLETE\n",
    "print_big(desired_activity, \"Desired activity\")\n",
    "\n",
    "dice_binary_model = DiCEBinaryDefferentiable(\n",
    "    model=trainer.model,\n",
    "    vocab=trainer.model.vocab,\n",
    "    resources= trainer.model.resources,\n",
    "    desired=trainer.model.vocab.vocab_to_index(desired_activity),\n",
    "    trace_length = len(example_vocab_trace_no_tag),\n",
    "    sos_idx_activity=trainer.model.vocab.vocab_to_index(\"<SOS>\"),\n",
    "    sos_idx_resource= trainer.model.resources.index('<SOS>'),\n",
    "    amount_min = possbile_amount[0],\n",
    "    amount_max = possbile_amount[1],\n",
    "    possible_resources=possible_resources,\n",
    "    possible_activities=possible_activities \n",
    ")"
   ]
  },
  {
   "cell_type": "code",
   "execution_count": 13,
   "metadata": {},
   "outputs": [],
   "source": [
    "fake_df = generate_fake_df(5000, activity_feature_names, resource_feature_names, possible_activities, possible_resources, possbile_amount, example_trace_len_no_tag)\n",
    "d = dice_ml.Data(dataframe=fake_df, outcome_name=\"predicted\",continuous_features = ['amount'])\n",
    "m = dice_ml.Model(model=dice_binary_model, backend=\"TF2\")\n",
    "exp = dice_ml.Dice(d, m)"
   ]
  },
  {
   "cell_type": "code",
   "execution_count": 14,
   "metadata": {},
   "outputs": [],
   "source": [
    "### Prepare input df\n",
    "feature_names = activity_feature_names.tolist() + resource_feature_names.tolist() + ['amount']\n",
    "query_instance = [example_vocab_trace_no_tag + example_vocab_resource_no_tag + example_amount]\n",
    "example_df = pd.DataFrame(query_instance, columns= feature_names)"
   ]
  },
  {
   "cell_type": "code",
   "execution_count": 15,
   "metadata": {},
   "outputs": [
    {
     "output_type": "execute_result",
     "data": {
      "text/plain": [
       "        activity_step_1             activity_step_2         activity_step_3  \\\n",
       "0  A_SUBMITTED_COMPLETE  A_PARTLYSUBMITTED_COMPLETE  A_PREACCEPTED_COMPLETE   \n",
       "\n",
       "  resource_step_1 resource_step_2 resource_step_3  amount  \n",
       "0             112             112           10863  5800.0  "
      ],
      "text/html": "<div>\n<style scoped>\n    .dataframe tbody tr th:only-of-type {\n        vertical-align: middle;\n    }\n\n    .dataframe tbody tr th {\n        vertical-align: top;\n    }\n\n    .dataframe thead th {\n        text-align: right;\n    }\n</style>\n<table border=\"1\" class=\"dataframe\">\n  <thead>\n    <tr style=\"text-align: right;\">\n      <th></th>\n      <th>activity_step_1</th>\n      <th>activity_step_2</th>\n      <th>activity_step_3</th>\n      <th>resource_step_1</th>\n      <th>resource_step_2</th>\n      <th>resource_step_3</th>\n      <th>amount</th>\n    </tr>\n  </thead>\n  <tbody>\n    <tr>\n      <th>0</th>\n      <td>A_SUBMITTED_COMPLETE</td>\n      <td>A_PARTLYSUBMITTED_COMPLETE</td>\n      <td>A_PREACCEPTED_COMPLETE</td>\n      <td>112</td>\n      <td>112</td>\n      <td>10863</td>\n      <td>5800.0</td>\n    </tr>\n  </tbody>\n</table>\n</div>"
     },
     "metadata": {},
     "execution_count": 15
    }
   ],
   "source": [
    "example_df"
   ]
  },
  {
   "cell_type": "code",
   "execution_count": 16,
   "metadata": {
    "tags": []
   },
   "outputs": [
    {
     "output_type": "stream",
     "name": "stdout",
     "text": [
      "step 1,  loss=2.92522\n",
      "step 51,  loss=0.0152328\n",
      "step 101,  loss=0.0124241\n",
      "step 151,  loss=0.0112553\n",
      "step 201,  loss=0.0145335\n",
      "Diverse Counterfactuals found! total time taken: 00 min 24 sec\n"
     ]
    }
   ],
   "source": [
    "## Problem of weight propagation?\n",
    "dice_exp = exp.generate_counterfactuals(\n",
    "        example_df,\n",
    "        total_CFs=1,\n",
    "        verbose=True,\n",
    "        min_iter=100,\n",
    "        max_iter=5000,\n",
    "        features_to_vary=[\n",
    "            'amount',\n",
    "            *activity_feature_names.tolist(),\n",
    "            *resource_feature_names.tolist(),\n",
    "        ],\n",
    "        # desired_class=\"opposite\",\n",
    "        # yloss_type= \"log_loss\" # log_loss, hinge_loss, l2_loss\n",
    "        # algorithm = \"DiverseCF\", # DiverseCF, RandomInitCF\n",
    "        # proximity_weight=0.5, # 0.5,\n",
    "        # diversity_weight=1,# 1.0,\n",
    "        # init_near_query_instance=True,\n",
    "        # tie_random = True,\n",
    "        # categorical_penalty = 1,\n",
    "        # learning_rate=0.0005,\n",
    "    )"
   ]
  },
  {
   "cell_type": "code",
   "execution_count": 17,
   "metadata": {},
   "outputs": [
    {
     "output_type": "stream",
     "name": "stdout",
     "text": [
      "Query instance (original outcome : 0)\n"
     ]
    },
    {
     "output_type": "display_data",
     "data": {
      "text/plain": "        activity_step_1             activity_step_2         activity_step_3  \\\n0  A_SUBMITTED_COMPLETE  A_PARTLYSUBMITTED_COMPLETE  A_PREACCEPTED_COMPLETE   \n\n  resource_step_1 resource_step_2 resource_step_3  amount  predicted  \n0             112             112           10863  5800.0      0.127  ",
      "text/html": "<div>\n<style scoped>\n    .dataframe tbody tr th:only-of-type {\n        vertical-align: middle;\n    }\n\n    .dataframe tbody tr th {\n        vertical-align: top;\n    }\n\n    .dataframe thead th {\n        text-align: right;\n    }\n</style>\n<table border=\"1\" class=\"dataframe\">\n  <thead>\n    <tr style=\"text-align: right;\">\n      <th></th>\n      <th>activity_step_1</th>\n      <th>activity_step_2</th>\n      <th>activity_step_3</th>\n      <th>resource_step_1</th>\n      <th>resource_step_2</th>\n      <th>resource_step_3</th>\n      <th>amount</th>\n      <th>predicted</th>\n    </tr>\n  </thead>\n  <tbody>\n    <tr>\n      <th>0</th>\n      <td>A_SUBMITTED_COMPLETE</td>\n      <td>A_PARTLYSUBMITTED_COMPLETE</td>\n      <td>A_PREACCEPTED_COMPLETE</td>\n      <td>112</td>\n      <td>112</td>\n      <td>10863</td>\n      <td>5800.0</td>\n      <td>0.127</td>\n    </tr>\n  </tbody>\n</table>\n</div>"
     },
     "metadata": {}
    },
    {
     "output_type": "stream",
     "name": "stdout",
     "text": [
      "\nDiverse Counterfactual set without sparsity correction (new outcome:  1.0\n"
     ]
    },
    {
     "output_type": "display_data",
     "data": {
      "text/plain": "  activity_step_1 activity_step_2  activity_step_3 resource_step_1  \\\n0               -               -  O_SENT_COMPLETE           11254   \n\n  resource_step_2 resource_step_3 amount predicted  \n0               -           11029  246.0     0.733  ",
      "text/html": "<div>\n<style scoped>\n    .dataframe tbody tr th:only-of-type {\n        vertical-align: middle;\n    }\n\n    .dataframe tbody tr th {\n        vertical-align: top;\n    }\n\n    .dataframe thead th {\n        text-align: right;\n    }\n</style>\n<table border=\"1\" class=\"dataframe\">\n  <thead>\n    <tr style=\"text-align: right;\">\n      <th></th>\n      <th>activity_step_1</th>\n      <th>activity_step_2</th>\n      <th>activity_step_3</th>\n      <th>resource_step_1</th>\n      <th>resource_step_2</th>\n      <th>resource_step_3</th>\n      <th>amount</th>\n      <th>predicted</th>\n    </tr>\n  </thead>\n  <tbody>\n    <tr>\n      <th>0</th>\n      <td>-</td>\n      <td>-</td>\n      <td>O_SENT_COMPLETE</td>\n      <td>11254</td>\n      <td>-</td>\n      <td>11029</td>\n      <td>246.0</td>\n      <td>0.733</td>\n    </tr>\n  </tbody>\n</table>\n</div>"
     },
     "metadata": {}
    }
   ],
   "source": [
    "dice_exp.visualize_as_dataframe(show_only_changes=True, display_sparse_df=False)"
   ]
  },
  {
   "cell_type": "code",
   "execution_count": 18,
   "metadata": {},
   "outputs": [
    {
     "output_type": "stream",
     "name": "stdout",
     "text": [
      "\n==================================================Original==================================================\n| ['A_SUBMITTED_COMPLETE', 'A_PARTLYSUBMITTED_COMPLETE', 'A_PREACCEPTED_COMPLETE', '112', '112', '10863', 5800.0] \n============================================================================================================\n"
     ]
    }
   ],
   "source": [
    "######## Print the example trace ########\n",
    "print_big(list(example_df.iloc[0]), \"Original\", num_marks = 50)"
   ]
  },
  {
   "cell_type": "code",
   "execution_count": 19,
   "metadata": {},
   "outputs": [
    {
     "output_type": "stream",
     "name": "stdout",
     "text": [
      "\n==================================================Counterfactual==================================================\n| ['A_SUBMITTED_COMPLETE', 'A_PARTLYSUBMITTED_COMPLETE', 'O_SENT_COMPLETE', '11254', '112', '11029', 246.0] \n==================================================================================================================\n"
     ]
    }
   ],
   "source": [
    "######## Print the counterfactual trace ########\n",
    "if len(dice_exp.final_cfs_df) > 0:\n",
    "    print_big(list(dice_exp.final_cfs_df.iloc[0][:-1]), \"Counterfactual\", num_marks=50)\n",
    "else:\n",
    "    print_big(\"Not found!\", \"Counterfactual\")"
   ]
  },
  {
   "cell_type": "code",
   "execution_count": 20,
   "metadata": {},
   "outputs": [
    {
     "output_type": "stream",
     "name": "stdout",
     "text": [
      "All inputs are the same: False\n"
     ]
    }
   ],
   "source": [
    "########## Checking if all the permutation are the same (Shouldn't be) ##########\n",
    "all_cf_are_same = all([all((dice_binary_model.all_cf_input[1][:, 1:] == dice_binary_model.all_cf_input[i][:, 1:]).tolist()[0]) for i in range(len(dice_binary_model.all_cf_input))][1:])\n",
    "print(\"All inputs are the same: %s\" % (all_cf_are_same))"
   ]
  },
  {
   "cell_type": "code",
   "execution_count": 21,
   "metadata": {},
   "outputs": [
    {
     "output_type": "stream",
     "name": "stdout",
     "text": [
      "All trace and resource are the same: False\n"
     ]
    }
   ],
   "source": [
    "########## Checking if all the trace & resource (except amount) are the same (Shouldn't be) ##########\n",
    "all_trace_and_resource_are_same = all([all((dice_binary_model.all_cf_input[1][:, 1:] == dice_binary_model.all_cf_input[i][:, 1:]).tolist()[0]) for\n",
    " i in range(len(dice_binary_model.all_cf_input))][1:])\n",
    "print(\"All trace and resource are the same: %s\" % (all_trace_and_resource_are_same))"
   ]
  },
  {
   "cell_type": "code",
   "execution_count": 42,
   "metadata": {},
   "outputs": [],
   "source": [
    "input_cf = exp.cfs[0]"
   ]
  },
  {
   "cell_type": "code",
   "execution_count": 45,
   "metadata": {},
   "outputs": [
    {
     "output_type": "execute_result",
     "data": {
      "text/plain": [
       "[0]"
      ]
     },
     "metadata": {},
     "execution_count": 45
    }
   ],
   "source": [
    "# Continues feature index\n",
    "exp.encoded_continuous_feature_indexes"
   ]
  },
  {
   "cell_type": "code",
   "execution_count": 51,
   "metadata": {},
   "outputs": [],
   "source": [
    "first_cat = exp.encoded_categorical_feature_indexes[0]"
   ]
  },
  {
   "cell_type": "code",
   "execution_count": 58,
   "metadata": {},
   "outputs": [
    {
     "output_type": "execute_result",
     "data": {
      "text/plain": [
       "<tf.Tensor: shape=(23,), dtype=float32, numpy=\n",
       "array([0., 0., 0., 0., 0., 0., 0., 0., 0., 1., 0., 0., 0., 0., 0., 0., 0.,\n",
       "       0., 0., 0., 0., 0., 0.], dtype=float32)>"
      ]
     },
     "metadata": {},
     "execution_count": 58
    }
   ],
   "source": []
  },
  {
   "cell_type": "code",
   "execution_count": 66,
   "metadata": {},
   "outputs": [],
   "source": [
    "maxs = np.argwhere(input_cf[0][first_cat[0]:first_cat[-1]+1] == np.amax(input_cf[0, first_cat[0]:first_cat[-1]+1])).flatten().tolist()"
   ]
  },
  {
   "cell_type": "code",
   "execution_count": 67,
   "metadata": {},
   "outputs": [
    {
     "output_type": "error",
     "ename": "AttributeError",
     "evalue": "'list' object has no attribute 'first'",
     "traceback": [
      "\u001b[0;31m---------------------------------------------------------------------------\u001b[0m",
      "\u001b[0;31mAttributeError\u001b[0m                            Traceback (most recent call last)",
      "\u001b[0;32m<ipython-input-67-48c7fbaaea46>\u001b[0m in \u001b[0;36m<module>\u001b[0;34m\u001b[0m\n\u001b[0;32m----> 1\u001b[0;31m \u001b[0mmaxs\u001b[0m\u001b[0;34m.\u001b[0m\u001b[0mfirst\u001b[0m\u001b[0;34m\u001b[0m\u001b[0;34m\u001b[0m\u001b[0m\n\u001b[0m",
      "\u001b[0;31mAttributeError\u001b[0m: 'list' object has no attribute 'first'"
     ]
    }
   ],
   "source": []
  },
  {
   "cell_type": "code",
   "execution_count": null,
   "metadata": {},
   "outputs": [],
   "source": []
  },
  {
   "cell_type": "code",
   "execution_count": 50,
   "metadata": {},
   "outputs": [
    {
     "output_type": "execute_result",
     "data": {
      "text/plain": [
       "[1,\n",
       " 2,\n",
       " 3,\n",
       " 4,\n",
       " 5,\n",
       " 6,\n",
       " 7,\n",
       " 8,\n",
       " 9,\n",
       " 10,\n",
       " 11,\n",
       " 12,\n",
       " 13,\n",
       " 14,\n",
       " 15,\n",
       " 16,\n",
       " 17,\n",
       " 18,\n",
       " 19,\n",
       " 20,\n",
       " 21,\n",
       " 22,\n",
       " 23]"
      ]
     },
     "metadata": {},
     "execution_count": 50
    }
   ],
   "source": [
    "np.argwhere(cf[0, v[0]:v[-1]+1] == np.amax(cf[0, v[0]:v[-1]+1])).flatten().tolist()"
   ]
  },
  {
   "cell_type": "code",
   "execution_count": null,
   "metadata": {},
   "outputs": [],
   "source": []
  },
  {
   "cell_type": "code",
   "execution_count": null,
   "metadata": {},
   "outputs": [],
   "source": []
  },
  {
   "cell_type": "code",
   "execution_count": null,
   "metadata": {},
   "outputs": [],
   "source": []
  }
 ]
}