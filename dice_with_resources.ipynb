{
 "metadata": {
  "language_info": {
   "codemirror_mode": {
    "name": "ipython",
    "version": 3
   },
   "file_extension": ".py",
   "mimetype": "text/x-python",
   "name": "python",
   "nbconvert_exporter": "python",
   "pygments_lexer": "ipython3",
   "version": "3.8.10"
  },
  "orig_nbformat": 4,
  "kernelspec": {
   "name": "python3",
   "display_name": "Python 3.8.10 64-bit ('tf_mac': conda)"
  },
  "interpreter": {
   "hash": "5c622353f32ef24c8d83e5c3e334107c074e82d7c3e8ca52c56b9fc900ce33e6"
  }
 },
 "nbformat": 4,
 "nbformat_minor": 2,
 "cells": [
  {
   "cell_type": "code",
   "execution_count": 1,
   "metadata": {},
   "outputs": [
    {
     "output_type": "stream",
     "name": "stdout",
     "text": [
      "TF version:  2.4.0-rc0\nEager execution enabled:  True\n"
     ]
    }
   ],
   "source": [
    "from Controller import TrainingController, ExplainingController\n",
    "from Utils.SaveUtils import load_parameters\n",
    "from Parameters import TrainingParameters, PredictingParameters\n",
    "import tensorflow as tf\n",
    "from IPython.core.display import display, HTML\n",
    "import json\n",
    "import numpy as np\n",
    "import pandas as pd\n",
    "from Parameters.Enums import TracePermutationStrategies\n",
    "from Models import DiCEBinaryOutputModelWithResource\n",
    "from itertools import chain\n",
    "\n",
    "import dice_ml\n",
    "from dice_ml.utils import helpers\n",
    "\n",
    "print('TF version: ', tf.__version__)\n",
    "print('Eager execution enabled: ', tf.executing_eagerly()) # False\n",
    "seed = 123\n",
    "tf.random.set_seed(seed)\n",
    "np.random.seed(seed)"
   ]
  },
  {
   "cell_type": "code",
   "execution_count": 2,
   "metadata": {},
   "outputs": [],
   "source": [
    "folder_path = \"./SavedModels/%s\" % (\n",
    "    \"0.8264_BPI2012WithResource_BaselineLSTMWithResource_2021-06-18 06:11:10.009443\" # AOW\n",
    ")"
   ]
  },
  {
   "cell_type": "code",
   "execution_count": 3,
   "metadata": {},
   "outputs": [],
   "source": [
    "parameters_json = load_parameters(folder_path=folder_path)\n",
    "parameters = TrainingParameters(**parameters_json)\n",
    "tf.random.set_seed(parameters.dataset_split_seed)\n",
    "np.random.seed(parameters.dataset_split_seed)\n",
    "parameters.load_model_folder_path = folder_path\n",
    "predicting_parameters = PredictingParameters()\n",
    "predicting_parameters.load_model_folder_path = folder_path\n",
    " "
   ]
  },
  {
   "cell_type": "code",
   "execution_count": 4,
   "metadata": {},
   "outputs": [
    {
     "output_type": "stream",
     "name": "stdout",
     "text": [
      "\n",
      "=================================================\n",
      "| Running on /job:localhost/replica:0/task:0/device:CPU:0  \n",
      "=================================================\n",
      "\n",
      "=================================================\n",
      "| Preprocessed data loaded successfully: ./datasets/preprocessed/BPI_Challenge_2012_with_resource/AOW \n",
      "=================================================\n",
      "\n",
      "=================================================\n",
      "| Model loaded successfully from: ./SavedModels/0.8264_BPI2012WithResource_BaselineLSTMWithResource_2021-06-18 06:11:10.009443  \n",
      "=================================================\n"
     ]
    }
   ],
   "source": [
    "trainer = TrainingController(parameters = parameters)"
   ]
  },
  {
   "cell_type": "code",
   "execution_count": 5,
   "metadata": {},
   "outputs": [
    {
     "output_type": "stream",
     "name": "stdout",
     "text": [
      "\n",
      "=================================================\n",
      "| Running on /job:localhost/replica:0/task:0/device:CPU:0  \n",
      "=================================================\n",
      "\n",
      "=================================================\n",
      "| Model loaded successfully from: ./SavedModels/0.8264_BPI2012WithResource_BaselineLSTMWithResource_2021-06-18 06:11:10.009443  \n",
      "=================================================\n"
     ]
    }
   ],
   "source": [
    "explainer = ExplainingController(parameters=parameters, predicting_parameters= predicting_parameters)"
   ]
  },
  {
   "cell_type": "code",
   "execution_count": 6,
   "metadata": {},
   "outputs": [
    {
     "output_type": "stream",
     "name": "stdout",
     "text": [
      "Test set length: 1309\n"
     ]
    }
   ],
   "source": [
    "########### Get example data from trainer ###########\n",
    "ordered_test_idx = (list(trainer.test_dataset.unbatch().as_numpy_iterator()))\n",
    "ordered_test_idx.sort()\n",
    "print(\"Test set length: %d\" %(len(ordered_test_idx)))"
   ]
  },
  {
   "cell_type": "code",
   "execution_count": 7,
   "metadata": {},
   "outputs": [],
   "source": [
    "longest_fail_idx = None\n",
    "longest_fail_length = 0\n",
    "all_decline_idxs = []\n",
    "declined_idx = trainer.model.vocab.vocab_to_index('A_DECLINED_COMPLETE')\n",
    "for idx in ordered_test_idx:\n",
    "    caseids, example_data, example_lengths, example_resources, example_amount, _= trainer.dataset.collate_fn([idx])\n",
    "    if declined_idx in example_data[0]:\n",
    "        all_decline_idxs.append(idx)\n",
    "        if type(longest_fail_idx) == type(None):\n",
    "            longest_fail_idx = idx\n",
    "            longest_fail_length = example_data.shape[1]\n",
    "        else:\n",
    "            if example_data.shape[1] > longest_fail_length:\n",
    "                longest_fail_idx = idx\n",
    "                longest_fail_length = example_data.shape[1]"
   ]
  },
  {
   "cell_type": "code",
   "execution_count": 8,
   "metadata": {},
   "outputs": [],
   "source": [
    "caseids, example_data, example_lengths, example_resources, example_amount, _ = trainer.dataset.collate_fn([8464])"
   ]
  },
  {
   "cell_type": "code",
   "execution_count": 9,
   "metadata": {},
   "outputs": [
    {
     "output_type": "execute_result",
     "data": {
      "text/plain": [
       "(1, 54)"
      ]
     },
     "metadata": {},
     "execution_count": 9
    }
   ],
   "source": [
    "example_data.shape"
   ]
  },
  {
   "cell_type": "code",
   "execution_count": 10,
   "metadata": {},
   "outputs": [
    {
     "output_type": "execute_result",
     "data": {
      "text/plain": [
       "[['<SOS>',\n",
       "  'A_SUBMITTED_COMPLETE',\n",
       "  'A_PARTLYSUBMITTED_COMPLETE',\n",
       "  'A_PREACCEPTED_COMPLETE',\n",
       "  'W_Afhandelen leads_COMPLETE',\n",
       "  'W_Completeren aanvraag_COMPLETE',\n",
       "  'A_ACCEPTED_COMPLETE',\n",
       "  'O_SELECTED_COMPLETE',\n",
       "  'A_FINALIZED_COMPLETE',\n",
       "  'O_CREATED_COMPLETE',\n",
       "  'O_SENT_COMPLETE',\n",
       "  'W_Completeren aanvraag_COMPLETE',\n",
       "  'O_SELECTED_COMPLETE',\n",
       "  'O_CANCELLED_COMPLETE',\n",
       "  'O_CREATED_COMPLETE',\n",
       "  'O_SENT_COMPLETE',\n",
       "  'W_Nabellen offertes_COMPLETE',\n",
       "  'O_CANCELLED_COMPLETE',\n",
       "  'O_SELECTED_COMPLETE',\n",
       "  'O_CREATED_COMPLETE',\n",
       "  'O_SENT_COMPLETE',\n",
       "  'W_Nabellen offertes_COMPLETE',\n",
       "  'W_Nabellen offertes_COMPLETE',\n",
       "  'W_Nabellen offertes_COMPLETE',\n",
       "  'W_Nabellen offertes_COMPLETE',\n",
       "  'W_Nabellen offertes_COMPLETE',\n",
       "  'O_SENT_BACK_COMPLETE',\n",
       "  'W_Nabellen offertes_COMPLETE',\n",
       "  'W_Valideren aanvraag_COMPLETE',\n",
       "  'W_Nabellen incomplete dossiers_COMPLETE',\n",
       "  'W_Nabellen incomplete dossiers_COMPLETE',\n",
       "  'W_Nabellen incomplete dossiers_COMPLETE',\n",
       "  'W_Nabellen incomplete dossiers_COMPLETE',\n",
       "  'W_Nabellen incomplete dossiers_COMPLETE',\n",
       "  'W_Nabellen incomplete dossiers_COMPLETE',\n",
       "  'W_Nabellen incomplete dossiers_COMPLETE',\n",
       "  'W_Nabellen incomplete dossiers_COMPLETE',\n",
       "  'W_Nabellen incomplete dossiers_COMPLETE',\n",
       "  'W_Nabellen incomplete dossiers_COMPLETE',\n",
       "  'W_Nabellen incomplete dossiers_COMPLETE',\n",
       "  'W_Nabellen incomplete dossiers_COMPLETE',\n",
       "  'W_Nabellen incomplete dossiers_COMPLETE',\n",
       "  'W_Nabellen incomplete dossiers_COMPLETE',\n",
       "  'W_Nabellen incomplete dossiers_COMPLETE',\n",
       "  'W_Nabellen incomplete dossiers_COMPLETE',\n",
       "  'W_Nabellen incomplete dossiers_COMPLETE',\n",
       "  'W_Nabellen incomplete dossiers_COMPLETE',\n",
       "  'W_Nabellen incomplete dossiers_COMPLETE',\n",
       "  'W_Nabellen incomplete dossiers_COMPLETE',\n",
       "  'W_Nabellen incomplete dossiers_COMPLETE',\n",
       "  'W_Nabellen incomplete dossiers_COMPLETE',\n",
       "  'O_DECLINED_COMPLETE',\n",
       "  'A_DECLINED_COMPLETE',\n",
       "  'W_Valideren aanvraag_COMPLETE']]"
      ]
     },
     "metadata": {},
     "execution_count": 10
    }
   ],
   "source": [
    "explainer.vocab.list_of_index_to_vocab_2d(example_data)"
   ]
  },
  {
   "cell_type": "code",
   "execution_count": 11,
   "metadata": {},
   "outputs": [],
   "source": [
    "remove_trail_steps = 2\n",
    "example_idx_trace = np.array([example_data[0][:-remove_trail_steps]])\n",
    "example_idx_resources = np.array([example_resources[0][:-remove_trail_steps]])\n",
    "example_vocab_trace = trainer.model.vocab.list_of_index_to_vocab_2d(example_idx_trace)[0]"
   ]
  },
  {
   "cell_type": "code",
   "execution_count": 12,
   "metadata": {},
   "outputs": [],
   "source": [
    "example_input = tf.constant(example_idx_trace)\n",
    "example_resources_input = tf.constant(example_idx_resources)\n",
    "example_amount_input = tf.constant(example_amount)"
   ]
  },
  {
   "cell_type": "code",
   "execution_count": 13,
   "metadata": {},
   "outputs": [],
   "source": [
    "out, _ = explainer.model(example_input, input_resources = example_resources_input, amount = example_amount_input)"
   ]
  },
  {
   "cell_type": "code",
   "execution_count": 14,
   "metadata": {},
   "outputs": [
    {
     "output_type": "stream",
     "name": "stdout",
     "text": [
      "Predicted activity with highest probability (1.00) is \"A_DECLINED_COMPLETE\"\n"
     ]
    },
    {
     "output_type": "display_data",
     "data": {
      "text/plain": "          <PAD>         <EOS>         <SOS>  A_ACCEPTED_COMPLETE  \\\n0  3.966854e-09  6.010553e-08  1.303227e-07             0.000144   \n\n   A_ACTIVATED_COMPLETE  A_APPROVED_COMPLETE  A_CANCELLED_COMPLETE  \\\n0              0.000048             0.000111              0.001052   \n\n   A_DECLINED_COMPLETE  A_FINALIZED_COMPLETE  A_PARTLYSUBMITTED_COMPLETE  ...  \\\n0             0.997226          1.358930e-07                1.647052e-09  ...   \n\n   O_DECLINED_COMPLETE  O_SELECTED_COMPLETE  O_SENT_BACK_COMPLETE  \\\n0         9.847422e-10             0.000034              0.000003   \n\n   O_SENT_COMPLETE  W_Afhandelen leads_COMPLETE  W_Beoordelen fraude_COMPLETE  \\\n0     1.512201e-10                      0.00021                      0.000006   \n\n   W_Completeren aanvraag_COMPLETE  W_Nabellen incomplete dossiers_COMPLETE  \\\n0                         0.000151                                 0.000177   \n\n   W_Nabellen offertes_COMPLETE  W_Valideren aanvraag_COMPLETE  \n0                      0.000001                       0.000025  \n\n[1 rows x 26 columns]",
      "text/html": "<div>\n<style scoped>\n    .dataframe tbody tr th:only-of-type {\n        vertical-align: middle;\n    }\n\n    .dataframe tbody tr th {\n        vertical-align: top;\n    }\n\n    .dataframe thead th {\n        text-align: right;\n    }\n</style>\n<table border=\"1\" class=\"dataframe\">\n  <thead>\n    <tr style=\"text-align: right;\">\n      <th></th>\n      <th>&lt;PAD&gt;</th>\n      <th>&lt;EOS&gt;</th>\n      <th>&lt;SOS&gt;</th>\n      <th>A_ACCEPTED_COMPLETE</th>\n      <th>A_ACTIVATED_COMPLETE</th>\n      <th>A_APPROVED_COMPLETE</th>\n      <th>A_CANCELLED_COMPLETE</th>\n      <th>A_DECLINED_COMPLETE</th>\n      <th>A_FINALIZED_COMPLETE</th>\n      <th>A_PARTLYSUBMITTED_COMPLETE</th>\n      <th>...</th>\n      <th>O_DECLINED_COMPLETE</th>\n      <th>O_SELECTED_COMPLETE</th>\n      <th>O_SENT_BACK_COMPLETE</th>\n      <th>O_SENT_COMPLETE</th>\n      <th>W_Afhandelen leads_COMPLETE</th>\n      <th>W_Beoordelen fraude_COMPLETE</th>\n      <th>W_Completeren aanvraag_COMPLETE</th>\n      <th>W_Nabellen incomplete dossiers_COMPLETE</th>\n      <th>W_Nabellen offertes_COMPLETE</th>\n      <th>W_Valideren aanvraag_COMPLETE</th>\n    </tr>\n  </thead>\n  <tbody>\n    <tr>\n      <th>0</th>\n      <td>3.966854e-09</td>\n      <td>6.010553e-08</td>\n      <td>1.303227e-07</td>\n      <td>0.000144</td>\n      <td>0.000048</td>\n      <td>0.000111</td>\n      <td>0.001052</td>\n      <td>0.997226</td>\n      <td>1.358930e-07</td>\n      <td>1.647052e-09</td>\n      <td>...</td>\n      <td>9.847422e-10</td>\n      <td>0.000034</td>\n      <td>0.000003</td>\n      <td>1.512201e-10</td>\n      <td>0.00021</td>\n      <td>0.000006</td>\n      <td>0.000151</td>\n      <td>0.000177</td>\n      <td>0.000001</td>\n      <td>0.000025</td>\n    </tr>\n  </tbody>\n</table>\n<p>1 rows × 26 columns</p>\n</div>"
     },
     "metadata": {}
    },
    {
     "output_type": "stream",
     "name": "stdout",
     "text": [
      "<PAD>                                      3.966854e-09\n<EOS>                                      6.010553e-08\n<SOS>                                      1.303227e-07\nA_ACCEPTED_COMPLETE                        1.441261e-04\nA_ACTIVATED_COMPLETE                       4.792645e-05\nA_APPROVED_COMPLETE                        1.108822e-04\nA_CANCELLED_COMPLETE                       1.052391e-03\nA_DECLINED_COMPLETE                        9.972256e-01\nA_FINALIZED_COMPLETE                       1.358930e-07\nA_PARTLYSUBMITTED_COMPLETE                 1.647052e-09\nA_PREACCEPTED_COMPLETE                     6.247066e-04\nA_REGISTERED_COMPLETE                      1.890604e-05\nA_SUBMITTED_COMPLETE                       1.207367e-07\nO_ACCEPTED_COMPLETE                        1.657744e-04\nO_CANCELLED_COMPLETE                       1.054919e-06\nO_CREATED_COMPLETE                         1.086533e-07\nO_DECLINED_COMPLETE                        9.847422e-10\nO_SELECTED_COMPLETE                        3.429470e-05\nO_SENT_BACK_COMPLETE                       3.154858e-06\nO_SENT_COMPLETE                            1.512201e-10\nW_Afhandelen leads_COMPLETE                2.101210e-04\nW_Beoordelen fraude_COMPLETE               6.225002e-06\nW_Completeren aanvraag_COMPLETE            1.507175e-04\nW_Nabellen incomplete dossiers_COMPLETE    1.768995e-04\nW_Nabellen offertes_COMPLETE               1.308913e-06\nW_Valideren aanvraag_COMPLETE              2.533297e-05\nName: 0, dtype: float64\n"
     ]
    }
   ],
   "source": [
    "predicted_vocab_distributions = tf.gather(out, len(example_vocab_trace)-1, axis=1)\n",
    "predicted_vocab_distributions_df = pd.DataFrame(predicted_vocab_distributions.numpy().tolist(),columns=explainer.model.vocab.vocabs)\n",
    "max_arg = tf.math.argmax(predicted_vocab_distributions, axis=-1).numpy()[0]\n",
    "max_prob_vocab = explainer.model.vocab.index_to_vocab(max_arg)\n",
    "print(\"Predicted activity with highest probability (%.2f) is \\\"%s\\\"\" % (predicted_vocab_distributions[0][max_arg].numpy(), max_prob_vocab))\n",
    "display(predicted_vocab_distributions_df)\n",
    "print(predicted_vocab_distributions_df.iloc[0])"
   ]
  },
  {
   "cell_type": "code",
   "execution_count": 15,
   "metadata": {},
   "outputs": [],
   "source": [
    "indexes_to_remove_from_resource = [explainer.resources.index('<PAD>'), explainer.resources.index('<SOS>'),explainer.resources.index('<EOS>')]"
   ]
  },
  {
   "cell_type": "code",
   "execution_count": 16,
   "metadata": {},
   "outputs": [
    {
     "output_type": "stream",
     "name": "stdout",
     "text": [
      "=============Example activities without tags=============\n['A_SUBMITTED_COMPLETE', 'A_PARTLYSUBMITTED_COMPLETE', 'A_PREACCEPTED_COMPLETE', 'W_Afhandelen leads_COMPLETE', 'W_Completeren aanvraag_COMPLETE', 'A_ACCEPTED_COMPLETE', 'O_SELECTED_COMPLETE', 'A_FINALIZED_COMPLETE', 'O_CREATED_COMPLETE', 'O_SENT_COMPLETE', 'W_Completeren aanvraag_COMPLETE', 'O_SELECTED_COMPLETE', 'O_CANCELLED_COMPLETE', 'O_CREATED_COMPLETE', 'O_SENT_COMPLETE', 'W_Nabellen offertes_COMPLETE', 'O_CANCELLED_COMPLETE', 'O_SELECTED_COMPLETE', 'O_CREATED_COMPLETE', 'O_SENT_COMPLETE', 'W_Nabellen offertes_COMPLETE', 'W_Nabellen offertes_COMPLETE', 'W_Nabellen offertes_COMPLETE', 'W_Nabellen offertes_COMPLETE', 'W_Nabellen offertes_COMPLETE', 'O_SENT_BACK_COMPLETE', 'W_Nabellen offertes_COMPLETE', 'W_Valideren aanvraag_COMPLETE', 'W_Nabellen incomplete dossiers_COMPLETE', 'W_Nabellen incomplete dossiers_COMPLETE', 'W_Nabellen incomplete dossiers_COMPLETE', 'W_Nabellen incomplete dossiers_COMPLETE', 'W_Nabellen incomplete dossiers_COMPLETE', 'W_Nabellen incomplete dossiers_COMPLETE', 'W_Nabellen incomplete dossiers_COMPLETE', 'W_Nabellen incomplete dossiers_COMPLETE', 'W_Nabellen incomplete dossiers_COMPLETE', 'W_Nabellen incomplete dossiers_COMPLETE', 'W_Nabellen incomplete dossiers_COMPLETE', 'W_Nabellen incomplete dossiers_COMPLETE', 'W_Nabellen incomplete dossiers_COMPLETE', 'W_Nabellen incomplete dossiers_COMPLETE', 'W_Nabellen incomplete dossiers_COMPLETE', 'W_Nabellen incomplete dossiers_COMPLETE', 'W_Nabellen incomplete dossiers_COMPLETE', 'W_Nabellen incomplete dossiers_COMPLETE', 'W_Nabellen incomplete dossiers_COMPLETE', 'W_Nabellen incomplete dossiers_COMPLETE', 'W_Nabellen incomplete dossiers_COMPLETE', 'W_Nabellen incomplete dossiers_COMPLETE', 'O_DECLINED_COMPLETE']\n=============Example resources without tags=============\n['112', '112', '10863', '10863', '11169', '11003', '11003', '11003', '11003', '11003', '11003', '11003', '11003', '11003', '11003', '11003', '11003', '11003', '11003', '11003', '11003', '11003', '10913', '11180', '11000', '10899', '10899', '10899', '10899', '11121', '11000', '10861', '10909', '10909', '10913', '11002', '11002', '11179', '11009', '11259', '11181', '11181', '11181', '11000', '11169', '11122', '10982', '11003', '11003', '11049', '10972']\n=================Amount=================\n[5800.0]\n"
     ]
    }
   ],
   "source": [
    "example_idx_trace_without_tags = [ i for i in  example_idx_trace[0] if not i in explainer.vocab.tags_idx()]\n",
    "example_vocab_trace_without_tags = explainer.model.vocab.list_of_index_to_vocab(example_idx_trace_without_tags)\n",
    "\n",
    "example_idx_resources_without_tags = [ i for i in  example_idx_resources[0] if not i in indexes_to_remove_from_resource ]\n",
    "\n",
    "example_vocab_resource_without_tags = [\n",
    "   explainer.resources[r]  for r in example_idx_resources_without_tags\n",
    "]\n",
    "\n",
    "print(\"=============Example activities without tags=============\")\n",
    "print(example_vocab_trace_without_tags)\n",
    "\n",
    "print(\"=============Example resources without tags=============\")\n",
    "print(example_vocab_resource_without_tags)\n",
    "\n",
    "print(\"=================Amount=================\")\n",
    "print(example_amount)"
   ]
  },
  {
   "cell_type": "code",
   "execution_count": 17,
   "metadata": {},
   "outputs": [],
   "source": [
    "activity_feature_names = np.array([\"step_%d_activity\" % (i+1) for i in range(len(example_vocab_trace_without_tags))])\n",
    "without_tags_vocabs = [ v for v in explainer.vocab.vocabs if not \"<\" in v]\n",
    "activity_cat_vars_without_tag = {}\n",
    "for k in activity_feature_names:\n",
    "    activity_cat_vars_without_tag[k] = without_tags_vocabs\n",
    "\n",
    "resource_feature_names = np.array([\"step_%d_resource\" % (i+1) for i in range(len(example_vocab_trace_without_tags))])\n",
    "without_tags_resources = [r for r in explainer.resources if not \"<\" in r ]\n",
    "resources_cat_vars_without_tag = {}\n",
    "for k in resource_feature_names:\n",
    "    resources_cat_vars_without_tag[k] = without_tags_resources"
   ]
  },
  {
   "cell_type": "code",
   "execution_count": 18,
   "metadata": {},
   "outputs": [
    {
     "output_type": "stream",
     "name": "stdout",
     "text": [
      "Desired activity is \"A_APPROVED_COMPLETE\"\n"
     ]
    }
   ],
   "source": [
    "############ Setting up desired activity ############\n",
    "desired_activity = 'A_APPROVED_COMPLETE' # A_DECLINED_COMPLETE, A_APPROVED_COMPLETE\n",
    "print(\"Desired activity is \\\"%s\\\"\" %(desired_activity))"
   ]
  },
  {
   "cell_type": "code",
   "execution_count": 19,
   "metadata": {},
   "outputs": [],
   "source": [
    "all_features_and_range = {**activity_cat_vars_without_tag, **resources_cat_vars_without_tag,\"amount\": [0, 99999.0]}"
   ]
  },
  {
   "cell_type": "code",
   "execution_count": 20,
   "metadata": {},
   "outputs": [],
   "source": [
    "dice_binary_model = DiCEBinaryOutputModelWithResource(explainer.model, explainer.vocab, desired=explainer.vocab.vocab_to_index(desired_activity),trace_length = len(example_vocab_trace_without_tags), without_tags_vocabs = without_tags_vocabs, without_tags_resources=without_tags_resources, resources= explainer.resources, sos_idx_activity=explainer.vocab.vocab_to_index(\"<SOS>\"), sos_idx_resource= explainer.resources.index('<SOS>'), amount_min = all_features_and_range['amount'][0], amount_max = all_features_and_range['amount'][1])"
   ]
  },
  {
   "cell_type": "code",
   "execution_count": 21,
   "metadata": {},
   "outputs": [],
   "source": [
    "d = dice_ml.Data(features=all_features_and_range, outcome_name=\"predicted\",continuous_features = ['amount'])\n",
    "m = dice_ml.Model(model=dice_binary_model, backend=\"TF2\")\n",
    "exp = dice_ml.Dice(d, m)"
   ]
  },
  {
   "cell_type": "code",
   "execution_count": 22,
   "metadata": {},
   "outputs": [],
   "source": [
    "feature_names = activity_feature_names.tolist() + resource_feature_names.tolist() + ['amount']"
   ]
  },
  {
   "cell_type": "code",
   "execution_count": 23,
   "metadata": {},
   "outputs": [],
   "source": [
    "query_instance = [example_vocab_trace_without_tags + example_vocab_resource_without_tags + example_amount]\n",
    "example_df = pd.DataFrame(query_instance, columns= feature_names)"
   ]
  },
  {
   "cell_type": "code",
   "execution_count": 25,
   "metadata": {
    "tags": []
   },
   "outputs": [
    {
     "output_type": "stream",
     "name": "stderr",
     "text": [
      "INFO:root: MAD is not given for feature amount, so using 1.0 as MAD instead.\n",
      "step 1,  loss=6469.06\n",
      "step 51,  loss=0.544609\n",
      "step 101,  loss=0.0280896\n",
      "Diverse Counterfactuals found! total time taken: 02 min 18 sec\n"
     ]
    }
   ],
   "source": [
    "dice_exp = exp.generate_counterfactuals(\n",
    "        example_df,\n",
    "        total_CFs=1,\n",
    "        verbose=True,\n",
    "        min_iter=100,\n",
    "        max_iter=3000,\n",
    "        desired_class=\"opposite\",\n",
    "        features_to_vary=\"all\",\n",
    "        algorithm = \"RandomInitCF\", # DiverseCF, RandomInitCF\n",
    "        # proximity_weight=0.1, #0.5,\n",
    "        # diversity_weight=50000,#1.0,\n",
    "        # init_near_query_instance=True,\n",
    "        # tie_random = True,\n",
    "        # categorical_penalty = 1,\n",
    "        # learning_rate=0.0005,\n",
    "    )"
   ]
  },
  {
   "cell_type": "code",
   "execution_count": 33,
   "metadata": {},
   "outputs": [
    {
     "output_type": "stream",
     "name": "stdout",
     "text": [
      "[['W_Nabellen offertes_COMPLETE', 'A_SUBMITTED_COMPLETE'], ['A_PARTLYSUBMITTED_COMPLETE', 'A_PREACCEPTED_COMPLETE', 'A_SUBMITTED_COMPLETE'], ['A_PREACCEPTED_COMPLETE', 'O_SENT_COMPLETE'], ['O_SELECTED_COMPLETE', 'W_Afhandelen leads_COMPLETE', 'O_ACCEPTED_COMPLETE'], ['A_PREACCEPTED_COMPLETE', 'W_Completeren aanvraag_COMPLETE', 'O_CANCELLED_COMPLETE'], ['O_SELECTED_COMPLETE', 'A_ACCEPTED_COMPLETE', 'A_SUBMITTED_COMPLETE'], ['O_SELECTED_COMPLETE', 'O_CANCELLED_COMPLETE', 'W_Valideren aanvraag_COMPLETE'], ['A_FINALIZED_COMPLETE', 'A_CANCELLED_COMPLETE', 'O_CANCELLED_COMPLETE'], ['O_DECLINED_COMPLETE', 'O_CANCELLED_COMPLETE', 'O_CREATED_COMPLETE'], ['O_DECLINED_COMPLETE', 'O_SENT_COMPLETE', 'O_ACCEPTED_COMPLETE'], ['A_SUBMITTED_COMPLETE', 'W_Afhandelen leads_COMPLETE', 'W_Completeren aanvraag_COMPLETE'], ['O_DECLINED_COMPLETE', 'O_SELECTED_COMPLETE', 'A_REGISTERED_COMPLETE'], ['A_ACCEPTED_COMPLETE', 'A_SUBMITTED_COMPLETE', 'O_CANCELLED_COMPLETE'], ['O_SENT_COMPLETE', 'O_ACCEPTED_COMPLETE', 'O_CREATED_COMPLETE'], ['O_SENT_COMPLETE', 'A_REGISTERED_COMPLETE'], ['W_Nabellen offertes_COMPLETE', 'A_PARTLYSUBMITTED_COMPLETE', 'A_ACTIVATED_COMPLETE'], ['A_PREACCEPTED_COMPLETE', 'A_ACCEPTED_COMPLETE', 'O_CANCELLED_COMPLETE'], ['O_SELECTED_COMPLETE', 'A_PREACCEPTED_COMPLETE', 'W_Completeren aanvraag_COMPLETE'], ['O_SENT_COMPLETE', 'A_APPROVED_COMPLETE', 'O_CREATED_COMPLETE'], ['A_FINALIZED_COMPLETE', 'O_SENT_COMPLETE', 'O_CREATED_COMPLETE'], ['W_Nabellen offertes_COMPLETE', 'W_Valideren aanvraag_COMPLETE', 'A_DECLINED_COMPLETE'], ['W_Nabellen offertes_COMPLETE', 'A_PARTLYSUBMITTED_COMPLETE', 'W_Completeren aanvraag_COMPLETE'], ['W_Nabellen offertes_COMPLETE', 'W_Valideren aanvraag_COMPLETE', 'O_DECLINED_COMPLETE'], ['W_Nabellen offertes_COMPLETE', 'A_ACTIVATED_COMPLETE'], ['W_Nabellen offertes_COMPLETE', 'W_Valideren aanvraag_COMPLETE', 'A_REGISTERED_COMPLETE'], ['O_DECLINED_COMPLETE', 'O_SENT_BACK_COMPLETE', 'W_Afhandelen leads_COMPLETE'], ['W_Nabellen offertes_COMPLETE', 'A_SUBMITTED_COMPLETE', 'A_DECLINED_COMPLETE'], ['W_Valideren aanvraag_COMPLETE', 'A_REGISTERED_COMPLETE', 'O_CREATED_COMPLETE'], ['O_SENT_COMPLETE', 'A_SUBMITTED_COMPLETE', 'W_Nabellen incomplete dossiers_COMPLETE'], ['A_REGISTERED_COMPLETE', 'W_Beoordelen fraude_COMPLETE', 'W_Nabellen incomplete dossiers_COMPLETE'], ['O_SELECTED_COMPLETE', 'W_Completeren aanvraag_COMPLETE', 'W_Nabellen incomplete dossiers_COMPLETE'], ['O_SELECTED_COMPLETE', 'A_ACCEPTED_COMPLETE', 'W_Nabellen incomplete dossiers_COMPLETE'], ['W_Nabellen offertes_COMPLETE', 'O_CANCELLED_COMPLETE', 'W_Nabellen incomplete dossiers_COMPLETE'], ['A_ACTIVATED_COMPLETE', 'W_Nabellen incomplete dossiers_COMPLETE'], ['O_SELECTED_COMPLETE', 'A_CANCELLED_COMPLETE', 'W_Nabellen incomplete dossiers_COMPLETE'], ['A_REGISTERED_COMPLETE', 'W_Afhandelen leads_COMPLETE', 'W_Nabellen incomplete dossiers_COMPLETE'], ['A_PREACCEPTED_COMPLETE', 'A_CANCELLED_COMPLETE', 'W_Nabellen incomplete dossiers_COMPLETE'], ['A_ACCEPTED_COMPLETE', 'A_REGISTERED_COMPLETE', 'W_Nabellen incomplete dossiers_COMPLETE'], ['O_CREATED_COMPLETE', 'W_Nabellen incomplete dossiers_COMPLETE'], ['A_PARTLYSUBMITTED_COMPLETE', 'W_Nabellen incomplete dossiers_COMPLETE'], ['W_Afhandelen leads_COMPLETE', 'A_ACTIVATED_COMPLETE', 'W_Nabellen incomplete dossiers_COMPLETE'], ['O_SENT_COMPLETE', 'W_Nabellen incomplete dossiers_COMPLETE'], ['A_PREACCEPTED_COMPLETE', 'A_ACCEPTED_COMPLETE', 'W_Nabellen incomplete dossiers_COMPLETE'], ['A_REGISTERED_COMPLETE', 'O_ACCEPTED_COMPLETE', 'W_Nabellen incomplete dossiers_COMPLETE'], ['O_SENT_BACK_COMPLETE', 'O_SENT_COMPLETE', 'W_Nabellen incomplete dossiers_COMPLETE'], ['O_SENT_BACK_COMPLETE', 'O_CREATED_COMPLETE', 'W_Nabellen incomplete dossiers_COMPLETE'], ['W_Valideren aanvraag_COMPLETE', 'W_Nabellen incomplete dossiers_COMPLETE'], ['O_SENT_BACK_COMPLETE', 'A_PREACCEPTED_COMPLETE', 'W_Nabellen incomplete dossiers_COMPLETE'], ['A_ACCEPTED_COMPLETE', 'W_Nabellen incomplete dossiers_COMPLETE'], ['O_SENT_COMPLETE', 'A_SUBMITTED_COMPLETE', 'W_Nabellen incomplete dossiers_COMPLETE'], ['O_DECLINED_COMPLETE', 'A_PREACCEPTED_COMPLETE', 'W_Completeren aanvraag_COMPLETE']]\n"
     ]
    }
   ],
   "source": [
    "#### Check what permutations are fed into the model. ####\n",
    "all_received_activities = []\n",
    "for i in range(len(example_vocab_trace_without_tags)):\n",
    "    trace = explainer.model.vocab.list_of_index_to_vocab(list(set((np.squeeze(np.array(dice_binary_model.all_trace))[:, i]).tolist())))\n",
    "    all_received_activities.append(trace)\n",
    "print(all_received_activities)"
   ]
  },
  {
   "cell_type": "code",
   "execution_count": 34,
   "metadata": {},
   "outputs": [
    {
     "output_type": "stream",
     "name": "stdout",
     "text": [
      "[['10138', '11269', '112'], ['112', '10861', '11299'], ['10880', '10779', '10863'], ['10809', '11181', '10863'], ['11169', '11269', '11002'], ['11202', '11003', '11122'], ['10880', '10861', '11003'], ['10779', '10125', '11003'], ['10982', '11079', '11003'], ['10931', '11003', '10629'], ['11203', '11180', '11003'], ['10972', '11304', '11003'], ['10914', '11309', '11003'], ['10982', '11003', '11120'], ['10809', '11003', '10629'], ['10929', '11079', '11003'], ['10124', '11003', '10910', '11299'], ['11119', '11003', '11019'], ['10914', '10124', '11269', '11003'], ['10779', '10124', '11079', '11003'], ['112', '11111', '11003'], ['10932', '10859', '11003'], ['10138', '11120', '10913'], ['11180', '10138', '10935'], ['11304', '11203', '11000'], ['11203', '10899', '10912'], ['10899', '112', '11201'], ['10899', '11269'], ['10880', '11202', '10899'], ['10933', '112', '11121'], ['11000', '11189', '11019'], ['11179', '11181', '10861'], ['10125', '10909', '10228'], ['11049', '10909', '10609'], ['11304', '10931', '10913'], ['10124', '11002', '10939', '11300'], ['11181', '11002', '10910'], ['11179', '10931'], ['10929', '11119', '11009'], ['11302', '11259', '10939'], ['10779', '11111', '11181'], ['11181', '10138', '10909', '10124'], ['10929', '11181', '11189', '10124'], ['10982', '10889', '11000'], ['11169', '10779', '11269'], ['10124', '10889', '11189', '11122'], ['10982', '11339', '112'], ['11304', '10889', '11003'], ['11079', '10910', '11003'], ['10779', '11049', '11120'], ['10914', '10972', '10629']]\n"
     ]
    }
   ],
   "source": [
    "#### Check what permutations are fed into the model. ####\n",
    "all_received_resources = []\n",
    "for i in range(len(example_vocab_trace_without_tags)):\n",
    "    res = [ explainer.resources[r] for r in list(set((np.squeeze(np.array(dice_binary_model.all_resource))[:, i]).tolist()))]\n",
    "    all_received_resources.append(res)\n",
    "print(all_received_resources)"
   ]
  },
  {
   "cell_type": "code",
   "execution_count": 35,
   "metadata": {},
   "outputs": [
    {
     "output_type": "stream",
     "name": "stdout",
     "text": [
      "All inputs are the same: False\n"
     ]
    }
   ],
   "source": [
    "########## Checking if all the permutation are the same (Shouldn't be) ##########\n",
    "all_cf_are_same = all([all((dice_binary_model.all_cf_input[1][:, 1:] == dice_binary_model.all_cf_input[i][:, 1:]).tolist()[0]) for i in range(len(dice_binary_model.all_cf_input))][1:])\n",
    "print(\"All inputs are the same: %s\" % (all_cf_are_same))"
   ]
  },
  {
   "cell_type": "code",
   "execution_count": 36,
   "metadata": {},
   "outputs": [
    {
     "output_type": "stream",
     "name": "stdout",
     "text": [
      "All trace and resource are the same: False\n"
     ]
    }
   ],
   "source": [
    "########## Checking if all the trace & resource (except amount) are the same (Shouldn't be) ##########\n",
    "all_trace_and_resource_are_same = all([all((dice_binary_model.all_cf_input[1][:, 1:] == dice_binary_model.all_cf_input[i][:, 1:]).tolist()[0]) for\n",
    " i in range(len(dice_binary_model.all_cf_input))][1:])\n",
    "print(\"All trace and resource are the same: %s\" % (all_trace_and_resource_are_same))"
   ]
  },
  {
   "cell_type": "code",
   "execution_count": 37,
   "metadata": {},
   "outputs": [
    {
     "output_type": "stream",
     "name": "stdout",
     "text": [
      "Query instance (original outcome : 1)\n"
     ]
    },
    {
     "output_type": "display_data",
     "data": {
      "text/plain": "        step_1_activity             step_2_activity         step_3_activity  \\\n0  A_SUBMITTED_COMPLETE  A_PARTLYSUBMITTED_COMPLETE  A_PREACCEPTED_COMPLETE   \n\n               step_4_activity                  step_5_activity  \\\n0  W_Afhandelen leads_COMPLETE  W_Completeren aanvraag_COMPLETE   \n\n       step_6_activity      step_7_activity       step_8_activity  \\\n0  A_ACCEPTED_COMPLETE  O_SELECTED_COMPLETE  A_FINALIZED_COMPLETE   \n\n      step_9_activity step_10_activity  ... step_44_resource step_45_resource  \\\n0  O_CREATED_COMPLETE  O_SENT_COMPLETE  ...            11000            11169   \n\n  step_46_resource step_47_resource step_48_resource step_49_resource  \\\n0            11122            10982            11003            11003   \n\n  step_50_resource step_51_resource  amount predicted  \n0            11049            10972  5800.0     0.997  \n\n[1 rows x 104 columns]",
      "text/html": "<div>\n<style scoped>\n    .dataframe tbody tr th:only-of-type {\n        vertical-align: middle;\n    }\n\n    .dataframe tbody tr th {\n        vertical-align: top;\n    }\n\n    .dataframe thead th {\n        text-align: right;\n    }\n</style>\n<table border=\"1\" class=\"dataframe\">\n  <thead>\n    <tr style=\"text-align: right;\">\n      <th></th>\n      <th>step_1_activity</th>\n      <th>step_2_activity</th>\n      <th>step_3_activity</th>\n      <th>step_4_activity</th>\n      <th>step_5_activity</th>\n      <th>step_6_activity</th>\n      <th>step_7_activity</th>\n      <th>step_8_activity</th>\n      <th>step_9_activity</th>\n      <th>step_10_activity</th>\n      <th>...</th>\n      <th>step_44_resource</th>\n      <th>step_45_resource</th>\n      <th>step_46_resource</th>\n      <th>step_47_resource</th>\n      <th>step_48_resource</th>\n      <th>step_49_resource</th>\n      <th>step_50_resource</th>\n      <th>step_51_resource</th>\n      <th>amount</th>\n      <th>predicted</th>\n    </tr>\n  </thead>\n  <tbody>\n    <tr>\n      <th>0</th>\n      <td>A_SUBMITTED_COMPLETE</td>\n      <td>A_PARTLYSUBMITTED_COMPLETE</td>\n      <td>A_PREACCEPTED_COMPLETE</td>\n      <td>W_Afhandelen leads_COMPLETE</td>\n      <td>W_Completeren aanvraag_COMPLETE</td>\n      <td>A_ACCEPTED_COMPLETE</td>\n      <td>O_SELECTED_COMPLETE</td>\n      <td>A_FINALIZED_COMPLETE</td>\n      <td>O_CREATED_COMPLETE</td>\n      <td>O_SENT_COMPLETE</td>\n      <td>...</td>\n      <td>11000</td>\n      <td>11169</td>\n      <td>11122</td>\n      <td>10982</td>\n      <td>11003</td>\n      <td>11003</td>\n      <td>11049</td>\n      <td>10972</td>\n      <td>5800.0</td>\n      <td>0.997</td>\n    </tr>\n  </tbody>\n</table>\n<p>1 rows × 104 columns</p>\n</div>"
     },
     "metadata": {}
    },
    {
     "output_type": "stream",
     "name": "stdout",
     "text": [
      "\nDiverse Counterfactual set without sparsity correction since only metadata about each  feature is available (new outcome:  0.0\n"
     ]
    },
    {
     "output_type": "display_data",
     "data": {
      "text/plain": "                step_1_activity       step_2_activity  step_3_activity  \\\n0  W_Nabellen offertes_COMPLETE  A_SUBMITTED_COMPLETE  O_SENT_COMPLETE   \n\n       step_4_activity       step_5_activity      step_6_activity  \\\n0  O_ACCEPTED_COMPLETE  O_CANCELLED_COMPLETE  O_SELECTED_COMPLETE   \n\n                 step_7_activity       step_8_activity      step_9_activity  \\\n0  W_Valideren aanvraag_COMPLETE  O_CANCELLED_COMPLETE  O_DECLINED_COMPLETE   \n\n      step_10_activity  ... step_44_resource step_45_resource  \\\n0  O_ACCEPTED_COMPLETE  ...            10982            10779   \n\n  step_46_resource step_47_resource step_48_resource step_49_resource  \\\n0                -              112            10889            10910   \n\n  step_50_resource step_51_resource  amount predicted  \n0            11120            10629  6185.0       0.0  \n\n[1 rows x 104 columns]",
      "text/html": "<div>\n<style scoped>\n    .dataframe tbody tr th:only-of-type {\n        vertical-align: middle;\n    }\n\n    .dataframe tbody tr th {\n        vertical-align: top;\n    }\n\n    .dataframe thead th {\n        text-align: right;\n    }\n</style>\n<table border=\"1\" class=\"dataframe\">\n  <thead>\n    <tr style=\"text-align: right;\">\n      <th></th>\n      <th>step_1_activity</th>\n      <th>step_2_activity</th>\n      <th>step_3_activity</th>\n      <th>step_4_activity</th>\n      <th>step_5_activity</th>\n      <th>step_6_activity</th>\n      <th>step_7_activity</th>\n      <th>step_8_activity</th>\n      <th>step_9_activity</th>\n      <th>step_10_activity</th>\n      <th>...</th>\n      <th>step_44_resource</th>\n      <th>step_45_resource</th>\n      <th>step_46_resource</th>\n      <th>step_47_resource</th>\n      <th>step_48_resource</th>\n      <th>step_49_resource</th>\n      <th>step_50_resource</th>\n      <th>step_51_resource</th>\n      <th>amount</th>\n      <th>predicted</th>\n    </tr>\n  </thead>\n  <tbody>\n    <tr>\n      <th>0</th>\n      <td>W_Nabellen offertes_COMPLETE</td>\n      <td>A_SUBMITTED_COMPLETE</td>\n      <td>O_SENT_COMPLETE</td>\n      <td>O_ACCEPTED_COMPLETE</td>\n      <td>O_CANCELLED_COMPLETE</td>\n      <td>O_SELECTED_COMPLETE</td>\n      <td>W_Valideren aanvraag_COMPLETE</td>\n      <td>O_CANCELLED_COMPLETE</td>\n      <td>O_DECLINED_COMPLETE</td>\n      <td>O_ACCEPTED_COMPLETE</td>\n      <td>...</td>\n      <td>10982</td>\n      <td>10779</td>\n      <td>-</td>\n      <td>112</td>\n      <td>10889</td>\n      <td>10910</td>\n      <td>11120</td>\n      <td>10629</td>\n      <td>6185.0</td>\n      <td>0.0</td>\n    </tr>\n  </tbody>\n</table>\n<p>1 rows × 104 columns</p>\n</div>"
     },
     "metadata": {}
    }
   ],
   "source": [
    "dice_exp.visualize_as_dataframe(show_only_changes=True, display_sparse_df=False)"
   ]
  },
  {
   "cell_type": "code",
   "execution_count": 38,
   "metadata": {},
   "outputs": [
    {
     "output_type": "stream",
     "name": "stdout",
     "text": [
      "['A_SUBMITTED_COMPLETE', 'A_PARTLYSUBMITTED_COMPLETE', 'A_PREACCEPTED_COMPLETE', 'W_Afhandelen leads_COMPLETE', 'W_Completeren aanvraag_COMPLETE', 'A_ACCEPTED_COMPLETE', 'O_SELECTED_COMPLETE', 'A_FINALIZED_COMPLETE', 'O_CREATED_COMPLETE', 'O_SENT_COMPLETE', 'W_Completeren aanvraag_COMPLETE', 'O_SELECTED_COMPLETE', 'O_CANCELLED_COMPLETE', 'O_CREATED_COMPLETE', 'O_SENT_COMPLETE', 'W_Nabellen offertes_COMPLETE', 'O_CANCELLED_COMPLETE', 'O_SELECTED_COMPLETE', 'O_CREATED_COMPLETE', 'O_SENT_COMPLETE', 'W_Nabellen offertes_COMPLETE', 'W_Nabellen offertes_COMPLETE', 'W_Nabellen offertes_COMPLETE', 'W_Nabellen offertes_COMPLETE', 'W_Nabellen offertes_COMPLETE', 'O_SENT_BACK_COMPLETE', 'W_Nabellen offertes_COMPLETE', 'W_Valideren aanvraag_COMPLETE', 'W_Nabellen incomplete dossiers_COMPLETE', 'W_Nabellen incomplete dossiers_COMPLETE', 'W_Nabellen incomplete dossiers_COMPLETE', 'W_Nabellen incomplete dossiers_COMPLETE', 'W_Nabellen incomplete dossiers_COMPLETE', 'W_Nabellen incomplete dossiers_COMPLETE', 'W_Nabellen incomplete dossiers_COMPLETE', 'W_Nabellen incomplete dossiers_COMPLETE', 'W_Nabellen incomplete dossiers_COMPLETE', 'W_Nabellen incomplete dossiers_COMPLETE', 'W_Nabellen incomplete dossiers_COMPLETE', 'W_Nabellen incomplete dossiers_COMPLETE', 'W_Nabellen incomplete dossiers_COMPLETE', 'W_Nabellen incomplete dossiers_COMPLETE', 'W_Nabellen incomplete dossiers_COMPLETE', 'W_Nabellen incomplete dossiers_COMPLETE', 'W_Nabellen incomplete dossiers_COMPLETE', 'W_Nabellen incomplete dossiers_COMPLETE', 'W_Nabellen incomplete dossiers_COMPLETE', 'W_Nabellen incomplete dossiers_COMPLETE', 'W_Nabellen incomplete dossiers_COMPLETE', 'W_Nabellen incomplete dossiers_COMPLETE', 'O_DECLINED_COMPLETE', '112', '112', '10863', '10863', '11169', '11003', '11003', '11003', '11003', '11003', '11003', '11003', '11003', '11003', '11003', '11003', '11003', '11003', '11003', '11003', '11003', '11003', '10913', '11180', '11000', '10899', '10899', '10899', '10899', '11121', '11000', '10861', '10909', '10909', '10913', '11002', '11002', '11179', '11009', '11259', '11181', '11181', '11181', '11000', '11169', '11122', '10982', '11003', '11003', '11049', '10972', 5800.0]\n"
     ]
    }
   ],
   "source": [
    "######## Print the example trace ########\n",
    "print(list(example_df.iloc[0]))"
   ]
  },
  {
   "cell_type": "code",
   "execution_count": 39,
   "metadata": {},
   "outputs": [
    {
     "output_type": "stream",
     "name": "stdout",
     "text": [
      "['W_Nabellen offertes_COMPLETE', 'A_SUBMITTED_COMPLETE', 'O_SENT_COMPLETE', 'O_ACCEPTED_COMPLETE', 'O_CANCELLED_COMPLETE', 'O_SELECTED_COMPLETE', 'W_Valideren aanvraag_COMPLETE', 'O_CANCELLED_COMPLETE', 'O_DECLINED_COMPLETE', 'O_ACCEPTED_COMPLETE', 'W_Afhandelen leads_COMPLETE', 'O_DECLINED_COMPLETE', 'A_SUBMITTED_COMPLETE', 'O_SENT_COMPLETE', 'O_SENT_COMPLETE', 'A_ACTIVATED_COMPLETE', 'A_ACCEPTED_COMPLETE', 'W_Completeren aanvraag_COMPLETE', 'A_APPROVED_COMPLETE', 'O_CREATED_COMPLETE', 'A_DECLINED_COMPLETE', 'W_Completeren aanvraag_COMPLETE', 'O_DECLINED_COMPLETE', 'A_ACTIVATED_COMPLETE', 'A_REGISTERED_COMPLETE', 'W_Afhandelen leads_COMPLETE', 'A_SUBMITTED_COMPLETE', 'O_CREATED_COMPLETE', 'A_SUBMITTED_COMPLETE', 'W_Beoordelen fraude_COMPLETE', 'O_SELECTED_COMPLETE', 'A_ACCEPTED_COMPLETE', 'W_Nabellen offertes_COMPLETE', 'W_Nabellen incomplete dossiers_COMPLETE', 'A_CANCELLED_COMPLETE', 'A_REGISTERED_COMPLETE', 'A_PREACCEPTED_COMPLETE', 'A_ACCEPTED_COMPLETE', 'O_CREATED_COMPLETE', 'A_PARTLYSUBMITTED_COMPLETE', 'A_ACTIVATED_COMPLETE', 'W_Nabellen incomplete dossiers_COMPLETE', 'A_ACCEPTED_COMPLETE', 'A_REGISTERED_COMPLETE', 'O_SENT_BACK_COMPLETE', 'O_CREATED_COMPLETE', 'W_Valideren aanvraag_COMPLETE', 'A_PREACCEPTED_COMPLETE', 'W_Nabellen incomplete dossiers_COMPLETE', 'A_SUBMITTED_COMPLETE', 'A_PREACCEPTED_COMPLETE', '10138', '11299', '10779', '10809', '11002', '11202', '10861', '10779', '11079', '10931', '11180', '11304', '10914', '10982', '10629', '10929', '11003', '11019', '11003', '11003', '112', '10932', '10138', '10138', '11304', '10912', '11201', '11269', '11202', '112', '11189', '11179', '10228', '10609', '11304', '11002', '10910', '10931', '11119', '11302', '11111', '11181', '11181', '10982', '10779', '11122', '112', '10889', '10910', '11120', '10629', 6185.0]\n"
     ]
    }
   ],
   "source": [
    "######## Print the counterfactual trace ########\n",
    "print(list(dice_exp.final_cfs_df.iloc[0][:-1]))"
   ]
  },
  {
   "cell_type": "code",
   "execution_count": null,
   "metadata": {},
   "outputs": [],
   "source": []
  }
 ]
}