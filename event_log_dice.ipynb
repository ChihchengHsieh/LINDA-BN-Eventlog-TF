{
 "metadata": {
  "language_info": {
   "codemirror_mode": {
    "name": "ipython",
    "version": 3
   },
   "file_extension": ".py",
   "mimetype": "text/x-python",
   "name": "python",
   "nbconvert_exporter": "python",
   "pygments_lexer": "ipython3",
   "version": "3.8.10"
  },
  "orig_nbformat": 4,
  "kernelspec": {
   "name": "python3",
   "display_name": "Python 3.8.10 64-bit ('tf_mac': conda)"
  },
  "interpreter": {
   "hash": "5c622353f32ef24c8d83e5c3e334107c074e82d7c3e8ca52c56b9fc900ce33e6"
  }
 },
 "nbformat": 4,
 "nbformat_minor": 2,
 "cells": [
  {
   "cell_type": "code",
   "execution_count": 1,
   "metadata": {},
   "outputs": [],
   "source": [
    "from Controller import TrainingController\n",
    "from Parameters import TrainingParameters\n",
    "from Utils.SaveUtils import load_parameters\n",
    "from Utils.PrintUtils import print_big\n",
    "import tensorflow as tf\n",
    "import json\n",
    "from dice import EventLogDiCE\n",
    "import numpy as np\n",
    "import pandas as pd\n",
    "import time\n",
    "from Models import DiCEBinaryDefferentiable\n",
    "from itertools import chain\n",
    "from IPython.core.display import display, HTML\n",
    "from Utils.DiCEHelpers import generate_fake_df, get_trace_with_id, get_longest_trace_row, remove_trail_steps, print_model_prediction_result, remove_tags_for_query_instance"
   ]
  },
  {
   "cell_type": "code",
   "execution_count": 2,
   "metadata": {},
   "outputs": [],
   "source": [
    "folder_path = \"./SavedModels/%s\" % (\n",
    "    \"0.8264_BPI2012WithResource_BaselineLSTMWithResource_2021-06-18 06:11:10.009443\" #AOW\n",
    ")"
   ]
  },
  {
   "cell_type": "code",
   "execution_count": 3,
   "metadata": {},
   "outputs": [
    {
     "output_type": "stream",
     "name": "stdout",
     "text": [
      "\n",
      "========================================\n",
      "| Running on /job:localhost/replica:0/task:0/device:CPU:0  \n",
      "========================================\n",
      "\n",
      "========================================\n",
      "| Preprocessed data loaded successfully: ./datasets/preprocessed/BPI_Challenge_2012_with_resource/AOW \n",
      "========================================\n",
      "\n",
      "========================================\n",
      "| Model loaded successfully from: ./SavedModels/0.8264_BPI2012WithResource_BaselineLSTMWithResource_2021-06-18 06:11:10.009443  \n",
      "========================================\n",
      "Model: \"baseline_lstm_with_resource\"\n",
      "_________________________________________________________________\n",
      "Layer (type)                 Output Shape              Param #   \n",
      "=================================================================\n",
      "embedding (Embedding)        multiple                  832       \n",
      "_________________________________________________________________\n",
      "embedding_1 (Embedding)      multiple                  2304      \n",
      "_________________________________________________________________\n",
      "lstm (LSTM)                  multiple                  24832     \n",
      "_________________________________________________________________\n",
      "lstm_1 (LSTM)                multiple                  33024     \n",
      "_________________________________________________________________\n",
      "lstm_2 (LSTM)                multiple                  24832     \n",
      "_________________________________________________________________\n",
      "lstm_3 (LSTM)                multiple                  33024     \n",
      "_________________________________________________________________\n",
      "sequential (Sequential)      (1, 1, 26)                10782     \n",
      "=================================================================\n",
      "Total params: 129,630\n",
      "Trainable params: 129,244\n",
      "Non-trainable params: 386\n",
      "_________________________________________________________________\n",
      "\n",
      "========================================\n",
      "| Loaded model has been trained for [4100] steps, [50] epochs \n",
      "========================================\n"
     ]
    }
   ],
   "source": [
    "### Initialise controllers\n",
    "parameters_json = load_parameters(folder_path=folder_path)\n",
    "parameters = TrainingParameters(**parameters_json)\n",
    "tf.random.set_seed(parameters.dataset_split_seed)\n",
    "np.random.seed(parameters.dataset_split_seed)\n",
    "parameters.load_model_folder_path = folder_path\n",
    "trainer = TrainingController(parameters = parameters)\n",
    "trainer.show_model_info()"
   ]
  },
  {
   "cell_type": "code",
   "execution_count": 4,
   "metadata": {},
   "outputs": [
    {
     "output_type": "stream",
     "name": "stdout",
     "text": [
      "\n====================Test set length====================\n| 1309 \n=======================================================\n"
     ]
    }
   ],
   "source": [
    "########### Get example data from trainer ###########\n",
    "ordered_test_idx = (list(trainer.test_dataset.unbatch().as_numpy_iterator()))\n",
    "ordered_test_idx.sort()\n",
    "print_big(len(ordered_test_idx), \"Test set length\")"
   ]
  },
  {
   "cell_type": "code",
   "execution_count": 5,
   "metadata": {},
   "outputs": [
    {
     "output_type": "execute_result",
     "data": {
      "text/plain": [
       "                                                  trace  \\\n",
       "8464  [2, 12, 9, 10, 20, 22, 3, 17, 8, 15, 19, 22, 1...   \n",
       "\n",
       "                                            trace_vocab  caseid  amount  \\\n",
       "8464  [<SOS>, A_SUBMITTED_COMPLETE, A_PARTLYSUBMITTE...  200028  5800.0   \n",
       "\n",
       "                                               resource  \\\n",
       "8464  [70, 53, 53, 15, 15, 48, 37, 37, 37, 37, 37, 3...   \n",
       "\n",
       "                                          resource_orig  \n",
       "8464  [<SOS>, 112, 112, 10863, 10863, 11169, 11003, ...  "
      ],
      "text/html": "<div>\n<style scoped>\n    .dataframe tbody tr th:only-of-type {\n        vertical-align: middle;\n    }\n\n    .dataframe tbody tr th {\n        vertical-align: top;\n    }\n\n    .dataframe thead th {\n        text-align: right;\n    }\n</style>\n<table border=\"1\" class=\"dataframe\">\n  <thead>\n    <tr style=\"text-align: right;\">\n      <th></th>\n      <th>trace</th>\n      <th>trace_vocab</th>\n      <th>caseid</th>\n      <th>amount</th>\n      <th>resource</th>\n      <th>resource_orig</th>\n    </tr>\n  </thead>\n  <tbody>\n    <tr>\n      <th>8464</th>\n      <td>[2, 12, 9, 10, 20, 22, 3, 17, 8, 15, 19, 22, 1...</td>\n      <td>[&lt;SOS&gt;, A_SUBMITTED_COMPLETE, A_PARTLYSUBMITTE...</td>\n      <td>200028</td>\n      <td>5800.0</td>\n      <td>[70, 53, 53, 15, 15, 48, 37, 37, 37, 37, 37, 3...</td>\n      <td>[&lt;SOS&gt;, 112, 112, 10863, 10863, 11169, 11003, ...</td>\n    </tr>\n  </tbody>\n</table>\n</div>"
     },
     "metadata": {},
     "execution_count": 5
    }
   ],
   "source": [
    "########## Get longest delcined trace for testing ##########\n",
    "declined_df = get_trace_with_id(trainer.dataset.df.iloc[ordered_test_idx], trainer.model.vocab.vocab_to_index('A_DECLINED_COMPLETE'))\n",
    "longest_declined_trace_row = get_longest_trace_row(declined_df)\n",
    "longest_declined_trace_row"
   ]
  },
  {
   "cell_type": "code",
   "execution_count": 6,
   "metadata": {},
   "outputs": [],
   "source": [
    "_, example_activities, _, example_resources, example_amount, _ = trainer.dataset.collate_fn([longest_declined_trace_row.index[0]])"
   ]
  },
  {
   "cell_type": "code",
   "execution_count": 7,
   "metadata": {},
   "outputs": [
    {
     "output_type": "stream",
     "name": "stdout",
     "text": [
      "========================================Trace========================================\n[['<SOS>', 'A_SUBMITTED_COMPLETE', 'A_PARTLYSUBMITTED_COMPLETE', 'A_PREACCEPTED_COMPLETE', 'W_Afhandelen leads_COMPLETE', 'W_Completeren aanvraag_COMPLETE', 'A_ACCEPTED_COMPLETE', 'O_SELECTED_COMPLETE', 'A_FINALIZED_COMPLETE', 'O_CREATED_COMPLETE', 'O_SENT_COMPLETE', 'W_Completeren aanvraag_COMPLETE', 'O_SELECTED_COMPLETE', 'O_CANCELLED_COMPLETE', 'O_CREATED_COMPLETE', 'O_SENT_COMPLETE', 'W_Nabellen offertes_COMPLETE', 'O_CANCELLED_COMPLETE', 'O_SELECTED_COMPLETE', 'O_CREATED_COMPLETE', 'O_SENT_COMPLETE', 'W_Nabellen offertes_COMPLETE', 'W_Nabellen offertes_COMPLETE', 'W_Nabellen offertes_COMPLETE', 'W_Nabellen offertes_COMPLETE', 'W_Nabellen offertes_COMPLETE', 'O_SENT_BACK_COMPLETE', 'W_Nabellen offertes_COMPLETE', 'W_Valideren aanvraag_COMPLETE', 'W_Nabellen incomplete dossiers_COMPLETE', 'W_Nabellen incomplete dossiers_COMPLETE', 'W_Nabellen incomplete dossiers_COMPLETE', 'W_Nabellen incomplete dossiers_COMPLETE', 'W_Nabellen incomplete dossiers_COMPLETE', 'W_Nabellen incomplete dossiers_COMPLETE', 'W_Nabellen incomplete dossiers_COMPLETE', 'W_Nabellen incomplete dossiers_COMPLETE', 'W_Nabellen incomplete dossiers_COMPLETE', 'W_Nabellen incomplete dossiers_COMPLETE', 'W_Nabellen incomplete dossiers_COMPLETE', 'W_Nabellen incomplete dossiers_COMPLETE', 'W_Nabellen incomplete dossiers_COMPLETE', 'W_Nabellen incomplete dossiers_COMPLETE', 'W_Nabellen incomplete dossiers_COMPLETE', 'W_Nabellen incomplete dossiers_COMPLETE', 'W_Nabellen incomplete dossiers_COMPLETE', 'W_Nabellen incomplete dossiers_COMPLETE', 'W_Nabellen incomplete dossiers_COMPLETE', 'W_Nabellen incomplete dossiers_COMPLETE', 'W_Nabellen incomplete dossiers_COMPLETE', 'W_Nabellen incomplete dossiers_COMPLETE', 'O_DECLINED_COMPLETE', 'A_DECLINED_COMPLETE', 'W_Valideren aanvraag_COMPLETE']]\n"
     ]
    }
   ],
   "source": [
    " print(\"========================================Trace========================================\")\n",
    " print(trainer.model.vocab.list_of_index_to_vocab_2d(example_activities))"
   ]
  },
  {
   "cell_type": "code",
   "execution_count": 8,
   "metadata": {},
   "outputs": [
    {
     "output_type": "stream",
     "name": "stdout",
     "text": [
      "========================================Trace after substraction========================================\n['<SOS>', 'A_SUBMITTED_COMPLETE', 'A_PARTLYSUBMITTED_COMPLETE', 'A_PREACCEPTED_COMPLETE', 'W_Afhandelen leads_COMPLETE', 'W_Completeren aanvraag_COMPLETE', 'A_ACCEPTED_COMPLETE', 'O_SELECTED_COMPLETE', 'A_FINALIZED_COMPLETE']\n"
     ]
    }
   ],
   "source": [
    "tail_length_to_remove = 45\n",
    "example_idx_activities, example_idx_resources = remove_trail_steps(example_activities, example_resources, tail_length_to_remove)\n",
    "example_vocab_activities = trainer.model.vocab.list_of_index_to_vocab_2d(example_idx_activities)[0]\n",
    "print(\"========================================Trace after substraction========================================\")\n",
    "print(example_vocab_activities)"
   ]
  },
  {
   "cell_type": "code",
   "execution_count": 9,
   "metadata": {},
   "outputs": [
    {
     "output_type": "stream",
     "name": "stdout",
     "text": [
      "\n",
      "========================================Predict result========================================\n",
      "| Predicted activity with highest probability (0.51) is \"O_CREATED_COMPLETE\" \n",
      "==============================================================================================\n",
      "\n",
      "\n",
      "\n",
      "<PAD>                                      0.000113\n",
      "<EOS>                                      0.001951\n",
      "<SOS>                                      0.000052\n",
      "A_ACCEPTED_COMPLETE                        0.001554\n",
      "A_ACTIVATED_COMPLETE                       0.000067\n",
      "A_APPROVED_COMPLETE                        0.000172\n",
      "A_CANCELLED_COMPLETE                       0.034913\n",
      "A_DECLINED_COMPLETE                        0.001319\n",
      "A_FINALIZED_COMPLETE                       0.003324\n",
      "A_PARTLYSUBMITTED_COMPLETE                 0.000104\n",
      "A_PREACCEPTED_COMPLETE                     0.000086\n",
      "A_REGISTERED_COMPLETE                      0.000229\n",
      "A_SUBMITTED_COMPLETE                       0.001744\n",
      "O_ACCEPTED_COMPLETE                        0.000169\n",
      "O_CANCELLED_COMPLETE                       0.000922\n",
      "O_CREATED_COMPLETE                         0.506674\n",
      "O_DECLINED_COMPLETE                        0.000688\n",
      "O_SELECTED_COMPLETE                        0.156691\n",
      "O_SENT_BACK_COMPLETE                       0.003712\n",
      "O_SENT_COMPLETE                            0.256108\n",
      "W_Afhandelen leads_COMPLETE                0.002210\n",
      "W_Beoordelen fraude_COMPLETE               0.002508\n",
      "W_Completeren aanvraag_COMPLETE            0.018834\n",
      "W_Nabellen incomplete dossiers_COMPLETE    0.000858\n",
      "W_Nabellen offertes_COMPLETE               0.002904\n",
      "W_Valideren aanvraag_COMPLETE              0.002096\n",
      "Name: 0, dtype: float64\n"
     ]
    }
   ],
   "source": [
    "##### Get model output\n",
    "example_activities_input = tf.constant(example_idx_activities)\n",
    "example_resources_input = tf.constant(example_idx_resources)\n",
    "example_amount_input = tf.constant(example_amount)\n",
    "\n",
    "predicted_df = print_model_prediction_result(trainer.model, example_activities_input, example_resources_input, example_amount_input)"
   ]
  },
  {
   "cell_type": "code",
   "execution_count": 10,
   "metadata": {},
   "outputs": [
    {
     "output_type": "execute_result",
     "data": {
      "text/plain": [
       "      <PAD>     <EOS>     <SOS>  A_ACCEPTED_COMPLETE  A_ACTIVATED_COMPLETE  \\\n",
       "0  0.000113  0.001951  0.000052             0.001554              0.000067   \n",
       "\n",
       "   A_APPROVED_COMPLETE  A_CANCELLED_COMPLETE  A_DECLINED_COMPLETE  \\\n",
       "0             0.000172              0.034913             0.001319   \n",
       "\n",
       "   A_FINALIZED_COMPLETE  A_PARTLYSUBMITTED_COMPLETE  ...  O_DECLINED_COMPLETE  \\\n",
       "0              0.003324                    0.000104  ...             0.000688   \n",
       "\n",
       "   O_SELECTED_COMPLETE  O_SENT_BACK_COMPLETE  O_SENT_COMPLETE  \\\n",
       "0             0.156691              0.003712         0.256108   \n",
       "\n",
       "   W_Afhandelen leads_COMPLETE  W_Beoordelen fraude_COMPLETE  \\\n",
       "0                      0.00221                      0.002508   \n",
       "\n",
       "   W_Completeren aanvraag_COMPLETE  W_Nabellen incomplete dossiers_COMPLETE  \\\n",
       "0                         0.018834                                 0.000858   \n",
       "\n",
       "   W_Nabellen offertes_COMPLETE  W_Valideren aanvraag_COMPLETE  \n",
       "0                      0.002904                       0.002096  \n",
       "\n",
       "[1 rows x 26 columns]"
      ],
      "text/html": "<div>\n<style scoped>\n    .dataframe tbody tr th:only-of-type {\n        vertical-align: middle;\n    }\n\n    .dataframe tbody tr th {\n        vertical-align: top;\n    }\n\n    .dataframe thead th {\n        text-align: right;\n    }\n</style>\n<table border=\"1\" class=\"dataframe\">\n  <thead>\n    <tr style=\"text-align: right;\">\n      <th></th>\n      <th>&lt;PAD&gt;</th>\n      <th>&lt;EOS&gt;</th>\n      <th>&lt;SOS&gt;</th>\n      <th>A_ACCEPTED_COMPLETE</th>\n      <th>A_ACTIVATED_COMPLETE</th>\n      <th>A_APPROVED_COMPLETE</th>\n      <th>A_CANCELLED_COMPLETE</th>\n      <th>A_DECLINED_COMPLETE</th>\n      <th>A_FINALIZED_COMPLETE</th>\n      <th>A_PARTLYSUBMITTED_COMPLETE</th>\n      <th>...</th>\n      <th>O_DECLINED_COMPLETE</th>\n      <th>O_SELECTED_COMPLETE</th>\n      <th>O_SENT_BACK_COMPLETE</th>\n      <th>O_SENT_COMPLETE</th>\n      <th>W_Afhandelen leads_COMPLETE</th>\n      <th>W_Beoordelen fraude_COMPLETE</th>\n      <th>W_Completeren aanvraag_COMPLETE</th>\n      <th>W_Nabellen incomplete dossiers_COMPLETE</th>\n      <th>W_Nabellen offertes_COMPLETE</th>\n      <th>W_Valideren aanvraag_COMPLETE</th>\n    </tr>\n  </thead>\n  <tbody>\n    <tr>\n      <th>0</th>\n      <td>0.000113</td>\n      <td>0.001951</td>\n      <td>0.000052</td>\n      <td>0.001554</td>\n      <td>0.000067</td>\n      <td>0.000172</td>\n      <td>0.034913</td>\n      <td>0.001319</td>\n      <td>0.003324</td>\n      <td>0.000104</td>\n      <td>...</td>\n      <td>0.000688</td>\n      <td>0.156691</td>\n      <td>0.003712</td>\n      <td>0.256108</td>\n      <td>0.00221</td>\n      <td>0.002508</td>\n      <td>0.018834</td>\n      <td>0.000858</td>\n      <td>0.002904</td>\n      <td>0.002096</td>\n    </tr>\n  </tbody>\n</table>\n<p>1 rows × 26 columns</p>\n</div>"
     },
     "metadata": {},
     "execution_count": 10
    }
   ],
   "source": [
    "predicted_df"
   ]
  },
  {
   "cell_type": "code",
   "execution_count": 11,
   "metadata": {},
   "outputs": [
    {
     "output_type": "stream",
     "name": "stdout",
     "text": [
      "\n",
      "==============================Example activities without tags==============================\n",
      "| ['A_SUBMITTED_COMPLETE', 'A_PARTLYSUBMITTED_COMPLETE', 'A_PREACCEPTED_COMPLETE', 'W_Afhandelen leads_COMPLETE', 'W_Completeren aanvraag_COMPLETE', 'A_ACCEPTED_COMPLETE', 'O_SELECTED_COMPLETE', 'A_FINALIZED_COMPLETE'] \n",
      "===========================================================================================\n",
      "\n",
      "==============================Example resources without tags==============================\n",
      "| ['112', '112', '10863', '10863', '11169', '11003', '11003', '11003'] \n",
      "==========================================================================================\n",
      "\n",
      "=================================Amount=================================\n",
      "| [5800.0] \n",
      "========================================================================\n"
     ]
    }
   ],
   "source": [
    "no_need_tags = ['<EOS>', '<SOS>', '<PAD>']\n",
    "example_idx_activities_no_tag, example_idx_resources_no_tag =  remove_tags_for_query_instance(example_idx_activities, example_idx_resources, trainer.model.vocab.tags_idx(), [trainer.model.resources.index(tag) for tag in no_need_tags])\n",
    "\n",
    "example_vocab_trace_no_tag = trainer.model.vocab.list_of_index_to_vocab(example_idx_activities_no_tag)\n",
    "example_vocab_resource_no_tag = [trainer.model.resources[r]  for r in example_idx_resources_no_tag]\n",
    "\n",
    "example_trace_len_no_tag = len(example_vocab_trace_no_tag)\n",
    "#### Determine feature names for DiCE ####\n",
    "activity_feature_names = np.array([\"activity_step_%d\" % (i+1) for i in range(example_trace_len_no_tag)])\n",
    "resource_feature_names = np.array([\"resource_step_%d\" % (i+1) for i in range(example_trace_len_no_tag)])\n",
    "\n",
    "possible_activities = [ a for a in list(trainer.model.vocab.vocabs) if  not a in no_need_tags]\n",
    "possible_resources =  [ r for r in list(trainer.model.resources) if  not r in no_need_tags]\n",
    "\n",
    "possbile_amount = [min(trainer.dataset.df[\"amount\"]), max(trainer.dataset.df[\"amount\"])]\n",
    "\n",
    "print_big(example_vocab_trace_no_tag ,title=\"Example activities without tags\", num_marks = 30)\n",
    "print_big(example_vocab_resource_no_tag ,title=\"Example resources without tags\", num_marks = 30)\n",
    "print_big(example_amount, title=\"=================Amount=================\", num_marks=16)"
   ]
  },
  {
   "cell_type": "code",
   "execution_count": 12,
   "metadata": {},
   "outputs": [
    {
     "output_type": "stream",
     "name": "stdout",
     "text": [
      "\n====================Desired activity====================\n| A_DECLINED_COMPLETE \n========================================================\n"
     ]
    }
   ],
   "source": [
    "############ Setting up desired activity ############\n",
    "desired_activity = 'A_DECLINED_COMPLETE' # A_DECLINED_COMPLETE, A_APPROVED_COMPLETE\n",
    "print_big(desired_activity, \"Desired activity\")\n",
    "\n",
    "dice_binary_model = DiCEBinaryDefferentiable(\n",
    "    model=trainer.model,\n",
    "    vocab=trainer.model.vocab,\n",
    "    resources= trainer.model.resources,\n",
    "    desired=trainer.model.vocab.vocab_to_index(desired_activity),\n",
    "    trace_length = len(example_vocab_trace_no_tag),\n",
    "    sos_idx_activity=trainer.model.vocab.vocab_to_index(\"<SOS>\"),\n",
    "    sos_idx_resource= trainer.model.resources.index('<SOS>'),\n",
    "    amount_min = possbile_amount[0],\n",
    "    amount_max = possbile_amount[1],\n",
    "    possible_resources=possible_resources,\n",
    "    possible_activities=possible_activities \n",
    ")"
   ]
  },
  {
   "cell_type": "code",
   "execution_count": 13,
   "metadata": {},
   "outputs": [],
   "source": [
    "fake_df = generate_fake_df(5000, activity_feature_names, resource_feature_names, possible_activities, possible_resources, possbile_amount, example_trace_len_no_tag)"
   ]
  },
  {
   "cell_type": "code",
   "execution_count": 14,
   "metadata": {},
   "outputs": [],
   "source": [
    "dice = EventLogDiCE(possbile_amount, possible_activities, possible_resources, dice_binary_model)"
   ]
  },
  {
   "cell_type": "code",
   "execution_count": 15,
   "metadata": {
    "tags": []
   },
   "outputs": [
    {
     "output_type": "stream",
     "name": "stdout",
     "text": [
      "\n",
      "====================Prediction====================\n",
      "| Prediction: [0] | Desired: [1] \n",
      "==================================================\n",
      "\n",
      "====================!Counterfactual Found in step [13]!====================\n",
      "| Running time: 1.49 \n",
      "===========================================================================\n",
      "\n",
      "====================Input Amount====================\n",
      "| [5800.] \n",
      "====================================================\n",
      "\n",
      "====================Input Activities====================\n",
      "| ['A_SUBMITTED_COMPLETE', 'A_PARTLYSUBMITTED_COMPLETE', 'A_PREACCEPTED_COMPLETE', 'W_Afhandelen leads_COMPLETE', 'W_Completeren aanvraag_COMPLETE', 'A_ACCEPTED_COMPLETE', 'O_SELECTED_COMPLETE', 'A_FINALIZED_COMPLETE'] \n",
      "========================================================\n",
      "\n",
      "====================Input Resource====================\n",
      "| ['112', '112', '10863', '10863', '11169', '11003', '11003', '11003'] \n",
      "======================================================\n",
      "\n",
      "====================CF Amount====================\n",
      "| 5799.924 \n",
      "=================================================\n",
      "\n",
      "====================CF Activities====================\n",
      "| ['O_CREATED_COMPLETE', 'A_SUBMITTED_COMPLETE', 'O_ACCEPTED_COMPLETE', 'W_Nabellen incomplete dossiers_COMPLETE', 'W_Valideren aanvraag_COMPLETE', 'W_Beoordelen fraude_COMPLETE', 'W_Beoordelen fraude_COMPLETE', 'A_REGISTERED_COMPLETE'] \n",
      "=====================================================\n",
      "\n",
      "====================CF Resource====================\n",
      "| ['11200', '11200', '10880', '10880', '11179', '11009', '11009', '11029'] \n",
      "===================================================\n"
     ]
    }
   ],
   "source": [
    "_ = dice.run_pls(example_amount_input.numpy(), example_idx_activities_no_tag, example_idx_resources_no_tag, use_valid_cf_only=False, max_iter=500)"
   ]
  },
  {
   "cell_type": "code",
   "execution_count": null,
   "metadata": {},
   "outputs": [],
   "source": [
    "# Load the model\n",
    "\n"
   ]
  },
  {
   "cell_type": "code",
   "execution_count": 3,
   "metadata": {},
   "outputs": [],
   "source": [
    "import tensorflow as tf"
   ]
  },
  {
   "cell_type": "code",
   "execution_count": 4,
   "metadata": {},
   "outputs": [],
   "source": [
    "class ValidTraceModelWrapper(object):\n",
    "    def __init__(self, model, using_hinge_loss=True):\n",
    "        self.model = model\n",
    "        self.using_hinge_loss = using_hinge_loss\n",
    "\n",
    "    def get_valid_scenario_loss(cf_input):\n",
    "\n",
    "        ## get out\n",
    "        # expect the output to pass through sigmoid function.\n",
    "        out = model(cf_input) \n",
    "\n",
    "        ## get loss\n",
    "        if using_hinge_loss:\n",
    "            loss = tf.keras.matrics.hinge(tf.ones_like(out) ,out,)\n",
    "        else:\n",
    "            ## using binary entropy\n",
    "            loss = tf.keras.losses.binary_crossentropy(\n",
    "                y_true=tf.ones(out), y_pred=out\n",
    "            )\n",
    "\n",
    "        return loss"
   ]
  },
  {
   "cell_type": "code",
   "execution_count": null,
   "metadata": {},
   "outputs": [],
   "source": []
  },
  {
   "cell_type": "code",
   "execution_count": null,
   "metadata": {},
   "outputs": [],
   "source": []
  }
 ]
}