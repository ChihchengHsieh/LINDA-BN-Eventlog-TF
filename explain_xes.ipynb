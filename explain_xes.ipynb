{
 "metadata": {
  "language_info": {
   "codemirror_mode": {
    "name": "ipython",
    "version": 3
   },
   "file_extension": ".py",
   "mimetype": "text/x-python",
   "name": "python",
   "nbconvert_exporter": "python",
   "pygments_lexer": "ipython3",
   "version": "3.8.10"
  },
  "orig_nbformat": 2,
  "kernelspec": {
   "name": "python3810jvsc74a57bd05c622353f32ef24c8d83e5c3e334107c074e82d7c3e8ca52c56b9fc900ce33e6",
   "display_name": "Python 3.8.10 64-bit ('tf_mac')"
  },
  "metadata": {
   "interpreter": {
    "hash": "5c622353f32ef24c8d83e5c3e334107c074e82d7c3e8ca52c56b9fc900ce33e6"
   }
  }
 },
 "nbformat": 4,
 "nbformat_minor": 2,
 "cells": [
  {
   "cell_type": "code",
   "execution_count": 1,
   "metadata": {},
   "outputs": [],
   "source": [
    "from Controller import TrainingController\n",
    "from Utils.SaveUtils import load_parameters\n",
    "from Parameters import TrainingParameters, PredictingParameters\n",
    "import tensorflow as tf"
   ]
  },
  {
   "cell_type": "code",
   "execution_count": 2,
   "metadata": {},
   "outputs": [],
   "source": [
    "folder_path = \"./SavedModels/%s\" % (\n",
    "\"0.8569_BPI2012_BaseLineLSTMModel_2021-05-28 19:02:39.442554\" # OW\n",
    ")   "
   ]
  },
  {
   "cell_type": "code",
   "execution_count": 3,
   "metadata": {},
   "outputs": [],
   "source": [
    "parameters_json = load_parameters(folder_path=folder_path)\n",
    "parameters = TrainingParameters(**parameters_json)\n",
    "parameters.load_model_folder_path = folder_path\n",
    "predicting_parameters = PredictingParameters()"
   ]
  },
  {
   "cell_type": "code",
   "execution_count": 4,
   "metadata": {},
   "outputs": [
    {
     "output_type": "stream",
     "name": "stdout",
     "text": [
      "\n",
      "=================================================\n",
      "| Running on /job:localhost/replica:0/task:0/device:CPU:0  \n",
      "=================================================\n",
      "\n",
      "=================================================\n",
      "| Preprocessed data loaded successfully: ./datasets/preprocessed/BPI_Challenge_2012/OW \n",
      "=================================================\n",
      "\n",
      "=================================================\n",
      "| Model loaded successfully from: ./SavedModels/0.8569_BPI2012_BaseLineLSTMModel_2021-05-28 19:02:39.442554  \n",
      "=================================================\n"
     ]
    }
   ],
   "source": [
    "trainer = TrainingController(parameters = parameters)"
   ]
  },
  {
   "cell_type": "code",
   "execution_count": null,
   "metadata": {},
   "outputs": [],
   "source": []
  }
 ]
}