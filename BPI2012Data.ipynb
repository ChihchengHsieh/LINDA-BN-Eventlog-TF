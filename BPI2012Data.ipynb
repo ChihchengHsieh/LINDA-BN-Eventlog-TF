{
 "metadata": {
  "language_info": {
   "codemirror_mode": {
    "name": "ipython",
    "version": 3
   },
   "file_extension": ".py",
   "mimetype": "text/x-python",
   "name": "python",
   "nbconvert_exporter": "python",
   "pygments_lexer": "ipython3",
   "version": "3.8.10"
  },
  "orig_nbformat": 4,
  "kernelspec": {
   "name": "python3",
   "display_name": "Python 3.8.10 64-bit ('tf_mac': conda)"
  },
  "interpreter": {
   "hash": "5c622353f32ef24c8d83e5c3e334107c074e82d7c3e8ca52c56b9fc900ce33e6"
  }
 },
 "nbformat": 4,
 "nbformat_minor": 2,
 "cells": [
  {
   "cell_type": "code",
   "execution_count": 35,
   "metadata": {},
   "outputs": [
    {
     "output_type": "stream",
     "name": "stderr",
     "text": [
      "parsing log, completed traces :: 100%|██████████| 13087/13087 [00:05<00:00, 2337.55it/s]\n"
     ]
    }
   ],
   "source": [
    "import pm4py\n",
    "import pandas as pd\n",
    "import math\n",
    "\n",
    "log = pm4py.read_xes(\"./datasets/event_logs/BPI_Challenge_2012.xes\")"
   ]
  },
  {
   "cell_type": "code",
   "execution_count": 36,
   "metadata": {},
   "outputs": [],
   "source": [
    "flattern_log = ([{**event,\n",
    "                    'caseid': trace.attributes['concept:name'],\n",
    "                    'amount': trace.attributes['AMOUNT_REQ'],\n",
    "                    }\n",
    "\n",
    "                    for trace in log for event in trace])\n",
    "df = pd.DataFrame(flattern_log)\n",
    "df = df[df[\"lifecycle:transition\"] == \"COMPLETE\"]\n",
    "df[\"org:resource\"] = [\n",
    "    '-1' if math.isnan(float(r)) else r for r in df[\"org:resource\"]]\n",
    "df[\"org:resource\"] = df[\"org:resource\"].astype('category')\n",
    "# df['resource'] = df[\"org:resource\"].cat.codes\n",
    "# resources = list(df[\"org:resource\"].cat.categories)"
   ]
  },
  {
   "cell_type": "code",
   "execution_count": 38,
   "metadata": {},
   "outputs": [],
   "source": [
    "df['resource'] = df[\"org:resource\"].cat.codes\n",
    "resources = list(df[\"org:resource\"].cat.categories)"
   ]
  },
  {
   "cell_type": "code",
   "execution_count": 39,
   "metadata": {},
   "outputs": [
    {
     "output_type": "execute_result",
     "data": {
      "text/plain": [
       "  org:resource lifecycle:transition       concept:name  \\\n",
       "0          112             COMPLETE        A_SUBMITTED   \n",
       "1          112             COMPLETE  A_PARTLYSUBMITTED   \n",
       "2          112             COMPLETE      A_PREACCEPTED   \n",
       "5        10862             COMPLETE         A_ACCEPTED   \n",
       "6        10862             COMPLETE         O_SELECTED   \n",
       "\n",
       "                     time:timestamp  caseid amount  resource  \n",
       "0  2011-10-01 00:38:44.546000+02:00  173688  20000        53  \n",
       "1  2011-10-01 00:38:44.880000+02:00  173688  20000        53  \n",
       "2  2011-10-01 00:39:37.906000+02:00  173688  20000        53  \n",
       "5  2011-10-01 11:42:43.308000+02:00  173688  20000        14  \n",
       "6  2011-10-01 11:45:09.243000+02:00  173688  20000        14  "
      ],
      "text/html": "<div>\n<style scoped>\n    .dataframe tbody tr th:only-of-type {\n        vertical-align: middle;\n    }\n\n    .dataframe tbody tr th {\n        vertical-align: top;\n    }\n\n    .dataframe thead th {\n        text-align: right;\n    }\n</style>\n<table border=\"1\" class=\"dataframe\">\n  <thead>\n    <tr style=\"text-align: right;\">\n      <th></th>\n      <th>org:resource</th>\n      <th>lifecycle:transition</th>\n      <th>concept:name</th>\n      <th>time:timestamp</th>\n      <th>caseid</th>\n      <th>amount</th>\n      <th>resource</th>\n    </tr>\n  </thead>\n  <tbody>\n    <tr>\n      <th>0</th>\n      <td>112</td>\n      <td>COMPLETE</td>\n      <td>A_SUBMITTED</td>\n      <td>2011-10-01 00:38:44.546000+02:00</td>\n      <td>173688</td>\n      <td>20000</td>\n      <td>53</td>\n    </tr>\n    <tr>\n      <th>1</th>\n      <td>112</td>\n      <td>COMPLETE</td>\n      <td>A_PARTLYSUBMITTED</td>\n      <td>2011-10-01 00:38:44.880000+02:00</td>\n      <td>173688</td>\n      <td>20000</td>\n      <td>53</td>\n    </tr>\n    <tr>\n      <th>2</th>\n      <td>112</td>\n      <td>COMPLETE</td>\n      <td>A_PREACCEPTED</td>\n      <td>2011-10-01 00:39:37.906000+02:00</td>\n      <td>173688</td>\n      <td>20000</td>\n      <td>53</td>\n    </tr>\n    <tr>\n      <th>5</th>\n      <td>10862</td>\n      <td>COMPLETE</td>\n      <td>A_ACCEPTED</td>\n      <td>2011-10-01 11:42:43.308000+02:00</td>\n      <td>173688</td>\n      <td>20000</td>\n      <td>14</td>\n    </tr>\n    <tr>\n      <th>6</th>\n      <td>10862</td>\n      <td>COMPLETE</td>\n      <td>O_SELECTED</td>\n      <td>2011-10-01 11:45:09.243000+02:00</td>\n      <td>173688</td>\n      <td>20000</td>\n      <td>14</td>\n    </tr>\n  </tbody>\n</table>\n</div>"
     },
     "metadata": {},
     "execution_count": 39
    }
   ],
   "source": [
    "df.head(5)"
   ]
  },
  {
   "cell_type": "code",
   "execution_count": null,
   "metadata": {},
   "outputs": [],
   "source": []
  },
  {
   "cell_type": "code",
   "execution_count": null,
   "metadata": {},
   "outputs": [],
   "source": []
  },
  {
   "cell_type": "code",
   "execution_count": 26,
   "metadata": {},
   "outputs": [
    {
     "output_type": "execute_result",
     "data": {
      "text/plain": [
       "Index(['<PAD>', '-1', '10124', '10125', '10138', '10188', '10228', '10609',\n",
       "       '10629', '10779', '10789', '10809', '10821', '10859', '10861', '10862',\n",
       "       '10863', '10880', '10881', '10889', '10899', '10909', '10910', '10912',\n",
       "       '10913', '10914', '10929', '10931', '10932', '10933', '10935', '10939',\n",
       "       '10971', '10972', '10982', '11000', '11001', '11002', '11003', '11009',\n",
       "       '11019', '11029', '11049', '11079', '11111', '11119', '11120', '11121',\n",
       "       '11122', '11169', '11179', '11180', '11181', '11189', '112', '11200',\n",
       "       '11201', '11202', '11203', '11254', '11259', '11269', '11289', '11299',\n",
       "       '11300', '11302', '11304', '11309', '11319', '11339'],\n",
       "      dtype='object')"
      ]
     },
     "metadata": {},
     "execution_count": 26
    }
   ],
   "source": [
    "df[\"org:resource\"].cat.categories.insert(0, \"<PAD>\")"
   ]
  },
  {
   "cell_type": "code",
   "execution_count": 31,
   "metadata": {},
   "outputs": [],
   "source": [
    "resources =  list(df[\"org:resource\"].cat.categories.insert(0, \"<PAD>\"))"
   ]
  },
  {
   "cell_type": "code",
   "execution_count": 33,
   "metadata": {},
   "outputs": [],
   "source": [
    "df[\"resource\"] = df[\"org:resource\"].apply(lambda a: resources.index(a))"
   ]
  },
  {
   "cell_type": "code",
   "execution_count": 34,
   "metadata": {},
   "outputs": [
    {
     "output_type": "execute_result",
     "data": {
      "text/plain": [
       "  org:resource lifecycle:transition       concept:name  \\\n",
       "0          112             COMPLETE        A_SUBMITTED   \n",
       "1          112             COMPLETE  A_PARTLYSUBMITTED   \n",
       "2          112             COMPLETE      A_PREACCEPTED   \n",
       "5        10862             COMPLETE         A_ACCEPTED   \n",
       "6        10862             COMPLETE         O_SELECTED   \n",
       "\n",
       "                     time:timestamp  caseid amount resource  \n",
       "0  2011-10-01 00:38:44.546000+02:00  173688  20000       54  \n",
       "1  2011-10-01 00:38:44.880000+02:00  173688  20000       54  \n",
       "2  2011-10-01 00:39:37.906000+02:00  173688  20000       54  \n",
       "5  2011-10-01 11:42:43.308000+02:00  173688  20000       15  \n",
       "6  2011-10-01 11:45:09.243000+02:00  173688  20000       15  "
      ],
      "text/html": "<div>\n<style scoped>\n    .dataframe tbody tr th:only-of-type {\n        vertical-align: middle;\n    }\n\n    .dataframe tbody tr th {\n        vertical-align: top;\n    }\n\n    .dataframe thead th {\n        text-align: right;\n    }\n</style>\n<table border=\"1\" class=\"dataframe\">\n  <thead>\n    <tr style=\"text-align: right;\">\n      <th></th>\n      <th>org:resource</th>\n      <th>lifecycle:transition</th>\n      <th>concept:name</th>\n      <th>time:timestamp</th>\n      <th>caseid</th>\n      <th>amount</th>\n      <th>resource</th>\n    </tr>\n  </thead>\n  <tbody>\n    <tr>\n      <th>0</th>\n      <td>112</td>\n      <td>COMPLETE</td>\n      <td>A_SUBMITTED</td>\n      <td>2011-10-01 00:38:44.546000+02:00</td>\n      <td>173688</td>\n      <td>20000</td>\n      <td>54</td>\n    </tr>\n    <tr>\n      <th>1</th>\n      <td>112</td>\n      <td>COMPLETE</td>\n      <td>A_PARTLYSUBMITTED</td>\n      <td>2011-10-01 00:38:44.880000+02:00</td>\n      <td>173688</td>\n      <td>20000</td>\n      <td>54</td>\n    </tr>\n    <tr>\n      <th>2</th>\n      <td>112</td>\n      <td>COMPLETE</td>\n      <td>A_PREACCEPTED</td>\n      <td>2011-10-01 00:39:37.906000+02:00</td>\n      <td>173688</td>\n      <td>20000</td>\n      <td>54</td>\n    </tr>\n    <tr>\n      <th>5</th>\n      <td>10862</td>\n      <td>COMPLETE</td>\n      <td>A_ACCEPTED</td>\n      <td>2011-10-01 11:42:43.308000+02:00</td>\n      <td>173688</td>\n      <td>20000</td>\n      <td>15</td>\n    </tr>\n    <tr>\n      <th>6</th>\n      <td>10862</td>\n      <td>COMPLETE</td>\n      <td>O_SELECTED</td>\n      <td>2011-10-01 11:45:09.243000+02:00</td>\n      <td>173688</td>\n      <td>20000</td>\n      <td>15</td>\n    </tr>\n  </tbody>\n</table>\n</div>"
     },
     "metadata": {},
     "execution_count": 34
    }
   ],
   "source": [
    "df.head(5)"
   ]
  },
  {
   "cell_type": "code",
   "execution_count": null,
   "metadata": {},
   "outputs": [],
   "source": []
  },
  {
   "cell_type": "code",
   "execution_count": null,
   "metadata": {},
   "outputs": [],
   "source": []
  },
  {
   "cell_type": "code",
   "execution_count": null,
   "metadata": {},
   "outputs": [],
   "source": []
  },
  {
   "cell_type": "code",
   "execution_count": 36,
   "metadata": {},
   "outputs": [
    {
     "output_type": "error",
     "ename": "TypeError",
     "evalue": "'Trace' object is not a mapping",
     "traceback": [
      "\u001b[0;31m---------------------------------------------------------------------------\u001b[0m",
      "\u001b[0;31mTypeError\u001b[0m                                 Traceback (most recent call last)",
      "\u001b[0;32m<ipython-input-36-743114683b56>\u001b[0m in \u001b[0;36m<module>\u001b[0;34m\u001b[0m\n\u001b[0;32m----> 1\u001b[0;31m \u001b[0;34m{\u001b[0m\u001b[0;34m**\u001b[0m\u001b[0mevent\u001b[0m\u001b[0;34m}\u001b[0m\u001b[0;34m\u001b[0m\u001b[0;34m\u001b[0m\u001b[0m\n\u001b[0m",
      "\u001b[0;31mTypeError\u001b[0m: 'Trace' object is not a mapping"
     ]
    }
   ],
   "source": [
    "{**event}"
   ]
  },
  {
   "cell_type": "code",
   "execution_count": 38,
   "metadata": {},
   "outputs": [
    {
     "output_type": "execute_result",
     "data": {
      "text/plain": [
       "13573.356078551235"
      ]
     },
     "metadata": {},
     "execution_count": 38
    }
   ],
   "source": [
    "import numpy as np\n",
    "np.mean([int(event.attributes[\"AMOUNT_REQ\"]) for event in log])\n",
    "    "
   ]
  },
  {
   "cell_type": "code",
   "execution_count": 49,
   "metadata": {},
   "outputs": [
    {
     "output_type": "stream",
     "name": "stdout",
     "text": [
      "{'attributes': {'REG_DATE': datetime.datetime(2011, 10, 1, 0, 38, 44, 546000, tzinfo=datetime.timezone(datetime.timedelta(seconds=7200))), 'concept:name': '173688', 'AMOUNT_REQ': '20000'}, 'events': [{'org:resource': '112', 'lifecycle:transition': 'COMPLETE', 'concept:name': 'A_SUBMITTED', 'time:timestamp': datetime.datetime(2011, 10, 1, 0, 38, 44, 546000, tzinfo=datetime.timezone(datetime.timedelta(seconds=7200)))}, '..', {'org:resource': '10629', 'lifecycle:transition': 'COMPLETE', 'concept:name': 'W_Valideren aanvraag', 'time:timestamp': datetime.datetime(2011, 10, 13, 10, 37, 37, 26000, tzinfo=datetime.timezone(datetime.timedelta(seconds=7200)))}]}\n"
     ]
    },
    {
     "output_type": "error",
     "ename": "StopIteration",
     "evalue": "",
     "traceback": [
      "\u001b[0;31m---------------------------------------------------------------------------\u001b[0m",
      "\u001b[0;31mStopIteration\u001b[0m                             Traceback (most recent call last)",
      "\u001b[0;32m<ipython-input-49-8f58766755aa>\u001b[0m in \u001b[0;36m<module>\u001b[0;34m\u001b[0m\n\u001b[1;32m      1\u001b[0m \u001b[0;32mfor\u001b[0m \u001b[0mtrace\u001b[0m \u001b[0;32min\u001b[0m \u001b[0mlog\u001b[0m\u001b[0;34m:\u001b[0m\u001b[0;34m\u001b[0m\u001b[0;34m\u001b[0m\u001b[0m\n\u001b[1;32m      2\u001b[0m     \u001b[0mprint\u001b[0m\u001b[0;34m(\u001b[0m\u001b[0mevent\u001b[0m\u001b[0;34m)\u001b[0m\u001b[0;34m\u001b[0m\u001b[0;34m\u001b[0m\u001b[0m\n\u001b[0;32m----> 3\u001b[0;31m     \u001b[0;32mraise\u001b[0m \u001b[0mStopIteration\u001b[0m\u001b[0;34m\u001b[0m\u001b[0;34m\u001b[0m\u001b[0m\n\u001b[0m",
      "\u001b[0;31mStopIteration\u001b[0m: "
     ]
    }
   ],
   "source": [
    "for trace in log:\n",
    "    print(event)\n",
    "    raise StopIteration"
   ]
  },
  {
   "cell_type": "code",
   "execution_count": 51,
   "metadata": {},
   "outputs": [
    {
     "output_type": "execute_result",
     "data": {
      "text/plain": [
       "'20000'"
      ]
     },
     "metadata": {},
     "execution_count": 51
    }
   ],
   "source": [
    "trace.attributes[\"\"]"
   ]
  },
  {
   "cell_type": "code",
   "execution_count": 15,
   "metadata": {},
   "outputs": [
    {
     "output_type": "error",
     "ename": "NameError",
     "evalue": "name 'df' is not defined",
     "traceback": [
      "\u001b[0;31m---------------------------------------------------------------------------\u001b[0m",
      "\u001b[0;31mNameError\u001b[0m                                 Traceback (most recent call last)",
      "\u001b[0;32m<ipython-input-15-a29405eb924b>\u001b[0m in \u001b[0;36m<module>\u001b[0;34m\u001b[0m\n\u001b[0;32m----> 1\u001b[0;31m \u001b[0mdf\u001b[0m\u001b[0;34m.\u001b[0m\u001b[0mhead\u001b[0m\u001b[0;34m(\u001b[0m\u001b[0;36m5\u001b[0m\u001b[0;34m)\u001b[0m\u001b[0;34m\u001b[0m\u001b[0;34m\u001b[0m\u001b[0m\n\u001b[0m",
      "\u001b[0;31mNameError\u001b[0m: name 'df' is not defined"
     ]
    }
   ],
   "source": [
    "df.head(5)"
   ]
  },
  {
   "cell_type": "code",
   "execution_count": 1,
   "metadata": {},
   "outputs": [],
   "source": [
    "import tensorflow as tf\n",
    "class BaselineLSTMWithResource(tf.keras.Model):\n",
    "    def __init__(self,):\n",
    "        pass"
   ]
  },
  {
   "cell_type": "code",
   "execution_count": null,
   "metadata": {},
   "outputs": [],
   "source": []
  },
  {
   "cell_type": "code",
   "execution_count": null,
   "metadata": {},
   "outputs": [],
   "source": [
    "activity_embedding_dim = 32\n",
    "resource_embedding_dim = 32\n",
    "activity_embeddding = tf.keras.layers.Embedding(\n",
    "    input_dim = len(dataset.vocab),\n",
    "    output_dim= = activity_embedding_dim,\n",
    "    mask_zero= True,\n",
    ")\n",
    "\n",
    "resource_embedding_dim = tf.keras.layers.Embedding(\n",
    "    input_dim = len(dataset.resources),\n",
    "    output_dim = resource_embedding_dim,\n",
    "    mask_zero = True\n",
    ")"
   ]
  },
  {
   "cell_type": "code",
   "execution_count": null,
   "metadata": {},
   "outputs": [],
   "source": []
  },
  {
   "cell_type": "code",
   "execution_count": null,
   "metadata": {},
   "outputs": [],
   "source": []
  },
  {
   "cell_type": "code",
   "execution_count": 2,
   "metadata": {},
   "outputs": [
    {
     "output_type": "execute_result",
     "data": {
      "text/plain": [
       "Parameters.EnviromentParameters.EnviromentParameters.BPI2020DatasetWithResource"
      ]
     },
     "metadata": {},
     "execution_count": 2
    }
   ],
   "source": [
    "EnviromentParameters.BPI2020DatasetWithResource"
   ]
  },
  {
   "cell_type": "code",
   "execution_count": 1,
   "metadata": {},
   "outputs": [],
   "source": [
    "from Data import XESDatasetWithResource\n",
    "from Parameters import TrainingParameters, EnviromentParameters"
   ]
  },
  {
   "cell_type": "code",
   "execution_count": 2,
   "metadata": {},
   "outputs": [
    {
     "output_type": "stream",
     "name": "stdout",
     "text": [
      "\n=================================================\n| Preprocessed data loaded successfully: ./datasets/preprocessed/BPI_Challenge_2012_with_resource/AOW \n=================================================\n"
     ]
    }
   ],
   "source": [
    "dataset = XESDatasetWithResource(file_path= EnviromentParameters.BPI2020DatasetWithResource.file_path, preprocessed_folder_path=EnviromentParameters.BPI2020DatasetWithResource.preprocessed_foldr_path, preprocessed_df_type= EnviromentParameters.BPI2020DatasetWithResource.preprocessed_df_type,include_types=TrainingParameters.bpi2012.BPI2012_include_types)"
   ]
  },
  {
   "cell_type": "code",
   "execution_count": 3,
   "metadata": {},
   "outputs": [],
   "source": [
    "caseids, padded_data_traces, lengths, padded_data_resources, batch_amount, padded_target_traces = dataset.collate_fn([0,1,2])"
   ]
  },
  {
   "cell_type": "code",
   "execution_count": 6,
   "metadata": {},
   "outputs": [
    {
     "output_type": "execute_result",
     "data": {
      "text/plain": [
       "array([[ 2, 12,  9, 10,  3, 17,  8, 15, 19, 22, 24, 24, 18, 24, 11,  5,\n",
       "        13,  4, 25,  0,  0,  0,  0,  0,  0,  0,  0,  0,  0,  0,  0,  0,\n",
       "         0,  0,  0,  0,  0,  0],\n",
       "       [ 2, 12,  9, 10, 22,  3,  8, 17, 15, 19, 22, 24, 14, 17, 15, 19,\n",
       "        24, 24, 18, 24, 25, 25, 13,  4,  5, 11, 25,  0,  0,  0,  0,  0,\n",
       "         0,  0,  0,  0,  0,  0],\n",
       "       [ 2, 12,  9, 10, 22, 22, 22,  3, 17,  8, 15, 19, 22, 17, 14, 15,\n",
       "        19, 24, 24, 24, 24, 17, 14, 15, 19, 24, 24, 24, 24, 24, 24, 18,\n",
       "        24, 13,  5, 11,  4, 25]], dtype=int32)"
      ]
     },
     "metadata": {},
     "execution_count": 6
    }
   ],
   "source": [
    "padded_data_traces"
   ]
  },
  {
   "cell_type": "code",
   "execution_count": null,
   "metadata": {},
   "outputs": [],
   "source": []
  },
  {
   "cell_type": "code",
   "execution_count": null,
   "metadata": {},
   "outputs": [],
   "source": []
  }
 ]
}