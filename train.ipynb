{
 "metadata": {
  "language_info": {
   "codemirror_mode": {
    "name": "ipython",
    "version": 3
   },
   "file_extension": ".py",
   "mimetype": "text/x-python",
   "name": "python",
   "nbconvert_exporter": "python",
   "pygments_lexer": "ipython3",
   "version": "3.8.10"
  },
  "orig_nbformat": 2,
  "kernelspec": {
   "name": "python3810jvsc74a57bd05c622353f32ef24c8d83e5c3e334107c074e82d7c3e8ca52c56b9fc900ce33e6",
   "display_name": "Python 3.8.10 64-bit ('tf_mac': conda)"
  },
  "metadata": {
   "interpreter": {
    "hash": "5c622353f32ef24c8d83e5c3e334107c074e82d7c3e8ca52c56b9fc900ce33e6"
   }
  }
 },
 "nbformat": 4,
 "nbformat_minor": 2,
 "cells": [
  {
   "cell_type": "code",
   "execution_count": 1,
   "metadata": {},
   "outputs": [],
   "source": [
    "from Controller import TrainingController\n",
    "from Utils.SaveUtils import load_parameters\n",
    "from Parameters import TrainingParameters\n",
    "import tensorflow as tf\n",
    "import numpy as np"
   ]
  },
  {
   "cell_type": "code",
   "execution_count": 2,
   "metadata": {},
   "outputs": [],
   "source": [
    "####### Show tensorboard\n",
    "# %load_ext tensorboard\n",
    "# %tensorboard --logdir logs/gradient_tape\n",
    "# %tensorboard --logdir logs/gradient_tape --host localhost --port 8088"
   ]
  },
  {
   "cell_type": "code",
   "execution_count": 3,
   "metadata": {},
   "outputs": [
    {
     "output_type": "stream",
     "name": "stdout",
     "text": [
      "\n",
      "=================================================\n",
      "| Running on /job:localhost/replica:0/task:0/device:CPU:0  \n",
      "=================================================\n",
      "\n",
      "=================================================\n",
      "| Preprocessed data loaded successfully: ./datasets/preprocessed/BPI_Challenge_2012/AOW \n",
      "=================================================\n"
     ]
    }
   ],
   "source": [
    "parameters = TrainingParameters()\n",
    "tf.random.set_seed(parameters.dataset_split_seed)\n",
    "np.random.seed(parameters.dataset_split_seed)\n",
    "trainer = TrainingController(parameters = parameters)"
   ]
  },
  {
   "cell_type": "code",
   "execution_count": 4,
   "metadata": {},
   "outputs": [
    {
     "output_type": "stream",
     "name": "stdout",
     "text": [
      "Model: \"baseline_lstm\"\n_________________________________________________________________\nLayer (type)                 Output Shape              Param #   \n=================================================================\nembedding (Embedding)        multiple                  1248      \n_________________________________________________________________\nlstm (LSTM)                  multiple                  24832     \n_________________________________________________________________\nsequential (Sequential)      (1, 1, 39)                2791      \n=================================================================\nTotal params: 28,871\nTrainable params: 28,743\nNon-trainable params: 128\n_________________________________________________________________\n"
     ]
    }
   ],
   "source": [
    "trainer.show_model_info()"
   ]
  },
  {
   "cell_type": "code",
   "execution_count": 5,
   "metadata": {},
   "outputs": [
    {
     "output_type": "execute_result",
     "data": {
      "text/plain": [
       "{'<EOS>': 1,\n",
       " '<SOS>': 2,\n",
       " 'A_ACCEPTED_COMPLETE': 3,\n",
       " 'A_ACTIVATED_COMPLETE': 4,\n",
       " 'A_APPROVED_COMPLETE': 5,\n",
       " 'A_CANCELLED_COMPLETE': 6,\n",
       " 'A_DECLINED_COMPLETE': 7,\n",
       " 'A_FINALIZED_COMPLETE': 8,\n",
       " 'A_PARTLYSUBMITTED_COMPLETE': 9,\n",
       " 'A_PREACCEPTED_COMPLETE': 10,\n",
       " 'A_REGISTERED_COMPLETE': 11,\n",
       " 'A_SUBMITTED_COMPLETE': 12,\n",
       " 'O_ACCEPTED_COMPLETE': 13,\n",
       " 'O_CANCELLED_COMPLETE': 14,\n",
       " 'O_CREATED_COMPLETE': 15,\n",
       " 'O_DECLINED_COMPLETE': 16,\n",
       " 'O_SELECTED_COMPLETE': 17,\n",
       " 'O_SENT_BACK_COMPLETE': 18,\n",
       " 'O_SENT_COMPLETE': 19,\n",
       " 'W_Afhandelen leads_COMPLETE': 20,\n",
       " 'W_Afhandelen leads_SCHEDULE': 21,\n",
       " 'W_Afhandelen leads_START': 22,\n",
       " 'W_Beoordelen fraude_COMPLETE': 23,\n",
       " 'W_Beoordelen fraude_SCHEDULE': 24,\n",
       " 'W_Beoordelen fraude_START': 25,\n",
       " 'W_Completeren aanvraag_COMPLETE': 26,\n",
       " 'W_Completeren aanvraag_SCHEDULE': 27,\n",
       " 'W_Completeren aanvraag_START': 28,\n",
       " 'W_Nabellen incomplete dossiers_COMPLETE': 29,\n",
       " 'W_Nabellen incomplete dossiers_SCHEDULE': 30,\n",
       " 'W_Nabellen incomplete dossiers_START': 31,\n",
       " 'W_Nabellen offertes_COMPLETE': 32,\n",
       " 'W_Nabellen offertes_SCHEDULE': 33,\n",
       " 'W_Nabellen offertes_START': 34,\n",
       " 'W_Valideren aanvraag_COMPLETE': 35,\n",
       " 'W_Valideren aanvraag_SCHEDULE': 36,\n",
       " 'W_Valideren aanvraag_START': 37,\n",
       " 'W_Wijzigen contractgegevens_SCHEDULE': 38,\n",
       " '<PAD>': 0}"
      ]
     },
     "metadata": {},
     "execution_count": 5
    }
   ],
   "source": [
    "trainer.model.vocab.vocab_dict"
   ]
  },
  {
   "cell_type": "code",
   "execution_count": 6,
   "metadata": {
    "tags": []
   },
   "outputs": [
    {
     "output_type": "stream",
     "name": "stdout",
     "text": [
      "\n",
      "=================================================\n",
      "| Total epochs: 50 \n",
      "=================================================\n",
      "\n",
      "=================================================\n",
      "| Total steps: 4100 \n",
      "=================================================\n",
      "\n",
      "=================================================\n",
      "| Start epoch 0 \n",
      "=================================================\n",
      "\n",
      "=================================================\n",
      "| Start epoch 1 \n",
      "=================================================\n",
      "\n",
      "=================================================\n",
      "| Start epoch 2 \n",
      "=================================================\n",
      "\n",
      "=================================================\n",
      "| Start epoch 3 \n",
      "=================================================\n",
      "\n",
      "=================================================\n",
      "| Evaluation result | Loss [0.2383] | Accuracy [0.7349]  \n",
      "=================================================\n",
      "\n",
      "=================================================\n",
      "| Start epoch 4 \n",
      "=================================================\n",
      "\n",
      "=================================================\n",
      "| Start epoch 5 \n",
      "=================================================\n",
      "\n",
      "=================================================\n",
      "| Start epoch 6 \n",
      "=================================================\n",
      "\n",
      "=================================================\n",
      "| Start epoch 7 \n",
      "=================================================\n",
      "\n",
      "=================================================\n",
      "| Evaluation result | Loss [0.0755] | Accuracy [0.8642]  \n",
      "=================================================\n",
      "\n",
      "=================================================\n",
      "| Start epoch 8 \n",
      "=================================================\n",
      "\n",
      "=================================================\n",
      "| Start epoch 9 \n",
      "=================================================\n",
      "\n",
      "=================================================\n",
      "| Start epoch 10 \n",
      "=================================================\n",
      "\n",
      "=================================================\n",
      "| Evaluation result | Loss [0.0757] | Accuracy [0.8627]  \n",
      "=================================================\n",
      "\n",
      "=================================================\n",
      "| Start epoch 11 \n",
      "=================================================\n",
      "\n",
      "=================================================\n",
      "| Start epoch 12 \n",
      "=================================================\n",
      "\n",
      "=================================================\n",
      "| Start epoch 13 \n",
      "=================================================\n",
      "\n",
      "=================================================\n",
      "| Start epoch 14 \n",
      "=================================================\n",
      "\n",
      "=================================================\n",
      "| Evaluation result | Loss [0.0801] | Accuracy [0.8602]  \n",
      "=================================================\n",
      "\n",
      "=================================================\n",
      "| Start epoch 15 \n",
      "=================================================\n",
      "\n",
      "=================================================\n",
      "| Start epoch 16 \n",
      "=================================================\n",
      "\n",
      "=================================================\n",
      "| Start epoch 17 \n",
      "=================================================\n",
      "\n",
      "=================================================\n",
      "| Start epoch 18 \n",
      "=================================================\n",
      "\n",
      "=================================================\n",
      "| Evaluation result | Loss [0.0675] | Accuracy [0.8578]  \n",
      "=================================================\n",
      "\n",
      "=================================================\n",
      "| Start epoch 19 \n",
      "=================================================\n",
      "\n",
      "=================================================\n",
      "| Start epoch 20 \n",
      "=================================================\n",
      "\n",
      "=================================================\n",
      "| Start epoch 21 \n",
      "=================================================\n",
      "\n",
      "=================================================\n",
      "| Evaluation result | Loss [0.0780] | Accuracy [0.8645]  \n",
      "=================================================\n",
      "\n",
      "=================================================\n",
      "| Start epoch 22 \n",
      "=================================================\n",
      "\n",
      "=================================================\n",
      "| Start epoch 23 \n",
      "=================================================\n",
      "\n",
      "=================================================\n",
      "| Start epoch 24 \n",
      "=================================================\n",
      "\n",
      "=================================================\n",
      "| Start epoch 25 \n",
      "=================================================\n",
      "\n",
      "=================================================\n",
      "| Evaluation result | Loss [0.0805] | Accuracy [0.8613]  \n",
      "=================================================\n",
      "\n",
      "=================================================\n",
      "| Start epoch 26 \n",
      "=================================================\n",
      "\n",
      "=================================================\n",
      "| Start epoch 27 \n",
      "=================================================\n",
      "\n",
      "=================================================\n",
      "| Start epoch 28 \n",
      "=================================================\n",
      "\n",
      "=================================================\n",
      "| Start epoch 29 \n",
      "=================================================\n",
      "\n",
      "=================================================\n",
      "| Evaluation result | Loss [0.0738] | Accuracy [0.8599]  \n",
      "=================================================\n",
      "\n",
      "=================================================\n",
      "| Start epoch 30 \n",
      "=================================================\n",
      "\n",
      "=================================================\n",
      "| Start epoch 31 \n",
      "=================================================\n",
      "\n",
      "=================================================\n",
      "| Start epoch 32 \n",
      "=================================================\n",
      "\n",
      "=================================================\n",
      "| Evaluation result | Loss [0.0721] | Accuracy [0.8622]  \n",
      "=================================================\n",
      "\n",
      "=================================================\n",
      "| Start epoch 33 \n",
      "=================================================\n",
      "\n",
      "=================================================\n",
      "| Start epoch 34 \n",
      "=================================================\n",
      "\n",
      "=================================================\n",
      "| Start epoch 35 \n",
      "=================================================\n",
      "\n",
      "=================================================\n",
      "| Start epoch 36 \n",
      "=================================================\n",
      "\n",
      "=================================================\n",
      "| Evaluation result | Loss [0.0814] | Accuracy [0.8579]  \n",
      "=================================================\n",
      "\n",
      "=================================================\n",
      "| Start epoch 37 \n",
      "=================================================\n",
      "\n",
      "=================================================\n",
      "| Start epoch 38 \n",
      "=================================================\n",
      "\n",
      "=================================================\n",
      "| Start epoch 39 \n",
      "=================================================\n",
      "\n",
      "=================================================\n",
      "| Start epoch 40 \n",
      "=================================================\n",
      "\n",
      "=================================================\n",
      "| Evaluation result | Loss [0.0761] | Accuracy [0.8591]  \n",
      "=================================================\n",
      "\n",
      "=================================================\n",
      "| Start epoch 41 \n",
      "=================================================\n",
      "\n",
      "=================================================\n",
      "| Start epoch 42 \n",
      "=================================================\n",
      "\n",
      "=================================================\n",
      "| Start epoch 43 \n",
      "=================================================\n",
      "\n",
      "=================================================\n",
      "| Evaluation result | Loss [0.0704] | Accuracy [0.8612]  \n",
      "=================================================\n",
      "\n",
      "=================================================\n",
      "| Start epoch 44 \n",
      "=================================================\n",
      "\n",
      "=================================================\n",
      "| Start epoch 45 \n",
      "=================================================\n",
      "\n",
      "=================================================\n",
      "| Start epoch 46 \n",
      "=================================================\n",
      "\n",
      "=================================================\n",
      "| Start epoch 47 \n",
      "=================================================\n",
      "\n",
      "=================================================\n",
      "| Evaluation result | Loss [0.0773] | Accuracy [0.8630]  \n",
      "=================================================\n",
      "\n",
      "=================================================\n",
      "| Start epoch 48 \n",
      "=================================================\n",
      "\n",
      "=================================================\n",
      "| Start epoch 49 \n",
      "=================================================\n",
      "\n",
      "=================================================\n",
      "| Performing Testing ... \n",
      "=================================================\n",
      "\n",
      "=================================================\n",
      "| Evaluation result | Loss [0.0696] | Accuracy [0.8613]  \n",
      "=================================================\n"
     ]
    }
   ],
   "source": [
    "trainer.train()"
   ]
  },
  {
   "cell_type": "code",
   "execution_count": 7,
   "metadata": {},
   "outputs": [
    {
     "output_type": "stream",
     "name": "stdout",
     "text": [
      "\n=================================================\n| Model saved successfully to: ./SavedModels/0.8613_BPI2012_BaseLineLSTMModel_2021-06-07 17:36:01.075556  \n=================================================\n"
     ]
    }
   ],
   "source": [
    "###### Save modelz\n",
    "trainer.save_training_result(\"train.ipynb\")"
   ]
  },
  {
   "cell_type": "code",
   "execution_count": 8,
   "metadata": {},
   "outputs": [],
   "source": [
    "# trainer.load_trained_model(\"./SavedModels/0.7700_Diabetes_BaseNNModel_2021-05-30 04:41:24.179089\")"
   ]
  },
  {
   "cell_type": "code",
   "execution_count": 9,
   "metadata": {},
   "outputs": [
    {
     "output_type": "execute_result",
     "data": {
      "text/plain": [
       "{'<EOS>': 1,\n",
       " '<SOS>': 2,\n",
       " 'A_ACCEPTED_COMPLETE': 3,\n",
       " 'A_ACTIVATED_COMPLETE': 4,\n",
       " 'A_APPROVED_COMPLETE': 5,\n",
       " 'A_CANCELLED_COMPLETE': 6,\n",
       " 'A_DECLINED_COMPLETE': 7,\n",
       " 'A_FINALIZED_COMPLETE': 8,\n",
       " 'A_PARTLYSUBMITTED_COMPLETE': 9,\n",
       " 'A_PREACCEPTED_COMPLETE': 10,\n",
       " 'A_REGISTERED_COMPLETE': 11,\n",
       " 'A_SUBMITTED_COMPLETE': 12,\n",
       " 'O_ACCEPTED_COMPLETE': 13,\n",
       " 'O_CANCELLED_COMPLETE': 14,\n",
       " 'O_CREATED_COMPLETE': 15,\n",
       " 'O_DECLINED_COMPLETE': 16,\n",
       " 'O_SELECTED_COMPLETE': 17,\n",
       " 'O_SENT_BACK_COMPLETE': 18,\n",
       " 'O_SENT_COMPLETE': 19,\n",
       " 'W_Afhandelen leads_COMPLETE': 20,\n",
       " 'W_Afhandelen leads_SCHEDULE': 21,\n",
       " 'W_Afhandelen leads_START': 22,\n",
       " 'W_Beoordelen fraude_COMPLETE': 23,\n",
       " 'W_Beoordelen fraude_SCHEDULE': 24,\n",
       " 'W_Beoordelen fraude_START': 25,\n",
       " 'W_Completeren aanvraag_COMPLETE': 26,\n",
       " 'W_Completeren aanvraag_SCHEDULE': 27,\n",
       " 'W_Completeren aanvraag_START': 28,\n",
       " 'W_Nabellen incomplete dossiers_COMPLETE': 29,\n",
       " 'W_Nabellen incomplete dossiers_SCHEDULE': 30,\n",
       " 'W_Nabellen incomplete dossiers_START': 31,\n",
       " 'W_Nabellen offertes_COMPLETE': 32,\n",
       " 'W_Nabellen offertes_SCHEDULE': 33,\n",
       " 'W_Nabellen offertes_START': 34,\n",
       " 'W_Valideren aanvraag_COMPLETE': 35,\n",
       " 'W_Valideren aanvraag_SCHEDULE': 36,\n",
       " 'W_Valideren aanvraag_START': 37,\n",
       " 'W_Wijzigen contractgegevens_SCHEDULE': 38,\n",
       " '<PAD>': 0}"
      ]
     },
     "metadata": {},
     "execution_count": 9
    }
   ],
   "source": [
    "trainer.model.vocab.vocab_dict"
   ]
  },
  {
   "cell_type": "code",
   "execution_count": 10,
   "metadata": {},
   "outputs": [
    {
     "output_type": "error",
     "ename": "AttributeError",
     "evalue": "'BaselineLSTM' object has no attribute 'var_'",
     "traceback": [
      "\u001b[0;31m---------------------------------------------------------------------------\u001b[0m",
      "\u001b[0;31mAttributeError\u001b[0m                            Traceback (most recent call last)",
      "\u001b[0;32m<ipython-input-10-fc4568e37095>\u001b[0m in \u001b[0;36m<module>\u001b[0;34m\u001b[0m\n\u001b[0;32m----> 1\u001b[0;31m \u001b[0mtrainer\u001b[0m\u001b[0;34m.\u001b[0m\u001b[0mmodel\u001b[0m\u001b[0;34m.\u001b[0m\u001b[0mvar_\u001b[0m\u001b[0;34m\u001b[0m\u001b[0;34m\u001b[0m\u001b[0m\n\u001b[0m",
      "\u001b[0;31mAttributeError\u001b[0m: 'BaselineLSTM' object has no attribute 'var_'"
     ]
    }
   ],
   "source": [
    "trainer.model.var_"
   ]
  },
  {
   "cell_type": "code",
   "execution_count": 13,
   "metadata": {},
   "outputs": [
    {
     "output_type": "execute_result",
     "data": {
      "text/plain": [
       "<tf.Tensor: shape=(8,), dtype=float32, numpy=\n",
       "array([1.2412975e+01, 1.0790321e+03, 3.9889938e+02, 2.6584885e+02,\n",
       "       1.5491934e+04, 6.2756962e+01, 1.3522759e-01, 1.3059077e+02],\n",
       "      dtype=float32)>"
      ]
     },
     "metadata": {},
     "execution_count": 13
    }
   ],
   "source": [
    "tf.constant(tf.Variable(trainer.model.var_))"
   ]
  },
  {
   "cell_type": "code",
   "execution_count": 14,
   "metadata": {},
   "outputs": [
    {
     "output_type": "error",
     "ename": "AttributeError",
     "evalue": "'BaseNN' object has no attribute 'vocab'",
     "traceback": [
      "\u001b[0;31m---------------------------------------------------------------------------\u001b[0m",
      "\u001b[0;31mAttributeError\u001b[0m                            Traceback (most recent call last)",
      "\u001b[0;32m<ipython-input-14-c2ab5d80de56>\u001b[0m in \u001b[0;36m<module>\u001b[0;34m\u001b[0m\n\u001b[0;32m----> 1\u001b[0;31m \u001b[0mtrainer\u001b[0m\u001b[0;34m.\u001b[0m\u001b[0mmodel\u001b[0m\u001b[0;34m.\u001b[0m\u001b[0mvocab\u001b[0m\u001b[0;34m\u001b[0m\u001b[0;34m\u001b[0m\u001b[0m\n\u001b[0m",
      "\u001b[0;31mAttributeError\u001b[0m: 'BaseNN' object has no attribute 'vocab'"
     ]
    }
   ],
   "source": [
    "trainer.model.vocab"
   ]
  },
  {
   "cell_type": "code",
   "execution_count": null,
   "metadata": {},
   "outputs": [],
   "source": []
  }
 ]
}