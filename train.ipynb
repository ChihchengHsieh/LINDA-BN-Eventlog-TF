{
 "metadata": {
  "language_info": {
   "codemirror_mode": {
    "name": "ipython",
    "version": 3
   },
   "file_extension": ".py",
   "mimetype": "text/x-python",
   "name": "python",
   "nbconvert_exporter": "python",
   "pygments_lexer": "ipython3",
   "version": "3.8.10"
  },
  "orig_nbformat": 2,
  "kernelspec": {
   "name": "python3810jvsc74a57bd05c622353f32ef24c8d83e5c3e334107c074e82d7c3e8ca52c56b9fc900ce33e6",
   "display_name": "Python 3.8.10 64-bit ('tf_mac')"
  },
  "metadata": {
   "interpreter": {
    "hash": "5c622353f32ef24c8d83e5c3e334107c074e82d7c3e8ca52c56b9fc900ce33e6"
   }
  }
 },
 "nbformat": 4,
 "nbformat_minor": 2,
 "cells": [
  {
   "cell_type": "code",
   "execution_count": 1,
   "metadata": {},
   "outputs": [],
   "source": [
    "from Controller import TrainingController\n",
    "from Utils.SaveUtils import load_parameters\n",
    "from Parameters import TrainingParameters\n",
    "import tensorflow as tf\n",
    "import numpy as np"
   ]
  },
  {
   "cell_type": "code",
   "execution_count": 2,
   "metadata": {},
   "outputs": [],
   "source": [
    "####### Show tensorboard\n",
    "# %load_ext tensorboard\n",
    "# %tensorboard --logdir logs/gradient_tape\n",
    "# %tensorboard --logdir logs/gradient_tape --host localhost --port 8088"
   ]
  },
  {
   "cell_type": "code",
   "execution_count": 3,
   "metadata": {},
   "outputs": [
    {
     "output_type": "stream",
     "name": "stdout",
     "text": [
      "\n=================================================\n| Running on /job:localhost/replica:0/task:0/device:CPU:0  \n=================================================\n"
     ]
    }
   ],
   "source": [
    "parameters = TrainingParameters()\n",
    "tf.random.set_seed(parameters.dataset_split_seed)\n",
    "np.random.seed(parameters.dataset_split_seed)\n",
    "trainer = TrainingController(parameters = parameters)"
   ]
  },
  {
   "cell_type": "code",
   "execution_count": 4,
   "metadata": {},
   "outputs": [
    {
     "output_type": "stream",
     "name": "stdout",
     "text": [
      "Model: \"base_nn\"\n_________________________________________________________________\nLayer (type)                 Output Shape              Param #   \n=================================================================\nsequential (Sequential)      (1, 1)                    841       \n=================================================================\nTotal params: 841\nTrainable params: 713\nNon-trainable params: 128\n_________________________________________________________________\n"
     ]
    }
   ],
   "source": [
    "trainer.show_model_info()"
   ]
  },
  {
   "cell_type": "code",
   "execution_count": 5,
   "metadata": {
    "tags": []
   },
   "outputs": [
    {
     "output_type": "stream",
     "name": "stdout",
     "text": [
      "\n",
      "=================================================\n",
      "| Total epochs: 50 \n",
      "=================================================\n",
      "\n",
      "=================================================\n",
      "| Total steps: 350 \n",
      "=================================================\n",
      "\n",
      "=================================================\n",
      "| Start epoch 0 \n",
      "=================================================\n",
      "\n",
      "=================================================\n",
      "| Start epoch 1 \n",
      "=================================================\n",
      "\n",
      "=================================================\n",
      "| Start epoch 2 \n",
      "=================================================\n",
      "\n",
      "=================================================\n",
      "| Start epoch 3 \n",
      "=================================================\n",
      "\n",
      "=================================================\n",
      "| Start epoch 4 \n",
      "=================================================\n",
      "\n",
      "=================================================\n",
      "| Start epoch 5 \n",
      "=================================================\n",
      "\n",
      "=================================================\n",
      "| Start epoch 6 \n",
      "=================================================\n",
      "\n",
      "=================================================\n",
      "| Start epoch 7 \n",
      "=================================================\n",
      "\n",
      "=================================================\n",
      "| Start epoch 8 \n",
      "=================================================\n",
      "\n",
      "=================================================\n",
      "| Start epoch 9 \n",
      "=================================================\n",
      "\n",
      "=================================================\n",
      "| Start epoch 10 \n",
      "=================================================\n",
      "\n",
      "=================================================\n",
      "| Start epoch 11 \n",
      "=================================================\n",
      "\n",
      "=================================================\n",
      "| Start epoch 12 \n",
      "=================================================\n",
      "\n",
      "=================================================\n",
      "| Start epoch 13 \n",
      "=================================================\n",
      "\n",
      "=================================================\n",
      "| Start epoch 14 \n",
      "=================================================\n",
      "\n",
      "=================================================\n",
      "| Start epoch 15 \n",
      "=================================================\n",
      "\n",
      "=================================================\n",
      "| Start epoch 16 \n",
      "=================================================\n",
      "\n",
      "=================================================\n",
      "| Start epoch 17 \n",
      "=================================================\n",
      "\n",
      "=================================================\n",
      "| Start epoch 18 \n",
      "=================================================\n",
      "\n",
      "=================================================\n",
      "| Start epoch 19 \n",
      "=================================================\n",
      "\n",
      "=================================================\n",
      "| Start epoch 20 \n",
      "=================================================\n",
      "\n",
      "=================================================\n",
      "| Start epoch 21 \n",
      "=================================================\n",
      "\n",
      "=================================================\n",
      "| Start epoch 22 \n",
      "=================================================\n",
      "\n",
      "=================================================\n",
      "| Start epoch 23 \n",
      "=================================================\n",
      "\n",
      "=================================================\n",
      "| Start epoch 24 \n",
      "=================================================\n",
      "\n",
      "=================================================\n",
      "| Start epoch 25 \n",
      "=================================================\n",
      "\n",
      "=================================================\n",
      "| Start epoch 26 \n",
      "=================================================\n",
      "\n",
      "=================================================\n",
      "| Start epoch 27 \n",
      "=================================================\n",
      "\n",
      "=================================================\n",
      "| Start epoch 28 \n",
      "=================================================\n",
      "\n",
      "=================================================\n",
      "| Start epoch 29 \n",
      "=================================================\n",
      "\n",
      "=================================================\n",
      "| Start epoch 30 \n",
      "=================================================\n",
      "\n",
      "=================================================\n",
      "| Start epoch 31 \n",
      "=================================================\n",
      "\n",
      "=================================================\n",
      "| Start epoch 32 \n",
      "=================================================\n",
      "\n",
      "=================================================\n",
      "| Start epoch 33 \n",
      "=================================================\n",
      "\n",
      "=================================================\n",
      "| Start epoch 34 \n",
      "=================================================\n",
      "\n",
      "=================================================\n",
      "| Start epoch 35 \n",
      "=================================================\n",
      "\n",
      "=================================================\n",
      "| Start epoch 36 \n",
      "=================================================\n",
      "\n",
      "=================================================\n",
      "| Start epoch 37 \n",
      "=================================================\n",
      "\n",
      "=================================================\n",
      "| Start epoch 38 \n",
      "=================================================\n",
      "\n",
      "=================================================\n",
      "| Start epoch 39 \n",
      "=================================================\n",
      "\n",
      "=================================================\n",
      "| Start epoch 40 \n",
      "=================================================\n",
      "\n",
      "=================================================\n",
      "| Start epoch 41 \n",
      "=================================================\n",
      "\n",
      "=================================================\n",
      "| Start epoch 42 \n",
      "=================================================\n",
      "\n",
      "=================================================\n",
      "| Evaluation result | Loss [4.7759] | Accuracy [0.6900]  \n",
      "=================================================\n",
      "\n",
      "=================================================\n",
      "| Start epoch 43 \n",
      "=================================================\n",
      "\n",
      "=================================================\n",
      "| Start epoch 44 \n",
      "=================================================\n",
      "\n",
      "=================================================\n",
      "| Start epoch 45 \n",
      "=================================================\n",
      "\n",
      "=================================================\n",
      "| Start epoch 46 \n",
      "=================================================\n",
      "\n",
      "=================================================\n",
      "| Start epoch 47 \n",
      "=================================================\n",
      "\n",
      "=================================================\n",
      "| Start epoch 48 \n",
      "=================================================\n",
      "\n",
      "=================================================\n",
      "| Start epoch 49 \n",
      "=================================================\n",
      "\n",
      "=================================================\n",
      "| Performing Testing ... \n",
      "=================================================\n",
      "\n",
      "=================================================\n",
      "| Evaluation result | Loss [3.6838] | Accuracy [0.7700]  \n",
      "=================================================\n"
     ]
    }
   ],
   "source": [
    "trainer.train()"
   ]
  },
  {
   "cell_type": "code",
   "execution_count": 6,
   "metadata": {},
   "outputs": [
    {
     "output_type": "stream",
     "name": "stdout",
     "text": [
      "\n",
      "=================================================\n",
      "| Save mean and vairance \n",
      "=================================================\n",
      "\n",
      "=================================================\n",
      "| Model saved successfully to: ./SavedModels/0.7700_Diabetes_BaseNNModel_2021-05-30 04:41:24.179089  \n",
      "=================================================\n"
     ]
    }
   ],
   "source": [
    "###### Save modelz\n",
    "trainer.save_training_result(\"train.ipynb\")"
   ]
  },
  {
   "cell_type": "code",
   "execution_count": 11,
   "metadata": {},
   "outputs": [
    {
     "output_type": "stream",
     "name": "stdout",
     "text": [
      "WARNING:tensorflow:Unresolved object in checkpoint: (root).mean_\n",
      "WARNING:tensorflow:Unresolved object in checkpoint: (root).optim\n",
      "WARNING:tensorflow:Unresolved object in checkpoint: (root).var_\n",
      "WARNING:tensorflow:Unresolved object in checkpoint: (root).optim.iter\n",
      "WARNING:tensorflow:Unresolved object in checkpoint: (root).optim.beta_1\n",
      "WARNING:tensorflow:Unresolved object in checkpoint: (root).optim.beta_2\n",
      "WARNING:tensorflow:Unresolved object in checkpoint: (root).optim.decay\n",
      "WARNING:tensorflow:Unresolved object in checkpoint: (root).optim.learning_rate\n",
      "WARNING:tensorflow:Unresolved object in checkpoint: (root).optim's state 'm' for (root).model.model.layer_with_weights-0.kernel\n",
      "WARNING:tensorflow:Unresolved object in checkpoint: (root).optim's state 'm' for (root).model.model.layer_with_weights-0.bias\n",
      "WARNING:tensorflow:Unresolved object in checkpoint: (root).optim's state 'm' for (root).model.model.layer_with_weights-1.gamma\n",
      "WARNING:tensorflow:Unresolved object in checkpoint: (root).optim's state 'm' for (root).model.model.layer_with_weights-1.beta\n",
      "WARNING:tensorflow:Unresolved object in checkpoint: (root).optim's state 'm' for (root).model.model.layer_with_weights-2.kernel\n",
      "WARNING:tensorflow:Unresolved object in checkpoint: (root).optim's state 'm' for (root).model.model.layer_with_weights-2.bias\n",
      "WARNING:tensorflow:Unresolved object in checkpoint: (root).optim's state 'm' for (root).model.model.layer_with_weights-3.gamma\n",
      "WARNING:tensorflow:Unresolved object in checkpoint: (root).optim's state 'm' for (root).model.model.layer_with_weights-3.beta\n",
      "WARNING:tensorflow:Unresolved object in checkpoint: (root).optim's state 'm' for (root).model.model.layer_with_weights-4.kernel\n",
      "WARNING:tensorflow:Unresolved object in checkpoint: (root).optim's state 'm' for (root).model.model.layer_with_weights-4.bias\n",
      "WARNING:tensorflow:Unresolved object in checkpoint: (root).optim's state 'm' for (root).model.model.layer_with_weights-5.gamma\n",
      "WARNING:tensorflow:Unresolved object in checkpoint: (root).optim's state 'm' for (root).model.model.layer_with_weights-5.beta\n",
      "WARNING:tensorflow:Unresolved object in checkpoint: (root).optim's state 'm' for (root).model.model.layer_with_weights-6.kernel\n",
      "WARNING:tensorflow:Unresolved object in checkpoint: (root).optim's state 'm' for (root).model.model.layer_with_weights-6.bias\n",
      "WARNING:tensorflow:Unresolved object in checkpoint: (root).optim's state 'm' for (root).model.model.layer_with_weights-7.gamma\n",
      "WARNING:tensorflow:Unresolved object in checkpoint: (root).optim's state 'm' for (root).model.model.layer_with_weights-7.beta\n",
      "WARNING:tensorflow:Unresolved object in checkpoint: (root).optim's state 'm' for (root).model.model.layer_with_weights-8.kernel\n",
      "WARNING:tensorflow:Unresolved object in checkpoint: (root).optim's state 'm' for (root).model.model.layer_with_weights-8.bias\n",
      "WARNING:tensorflow:Unresolved object in checkpoint: (root).optim's state 'm' for (root).model.model.layer_with_weights-9.gamma\n",
      "WARNING:tensorflow:Unresolved object in checkpoint: (root).optim's state 'm' for (root).model.model.layer_with_weights-9.beta\n",
      "WARNING:tensorflow:Unresolved object in checkpoint: (root).optim's state 'm' for (root).model.model.layer_with_weights-10.kernel\n",
      "WARNING:tensorflow:Unresolved object in checkpoint: (root).optim's state 'm' for (root).model.model.layer_with_weights-10.bias\n",
      "WARNING:tensorflow:Unresolved object in checkpoint: (root).optim's state 'm' for (root).model.model.layer_with_weights-11.gamma\n",
      "WARNING:tensorflow:Unresolved object in checkpoint: (root).optim's state 'm' for (root).model.model.layer_with_weights-11.beta\n",
      "WARNING:tensorflow:Unresolved object in checkpoint: (root).optim's state 'm' for (root).model.model.layer_with_weights-12.kernel\n",
      "WARNING:tensorflow:Unresolved object in checkpoint: (root).optim's state 'm' for (root).model.model.layer_with_weights-12.bias\n",
      "WARNING:tensorflow:Unresolved object in checkpoint: (root).optim's state 'm' for (root).model.model.layer_with_weights-13.gamma\n",
      "WARNING:tensorflow:Unresolved object in checkpoint: (root).optim's state 'm' for (root).model.model.layer_with_weights-13.beta\n",
      "WARNING:tensorflow:Unresolved object in checkpoint: (root).optim's state 'm' for (root).model.model.layer_with_weights-14.kernel\n",
      "WARNING:tensorflow:Unresolved object in checkpoint: (root).optim's state 'm' for (root).model.model.layer_with_weights-14.bias\n",
      "WARNING:tensorflow:Unresolved object in checkpoint: (root).optim's state 'm' for (root).model.model.layer_with_weights-15.gamma\n",
      "WARNING:tensorflow:Unresolved object in checkpoint: (root).optim's state 'm' for (root).model.model.layer_with_weights-15.beta\n",
      "WARNING:tensorflow:Unresolved object in checkpoint: (root).optim's state 'm' for (root).model.model.layer_with_weights-16.kernel\n",
      "WARNING:tensorflow:Unresolved object in checkpoint: (root).optim's state 'm' for (root).model.model.layer_with_weights-16.bias\n",
      "WARNING:tensorflow:Unresolved object in checkpoint: (root).optim's state 'v' for (root).model.model.layer_with_weights-0.kernel\n",
      "WARNING:tensorflow:Unresolved object in checkpoint: (root).optim's state 'v' for (root).model.model.layer_with_weights-0.bias\n",
      "WARNING:tensorflow:Unresolved object in checkpoint: (root).optim's state 'v' for (root).model.model.layer_with_weights-1.gamma\n",
      "WARNING:tensorflow:Unresolved object in checkpoint: (root).optim's state 'v' for (root).model.model.layer_with_weights-1.beta\n",
      "WARNING:tensorflow:Unresolved object in checkpoint: (root).optim's state 'v' for (root).model.model.layer_with_weights-2.kernel\n",
      "WARNING:tensorflow:Unresolved object in checkpoint: (root).optim's state 'v' for (root).model.model.layer_with_weights-2.bias\n",
      "WARNING:tensorflow:Unresolved object in checkpoint: (root).optim's state 'v' for (root).model.model.layer_with_weights-3.gamma\n",
      "WARNING:tensorflow:Unresolved object in checkpoint: (root).optim's state 'v' for (root).model.model.layer_with_weights-3.beta\n",
      "WARNING:tensorflow:Unresolved object in checkpoint: (root).optim's state 'v' for (root).model.model.layer_with_weights-4.kernel\n",
      "WARNING:tensorflow:Unresolved object in checkpoint: (root).optim's state 'v' for (root).model.model.layer_with_weights-4.bias\n",
      "WARNING:tensorflow:Unresolved object in checkpoint: (root).optim's state 'v' for (root).model.model.layer_with_weights-5.gamma\n",
      "WARNING:tensorflow:Unresolved object in checkpoint: (root).optim's state 'v' for (root).model.model.layer_with_weights-5.beta\n",
      "WARNING:tensorflow:Unresolved object in checkpoint: (root).optim's state 'v' for (root).model.model.layer_with_weights-6.kernel\n",
      "WARNING:tensorflow:Unresolved object in checkpoint: (root).optim's state 'v' for (root).model.model.layer_with_weights-6.bias\n",
      "WARNING:tensorflow:Unresolved object in checkpoint: (root).optim's state 'v' for (root).model.model.layer_with_weights-7.gamma\n",
      "WARNING:tensorflow:Unresolved object in checkpoint: (root).optim's state 'v' for (root).model.model.layer_with_weights-7.beta\n",
      "WARNING:tensorflow:Unresolved object in checkpoint: (root).optim's state 'v' for (root).model.model.layer_with_weights-8.kernel\n",
      "WARNING:tensorflow:Unresolved object in checkpoint: (root).optim's state 'v' for (root).model.model.layer_with_weights-8.bias\n",
      "WARNING:tensorflow:Unresolved object in checkpoint: (root).optim's state 'v' for (root).model.model.layer_with_weights-9.gamma\n",
      "WARNING:tensorflow:Unresolved object in checkpoint: (root).optim's state 'v' for (root).model.model.layer_with_weights-9.beta\n",
      "WARNING:tensorflow:Unresolved object in checkpoint: (root).optim's state 'v' for (root).model.model.layer_with_weights-10.kernel\n",
      "WARNING:tensorflow:Unresolved object in checkpoint: (root).optim's state 'v' for (root).model.model.layer_with_weights-10.bias\n",
      "WARNING:tensorflow:Unresolved object in checkpoint: (root).optim's state 'v' for (root).model.model.layer_with_weights-11.gamma\n",
      "WARNING:tensorflow:Unresolved object in checkpoint: (root).optim's state 'v' for (root).model.model.layer_with_weights-11.beta\n",
      "WARNING:tensorflow:Unresolved object in checkpoint: (root).optim's state 'v' for (root).model.model.layer_with_weights-12.kernel\n",
      "WARNING:tensorflow:Unresolved object in checkpoint: (root).optim's state 'v' for (root).model.model.layer_with_weights-12.bias\n",
      "WARNING:tensorflow:Unresolved object in checkpoint: (root).optim's state 'v' for (root).model.model.layer_with_weights-13.gamma\n",
      "WARNING:tensorflow:Unresolved object in checkpoint: (root).optim's state 'v' for (root).model.model.layer_with_weights-13.beta\n",
      "WARNING:tensorflow:Unresolved object in checkpoint: (root).optim's state 'v' for (root).model.model.layer_with_weights-14.kernel\n",
      "WARNING:tensorflow:Unresolved object in checkpoint: (root).optim's state 'v' for (root).model.model.layer_with_weights-14.bias\n",
      "WARNING:tensorflow:Unresolved object in checkpoint: (root).optim's state 'v' for (root).model.model.layer_with_weights-15.gamma\n",
      "WARNING:tensorflow:Unresolved object in checkpoint: (root).optim's state 'v' for (root).model.model.layer_with_weights-15.beta\n",
      "WARNING:tensorflow:Unresolved object in checkpoint: (root).optim's state 'v' for (root).model.model.layer_with_weights-16.kernel\n",
      "WARNING:tensorflow:Unresolved object in checkpoint: (root).optim's state 'v' for (root).model.model.layer_with_weights-16.bias\n",
      "WARNING:tensorflow:A checkpoint was restored (e.g. tf.train.Checkpoint.restore or tf.keras.Model.load_weights) but not all checkpointed values were used. See above for specific issues. Use expect_partial() on the load status object, e.g. tf.train.Checkpoint.restore(...).expect_partial(), to silence these warnings, or use assert_consumed() to make the check explicit. See https://www.tensorflow.org/guide/checkpoint#loading_mechanics for details.\n",
      "\n",
      "=================================================\n",
      "| Model loaded successfully from: ./SavedModels/0.7700_Diabetes_BaseNNModel_2021-05-30 04:41:24.179089  \n",
      "=================================================\n"
     ]
    }
   ],
   "source": [
    "trainer.load_trained_model(\"./SavedModels/0.7700_Diabetes_BaseNNModel_2021-05-30 04:41:24.179089\")"
   ]
  },
  {
   "cell_type": "code",
   "execution_count": 8,
   "metadata": {},
   "outputs": [
    {
     "output_type": "execute_result",
     "data": {
      "text/plain": [
       "<tf.Tensor: shape=(8,), dtype=float32, numpy=\n",
       "array([  4.045     , 124.88125   ,  69.725     ,  21.53375   ,\n",
       "        88.29      ,  32.617374  ,   0.51100874,  33.815     ],\n",
       "      dtype=float32)>"
      ]
     },
     "metadata": {},
     "execution_count": 8
    }
   ],
   "source": [
    "trainer.model.mean_"
   ]
  },
  {
   "cell_type": "code",
   "execution_count": 9,
   "metadata": {},
   "outputs": [
    {
     "output_type": "execute_result",
     "data": {
      "text/plain": [
       "<tf.Tensor: shape=(8,), dtype=float32, numpy=\n",
       "array([1.2412975e+01, 1.0790321e+03, 3.9889938e+02, 2.6584885e+02,\n",
       "       1.5491934e+04, 6.2756962e+01, 1.3522759e-01, 1.3059077e+02],\n",
       "      dtype=float32)>"
      ]
     },
     "metadata": {},
     "execution_count": 9
    }
   ],
   "source": [
    "trainer.model.var_"
   ]
  },
  {
   "cell_type": "code",
   "execution_count": 10,
   "metadata": {},
   "outputs": [
    {
     "output_type": "execute_result",
     "data": {
      "text/plain": [
       "<tf.Tensor: shape=(8,), dtype=float32, numpy=\n",
       "array([1.2412975e+01, 1.0790321e+03, 3.9889938e+02, 2.6584885e+02,\n",
       "       1.5491934e+04, 6.2756962e+01, 1.3522759e-01, 1.3059077e+02],\n",
       "      dtype=float32)>"
      ]
     },
     "metadata": {},
     "execution_count": 10
    }
   ],
   "source": [
    "tf.constant(tf.Variable(trainer.model.var_))"
   ]
  },
  {
   "cell_type": "code",
   "execution_count": null,
   "metadata": {},
   "outputs": [],
   "source": []
  }
 ]
}