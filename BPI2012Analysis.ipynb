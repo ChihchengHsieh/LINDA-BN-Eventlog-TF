{
 "metadata": {
  "language_info": {
   "codemirror_mode": {
    "name": "ipython",
    "version": 3
   },
   "file_extension": ".py",
   "mimetype": "text/x-python",
   "name": "python",
   "nbconvert_exporter": "python",
   "pygments_lexer": "ipython3",
   "version": "3.8.10"
  },
  "orig_nbformat": 4,
  "kernelspec": {
   "name": "python3",
   "display_name": "Python 3.8.10 64-bit ('tf_mac': conda)"
  },
  "interpreter": {
   "hash": "5c622353f32ef24c8d83e5c3e334107c074e82d7c3e8ca52c56b9fc900ce33e6"
  }
 },
 "nbformat": 4,
 "nbformat_minor": 2,
 "cells": [
  {
   "cell_type": "code",
   "execution_count": 1,
   "metadata": {},
   "outputs": [],
   "source": [
    "from Controller import TrainingController, ExplainingController\n",
    "from Utils.SaveUtils import load_parameters\n",
    "from Parameters import TrainingParameters, PredictingParameters\n",
    "import tensorflow as tf\n",
    "from IPython.core.display import display, HTML\n",
    "import json\n",
    "import numpy as np\n",
    "import pandas as pd\n",
    "from Parameters.Enums import TracePermutationStrategies\n",
    "\n",
    "import dice_ml\n",
    "from dice_ml.utils import helpers"
   ]
  },
  {
   "cell_type": "code",
   "execution_count": 2,
   "metadata": {},
   "outputs": [],
   "source": [
    "### Select models to load\n",
    "folder_path = \"./SavedModels/%s\" % (\n",
    " \"0.7924_BPI2012_BaseLineLSTMModel_2021-06-11 17:08:27.383137\" # AOW\n",
    ")"
   ]
  },
  {
   "cell_type": "code",
   "execution_count": 3,
   "metadata": {},
   "outputs": [],
   "source": [
    "### Setting up parameters\n",
    "parameters_json = load_parameters(folder_path=folder_path)\n",
    "parameters = TrainingParameters(**parameters_json)\n",
    "tf.random.set_seed(parameters.dataset_split_seed)\n",
    "np.random.seed(parameters.dataset_split_seed)\n",
    "parameters.load_model_folder_path = folder_path\n",
    "predicting_parameters = PredictingParameters()\n",
    "predicting_parameters.load_model_folder_path = folder_path"
   ]
  },
  {
   "cell_type": "code",
   "execution_count": 4,
   "metadata": {},
   "outputs": [
    {
     "output_type": "stream",
     "name": "stdout",
     "text": [
      "\n",
      "=================================================\n",
      "| Running on /job:localhost/replica:0/task:0/device:CPU:0  \n",
      "=================================================\n",
      "\n",
      "=================================================\n",
      "| Preprocessed data loaded successfully: ./datasets/preprocessed/BPI_Challenge_2012/AOW \n",
      "=================================================\n",
      "\n",
      "=================================================\n",
      "| Model loaded successfully from: ./SavedModels/0.7924_BPI2012_BaseLineLSTMModel_2021-06-11 17:08:27.383137  \n",
      "=================================================\n"
     ]
    }
   ],
   "source": [
    "trainer = TrainingController(parameters = parameters)"
   ]
  },
  {
   "cell_type": "code",
   "execution_count": 5,
   "metadata": {},
   "outputs": [
    {
     "output_type": "stream",
     "name": "stdout",
     "text": [
      "========================All Vocabs========================\n"
     ]
    },
    {
     "output_type": "execute_result",
     "data": {
      "text/plain": [
       "['<PAD>',\n",
       " '<EOS>',\n",
       " '<SOS>',\n",
       " 'A_ACCEPTED_COMPLETE',\n",
       " 'A_ACTIVATED_COMPLETE',\n",
       " 'A_APPROVED_COMPLETE',\n",
       " 'A_CANCELLED_COMPLETE',\n",
       " 'A_DECLINED_COMPLETE',\n",
       " 'A_FINALIZED_COMPLETE',\n",
       " 'A_PARTLYSUBMITTED_COMPLETE',\n",
       " 'A_PREACCEPTED_COMPLETE',\n",
       " 'A_REGISTERED_COMPLETE',\n",
       " 'A_SUBMITTED_COMPLETE',\n",
       " 'O_ACCEPTED_COMPLETE',\n",
       " 'O_CANCELLED_COMPLETE',\n",
       " 'O_CREATED_COMPLETE',\n",
       " 'O_DECLINED_COMPLETE',\n",
       " 'O_SELECTED_COMPLETE',\n",
       " 'O_SENT_BACK_COMPLETE',\n",
       " 'O_SENT_COMPLETE',\n",
       " 'W_Afhandelen leads_COMPLETE',\n",
       " 'W_Beoordelen fraude_COMPLETE',\n",
       " 'W_Completeren aanvraag_COMPLETE',\n",
       " 'W_Nabellen incomplete dossiers_COMPLETE',\n",
       " 'W_Nabellen offertes_COMPLETE',\n",
       " 'W_Valideren aanvraag_COMPLETE']"
      ]
     },
     "metadata": {},
     "execution_count": 5
    }
   ],
   "source": [
    "print(\"========================All Vocabs========================\")\n",
    "trainer.model.vocab.vocabs"
   ]
  },
  {
   "cell_type": "code",
   "execution_count": 6,
   "metadata": {},
   "outputs": [
    {
     "output_type": "stream",
     "name": "stdout",
     "text": [
      "===============Important Activities===============\n['A_ACTIVATED_COMPLETE', 'A_APPROVED_COMPLETE', 'A_REGISTERED_COMPLETE', 'A_DECLINED_COMPLETE', 'O_ACCEPTED_COMPLETE', 'O_DECLINED_COMPLETE']\n"
     ]
    }
   ],
   "source": [
    "### Identified important activities\n",
    "a_important_activities = [\"A_ACTIVATED_COMPLETE\", \"A_APPROVED_COMPLETE\", \"A_REGISTERED_COMPLETE\", \"A_DECLINED_COMPLETE\"]\n",
    "o_important_activities = [\"O_ACCEPTED_COMPLETE\", \"O_DECLINED_COMPLETE\"]\n",
    "all_important_vocabs = a_important_activities + o_important_activities\n",
    "print(\"===============Important Activities===============\")\n",
    "print(all_important_vocabs)"
   ]
  },
  {
   "cell_type": "code",
   "execution_count": 7,
   "metadata": {},
   "outputs": [
    {
     "output_type": "stream",
     "name": "stdout",
     "text": [
      "{'A_DECLINED_COMPLETE': 3429, 'W_Valideren aanvraag_COMPLETE': 2749, 'W_Afhandelen leads_COMPLETE': 2234, 'W_Completeren aanvraag_COMPLETE': 1939, 'W_Nabellen offertes_COMPLETE': 1291, 'A_CANCELLED_COMPLETE': 655, 'W_Nabellen incomplete dossiers_COMPLETE': 453, 'O_CANCELLED_COMPLETE': 279, 'W_Beoordelen fraude_COMPLETE': 57, 'A_REGISTERED_COMPLETE': 1}\n"
     ]
    }
   ],
   "source": [
    "########### What's the ending activities and their occurence counts ###########\n",
    "all_last_steps =  [i[-2] for i in trainer.dataset.df[\"trace\"]]\n",
    "last_df = pd.DataFrame(all_last_steps, columns=[\"last_step\"])\n",
    "ending_vocab_counts = {}\n",
    "ending_value_count_dict = dict(last_df[\"last_step\"].value_counts())\n",
    "for k in ending_value_count_dict:\n",
    "    vocab_key = trainer.model.vocab.index_to_vocab(k)\n",
    "    ending_vocab_counts[vocab_key] = ending_value_count_dict[k]\n",
    "\n",
    "print(ending_vocab_counts)"
   ]
  },
  {
   "cell_type": "code",
   "execution_count": 8,
   "metadata": {},
   "outputs": [
    {
     "output_type": "stream",
     "name": "stdout",
     "text": [
      "Most common ending activities: \n['A_DECLINED_COMPLETE', 'W_Valideren aanvraag_COMPLETE', 'W_Afhandelen leads_COMPLETE', 'W_Completeren aanvraag_COMPLETE', 'W_Nabellen offertes_COMPLETE', 'A_CANCELLED_COMPLETE', 'W_Nabellen incomplete dossiers_COMPLETE', 'O_CANCELLED_COMPLETE', 'W_Beoordelen fraude_COMPLETE', 'A_REGISTERED_COMPLETE']\n"
     ]
    }
   ],
   "source": [
    "print(\"Most common ending activities: \")\n",
    "print(trainer.model.vocab.list_of_index_to_vocab(list(last_df[\"last_step\"].value_counts().keys())))"
   ]
  },
  {
   "cell_type": "code",
   "execution_count": 9,
   "metadata": {},
   "outputs": [
    {
     "output_type": "stream",
     "name": "stdout",
     "text": [
      "Test set size: 1308\n",
      "Trace count (Successful): 224 \n",
      "Trace count (Failed): 1084 \n"
     ]
    }
   ],
   "source": [
    "########### Get example data from trainer ###########\n",
    "trainer.test_dataset.unbatch()\n",
    "ordered_test_idx = (list(trainer.test_dataset.unbatch().as_numpy_iterator()))\n",
    "ordered_test_idx.sort()\n",
    "print(\"Test set size: %d\" %(len(ordered_test_idx)))\n",
    "success_activities = ['O_ACCEPTED_COMPLETE', 'A_APPROVED_COMPLETE', 'A_REGISTERED_COMPLETE']\n",
    "all_success_case_in_test = []\n",
    "for i in ordered_test_idx:\n",
    "    idx_trace = trainer.dataset.collate_fn([i])[1][0]\n",
    "    vocab_trace = trainer.model.vocab.list_of_index_to_vocab(idx_trace.tolist())\n",
    "    if any([ s_a in vocab_trace  for s_a in success_activities]):\n",
    "        all_success_case_in_test.append(i)\n",
    "\n",
    "all_fail_case_in_test = [ i for i in ordered_test_idx if (i not in all_success_case_in_test) ]\n",
    "print(\"Trace count (Successful): %d \" % (len(all_success_case_in_test))) \n",
    "print(\"Trace count (Failed): %d \" % (len(all_fail_case_in_test))) "
   ]
  },
  {
   "cell_type": "code",
   "execution_count": 10,
   "metadata": {},
   "outputs": [
    {
     "output_type": "stream",
     "name": "stdout",
     "text": [
      "Mean trace length (Successful): 27.94 \nMean trace length (Failed): 10.53 \n"
     ]
    }
   ],
   "source": [
    "mean_success_length = np.mean([len(trainer.dataset.collate_fn([i])[1][0]) for i in all_success_case_in_test])\n",
    "mean_fail_length = np.mean([len(trainer.dataset.collate_fn([i])[1][0]) for i in all_fail_case_in_test])\n",
    "print(\"Mean trace length (Successful): %.2f \" % (mean_success_length)) \n",
    "print(\"Mean trace length (Failed): %.2f \" % (mean_fail_length)) "
   ]
  },
  {
   "cell_type": "code",
   "execution_count": 11,
   "metadata": {},
   "outputs": [
    {
     "output_type": "stream",
     "name": "stdout",
     "text": [
      "=========================Accepted=========================\n['<SOS>', 'A_SUBMITTED_COMPLETE', 'A_PARTLYSUBMITTED_COMPLETE', 'A_PREACCEPTED_COMPLETE', 'A_ACCEPTED_COMPLETE', 'O_SELECTED_COMPLETE', 'A_FINALIZED_COMPLETE', 'O_CREATED_COMPLETE', 'O_SENT_COMPLETE', 'W_Completeren aanvraag_COMPLETE', 'W_Nabellen offertes_COMPLETE', 'W_Nabellen offertes_COMPLETE', 'W_Nabellen offertes_COMPLETE', 'W_Nabellen offertes_COMPLETE', 'W_Nabellen offertes_COMPLETE', 'W_Nabellen offertes_COMPLETE', 'W_Nabellen offertes_COMPLETE', 'W_Nabellen offertes_COMPLETE', 'W_Nabellen offertes_COMPLETE', 'W_Nabellen offertes_COMPLETE', 'O_SENT_BACK_COMPLETE', 'W_Nabellen offertes_COMPLETE', 'A_APPROVED_COMPLETE', 'O_ACCEPTED_COMPLETE', 'A_REGISTERED_COMPLETE', 'A_ACTIVATED_COMPLETE', 'W_Valideren aanvraag_COMPLETE']\n=========================Failed===========================\n['<SOS>', 'A_SUBMITTED_COMPLETE', 'A_PARTLYSUBMITTED_COMPLETE', 'A_PREACCEPTED_COMPLETE', 'W_Afhandelen leads_COMPLETE', 'A_ACCEPTED_COMPLETE', 'O_SELECTED_COMPLETE', 'A_FINALIZED_COMPLETE', 'O_CREATED_COMPLETE', 'O_SENT_COMPLETE', 'W_Completeren aanvraag_COMPLETE', 'W_Nabellen offertes_COMPLETE', 'O_CANCELLED_COMPLETE', 'A_CANCELLED_COMPLETE', 'W_Nabellen offertes_COMPLETE']\n"
     ]
    }
   ],
   "source": [
    "success_case_idx = 2\n",
    "fail_case_idx = 7\n",
    "print(\"=========================Accepted=========================\")\n",
    "accpeted_example_idx_trace = trainer.dataset.collate_fn([all_success_case_in_test[success_case_idx]])[1][0]\n",
    "accpeted_example_vocab_trace = trainer.model.vocab.list_of_index_to_vocab(accpeted_example_idx_trace.tolist())\n",
    "print(accpeted_example_vocab_trace)\n",
    "print(\"=========================Failed===========================\")\n",
    "failed_example_idx_trace = trainer.dataset.collate_fn([all_fail_case_in_test[fail_case_idx]])[1][0]\n",
    "failed_example_vocab_trace = trainer.model.vocab.list_of_index_to_vocab(failed_example_idx_trace.tolist())\n",
    "print(failed_example_vocab_trace)"
   ]
  },
  {
   "cell_type": "code",
   "execution_count": null,
   "metadata": {},
   "outputs": [],
   "source": []
  }
 ]
}