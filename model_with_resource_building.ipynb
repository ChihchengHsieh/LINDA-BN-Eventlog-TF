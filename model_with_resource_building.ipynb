{
 "metadata": {
  "language_info": {
   "codemirror_mode": {
    "name": "ipython",
    "version": 3
   },
   "file_extension": ".py",
   "mimetype": "text/x-python",
   "name": "python",
   "nbconvert_exporter": "python",
   "pygments_lexer": "ipython3",
   "version": "3.8.10"
  },
  "orig_nbformat": 4,
  "kernelspec": {
   "name": "python3",
   "display_name": "Python 3.8.10 64-bit ('tf_mac': conda)"
  },
  "interpreter": {
   "hash": "5c622353f32ef24c8d83e5c3e334107c074e82d7c3e8ca52c56b9fc900ce33e6"
  }
 },
 "nbformat": 4,
 "nbformat_minor": 2,
 "cells": [
  {
   "cell_type": "code",
   "execution_count": 1,
   "metadata": {},
   "outputs": [],
   "source": [
    "from Parameters import EnviromentParameters, TrainingParameters\n",
    "from Data import XESDatasetWithResource\n",
    "import tensorflow as tf"
   ]
  },
  {
   "cell_type": "code",
   "execution_count": 2,
   "metadata": {},
   "outputs": [
    {
     "output_type": "stream",
     "name": "stdout",
     "text": [
      "\n=================================================\n| Preprocessed data loaded successfully: ./datasets/preprocessed/BPI_Challenge_2012_with_resource/AOW \n=================================================\n"
     ]
    }
   ],
   "source": [
    "dataset = XESDatasetWithResource(file_path= EnviromentParameters.BPI2020DatasetWithResource.file_path, preprocessed_folder_path=EnviromentParameters.BPI2020DatasetWithResource.preprocessed_foldr_path, preprocessed_df_type= EnviromentParameters.BPI2020DatasetWithResource.preprocessed_df_type,include_types=TrainingParameters.bpi2012.BPI2012_include_types)"
   ]
  },
  {
   "cell_type": "code",
   "execution_count": 3,
   "metadata": {},
   "outputs": [],
   "source": [
    "caseids, padded_data_traces, lengths, padded_data_resources, batch_amount, padded_target_traces = dataset.collate_fn([0,1,2])"
   ]
  },
  {
   "cell_type": "code",
   "execution_count": 33,
   "metadata": {},
   "outputs": [],
   "source": [
    "activity_embedding_dim = 32\n",
    "resource_embedding_dim = 32\n",
    "lstm_hidden = 16\n",
    "dropout = .2\n",
    "dense_dim = 32"
   ]
  },
  {
   "cell_type": "code",
   "execution_count": 5,
   "metadata": {},
   "outputs": [],
   "source": [
    "activity_embeddding = tf.keras.layers.Embedding(\n",
    "    input_dim = len(dataset.vocab),\n",
    "    output_dim= activity_embedding_dim,\n",
    "    mask_zero= True,\n",
    ")\n",
    "\n",
    "resource_embedding = tf.keras.layers.Embedding(\n",
    "    input_dim = len(dataset.resources),\n",
    "    output_dim = resource_embedding_dim,\n",
    "    mask_zero = True\n",
    ")\n",
    "\n"
   ]
  },
  {
   "cell_type": "code",
   "execution_count": 6,
   "metadata": {},
   "outputs": [],
   "source": [
    "activity_emb_out = activity_embeddding(padded_data_traces, training=True)"
   ]
  },
  {
   "cell_type": "code",
   "execution_count": 7,
   "metadata": {},
   "outputs": [],
   "source": [
    "resource_emb_out = resource_embedding(padded_data_resources, training=True) "
   ]
  },
  {
   "cell_type": "code",
   "execution_count": 8,
   "metadata": {},
   "outputs": [],
   "source": [
    "mask = activity_embeddding.compute_mask(padded_data_traces)"
   ]
  },
  {
   "cell_type": "code",
   "execution_count": 27,
   "metadata": {},
   "outputs": [],
   "source": [
    "activity_lstm = tf.keras.layers.LSTM(\n",
    "            lstm_hidden,\n",
    "            return_sequences=True,\n",
    "            return_state=True,\n",
    "        )\n",
    "\n",
    "activity_lstm_sec =  tf.keras.layers.LSTM(\n",
    "            lstm_hidden,\n",
    "            return_sequences=True,\n",
    "            return_state=True,\n",
    "        )\n",
    "\n",
    "resource_lstm = tf.keras.layers.LSTM(\n",
    "            lstm_hidden,\n",
    "            return_sequences=True,\n",
    "            return_state=True,\n",
    "        )\n",
    "\n",
    "resource_lstm_sec = tf.keras.layers.LSTM(\n",
    "            lstm_hidden,\n",
    "            return_sequences=True,\n",
    "            return_state=True,\n",
    "        )"
   ]
  },
  {
   "cell_type": "code",
   "execution_count": 37,
   "metadata": {},
   "outputs": [
    {
     "output_type": "execute_result",
     "data": {
      "text/plain": [
       "(3, 38)"
      ]
     },
     "metadata": {},
     "execution_count": 37
    }
   ],
   "source": [
    "padded_data_traces.shape"
   ]
  },
  {
   "cell_type": "code",
   "execution_count": 28,
   "metadata": {},
   "outputs": [],
   "source": [
    "activity_lstm_out, a_h_out, a_c_out = activity_lstm(activity_emb_out, training=False, mask=mask, initial_state=None )"
   ]
  },
  {
   "cell_type": "code",
   "execution_count": 29,
   "metadata": {},
   "outputs": [],
   "source": [
    "activity_lstm_out_sec, a_h_out_sec, a_c_out_sec = activity_lstm_sec(activity_lstm_out, training=False, mask=mask, initial_state=None )"
   ]
  },
  {
   "cell_type": "code",
   "execution_count": 30,
   "metadata": {},
   "outputs": [],
   "source": [
    "resources_lstm_out, r_h_out, r_c_out = resource_lstm(resource_emb_out, training=False, mask=mask, initial_state=None )"
   ]
  },
  {
   "cell_type": "code",
   "execution_count": 31,
   "metadata": {},
   "outputs": [],
   "source": [
    "resources_lstm_out_sec, r_h_out_sec, r_c_out_sec = resource_lstm_sec(resources_lstm_out, training=False, mask=mask, initial_state=None )"
   ]
  },
  {
   "cell_type": "code",
   "execution_count": 14,
   "metadata": {},
   "outputs": [],
   "source": [
    "amount_to_concate = tf.repeat(tf.expand_dims(tf.expand_dims(tf.constant(batch_amount),axis=1),axis=2), resources_lstm_out.shape[1], axis=1)"
   ]
  },
  {
   "cell_type": "code",
   "execution_count": 32,
   "metadata": {},
   "outputs": [],
   "source": [
    "concat_out = tf.concat([activity_lstm_out_sec, resources_lstm_out_sec, amount_to_concate], axis = -1)"
   ]
  },
  {
   "cell_type": "code",
   "execution_count": 34,
   "metadata": {},
   "outputs": [],
   "source": [
    "out_net = tf.keras.models.Sequential(\n",
    "    [\n",
    "        tf.keras.layers.BatchNormalization(),\n",
    "        tf.keras.layers.LeakyReLU(),\n",
    "        tf.keras.layers.Dropout(dropout),\n",
    "        tf.keras.layers.Dense(dense_dim),\n",
    "        tf.keras.layers.BatchNormalization(),\n",
    "        tf.keras.layers.LeakyReLU(),\n",
    "        tf.keras.layers.Dropout(dropout),\n",
    "        tf.keras.layers.Dense(len(dataset.vocab)),\n",
    "    ]\n",
    ")"
   ]
  },
  {
   "cell_type": "code",
   "execution_count": 35,
   "metadata": {},
   "outputs": [],
   "source": [
    "out = out_net(concat_out)"
   ]
  },
  {
   "cell_type": "code",
   "execution_count": 38,
   "metadata": {},
   "outputs": [],
   "source": [
    "t = \"A\""
   ]
  },
  {
   "cell_type": "code",
   "execution_count": 39,
   "metadata": {},
   "outputs": [
    {
     "output_type": "execute_result",
     "data": {
      "text/plain": [
       "'A'"
      ]
     },
     "metadata": {},
     "execution_count": 39
    }
   ],
   "source": [
    "t if t else \"C\""
   ]
  },
  {
   "cell_type": "code",
   "execution_count": null,
   "metadata": {},
   "outputs": [],
   "source": []
  },
  {
   "cell_type": "code",
   "execution_count": null,
   "metadata": {},
   "outputs": [],
   "source": []
  },
  {
   "cell_type": "code",
   "execution_count": null,
   "metadata": {},
   "outputs": [],
   "source": []
  },
  {
   "cell_type": "code",
   "execution_count": null,
   "metadata": {},
   "outputs": [],
   "source": []
  },
  {
   "cell_type": "code",
   "execution_count": null,
   "metadata": {},
   "outputs": [],
   "source": []
  },
  {
   "cell_type": "code",
   "execution_count": 57,
   "metadata": {},
   "outputs": [],
   "source": []
  },
  {
   "cell_type": "code",
   "execution_count": 59,
   "metadata": {},
   "outputs": [
    {
     "output_type": "execute_result",
     "data": {
      "text/plain": [
       "TensorShape([3, 38, 1])"
      ]
     },
     "metadata": {},
     "execution_count": 59
    }
   ],
   "source": [
    "amount_to_concate.shape"
   ]
  },
  {
   "cell_type": "code",
   "execution_count": 60,
   "metadata": {},
   "outputs": [
    {
     "output_type": "execute_result",
     "data": {
      "text/plain": [
       "TensorShape([3, 38, 16])"
      ]
     },
     "metadata": {},
     "execution_count": 60
    }
   ],
   "source": [
    "activity_lstm_out.shape"
   ]
  },
  {
   "cell_type": "code",
   "execution_count": 53,
   "metadata": {},
   "outputs": [
    {
     "output_type": "execute_result",
     "data": {
      "text/plain": [
       "38"
      ]
     },
     "metadata": {},
     "execution_count": 53
    }
   ],
   "source": []
  },
  {
   "cell_type": "code",
   "execution_count": null,
   "metadata": {},
   "outputs": [],
   "source": []
  },
  {
   "cell_type": "code",
   "execution_count": null,
   "metadata": {},
   "outputs": [],
   "source": []
  },
  {
   "cell_type": "code",
   "execution_count": null,
   "metadata": {},
   "outputs": [],
   "source": []
  }
 ]
}