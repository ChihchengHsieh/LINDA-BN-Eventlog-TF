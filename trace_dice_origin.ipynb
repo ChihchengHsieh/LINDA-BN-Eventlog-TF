{
 "metadata": {
  "language_info": {
   "codemirror_mode": {
    "name": "ipython",
    "version": 3
   },
   "file_extension": ".py",
   "mimetype": "text/x-python",
   "name": "python",
   "nbconvert_exporter": "python",
   "pygments_lexer": "ipython3",
   "version": "3.8.10"
  },
  "orig_nbformat": 2,
  "kernelspec": {
   "name": "python3810jvsc74a57bd05c622353f32ef24c8d83e5c3e334107c074e82d7c3e8ca52c56b9fc900ce33e6",
   "display_name": "Python 3.8.10 64-bit ('tf_mac': conda)"
  },
  "metadata": {
   "interpreter": {
    "hash": "5c622353f32ef24c8d83e5c3e334107c074e82d7c3e8ca52c56b9fc900ce33e6"
   }
  }
 },
 "nbformat": 4,
 "nbformat_minor": 2,
 "cells": [
  {
   "cell_type": "code",
   "execution_count": 1,
   "metadata": {},
   "outputs": [],
   "source": [
    "from Controller import TrainingController, ExplainingController\n",
    "from Utils.SaveUtils import load_parameters\n",
    "from Parameters import TrainingParameters, PredictingParameters\n",
    "import tensorflow as tf\n",
    "from IPython.core.display import display, HTML\n",
    "import json\n",
    "import numpy as np\n",
    "import pandas as pd\n",
    "from Parameters.Enums import TracePermutationStrategies\n",
    "\n",
    "# import DiCE\n",
    "import dice_ml\n",
    "from dice_ml.utils import helpers # helper functions"
   ]
  },
  {
   "cell_type": "code",
   "execution_count": 2,
   "metadata": {},
   "outputs": [],
   "source": [
    "a_important_activities = [\"A_ACTIVATED_COMPLETE\", \"A_APPROVED_COMPLETE\", \"A_REGISTERED_COMPLETE\", \"A_DECLINED_COMPLETE\"]\n",
    "o_important_activities = [\"O_ACCEPTED_COMPLETE\", \"O_DECLINED_COMPLETE\"]\n",
    "all_important_vocabs = a_important_activities+o_important_activities"
   ]
  },
  {
   "cell_type": "code",
   "execution_count": 3,
   "metadata": {},
   "outputs": [],
   "source": [
    "folder_path = \"./SavedModels/%s\" % (\n",
    "# \"0.8569_BPI2012_BaseLineLSTMModel_2021-05-28 19:02:39.442554\" # OW\n",
    "# \"0.8324_BPI2012_BaseLineLSTMModel_2021-06-05 15:19:51.992793\" # W\n",
    "\"0.8613_BPI2012_BaseLineLSTMModel_2021-06-07 17:36:01.075556\" # AOW\n",
    ")"
   ]
  },
  {
   "cell_type": "code",
   "execution_count": 4,
   "metadata": {},
   "outputs": [],
   "source": [
    "parameters_json = load_parameters(folder_path=folder_path)\n",
    "parameters = TrainingParameters(**parameters_json)\n",
    "tf.random.set_seed(parameters.dataset_split_seed)\n",
    "np.random.seed(parameters.dataset_split_seed)\n",
    "parameters.load_model_folder_path = folder_path\n",
    "predicting_parameters = PredictingParameters()\n",
    "predicting_parameters.load_model_folder_path = folder_path"
   ]
  },
  {
   "cell_type": "code",
   "execution_count": 5,
   "metadata": {},
   "outputs": [
    {
     "output_type": "stream",
     "name": "stdout",
     "text": [
      "\n",
      "=================================================\n",
      "| Running on /job:localhost/replica:0/task:0/device:CPU:0  \n",
      "=================================================\n",
      "\n",
      "=================================================\n",
      "| Preprocessed data loaded successfully: ./datasets/preprocessed/BPI_Challenge_2012/AOW \n",
      "=================================================\n",
      "\n",
      "=================================================\n",
      "| Model loaded successfully from: ./SavedModels/0.8613_BPI2012_BaseLineLSTMModel_2021-06-07 17:36:01.075556  \n",
      "=================================================\n"
     ]
    }
   ],
   "source": [
    "trainer = TrainingController(parameters = parameters)"
   ]
  },
  {
   "cell_type": "code",
   "execution_count": 6,
   "metadata": {},
   "outputs": [],
   "source": [
    "all_last_steps =  [i[-2] for i in trainer.dataset.df[\"trace\"]]\n",
    "last_df = pd.DataFrame(all_last_steps, columns=[\"last_step\"])\n",
    "ending_vocab_counts = {}\n",
    "ending_value_count_dict = dict(last_df[\"last_step\"].value_counts())\n",
    "for k in ending_value_count_dict:\n",
    "    vocab_key = trainer.model.vocab.index_to_vocab(k)\n",
    "    ending_vocab_counts[vocab_key] = ending_value_count_dict[k]"
   ]
  },
  {
   "cell_type": "code",
   "execution_count": 7,
   "metadata": {},
   "outputs": [
    {
     "output_type": "execute_result",
     "data": {
      "text/plain": [
       "{'A_DECLINED_COMPLETE': 3429,\n",
       " 'W_Valideren aanvraag_COMPLETE': 2745,\n",
       " 'W_Afhandelen leads_COMPLETE': 2234,\n",
       " 'W_Completeren aanvraag_COMPLETE': 1939,\n",
       " 'W_Nabellen offertes_COMPLETE': 1289,\n",
       " 'A_CANCELLED_COMPLETE': 655,\n",
       " 'W_Nabellen incomplete dossiers_COMPLETE': 452,\n",
       " 'O_CANCELLED_COMPLETE': 279,\n",
       " 'W_Beoordelen fraude_COMPLETE': 57,\n",
       " 'W_Wijzigen contractgegevens_SCHEDULE': 4,\n",
       " 'W_Valideren aanvraag_START': 2,\n",
       " 'W_Nabellen offertes_START': 1,\n",
       " 'A_REGISTERED_COMPLETE': 1}"
      ]
     },
     "metadata": {},
     "execution_count": 7
    }
   ],
   "source": [
    "ending_vocab_counts"
   ]
  },
  {
   "cell_type": "code",
   "execution_count": 8,
   "metadata": {},
   "outputs": [
    {
     "output_type": "stream",
     "name": "stdout",
     "text": [
      "Most common ending activities: \n['A_DECLINED_COMPLETE', 'W_Valideren aanvraag_COMPLETE', 'W_Afhandelen leads_COMPLETE', 'W_Completeren aanvraag_COMPLETE', 'W_Nabellen offertes_COMPLETE', 'A_CANCELLED_COMPLETE', 'W_Nabellen incomplete dossiers_COMPLETE', 'O_CANCELLED_COMPLETE', 'W_Beoordelen fraude_COMPLETE', 'W_Wijzigen contractgegevens_SCHEDULE', 'W_Valideren aanvraag_START', 'W_Nabellen offertes_START', 'A_REGISTERED_COMPLETE']\n"
     ]
    }
   ],
   "source": [
    "print(\"Most common ending activities: \")\n",
    "print(trainer.model.vocab.list_of_index_to_vocab(list(last_df[\"last_step\"].value_counts().keys())))"
   ]
  },
  {
   "cell_type": "code",
   "execution_count": 9,
   "metadata": {},
   "outputs": [
    {
     "output_type": "stream",
     "name": "stdout",
     "text": [
      "\n",
      "=================================================\n",
      "| Running on /job:localhost/replica:0/task:0/device:CPU:0  \n",
      "=================================================\n",
      "\n",
      "=================================================\n",
      "| Model loaded successfully from: ./SavedModels/0.8613_BPI2012_BaseLineLSTMModel_2021-06-07 17:36:01.075556  \n",
      "=================================================\n"
     ]
    }
   ],
   "source": [
    "explainer = ExplainingController(parameters=parameters, predicting_parameters= predicting_parameters)"
   ]
  },
  {
   "cell_type": "code",
   "execution_count": 10,
   "metadata": {},
   "outputs": [],
   "source": [
    "tags_to_remove = [\"<PAD>\", \"<EOS>\", \"<SOS>\"]\n",
    "index_to_remove = explainer.model.vocab.list_of_vocab_to_index(tags_to_remove)"
   ]
  },
  {
   "cell_type": "code",
   "execution_count": 11,
   "metadata": {},
   "outputs": [
    {
     "output_type": "stream",
     "name": "stdout",
     "text": [
      "Test set length: 1308\n"
     ]
    }
   ],
   "source": [
    "########### Get example data from trainer ###########\n",
    "trainer.test_dataset.unbatch()\n",
    "ordered_test_idx = (list(trainer.test_dataset.unbatch().as_numpy_iterator()))\n",
    "ordered_test_idx.sort()\n",
    "print(\"Test set length: %d\" %(len(ordered_test_idx)))"
   ]
  },
  {
   "cell_type": "code",
   "execution_count": 12,
   "metadata": {},
   "outputs": [
    {
     "output_type": "stream",
     "name": "stdout",
     "text": [
      "Trace count (Successful): 224 \n",
      "Trace count (Failed): 1084 \n",
      "Mean trace length (Successful): 44.94 \n",
      "Mean trace length (Failed): 16.00 \n"
     ]
    }
   ],
   "source": [
    "success_activities = ['O_ACCEPTED_COMPLETE', 'A_APPROVED_COMPLETE', 'A_REGISTERED_COMPLETE']\n",
    "all_success_case_in_test = []\n",
    "for i in ordered_test_idx:\n",
    "    idx_trace = trainer.dataset.collate_fn([i])[1][0]\n",
    "    vocab_trace = explainer.model.vocab.list_of_index_to_vocab(idx_trace.tolist())\n",
    "    if any([ s_a in vocab_trace  for s_a in success_activities]):\n",
    "        all_success_case_in_test.append(i)\n",
    "\n",
    "all_fail_case_in_test = [ i for i in ordered_test_idx if (i not in all_success_case_in_test) ]\n",
    "\n",
    "print(\"Trace count (Successful): %d \" % (len(all_success_case_in_test))) \n",
    "print(\"Trace count (Failed): %d \" % (len(all_fail_case_in_test))) \n",
    "\n",
    "mean_success_length = np.mean([len(trainer.dataset.collate_fn([i])[1][0]) for i in all_success_case_in_test])\n",
    "mean_fail_length = np.mean([len(trainer.dataset.collate_fn([i])[1][0]) for i in all_fail_case_in_test])\n",
    "print(\"Mean trace length (Successful): %.2f \" % (mean_success_length)) \n",
    "print(\"Mean trace length (Failed): %.2f \" % (mean_fail_length)) "
   ]
  },
  {
   "cell_type": "code",
   "execution_count": 13,
   "metadata": {},
   "outputs": [
    {
     "output_type": "stream",
     "name": "stdout",
     "text": [
      "=========================Accepted=========================\n['<SOS>', 'A_SUBMITTED_COMPLETE', 'A_PARTLYSUBMITTED_COMPLETE', 'A_PREACCEPTED_COMPLETE', 'W_Completeren aanvraag_SCHEDULE', 'W_Completeren aanvraag_START', 'A_ACCEPTED_COMPLETE', 'O_SELECTED_COMPLETE', 'A_FINALIZED_COMPLETE', 'O_CREATED_COMPLETE', 'O_SENT_COMPLETE', 'W_Nabellen offertes_SCHEDULE', 'W_Completeren aanvraag_COMPLETE', 'W_Nabellen offertes_START', 'W_Nabellen offertes_COMPLETE', 'W_Nabellen offertes_START', 'W_Nabellen offertes_COMPLETE', 'W_Nabellen offertes_START', 'W_Nabellen offertes_COMPLETE', 'W_Nabellen offertes_START', 'W_Nabellen offertes_COMPLETE', 'W_Nabellen offertes_START', 'W_Nabellen offertes_COMPLETE', 'W_Nabellen offertes_START', 'W_Nabellen offertes_COMPLETE', 'W_Nabellen offertes_START', 'W_Nabellen offertes_COMPLETE', 'W_Nabellen offertes_START', 'W_Nabellen offertes_COMPLETE', 'W_Nabellen offertes_START', 'W_Nabellen offertes_COMPLETE', 'W_Nabellen offertes_START', 'W_Nabellen offertes_COMPLETE', 'W_Nabellen offertes_START', 'O_SENT_BACK_COMPLETE', 'W_Valideren aanvraag_SCHEDULE', 'W_Nabellen offertes_COMPLETE', 'W_Valideren aanvraag_START', 'A_APPROVED_COMPLETE', 'O_ACCEPTED_COMPLETE', 'A_REGISTERED_COMPLETE', 'A_ACTIVATED_COMPLETE', 'W_Valideren aanvraag_COMPLETE']\n=========================Failed===========================\n['<SOS>', 'A_SUBMITTED_COMPLETE', 'A_PARTLYSUBMITTED_COMPLETE', 'W_Afhandelen leads_SCHEDULE', 'W_Afhandelen leads_START', 'A_PREACCEPTED_COMPLETE', 'W_Completeren aanvraag_SCHEDULE', 'W_Afhandelen leads_COMPLETE', 'W_Completeren aanvraag_START', 'A_ACCEPTED_COMPLETE', 'A_FINALIZED_COMPLETE', 'O_SELECTED_COMPLETE', 'O_CREATED_COMPLETE', 'O_SENT_COMPLETE', 'W_Nabellen offertes_SCHEDULE', 'W_Completeren aanvraag_COMPLETE', 'W_Nabellen offertes_START', 'W_Nabellen offertes_COMPLETE', 'W_Nabellen offertes_START', 'A_CANCELLED_COMPLETE', 'O_CANCELLED_COMPLETE', 'W_Nabellen offertes_COMPLETE']\n"
     ]
    }
   ],
   "source": [
    "success_case_idx = 2\n",
    "fail_case_idx = 7\n",
    "print(\"=========================Accepted=========================\")\n",
    "accpeted_example_idx_trace = trainer.dataset.collate_fn([all_success_case_in_test[success_case_idx]])[1][0]\n",
    "accpeted_example_vocab_trace = explainer.model.vocab.list_of_index_to_vocab(accpeted_example_idx_trace.tolist())\n",
    "print(accpeted_example_vocab_trace)\n",
    "print(\"=========================Failed===========================\")\n",
    "failed_example_idx_trace = trainer.dataset.collate_fn([all_fail_case_in_test[fail_case_idx]])[1][0]\n",
    "failed_example_vocab_trace = explainer.model.vocab.list_of_index_to_vocab(failed_example_idx_trace.tolist())\n",
    "print(failed_example_vocab_trace)"
   ]
  },
  {
   "cell_type": "code",
   "execution_count": 14,
   "metadata": {},
   "outputs": [
    {
     "output_type": "stream",
     "name": "stdout",
     "text": [
      "Predicted activity with highest probability (1.00) is \"A_ACTIVATED_COMPLETE\"\n"
     ]
    }
   ],
   "source": [
    "# example_vocab_input = ['<SOS>', 'A_SUBMITTED_COMPLETE', 'A_PARTLYSUBMITTED_COMPLETE', 'A_PREACCEPTED_COMPLETE', 'W_Completeren aanvraag_SCHEDULE', 'W_Completeren aanvraag_START', 'A_ACCEPTED_COMPLETE', 'O_SELECTED_COMPLETE'] # 'A_FINALIZED_COMPLETE']\n",
    "\n",
    "example_vocab_input = ['<SOS>','A_SUBMITTED_COMPLETE', 'A_PARTLYSUBMITTED_COMPLETE', 'A_PREACCEPTED_COMPLETE', 'W_Completeren aanvraag_SCHEDULE', 'W_Completeren aanvraag_START', 'W_Completeren aanvraag_COMPLETE', 'W_Completeren aanvraag_START', 'W_Completeren aanvraag_COMPLETE', 'W_Completeren aanvraag_START', 'A_ACCEPTED_COMPLETE', 'A_FINALIZED_COMPLETE', 'O_SELECTED_COMPLETE', 'O_CREATED_COMPLETE', 'O_SENT_COMPLETE', 'W_Nabellen offertes_SCHEDULE', 'W_Completeren aanvraag_COMPLETE', 'W_Nabellen offertes_START', 'W_Nabellen offertes_COMPLETE', 'W_Nabellen offertes_START', 'W_Nabellen offertes_COMPLETE', 'W_Nabellen offertes_START', 'O_SENT_BACK_COMPLETE', 'W_Valideren aanvraag_SCHEDULE', 'W_Nabellen offertes_COMPLETE', 'W_Valideren aanvraag_START', 'W_Valideren aanvraag_COMPLETE', 'W_Valideren aanvraag_START', 'W_Nabellen incomplete dossiers_SCHEDULE', 'W_Valideren aanvraag_COMPLETE', 'W_Nabellen incomplete dossiers_START', 'W_Nabellen incomplete dossiers_COMPLETE', 'W_Nabellen incomplete dossiers_START', 'W_Nabellen incomplete dossiers_COMPLETE', 'W_Nabellen incomplete dossiers_START', 'W_Nabellen incomplete dossiers_COMPLETE', 'W_Nabellen incomplete dossiers_START', 'W_Nabellen incomplete dossiers_COMPLETE', 'W_Nabellen incomplete dossiers_START', 'W_Nabellen incomplete dossiers_COMPLETE', 'W_Nabellen incomplete dossiers_START', 'W_Nabellen incomplete dossiers_COMPLETE', 'W_Nabellen incomplete dossiers_START', 'W_Nabellen incomplete dossiers_COMPLETE', 'W_Nabellen incomplete dossiers_START', 'W_Nabellen incomplete dossiers_COMPLETE', 'W_Nabellen incomplete dossiers_START', 'W_Nabellen incomplete dossiers_COMPLETE', 'W_Nabellen incomplete dossiers_START', 'W_Nabellen incomplete dossiers_COMPLETE', 'W_Nabellen incomplete dossiers_START', 'W_Nabellen incomplete dossiers_COMPLETE', 'W_Nabellen incomplete dossiers_START', 'W_Nabellen incomplete dossiers_COMPLETE', 'W_Nabellen incomplete dossiers_START', 'W_Nabellen incomplete dossiers_COMPLETE', 'W_Nabellen incomplete dossiers_START', 'W_Nabellen incomplete dossiers_COMPLETE', 'W_Nabellen incomplete dossiers_START', 'W_Nabellen incomplete dossiers_COMPLETE', 'W_Nabellen incomplete dossiers_START', 'W_Nabellen incomplete dossiers_COMPLETE', 'W_Nabellen incomplete dossiers_START', 'W_Nabellen incomplete dossiers_COMPLETE', 'W_Nabellen incomplete dossiers_START', 'W_Nabellen incomplete dossiers_COMPLETE', 'W_Nabellen incomplete dossiers_START', 'W_Nabellen incomplete dossiers_COMPLETE', 'W_Nabellen incomplete dossiers_START', 'W_Nabellen incomplete dossiers_COMPLETE', 'W_Nabellen incomplete dossiers_START', 'W_Nabellen incomplete dossiers_COMPLETE', 'W_Nabellen incomplete dossiers_START', 'W_Nabellen incomplete dossiers_COMPLETE', 'W_Nabellen incomplete dossiers_START', 'W_Nabellen incomplete dossiers_COMPLETE', 'W_Nabellen incomplete dossiers_START', 'W_Nabellen incomplete dossiers_COMPLETE', 'W_Nabellen incomplete dossiers_START', 'W_Nabellen incomplete dossiers_COMPLETE', 'W_Nabellen incomplete dossiers_START', 'W_Nabellen incomplete dossiers_COMPLETE', 'W_Nabellen incomplete dossiers_START', 'W_Nabellen incomplete dossiers_COMPLETE', 'W_Nabellen incomplete dossiers_START', 'O_ACCEPTED_COMPLETE', 'A_APPROVED_COMPLETE', 'A_REGISTERED_COMPLETE']\n",
    "\n",
    "example_idx_trace = np.array(explainer.model.vocab.list_of_vocab_to_index(example_vocab_input))\n",
    "#### Throw example into model ####\n",
    "example_input = tf.constant([example_idx_trace])\n",
    "\n",
    "out, _ = explainer.model(example_input)\n",
    "\n",
    "predicted_vocab_distributions = tf.gather(out, len(example_vocab_input)-1, axis=1) \n",
    "predicted_vocab_distributions_df = pd.DataFrame(predicted_vocab_distributions.numpy().tolist(),columns= list(explainer.model.vocab.vocab_dict.keys()))\n",
    "max_arg = tf.math.argmax(predicted_vocab_distributions, axis=-1).numpy()[0]\n",
    "max_prob_vocab = explainer.model.vocab.index_to_vocab(max_arg)\n",
    "print(\"Predicted activity with highest probability (%.2f) is \\\"%s\\\"\" % (predicted_vocab_distributions[0][max_arg].numpy(), max_prob_vocab))"
   ]
  },
  {
   "cell_type": "code",
   "execution_count": null,
   "metadata": {},
   "outputs": [],
   "source": []
  },
  {
   "cell_type": "code",
   "execution_count": 15,
   "metadata": {},
   "outputs": [
    {
     "output_type": "stream",
     "name": "stdout",
     "text": [
      "['A_SUBMITTED_COMPLETE', 'A_PARTLYSUBMITTED_COMPLETE', 'A_PREACCEPTED_COMPLETE', 'W_Completeren aanvraag_SCHEDULE', 'W_Completeren aanvraag_START', 'W_Completeren aanvraag_COMPLETE', 'W_Completeren aanvraag_START', 'W_Completeren aanvraag_COMPLETE', 'W_Completeren aanvraag_START', 'A_ACCEPTED_COMPLETE', 'A_FINALIZED_COMPLETE', 'O_SELECTED_COMPLETE', 'O_CREATED_COMPLETE', 'O_SENT_COMPLETE', 'W_Nabellen offertes_SCHEDULE', 'W_Completeren aanvraag_COMPLETE', 'W_Nabellen offertes_START', 'W_Nabellen offertes_COMPLETE', 'W_Nabellen offertes_START', 'W_Nabellen offertes_COMPLETE', 'W_Nabellen offertes_START', 'O_SENT_BACK_COMPLETE', 'W_Valideren aanvraag_SCHEDULE', 'W_Nabellen offertes_COMPLETE', 'W_Valideren aanvraag_START', 'W_Valideren aanvraag_COMPLETE', 'W_Valideren aanvraag_START', 'W_Nabellen incomplete dossiers_SCHEDULE', 'W_Valideren aanvraag_COMPLETE', 'W_Nabellen incomplete dossiers_START', 'W_Nabellen incomplete dossiers_COMPLETE', 'W_Nabellen incomplete dossiers_START', 'W_Nabellen incomplete dossiers_COMPLETE', 'W_Nabellen incomplete dossiers_START', 'W_Nabellen incomplete dossiers_COMPLETE', 'W_Nabellen incomplete dossiers_START', 'W_Nabellen incomplete dossiers_COMPLETE', 'W_Nabellen incomplete dossiers_START', 'W_Nabellen incomplete dossiers_COMPLETE', 'W_Nabellen incomplete dossiers_START', 'W_Nabellen incomplete dossiers_COMPLETE', 'W_Nabellen incomplete dossiers_START', 'W_Nabellen incomplete dossiers_COMPLETE', 'W_Nabellen incomplete dossiers_START', 'W_Nabellen incomplete dossiers_COMPLETE', 'W_Nabellen incomplete dossiers_START', 'W_Nabellen incomplete dossiers_COMPLETE', 'W_Nabellen incomplete dossiers_START', 'W_Nabellen incomplete dossiers_COMPLETE', 'W_Nabellen incomplete dossiers_START', 'W_Nabellen incomplete dossiers_COMPLETE', 'W_Nabellen incomplete dossiers_START', 'W_Nabellen incomplete dossiers_COMPLETE', 'W_Nabellen incomplete dossiers_START', 'W_Nabellen incomplete dossiers_COMPLETE', 'W_Nabellen incomplete dossiers_START', 'W_Nabellen incomplete dossiers_COMPLETE', 'W_Nabellen incomplete dossiers_START', 'W_Nabellen incomplete dossiers_COMPLETE', 'W_Nabellen incomplete dossiers_START', 'W_Nabellen incomplete dossiers_COMPLETE', 'W_Nabellen incomplete dossiers_START', 'W_Nabellen incomplete dossiers_COMPLETE', 'W_Nabellen incomplete dossiers_START', 'W_Nabellen incomplete dossiers_COMPLETE', 'W_Nabellen incomplete dossiers_START', 'W_Nabellen incomplete dossiers_COMPLETE', 'W_Nabellen incomplete dossiers_START', 'W_Nabellen incomplete dossiers_COMPLETE', 'W_Nabellen incomplete dossiers_START', 'W_Nabellen incomplete dossiers_COMPLETE', 'W_Nabellen incomplete dossiers_START', 'W_Nabellen incomplete dossiers_COMPLETE', 'W_Nabellen incomplete dossiers_START', 'W_Nabellen incomplete dossiers_COMPLETE', 'W_Nabellen incomplete dossiers_START', 'W_Nabellen incomplete dossiers_COMPLETE', 'W_Nabellen incomplete dossiers_START', 'W_Nabellen incomplete dossiers_COMPLETE', 'W_Nabellen incomplete dossiers_START', 'W_Nabellen incomplete dossiers_COMPLETE', 'W_Nabellen incomplete dossiers_START', 'W_Nabellen incomplete dossiers_COMPLETE', 'W_Nabellen incomplete dossiers_START', 'O_ACCEPTED_COMPLETE', 'A_APPROVED_COMPLETE', 'A_REGISTERED_COMPLETE']\n"
     ]
    }
   ],
   "source": [
    "## Get an completed example\n",
    "# index_from_test = 9\n",
    "# example_idx_trace = np.array([ 2, 12,  9, 10, 27, 28,  3, 17])\n",
    "# example_idx_trace = np.array([ 2, 12,  9, 10, 27, 28, 26, 28, 26, 28,  3,  8, 17, 15, 19, 33, 26,\\\n",
    "#        34, 32, 34, 32, 34, 18, 36, 32, 37, 35, 37, 30, 35, 31, 29, 31, 29,\\\n",
    "#        31, 29, 31, 29, 31, 29, 31, 29, 31, 29, 31, 29, 31, 29, 31, 29, 31,\\\n",
    "#        29, 31, 29, 31, 29, 31, 29, 31, 29, 31, 29, 31, 29, 31, 29, 31, 29,\\\n",
    "#        31, 29, 31, 29, 31, 29, 31, 29, 31, 29, 31, 29, 31, 29, 31, 29, 31,\\\n",
    "#        13,  5, 11 ])\n",
    "# example_idx_trace = trainer.dataset.collate_fn([ordered_test_idx[index_from_test]])[1][0]\n",
    "\n",
    "example_vocab_trace = explainer.model.vocab.list_of_index_to_vocab(example_idx_trace.tolist())\n",
    "# example_vocab_trace = explainer.model.vocab.list_of_index_to_vocab(example_idx_trace.tolist())\n",
    "\n",
    "### Remove tags\n",
    "example_idx_trace_without_tags = [ i for i in  example_idx_trace if not i in index_to_remove]\n",
    "example_vocab_trace_without_tags = explainer.model.vocab.list_of_index_to_vocab(example_idx_trace_without_tags)\n",
    "\n",
    "print(example_vocab_trace_without_tags)"
   ]
  },
  {
   "cell_type": "code",
   "execution_count": 16,
   "metadata": {},
   "outputs": [],
   "source": [
    "### Set up arguments for CF\n",
    "feature_names = np.array([\"step_%d\" % (i+1) for i in range(len(example_vocab_trace_without_tags))])\n",
    "without_tags_vocabs = [ v for v in list(explainer.vocab.vocab_dict.keys()) if not \"<\" in v]\n",
    "cat_vars_without_tag = {}\n",
    "for k in feature_names:\n",
    "    cat_vars_without_tag[k] = without_tags_vocabs"
   ]
  },
  {
   "cell_type": "code",
   "execution_count": 17,
   "metadata": {},
   "outputs": [],
   "source": [
    "class ExtractingLastTimeStampProbDistributionLayer(tf.keras.Model):\n",
    "    '''\n",
    "    It's a new model classifying where the destination is prefered.\n",
    "    '''\n",
    "    def __init__(self, explainer: ExplainingController, desired: int, trace_length: int, without_tags_vocabs):\n",
    "        super(ExtractingLastTimeStampProbDistributionLayer, self).__init__()\n",
    "        self.explainer = explainer\n",
    "        self.desired = desired\n",
    "        self.trace_length = trace_length\n",
    "        self.all_predicted = []\n",
    "        self.all_trace = []\n",
    "        self.all_model_out = []\n",
    "        self.all_cf_input = []\n",
    "\n",
    "    def call(self, input):\n",
    "        '''\n",
    "        Input will be one-hot encoded tensor.\n",
    "        '''\n",
    "\n",
    "        self.all_cf_input.append(input.numpy())\n",
    "\n",
    "        ### Get real input from the one-hot encoded tensor.\n",
    "        input = tf.argmax(tf.stack(tf.split(input,self.trace_length, axis=-1,), axis = 1), axis = -1)\n",
    "        # self.input_before_convert = input\n",
    "        # print(\"=========Before Converting=========\")\n",
    "        # print(input)\n",
    "        # print(\"=======================\")\n",
    "\n",
    "        ### transfer to the input with tags.\n",
    "        input = tf.constant(explainer.vocab.list_of_vocab_to_index_2d([[without_tags_vocabs[idx] for idx in tf.squeeze(input).numpy()]]), dtype=tf.int64)\n",
    "        # self.input_after_convert = input\n",
    "        # print(\"=========After Converting=========\")\n",
    "        # print(input)\n",
    "        # print(\"=======================\")\n",
    "\n",
    "        # print(\"=========Input.Shape=========\")\n",
    "        # print(input.shape)\n",
    "        # print(\"=======================\")\n",
    "\n",
    "        self.all_trace.append(input.numpy())\n",
    "\n",
    "        ## Concate the <SOS> tag in the first step.\n",
    "        input = tf.concat([tf.constant([[2]], dtype=tf.int64) ,  input], axis=-1)\n",
    "\n",
    "        ## Feed to the model\n",
    "        out, _ = explainer.model(input)\n",
    "        self.all_model_out.append(out.numpy())\n",
    "\n",
    "        return out[:, -1, self.desired: self.desired+1]\n",
    "\n",
    "        ## Take the activty with max possibility.\n",
    "        out = tf.argmax(out[:, -1, :], axis = -1)\n",
    "\n",
    "        self.all_predicted.append(out.numpy())\n",
    "\n",
    "        ## Determine whether the \n",
    "\n",
    "        return tf.expand_dims(tf.cast(out == self.desired, dtype=tf.float32), axis = 0)"
   ]
  },
  {
   "cell_type": "code",
   "execution_count": 18,
   "metadata": {},
   "outputs": [],
   "source": [
    "desire_vocabs = all_important_vocabs[3]"
   ]
  },
  {
   "cell_type": "code",
   "execution_count": 19,
   "metadata": {},
   "outputs": [
    {
     "output_type": "execute_result",
     "data": {
      "text/plain": [
       "'A_DECLINED_COMPLETE'"
      ]
     },
     "metadata": {},
     "execution_count": 19
    }
   ],
   "source": [
    "desire_vocabs"
   ]
  },
  {
   "cell_type": "code",
   "execution_count": 20,
   "metadata": {},
   "outputs": [],
   "source": [
    "last_dist_model = ExtractingLastTimeStampProbDistributionLayer(explainer, desired=explainer.vocab.vocab_to_index(desire_vocabs), trace_length = len(example_vocab_trace_without_tags), without_tags_vocabs = without_tags_vocabs)"
   ]
  },
  {
   "cell_type": "code",
   "execution_count": 21,
   "metadata": {},
   "outputs": [],
   "source": [
    "d = dice_ml.Data(features=cat_vars_without_tag, outcome_name=\"predicted\",continuous_features = [])\n",
    "m = dice_ml.Model(model= last_dist_model, backend=\"TF2\")\n",
    "exp = dice_ml.Dice(d, m)"
   ]
  },
  {
   "cell_type": "code",
   "execution_count": 22,
   "metadata": {},
   "outputs": [],
   "source": [
    "example_df = pd.DataFrame([example_vocab_trace_without_tags], columns= feature_names)"
   ]
  },
  {
   "cell_type": "code",
   "execution_count": 23,
   "metadata": {},
   "outputs": [
    {
     "output_type": "execute_result",
     "data": {
      "text/plain": [
       "                 step_1                      step_2                  step_3  \\\n",
       "0  A_SUBMITTED_COMPLETE  A_PARTLYSUBMITTED_COMPLETE  A_PREACCEPTED_COMPLETE   \n",
       "\n",
       "                            step_4                        step_5  \\\n",
       "0  W_Completeren aanvraag_SCHEDULE  W_Completeren aanvraag_START   \n",
       "\n",
       "                            step_6                        step_7  \\\n",
       "0  W_Completeren aanvraag_COMPLETE  W_Completeren aanvraag_START   \n",
       "\n",
       "                            step_8                        step_9  \\\n",
       "0  W_Completeren aanvraag_COMPLETE  W_Completeren aanvraag_START   \n",
       "\n",
       "               step_10  ...                               step_78  \\\n",
       "0  A_ACCEPTED_COMPLETE  ...  W_Nabellen incomplete dossiers_START   \n",
       "\n",
       "                                   step_79  \\\n",
       "0  W_Nabellen incomplete dossiers_COMPLETE   \n",
       "\n",
       "                                step_80  \\\n",
       "0  W_Nabellen incomplete dossiers_START   \n",
       "\n",
       "                                   step_81  \\\n",
       "0  W_Nabellen incomplete dossiers_COMPLETE   \n",
       "\n",
       "                                step_82  \\\n",
       "0  W_Nabellen incomplete dossiers_START   \n",
       "\n",
       "                                   step_83  \\\n",
       "0  W_Nabellen incomplete dossiers_COMPLETE   \n",
       "\n",
       "                                step_84              step_85  \\\n",
       "0  W_Nabellen incomplete dossiers_START  O_ACCEPTED_COMPLETE   \n",
       "\n",
       "               step_86                step_87  \n",
       "0  A_APPROVED_COMPLETE  A_REGISTERED_COMPLETE  \n",
       "\n",
       "[1 rows x 87 columns]"
      ],
      "text/html": "<div>\n<style scoped>\n    .dataframe tbody tr th:only-of-type {\n        vertical-align: middle;\n    }\n\n    .dataframe tbody tr th {\n        vertical-align: top;\n    }\n\n    .dataframe thead th {\n        text-align: right;\n    }\n</style>\n<table border=\"1\" class=\"dataframe\">\n  <thead>\n    <tr style=\"text-align: right;\">\n      <th></th>\n      <th>step_1</th>\n      <th>step_2</th>\n      <th>step_3</th>\n      <th>step_4</th>\n      <th>step_5</th>\n      <th>step_6</th>\n      <th>step_7</th>\n      <th>step_8</th>\n      <th>step_9</th>\n      <th>step_10</th>\n      <th>...</th>\n      <th>step_78</th>\n      <th>step_79</th>\n      <th>step_80</th>\n      <th>step_81</th>\n      <th>step_82</th>\n      <th>step_83</th>\n      <th>step_84</th>\n      <th>step_85</th>\n      <th>step_86</th>\n      <th>step_87</th>\n    </tr>\n  </thead>\n  <tbody>\n    <tr>\n      <th>0</th>\n      <td>A_SUBMITTED_COMPLETE</td>\n      <td>A_PARTLYSUBMITTED_COMPLETE</td>\n      <td>A_PREACCEPTED_COMPLETE</td>\n      <td>W_Completeren aanvraag_SCHEDULE</td>\n      <td>W_Completeren aanvraag_START</td>\n      <td>W_Completeren aanvraag_COMPLETE</td>\n      <td>W_Completeren aanvraag_START</td>\n      <td>W_Completeren aanvraag_COMPLETE</td>\n      <td>W_Completeren aanvraag_START</td>\n      <td>A_ACCEPTED_COMPLETE</td>\n      <td>...</td>\n      <td>W_Nabellen incomplete dossiers_START</td>\n      <td>W_Nabellen incomplete dossiers_COMPLETE</td>\n      <td>W_Nabellen incomplete dossiers_START</td>\n      <td>W_Nabellen incomplete dossiers_COMPLETE</td>\n      <td>W_Nabellen incomplete dossiers_START</td>\n      <td>W_Nabellen incomplete dossiers_COMPLETE</td>\n      <td>W_Nabellen incomplete dossiers_START</td>\n      <td>O_ACCEPTED_COMPLETE</td>\n      <td>A_APPROVED_COMPLETE</td>\n      <td>A_REGISTERED_COMPLETE</td>\n    </tr>\n  </tbody>\n</table>\n<p>1 rows × 87 columns</p>\n</div>"
     },
     "metadata": {},
     "execution_count": 23
    }
   ],
   "source": [
    "example_df"
   ]
  },
  {
   "cell_type": "code",
   "execution_count": 24,
   "metadata": {},
   "outputs": [
    {
     "output_type": "stream",
     "name": "stdout",
     "text": [
      "Diverse Counterfactuals found! total time taken: 07 min 50 sec\n"
     ]
    }
   ],
   "source": [
    "dice_exp = exp.generate_counterfactuals(example_df,\n",
    " total_CFs=1,\n",
    "  desired_class=\"opposite\",\n",
    "   min_iter=100, max_iter=5000,\n",
    "    # permitted_range= cat_vars_without_tag\n",
    "    tie_random = True,\n",
    "    categorical_penalty = 20,\n",
    "    )"
   ]
  },
  {
   "cell_type": "code",
   "execution_count": 25,
   "metadata": {},
   "outputs": [
    {
     "output_type": "stream",
     "name": "stdout",
     "text": [
      "Query instance (original outcome : 0)\n"
     ]
    },
    {
     "output_type": "display_data",
     "data": {
      "text/plain": "                 step_1                      step_2                  step_3  \\\n0  A_SUBMITTED_COMPLETE  A_PARTLYSUBMITTED_COMPLETE  A_PREACCEPTED_COMPLETE   \n\n                            step_4                        step_5  \\\n0  W_Completeren aanvraag_SCHEDULE  W_Completeren aanvraag_START   \n\n                            step_6                        step_7  \\\n0  W_Completeren aanvraag_COMPLETE  W_Completeren aanvraag_START   \n\n                            step_8                        step_9  \\\n0  W_Completeren aanvraag_COMPLETE  W_Completeren aanvraag_START   \n\n               step_10  ...                                  step_79  \\\n0  A_ACCEPTED_COMPLETE  ...  W_Nabellen incomplete dossiers_COMPLETE   \n\n                                step_80  \\\n0  W_Nabellen incomplete dossiers_START   \n\n                                   step_81  \\\n0  W_Nabellen incomplete dossiers_COMPLETE   \n\n                                step_82  \\\n0  W_Nabellen incomplete dossiers_START   \n\n                                   step_83  \\\n0  W_Nabellen incomplete dossiers_COMPLETE   \n\n                                step_84              step_85  \\\n0  W_Nabellen incomplete dossiers_START  O_ACCEPTED_COMPLETE   \n\n               step_86                step_87 predicted  \n0  A_APPROVED_COMPLETE  A_REGISTERED_COMPLETE       0.0  \n\n[1 rows x 88 columns]",
      "text/html": "<div>\n<style scoped>\n    .dataframe tbody tr th:only-of-type {\n        vertical-align: middle;\n    }\n\n    .dataframe tbody tr th {\n        vertical-align: top;\n    }\n\n    .dataframe thead th {\n        text-align: right;\n    }\n</style>\n<table border=\"1\" class=\"dataframe\">\n  <thead>\n    <tr style=\"text-align: right;\">\n      <th></th>\n      <th>step_1</th>\n      <th>step_2</th>\n      <th>step_3</th>\n      <th>step_4</th>\n      <th>step_5</th>\n      <th>step_6</th>\n      <th>step_7</th>\n      <th>step_8</th>\n      <th>step_9</th>\n      <th>step_10</th>\n      <th>...</th>\n      <th>step_79</th>\n      <th>step_80</th>\n      <th>step_81</th>\n      <th>step_82</th>\n      <th>step_83</th>\n      <th>step_84</th>\n      <th>step_85</th>\n      <th>step_86</th>\n      <th>step_87</th>\n      <th>predicted</th>\n    </tr>\n  </thead>\n  <tbody>\n    <tr>\n      <th>0</th>\n      <td>A_SUBMITTED_COMPLETE</td>\n      <td>A_PARTLYSUBMITTED_COMPLETE</td>\n      <td>A_PREACCEPTED_COMPLETE</td>\n      <td>W_Completeren aanvraag_SCHEDULE</td>\n      <td>W_Completeren aanvraag_START</td>\n      <td>W_Completeren aanvraag_COMPLETE</td>\n      <td>W_Completeren aanvraag_START</td>\n      <td>W_Completeren aanvraag_COMPLETE</td>\n      <td>W_Completeren aanvraag_START</td>\n      <td>A_ACCEPTED_COMPLETE</td>\n      <td>...</td>\n      <td>W_Nabellen incomplete dossiers_COMPLETE</td>\n      <td>W_Nabellen incomplete dossiers_START</td>\n      <td>W_Nabellen incomplete dossiers_COMPLETE</td>\n      <td>W_Nabellen incomplete dossiers_START</td>\n      <td>W_Nabellen incomplete dossiers_COMPLETE</td>\n      <td>W_Nabellen incomplete dossiers_START</td>\n      <td>O_ACCEPTED_COMPLETE</td>\n      <td>A_APPROVED_COMPLETE</td>\n      <td>A_REGISTERED_COMPLETE</td>\n      <td>0.0</td>\n    </tr>\n  </tbody>\n</table>\n<p>1 rows × 88 columns</p>\n</div>"
     },
     "metadata": {}
    },
    {
     "output_type": "stream",
     "name": "stdout",
     "text": [
      "\nDiverse Counterfactual set without sparsity correction since only metadata about each  feature is available (new outcome:  1.0\n"
     ]
    },
    {
     "output_type": "display_data",
     "data": {
      "text/plain": "  step_1 step_2 step_3 step_4 step_5 step_6               step_7  \\\n0      -      -      -      -      -      -  A_ACCEPTED_COMPLETE   \n\n                step_8 step_9              step_10  ...  \\\n0  A_ACCEPTED_COMPLETE      -  O_SELECTED_COMPLETE  ...   \n\n                         step_79             step_80  \\\n0  W_Valideren aanvraag_COMPLETE  O_CREATED_COMPLETE   \n\n                        step_81               step_82  \\\n0  W_Beoordelen fraude_SCHEDULE  A_SUBMITTED_COMPLETE   \n\n                                   step_83               step_84  \\\n0  W_Nabellen incomplete dossiers_SCHEDULE  A_ACTIVATED_COMPLETE   \n\n                step_85                                  step_86  \\\n0  A_CANCELLED_COMPLETE  W_Nabellen incomplete dossiers_COMPLETE   \n\n                      step_87 predicted  \n0  A_PARTLYSUBMITTED_COMPLETE     0.506  \n\n[1 rows x 88 columns]",
      "text/html": "<div>\n<style scoped>\n    .dataframe tbody tr th:only-of-type {\n        vertical-align: middle;\n    }\n\n    .dataframe tbody tr th {\n        vertical-align: top;\n    }\n\n    .dataframe thead th {\n        text-align: right;\n    }\n</style>\n<table border=\"1\" class=\"dataframe\">\n  <thead>\n    <tr style=\"text-align: right;\">\n      <th></th>\n      <th>step_1</th>\n      <th>step_2</th>\n      <th>step_3</th>\n      <th>step_4</th>\n      <th>step_5</th>\n      <th>step_6</th>\n      <th>step_7</th>\n      <th>step_8</th>\n      <th>step_9</th>\n      <th>step_10</th>\n      <th>...</th>\n      <th>step_79</th>\n      <th>step_80</th>\n      <th>step_81</th>\n      <th>step_82</th>\n      <th>step_83</th>\n      <th>step_84</th>\n      <th>step_85</th>\n      <th>step_86</th>\n      <th>step_87</th>\n      <th>predicted</th>\n    </tr>\n  </thead>\n  <tbody>\n    <tr>\n      <th>0</th>\n      <td>-</td>\n      <td>-</td>\n      <td>-</td>\n      <td>-</td>\n      <td>-</td>\n      <td>-</td>\n      <td>A_ACCEPTED_COMPLETE</td>\n      <td>A_ACCEPTED_COMPLETE</td>\n      <td>-</td>\n      <td>O_SELECTED_COMPLETE</td>\n      <td>...</td>\n      <td>W_Valideren aanvraag_COMPLETE</td>\n      <td>O_CREATED_COMPLETE</td>\n      <td>W_Beoordelen fraude_SCHEDULE</td>\n      <td>A_SUBMITTED_COMPLETE</td>\n      <td>W_Nabellen incomplete dossiers_SCHEDULE</td>\n      <td>A_ACTIVATED_COMPLETE</td>\n      <td>A_CANCELLED_COMPLETE</td>\n      <td>W_Nabellen incomplete dossiers_COMPLETE</td>\n      <td>A_PARTLYSUBMITTED_COMPLETE</td>\n      <td>0.506</td>\n    </tr>\n  </tbody>\n</table>\n<p>1 rows × 88 columns</p>\n</div>"
     },
     "metadata": {}
    }
   ],
   "source": [
    "dice_exp.visualize_as_dataframe(show_only_changes=True, display_sparse_df=False)"
   ]
  },
  {
   "cell_type": "code",
   "execution_count": 26,
   "metadata": {},
   "outputs": [
    {
     "output_type": "execute_result",
     "data": {
      "text/plain": [
       "False"
      ]
     },
     "metadata": {},
     "execution_count": 26
    }
   ],
   "source": [
    "all_cf_are_same = all([all((last_dist_model.all_cf_input[1] == last_dist_model.all_cf_input[i]).tolist()[0]) for i in range(len(last_dist_model.all_cf_input))][1:])\n",
    "all_cf_are_same"
   ]
  },
  {
   "cell_type": "code",
   "execution_count": 27,
   "metadata": {},
   "outputs": [],
   "source": [
    "all_traces = []\n",
    "#### for the first step how many activities are tried.\n",
    "for i in range(len(example_vocab_trace_without_tags)):\n",
    "    # list(set((np.squeeze(np.array(last_dist_model.all_trace))[:, 0]).tolist()))\n",
    "    trace = explainer.model.vocab.list_of_index_to_vocab(list(set((np.squeeze(np.array(last_dist_model.all_trace))[:, i]).tolist())))\n",
    "    all_traces.append(trace)"
   ]
  },
  {
   "cell_type": "code",
   "execution_count": 44,
   "metadata": {},
   "outputs": [
    {
     "output_type": "execute_result",
     "data": {
      "text/plain": [
       "[3,\n",
       " 3,\n",
       " 3,\n",
       " 3,\n",
       " 3,\n",
       " 3,\n",
       " 4,\n",
       " 3,\n",
       " 21,\n",
       " 36,\n",
       " 36,\n",
       " 36,\n",
       " 36,\n",
       " 36,\n",
       " 36,\n",
       " 36,\n",
       " 36,\n",
       " 36,\n",
       " 36,\n",
       " 36,\n",
       " 36,\n",
       " 36,\n",
       " 36,\n",
       " 36,\n",
       " 36,\n",
       " 36,\n",
       " 36,\n",
       " 36,\n",
       " 36,\n",
       " 36,\n",
       " 36,\n",
       " 36,\n",
       " 36,\n",
       " 36,\n",
       " 36,\n",
       " 36,\n",
       " 36,\n",
       " 36,\n",
       " 36,\n",
       " 36,\n",
       " 36,\n",
       " 36,\n",
       " 36,\n",
       " 36,\n",
       " 36,\n",
       " 36,\n",
       " 36,\n",
       " 36,\n",
       " 36,\n",
       " 36,\n",
       " 36,\n",
       " 36,\n",
       " 36,\n",
       " 36,\n",
       " 36,\n",
       " 36,\n",
       " 36,\n",
       " 36,\n",
       " 36,\n",
       " 36,\n",
       " 36,\n",
       " 36,\n",
       " 36,\n",
       " 36,\n",
       " 36,\n",
       " 36,\n",
       " 36,\n",
       " 36,\n",
       " 36,\n",
       " 36,\n",
       " 36,\n",
       " 36,\n",
       " 36,\n",
       " 36,\n",
       " 36,\n",
       " 36,\n",
       " 36,\n",
       " 36,\n",
       " 36,\n",
       " 36,\n",
       " 36,\n",
       " 36,\n",
       " 36,\n",
       " 36,\n",
       " 36,\n",
       " 36,\n",
       " 36]"
      ]
     },
     "metadata": {},
     "execution_count": 44
    }
   ],
   "source": [
    "[len(t)  for t in all_traces]"
   ]
  },
  {
   "cell_type": "code",
   "execution_count": 29,
   "metadata": {},
   "outputs": [
    {
     "output_type": "execute_result",
     "data": {
      "text/plain": [
       "['A_SUBMITTED_COMPLETE',\n",
       " 'A_PARTLYSUBMITTED_COMPLETE',\n",
       " 'A_PREACCEPTED_COMPLETE',\n",
       " 'W_Completeren aanvraag_SCHEDULE',\n",
       " 'W_Completeren aanvraag_START',\n",
       " 'W_Completeren aanvraag_COMPLETE',\n",
       " 'W_Completeren aanvraag_START',\n",
       " 'W_Completeren aanvraag_COMPLETE',\n",
       " 'W_Completeren aanvraag_START',\n",
       " 'A_ACCEPTED_COMPLETE',\n",
       " 'A_FINALIZED_COMPLETE',\n",
       " 'O_SELECTED_COMPLETE',\n",
       " 'O_CREATED_COMPLETE',\n",
       " 'O_SENT_COMPLETE',\n",
       " 'W_Nabellen offertes_SCHEDULE',\n",
       " 'W_Completeren aanvraag_COMPLETE',\n",
       " 'W_Nabellen offertes_START',\n",
       " 'W_Nabellen offertes_COMPLETE',\n",
       " 'W_Nabellen offertes_START',\n",
       " 'W_Nabellen offertes_COMPLETE',\n",
       " 'W_Nabellen offertes_START',\n",
       " 'O_SENT_BACK_COMPLETE',\n",
       " 'W_Valideren aanvraag_SCHEDULE',\n",
       " 'W_Nabellen offertes_COMPLETE',\n",
       " 'W_Valideren aanvraag_START',\n",
       " 'W_Valideren aanvraag_COMPLETE',\n",
       " 'W_Valideren aanvraag_START',\n",
       " 'W_Nabellen incomplete dossiers_SCHEDULE',\n",
       " 'W_Valideren aanvraag_COMPLETE',\n",
       " 'W_Nabellen incomplete dossiers_START',\n",
       " 'W_Nabellen incomplete dossiers_COMPLETE',\n",
       " 'W_Nabellen incomplete dossiers_START',\n",
       " 'W_Nabellen incomplete dossiers_COMPLETE',\n",
       " 'W_Nabellen incomplete dossiers_START',\n",
       " 'W_Nabellen incomplete dossiers_COMPLETE',\n",
       " 'W_Nabellen incomplete dossiers_START',\n",
       " 'W_Nabellen incomplete dossiers_COMPLETE',\n",
       " 'W_Nabellen incomplete dossiers_START',\n",
       " 'W_Nabellen incomplete dossiers_COMPLETE',\n",
       " 'W_Nabellen incomplete dossiers_START',\n",
       " 'W_Nabellen incomplete dossiers_COMPLETE',\n",
       " 'W_Nabellen incomplete dossiers_START',\n",
       " 'W_Nabellen incomplete dossiers_COMPLETE',\n",
       " 'W_Nabellen incomplete dossiers_START',\n",
       " 'W_Nabellen incomplete dossiers_COMPLETE',\n",
       " 'W_Nabellen incomplete dossiers_START',\n",
       " 'W_Nabellen incomplete dossiers_COMPLETE',\n",
       " 'W_Nabellen incomplete dossiers_START',\n",
       " 'W_Nabellen incomplete dossiers_COMPLETE',\n",
       " 'W_Nabellen incomplete dossiers_START',\n",
       " 'W_Nabellen incomplete dossiers_COMPLETE',\n",
       " 'W_Nabellen incomplete dossiers_START',\n",
       " 'W_Nabellen incomplete dossiers_COMPLETE',\n",
       " 'W_Nabellen incomplete dossiers_START',\n",
       " 'W_Nabellen incomplete dossiers_COMPLETE',\n",
       " 'W_Nabellen incomplete dossiers_START',\n",
       " 'W_Nabellen incomplete dossiers_COMPLETE',\n",
       " 'W_Nabellen incomplete dossiers_START',\n",
       " 'W_Nabellen incomplete dossiers_COMPLETE',\n",
       " 'W_Nabellen incomplete dossiers_START',\n",
       " 'W_Nabellen incomplete dossiers_COMPLETE',\n",
       " 'W_Nabellen incomplete dossiers_START',\n",
       " 'W_Nabellen incomplete dossiers_COMPLETE',\n",
       " 'W_Nabellen incomplete dossiers_START',\n",
       " 'W_Nabellen incomplete dossiers_COMPLETE',\n",
       " 'W_Nabellen incomplete dossiers_START',\n",
       " 'W_Nabellen incomplete dossiers_COMPLETE',\n",
       " 'W_Nabellen incomplete dossiers_START',\n",
       " 'W_Nabellen incomplete dossiers_COMPLETE',\n",
       " 'W_Nabellen incomplete dossiers_START',\n",
       " 'W_Nabellen incomplete dossiers_COMPLETE',\n",
       " 'W_Nabellen incomplete dossiers_START',\n",
       " 'W_Nabellen incomplete dossiers_COMPLETE',\n",
       " 'W_Nabellen incomplete dossiers_START',\n",
       " 'W_Nabellen incomplete dossiers_COMPLETE',\n",
       " 'W_Nabellen incomplete dossiers_START',\n",
       " 'W_Nabellen incomplete dossiers_COMPLETE',\n",
       " 'W_Nabellen incomplete dossiers_START',\n",
       " 'W_Nabellen incomplete dossiers_COMPLETE',\n",
       " 'W_Nabellen incomplete dossiers_START',\n",
       " 'W_Nabellen incomplete dossiers_COMPLETE',\n",
       " 'W_Nabellen incomplete dossiers_START',\n",
       " 'W_Nabellen incomplete dossiers_COMPLETE',\n",
       " 'W_Nabellen incomplete dossiers_START',\n",
       " 'O_ACCEPTED_COMPLETE',\n",
       " 'A_APPROVED_COMPLETE',\n",
       " 'A_REGISTERED_COMPLETE']"
      ]
     },
     "metadata": {},
     "execution_count": 29
    }
   ],
   "source": [
    "list(example_df.iloc[0])"
   ]
  },
  {
   "cell_type": "code",
   "execution_count": 30,
   "metadata": {},
   "outputs": [
    {
     "output_type": "execute_result",
     "data": {
      "text/plain": [
       "['A_SUBMITTED_COMPLETE',\n",
       " 'A_PARTLYSUBMITTED_COMPLETE',\n",
       " 'A_PREACCEPTED_COMPLETE',\n",
       " 'W_Completeren aanvraag_SCHEDULE',\n",
       " 'W_Completeren aanvraag_START',\n",
       " 'W_Completeren aanvraag_COMPLETE',\n",
       " 'A_ACCEPTED_COMPLETE',\n",
       " 'A_ACCEPTED_COMPLETE',\n",
       " 'W_Completeren aanvraag_START',\n",
       " 'O_SELECTED_COMPLETE',\n",
       " 'O_CANCELLED_COMPLETE',\n",
       " 'A_PARTLYSUBMITTED_COMPLETE',\n",
       " 'W_Nabellen offertes_START',\n",
       " 'A_PARTLYSUBMITTED_COMPLETE',\n",
       " 'O_DECLINED_COMPLETE',\n",
       " 'W_Nabellen incomplete dossiers_SCHEDULE',\n",
       " 'W_Beoordelen fraude_SCHEDULE',\n",
       " 'W_Nabellen incomplete dossiers_SCHEDULE',\n",
       " 'W_Nabellen incomplete dossiers_START',\n",
       " 'A_PREACCEPTED_COMPLETE',\n",
       " 'A_ACCEPTED_COMPLETE',\n",
       " 'A_ACTIVATED_COMPLETE',\n",
       " 'A_FINALIZED_COMPLETE',\n",
       " 'A_DECLINED_COMPLETE',\n",
       " 'W_Beoordelen fraude_START',\n",
       " 'W_Nabellen incomplete dossiers_SCHEDULE',\n",
       " 'W_Nabellen offertes_COMPLETE',\n",
       " 'A_ACTIVATED_COMPLETE',\n",
       " 'W_Completeren aanvraag_START',\n",
       " 'W_Nabellen offertes_START',\n",
       " 'W_Afhandelen leads_SCHEDULE',\n",
       " 'A_APPROVED_COMPLETE',\n",
       " 'A_CANCELLED_COMPLETE',\n",
       " 'W_Wijzigen contractgegevens_SCHEDULE',\n",
       " 'O_SENT_BACK_COMPLETE',\n",
       " 'W_Nabellen incomplete dossiers_SCHEDULE',\n",
       " 'A_DECLINED_COMPLETE',\n",
       " 'W_Beoordelen fraude_COMPLETE',\n",
       " 'A_FINALIZED_COMPLETE',\n",
       " 'W_Nabellen incomplete dossiers_SCHEDULE',\n",
       " 'O_ACCEPTED_COMPLETE',\n",
       " 'O_CREATED_COMPLETE',\n",
       " 'A_ACCEPTED_COMPLETE',\n",
       " 'O_DECLINED_COMPLETE',\n",
       " 'W_Nabellen offertes_SCHEDULE',\n",
       " 'A_DECLINED_COMPLETE',\n",
       " 'O_DECLINED_COMPLETE',\n",
       " 'W_Beoordelen fraude_START',\n",
       " 'O_ACCEPTED_COMPLETE',\n",
       " 'W_Valideren aanvraag_COMPLETE',\n",
       " 'W_Valideren aanvraag_COMPLETE',\n",
       " 'W_Nabellen incomplete dossiers_COMPLETE',\n",
       " 'W_Completeren aanvraag_START',\n",
       " 'A_DECLINED_COMPLETE',\n",
       " 'W_Completeren aanvraag_COMPLETE',\n",
       " 'W_Nabellen offertes_COMPLETE',\n",
       " 'W_Nabellen offertes_SCHEDULE',\n",
       " 'A_DECLINED_COMPLETE',\n",
       " 'W_Nabellen offertes_COMPLETE',\n",
       " 'O_SELECTED_COMPLETE',\n",
       " 'O_DECLINED_COMPLETE',\n",
       " 'W_Nabellen offertes_COMPLETE',\n",
       " 'W_Valideren aanvraag_COMPLETE',\n",
       " 'W_Nabellen incomplete dossiers_SCHEDULE',\n",
       " 'W_Completeren aanvraag_START',\n",
       " 'W_Beoordelen fraude_START',\n",
       " 'W_Nabellen incomplete dossiers_SCHEDULE',\n",
       " 'O_CANCELLED_COMPLETE',\n",
       " 'W_Nabellen incomplete dossiers_SCHEDULE',\n",
       " 'W_Completeren aanvraag_SCHEDULE',\n",
       " 'W_Beoordelen fraude_SCHEDULE',\n",
       " 'W_Afhandelen leads_COMPLETE',\n",
       " 'A_ACCEPTED_COMPLETE',\n",
       " 'W_Nabellen offertes_SCHEDULE',\n",
       " 'W_Nabellen incomplete dossiers_SCHEDULE',\n",
       " 'W_Beoordelen fraude_SCHEDULE',\n",
       " 'A_ACTIVATED_COMPLETE',\n",
       " 'W_Valideren aanvraag_SCHEDULE',\n",
       " 'W_Valideren aanvraag_COMPLETE',\n",
       " 'O_CREATED_COMPLETE',\n",
       " 'W_Beoordelen fraude_SCHEDULE',\n",
       " 'A_SUBMITTED_COMPLETE',\n",
       " 'W_Nabellen incomplete dossiers_SCHEDULE',\n",
       " 'A_ACTIVATED_COMPLETE',\n",
       " 'A_CANCELLED_COMPLETE',\n",
       " 'W_Nabellen incomplete dossiers_COMPLETE',\n",
       " 'A_PARTLYSUBMITTED_COMPLETE']"
      ]
     },
     "metadata": {},
     "execution_count": 30
    }
   ],
   "source": [
    "list(dice_exp.final_cfs_df.iloc[0][:-1])"
   ]
  },
  {
   "cell_type": "code",
   "execution_count": 45,
   "metadata": {},
   "outputs": [
    {
     "output_type": "execute_result",
     "data": {
      "text/plain": [
       "[]"
      ]
     },
     "metadata": {},
     "execution_count": 45
    }
   ],
   "source": [
    "# from itertools import chain\n",
    "# explainer.model.vocab.list_of_index_to_vocab(list(set(list(chain.from_iterable(last_dist_model.all_predicted)))))"
   ]
  },
  {
   "cell_type": "code",
   "execution_count": null,
   "metadata": {},
   "outputs": [],
   "source": []
  }
 ]
}