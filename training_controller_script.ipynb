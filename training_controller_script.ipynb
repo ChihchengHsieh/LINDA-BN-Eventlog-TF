{
 "metadata": {
  "language_info": {
   "codemirror_mode": {
    "name": "ipython",
    "version": 3
   },
   "file_extension": ".py",
   "mimetype": "text/x-python",
   "name": "python",
   "nbconvert_exporter": "python",
   "pygments_lexer": "ipython3",
   "version": "3.8.10"
  },
  "orig_nbformat": 2,
  "kernelspec": {
   "name": "python3810jvsc74a57bd05c622353f32ef24c8d83e5c3e334107c074e82d7c3e8ca52c56b9fc900ce33e6",
   "display_name": "Python 3.8.10 64-bit ('tf_mac': conda)"
  },
  "metadata": {
   "interpreter": {
    "hash": "5c622353f32ef24c8d83e5c3e334107c074e82d7c3e8ca52c56b9fc900ce33e6"
   }
  }
 },
 "nbformat": 4,
 "nbformat_minor": 2,
 "cells": [
  {
   "cell_type": "code",
   "execution_count": 1,
   "metadata": {},
   "outputs": [
    {
     "output_type": "display_data",
     "data": {
      "text/plain": "<IPython.core.display.HTML object>",
      "text/html": "\n      <iframe id=\"tensorboard-frame-e479206b1816768d\" width=\"100%\" height=\"800\" frameborder=\"0\">\n      </iframe>\n      <script>\n        (function() {\n          const frame = document.getElementById(\"tensorboard-frame-e479206b1816768d\");\n          const url = new URL(\"/\", window.location);\n          const port = 8088;\n          if (port) {\n            url.port = port;\n          }\n          frame.src = url;\n        })();\n      </script>\n    "
     },
     "metadata": {}
    }
   ],
   "source": [
    "from Parameters import TrainingParameters, EnviromentParameters\n",
    "from Data import XESDataset\n",
    "from Models import BaselineLSTM\n",
    "import tensorflow as tf\n",
    "\n",
    "%load_ext tensorboard\n",
    "%tensorboard --logdir logs/gradient_tape --host localhost --port 8088"
   ]
  },
  {
   "cell_type": "code",
   "execution_count": 2,
   "metadata": {},
   "outputs": [
    {
     "output_type": "stream",
     "name": "stdout",
     "text": [
      "\n=================================================\n| Preprocessed data loaded successfully: ./datasets/preprocessed/BPI_Challenge_2012/OW \n=================================================\n"
     ]
    }
   ],
   "source": [
    "train_param = TrainingParameters()\n",
    "xes_dataset = XESDataset(file_path=EnviromentParameters.BPI2020Dataset.file_path,preprocessed_folder_path=EnviromentParameters.BPI2020Dataset.preprocessed_foldr_path,\n",
    "preprocessed_df_type= EnviromentParameters.BPI2020Dataset.preprocessed_df_type,\n",
    "include_types = train_param.bpi2012.BPI2012_include_types\n",
    ")"
   ]
  },
  {
   "cell_type": "code",
   "execution_count": 3,
   "metadata": {},
   "outputs": [],
   "source": [
    "model = BaselineLSTM(\n",
    "    xes_dataset.vocab, \n",
    "    embedding_dim= train_param.baselineLSTMModelParameters.embedding_dim,\n",
    "    lstm_hidden= train_param.baselineLSTMModelParameters.lstm_hidden,\n",
    "    dropout=train_param.baselineLSTMModelParameters.dropout\n",
    ")"
   ]
  },
  {
   "cell_type": "code",
   "execution_count": 4,
   "metadata": {},
   "outputs": [],
   "source": [
    "optim = tf.keras.optimizers.Adam(learning_rate=0.01)"
   ]
  },
  {
   "cell_type": "code",
   "execution_count": 5,
   "metadata": {},
   "outputs": [],
   "source": [
    "idx_ds = xes_dataset.get_index_ds()\n",
    "idx_ds = idx_ds.shuffle(20).batch(train_param.batch_size)"
   ]
  },
  {
   "cell_type": "code",
   "execution_count": 6,
   "metadata": {},
   "outputs": [],
   "source": [
    "import datetime"
   ]
  },
  {
   "cell_type": "code",
   "execution_count": 12,
   "metadata": {},
   "outputs": [
    {
     "output_type": "execute_result",
     "data": {
      "text/plain": [
       "<tensorflow.python.keras.callbacks.TensorBoard at 0x1782c2d00>"
      ]
     },
     "metadata": {},
     "execution_count": 12
    }
   ],
   "source": [
    "current_time = datetime.datetime.now().strftime(\"%Y%m%d-%H%M%S\")\n",
    "train_log_dir = 'logs/gradient_tape/' + current_time + '/train'\n",
    "test_log_dir = 'logs/gradient_tape/' + current_time + '/test'\n",
    "train_summary_writer = tf.summary.create_file_writer(train_log_dir)\n",
    "test_summary_writer = tf.summary.create_file_writer(test_log_dir)\n",
    "tf.keras.callbacks.TensorBoard(log_dir=train_log_dir)"
   ]
  },
  {
   "cell_type": "code",
   "execution_count": 15,
   "metadata": {},
   "outputs": [
    {
     "output_type": "execute_result",
     "data": {
      "text/plain": [
       "<tf.Tensor: shape=(58, 44), dtype=float32, numpy=\n",
       "array([[0.7091251 , 0.06700239, 0.6059741 , ..., 0.02673648, 0.04303451,\n",
       "        0.04212036],\n",
       "       [1.0045804 , 0.00209529, 1.0481571 , ..., 0.02315483, 0.00892164,\n",
       "        0.00741764],\n",
       "       [0.9060275 , 0.00323511, 0.8061419 , ..., 0.01034363, 0.01599118,\n",
       "        0.00780521],\n",
       "       ...,\n",
       "       [0.9751311 , 0.00745349, 0.52357495, ..., 0.10319766, 0.15615575,\n",
       "        0.16799471],\n",
       "       [0.9090756 , 0.00206555, 0.53607124, ..., 0.12926836, 0.03867538,\n",
       "        0.01703617],\n",
       "       [0.52035254, 0.02385254, 0.7061545 , ..., 0.08904197, 0.11406049,\n",
       "        0.07763471]], dtype=float32)>"
      ]
     },
     "metadata": {},
     "execution_count": 15
    }
   ],
   "source": [
    "loss_all"
   ]
  },
  {
   "cell_type": "code",
   "execution_count": 18,
   "metadata": {},
   "outputs": [
    {
     "output_type": "execute_result",
     "data": {
      "text/plain": [
       "TensorShape([58, 44])"
      ]
     },
     "metadata": {},
     "execution_count": 18
    }
   ],
   "source": [
    "loss_all.shape"
   ]
  },
  {
   "cell_type": "code",
   "execution_count": 26,
   "metadata": {
    "tags": []
   },
   "outputs": [
    {
     "output_type": "stream",
     "name": "stdout",
     "text": [
      "Acc: 0.6620\n",
      "Acc: 0.6538\n",
      "Acc: 0.6664\n",
      "Acc: 0.7617\n",
      "Acc: 0.7776\n",
      "Acc: 0.8137\n",
      "Acc: 0.8157\n",
      "Acc: 0.8025\n",
      "Acc: 0.7943\n",
      "Acc: 0.8055\n",
      "Acc: 0.8069\n",
      "Acc: 0.8133\n",
      "Acc: 0.8179\n",
      "Acc: 0.8248\n",
      "Acc: 0.8274\n",
      "Acc: 0.8531\n",
      "Acc: 0.8529\n",
      "Acc: 0.8339\n",
      "Acc: 0.8410\n",
      "Acc: 0.8367\n",
      "Acc: 0.8487\n",
      "Acc: 0.8554\n",
      "Acc: 0.8544\n",
      "Acc: 0.8485\n",
      "Acc: 0.8560\n",
      "Acc: 0.8705\n",
      "Acc: 0.8640\n",
      "Acc: 0.8414\n",
      "Acc: 0.8433\n",
      "Acc: 0.8551\n",
      "Acc: 0.8524\n",
      "Acc: 0.8608\n",
      "Acc: 0.8547\n",
      "Acc: 0.8606\n",
      "Acc: 0.8558\n",
      "Acc: 0.8583\n",
      "Acc: 0.8573\n",
      "Acc: 0.8564\n",
      "Acc: 0.8559\n",
      "Acc: 0.8483\n",
      "Acc: 0.8562\n",
      "Acc: 0.8309\n",
      "Acc: 0.8438\n",
      "Acc: 0.8512\n",
      "Acc: 0.8353\n",
      "Acc: 0.8655\n",
      "Acc: 0.8495\n",
      "Acc: 0.8482\n",
      "Acc: 0.8563\n",
      "Acc: 0.8524\n",
      "Acc: 0.8453\n",
      "Acc: 0.8417\n",
      "Acc: 0.8495\n",
      "Acc: 0.8454\n",
      "Acc: 0.8461\n",
      "Acc: 0.8499\n",
      "Acc: 0.8526\n",
      "Acc: 0.8492\n",
      "Acc: 0.8411\n",
      "Acc: 0.8482\n",
      "Acc: 0.8510\n",
      "Acc: 0.8536\n",
      "Acc: 0.8489\n",
      "Acc: 0.8441\n",
      "Acc: 0.8610\n",
      "Acc: 0.8376\n",
      "Acc: 0.8356\n",
      "Acc: 0.8489\n",
      "Acc: 0.8384\n",
      "Acc: 0.8359\n",
      "Acc: 0.8422\n",
      "Acc: 0.8492\n",
      "Acc: 0.8345\n",
      "Acc: 0.8451\n",
      "Acc: 0.8276\n",
      "Acc: 0.8198\n"
     ]
    }
   ],
   "source": [
    "steps = 0\n",
    "for idxs in idx_ds:\n",
    "    caseids, padded_data_traces, padded_target_traces =  xes_dataset.collate_fn(idxs)\n",
    "    with tf.GradientTape() as tape:\n",
    "        pred, _ = model(padded_data_traces, training=True)\n",
    "        loss_all = tf.keras.losses.sparse_categorical_crossentropy(y_true=padded_target_traces, y_pred=pred)\n",
    "        loss_all = loss_all * tf.cast(padded_target_traces != 0, dtype=tf.float32)\n",
    "        loss = tf.reduce_mean(loss_all)\n",
    "        pred_value = tf.math.argmax(pred, axis=-1)\n",
    "        accuracy = tf.math.reduce_mean(tf.cast(tf.boolean_mask(padded_target_traces == pred_value,padded_target_traces != 0), dtype= tf.float32)).numpy()\n",
    "        with train_summary_writer.as_default():\n",
    "            tf.summary.scalar('accuracy', accuracy, step=steps)\n",
    "            tf.summary.scalar('loss', loss.numpy(), step=steps)\n",
    "        print(\"Acc: %.4f\" % (accuracy))\n",
    "    grads = tape.gradient(loss, model.trainable_variables)\n",
    "    optim.apply_gradients(grads_and_vars=zip(grads, model.trainable_variables))\n",
    "    steps += 1\n"
   ]
  },
  {
   "cell_type": "code",
   "execution_count": 9,
   "metadata": {},
   "outputs": [
    {
     "output_type": "execute_result",
     "data": {
      "text/plain": [
       "0.5699615"
      ]
     },
     "metadata": {},
     "execution_count": 9
    }
   ],
   "source": [
    "accuracy"
   ]
  },
  {
   "cell_type": "code",
   "execution_count": 10,
   "metadata": {},
   "outputs": [
    {
     "output_type": "execute_result",
     "data": {
      "text/plain": [
       "array([[ True,  True,  True, ...,  True,  True,  True],\n",
       "       [ True,  True,  True, ..., False, False, False],\n",
       "       [ True,  True,  True, ..., False, False, False],\n",
       "       ...,\n",
       "       [ True,  True,  True, ..., False, False, False],\n",
       "       [ True,  True,  True, ..., False, False, False],\n",
       "       [ True,  True,  True, ..., False, False, False]])"
      ]
     },
     "metadata": {},
     "execution_count": 10
    }
   ],
   "source": [
    "padded_target_traces != 0"
   ]
  },
  {
   "cell_type": "code",
   "execution_count": 11,
   "metadata": {},
   "outputs": [
    {
     "output_type": "error",
     "ename": "NameError",
     "evalue": "name 'acc_m' is not defined",
     "traceback": [
      "\u001b[0;31m---------------------------------------------------------------------------\u001b[0m",
      "\u001b[0;31mNameError\u001b[0m                                 Traceback (most recent call last)",
      "\u001b[0;32m<ipython-input-11-56f77bc82d3b>\u001b[0m in \u001b[0;36m<module>\u001b[0;34m\u001b[0m\n\u001b[0;32m----> 1\u001b[0;31m \u001b[0macc_m\u001b[0m\u001b[0;34m.\u001b[0m\u001b[0mupdate_state\u001b[0m\u001b[0;34m(\u001b[0m\u001b[0mpadded_target_traces\u001b[0m\u001b[0;34m,\u001b[0m \u001b[0mpred\u001b[0m\u001b[0;34m)\u001b[0m\u001b[0;34m\u001b[0m\u001b[0;34m\u001b[0m\u001b[0m\n\u001b[0m",
      "\u001b[0;31mNameError\u001b[0m: name 'acc_m' is not defined"
     ]
    }
   ],
   "source": [
    "acc_m.update_state(padded_target_traces, pred)"
   ]
  },
  {
   "cell_type": "code",
   "execution_count": 10,
   "metadata": {},
   "outputs": [
    {
     "output_type": "execute_result",
     "data": {
      "text/plain": [
       "array([[17, 18,  7, ...,  0,  0,  0],\n",
       "       [11, 12, 10, ...,  0,  0,  0],\n",
       "       [11, 12, 10, ...,  0,  0,  0],\n",
       "       ...,\n",
       "       [11, 12, 10, ...,  0,  0,  0],\n",
       "       [11, 12, 17, ...,  0,  0,  0],\n",
       "       [11, 12, 10, ...,  0,  0,  0]], dtype=int32)"
      ]
     },
     "metadata": {},
     "execution_count": 10
    }
   ],
   "source": [
    "padded_target_traces"
   ]
  },
  {
   "cell_type": "code",
   "execution_count": 11,
   "metadata": {},
   "outputs": [],
   "source": [
    "pred_value = tf.math.argmax(pred, axis=-1)"
   ]
  },
  {
   "cell_type": "code",
   "execution_count": 11,
   "metadata": {},
   "outputs": [],
   "source": [
    "\n"
   ]
  },
  {
   "cell_type": "code",
   "execution_count": 29,
   "metadata": {},
   "outputs": [
    {
     "output_type": "execute_result",
     "data": {
      "text/plain": [
       "0.59887004"
      ]
     },
     "metadata": {},
     "execution_count": 29
    }
   ],
   "source": []
  },
  {
   "cell_type": "code",
   "execution_count": 12,
   "metadata": {},
   "outputs": [
    {
     "output_type": "execute_result",
     "data": {
      "text/plain": [
       "0.85876745"
      ]
     },
     "metadata": {},
     "execution_count": 12
    }
   ],
   "source": [
    "acc_m.result().numpy()"
   ]
  },
  {
   "cell_type": "code",
   "execution_count": 13,
   "metadata": {},
   "outputs": [
    {
     "output_type": "execute_result",
     "data": {
      "text/plain": [
       "<tf.Tensor: shape=(), dtype=float32, numpy=0.85876745>"
      ]
     },
     "metadata": {},
     "execution_count": 13
    }
   ],
   "source": [
    "tf.math.reduce_mean(tf.cast(padded_target_traces == pred_value, dtype=tf.float32))"
   ]
  },
  {
   "cell_type": "code",
   "execution_count": 27,
   "metadata": {},
   "outputs": [
    {
     "output_type": "execute_result",
     "data": {
      "text/plain": [
       "<tf.Tensor: shape=(58, 47), dtype=float32, numpy=\n",
       "array([[0., 1., 0., ..., 1., 1., 1.],\n",
       "       [0., 1., 0., ..., 1., 1., 1.],\n",
       "       [0., 1., 0., ..., 1., 1., 1.],\n",
       "       ...,\n",
       "       [0., 1., 1., ..., 1., 1., 1.],\n",
       "       [0., 1., 1., ..., 1., 1., 1.],\n",
       "       [1., 1., 0., ..., 1., 1., 1.]], dtype=float32)>"
      ]
     },
     "metadata": {},
     "execution_count": 27
    }
   ],
   "source": []
  },
  {
   "cell_type": "code",
   "execution_count": null,
   "metadata": {},
   "outputs": [],
   "source": []
  }
 ]
}